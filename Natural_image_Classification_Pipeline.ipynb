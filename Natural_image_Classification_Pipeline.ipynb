{
  "cells": [
    {
      "cell_type": "markdown",
      "metadata": {
        "id": "view-in-github",
        "colab_type": "text"
      },
      "source": [
        "<a href=\"https://colab.research.google.com/github/JNPauli/Protect_app_master_thesis/blob/main/Natural_image_Classification_Pipeline.ipynb\" target=\"_parent\"><img src=\"https://colab.research.google.com/assets/colab-badge.svg\" alt=\"Open In Colab\"/></a>"
      ]
    },
    {
      "cell_type": "markdown",
      "metadata": {
        "id": "f3485813"
      },
      "source": [
        "0. This notebook is the continuation to the preprocessing.ipynb notebook."
      ],
      "id": "f3485813"
    },
    {
      "cell_type": "markdown",
      "metadata": {
        "id": "b60fcc27"
      },
      "source": [
        "1. Import all neccessary modules "
      ],
      "id": "b60fcc27"
    },
    {
      "cell_type": "code",
      "execution_count": 26,
      "metadata": {
        "id": "73af1d9d"
      },
      "outputs": [],
      "source": [
        "import os\n",
        "import pandas as pd\n",
        "import numpy as np\n",
        "from sklearn.model_selection import train_test_split\n",
        "import gc\n",
        "from torch.utils.data import random_split"
      ],
      "id": "73af1d9d"
    },
    {
      "cell_type": "code",
      "execution_count": 2,
      "metadata": {
        "colab": {
          "base_uri": "https://localhost:8080/"
        },
        "id": "xwWpOPN-SkYk",
        "outputId": "c2b5d9e3-9b5d-4f07-e9da-87c84aeabd69"
      },
      "outputs": [
        {
          "output_type": "stream",
          "name": "stdout",
          "text": [
            "Drive already mounted at /content/drive; to attempt to forcibly remount, call drive.mount(\"/content/drive\", force_remount=True).\n"
          ]
        }
      ],
      "source": [
        "from google.colab import drive\n",
        "drive.mount('/content/drive')"
      ],
      "id": "xwWpOPN-SkYk"
    },
    {
      "cell_type": "markdown",
      "metadata": {
        "id": "0bab0d03"
      },
      "source": [
        "2. Import X and y"
      ],
      "id": "0bab0d03"
    },
    {
      "cell_type": "code",
      "execution_count": 3,
      "metadata": {
        "id": "0e61570a"
      },
      "outputs": [],
      "source": [
        "import torchvision\n",
        "from torchvision import transforms\n",
        "import torch\n",
        "import torch.nn as nn\n",
        "from torch.utils.data import Dataset, DataLoader\n",
        "from PIL import Image"
      ],
      "id": "0e61570a"
    },
    {
      "cell_type": "code",
      "execution_count": 4,
      "metadata": {
        "id": "Q822x4HZTzzr"
      },
      "outputs": [],
      "source": [
        "os.chdir('/content/drive/MyDrive/Thesis')"
      ],
      "id": "Q822x4HZTzzr"
    },
    {
      "cell_type": "code",
      "execution_count": 5,
      "metadata": {
        "id": "99428f03"
      },
      "outputs": [],
      "source": [
        "y = np.load('train_con.npy')\n",
        "y_idx = pd.read_csv('idx_y.csv')"
      ],
      "id": "99428f03"
    },
    {
      "cell_type": "markdown",
      "source": [
        "Remove elements from y that were not RBG but grayscale by index"
      ],
      "metadata": {
        "id": "FrYmCdafe8o2"
      },
      "id": "FrYmCdafe8o2"
    },
    {
      "cell_type": "code",
      "source": [
        "y = y[0:10001]"
      ],
      "metadata": {
        "id": "MHK_2z0ifFex"
      },
      "id": "MHK_2z0ifFex",
      "execution_count": 6,
      "outputs": []
    },
    {
      "cell_type": "code",
      "source": [
        "y_ = np.delete(y,y_idx.iloc[:,1],axis=0)"
      ],
      "metadata": {
        "id": "yHITyHqPepSa"
      },
      "id": "yHITyHqPepSa",
      "execution_count": 7,
      "outputs": []
    },
    {
      "cell_type": "code",
      "source": [
        "y_.shape"
      ],
      "metadata": {
        "colab": {
          "base_uri": "https://localhost:8080/"
        },
        "id": "MLdZQPfnemie",
        "outputId": "c5aa1c76-a813-4888-f919-aa31bfdee071"
      },
      "id": "MLdZQPfnemie",
      "execution_count": 8,
      "outputs": [
        {
          "output_type": "execute_result",
          "data": {
            "text/plain": [
              "(9976, 3)"
            ]
          },
          "metadata": {},
          "execution_count": 8
        }
      ]
    },
    {
      "cell_type": "markdown",
      "metadata": {
        "id": "daf7012a"
      },
      "source": [
        "NEW APPROACH:\n",
        "\n",
        "Fit CNN on orginal images, so no salience maps"
      ],
      "id": "daf7012a"
    },
    {
      "cell_type": "markdown",
      "metadata": {
        "id": "4fdc2364"
      },
      "source": [
        "1. Read `n-rows`from X."
      ],
      "id": "4fdc2364"
    },
    {
      "cell_type": "code",
      "execution_count": 9,
      "metadata": {
        "colab": {
          "base_uri": "https://localhost:8080/"
        },
        "id": "r367TL-IeTgB",
        "outputId": "f3e49823-50d8-4914-c6e8-0af2cb839929"
      },
      "outputs": [
        {
          "output_type": "stream",
          "name": "stdout",
          "text": [
            "cuda\n"
          ]
        }
      ],
      "source": [
        "if torch.cuda.is_available():\n",
        "  device = torch.device(\"cuda\")\n",
        "else:\n",
        "  device = torch.device(\"cpu\")\n",
        "\n",
        "print(device)"
      ],
      "id": "r367TL-IeTgB"
    },
    {
      "cell_type": "code",
      "execution_count": 10,
      "metadata": {
        "id": "27e2352f"
      },
      "outputs": [],
      "source": [
        "X = np.load('mscoco_og.npy')"
      ],
      "id": "27e2352f"
    },
    {
      "cell_type": "code",
      "source": [
        "X = np.swapaxes(X,0,3)"
      ],
      "metadata": {
        "id": "i2tQHntfhJRz"
      },
      "id": "i2tQHntfhJRz",
      "execution_count": 11,
      "outputs": []
    },
    {
      "cell_type": "code",
      "source": [
        "X = np.swapaxes(X,1,3)"
      ],
      "metadata": {
        "id": "ib4OPsRrht3q"
      },
      "id": "ib4OPsRrht3q",
      "execution_count": 12,
      "outputs": []
    },
    {
      "cell_type": "code",
      "source": [
        "X.shape"
      ],
      "metadata": {
        "id": "OJdPI4eQf4Wy",
        "colab": {
          "base_uri": "https://localhost:8080/"
        },
        "outputId": "116929a7-1a4b-4609-cc90-8022163902a6"
      },
      "id": "OJdPI4eQf4Wy",
      "execution_count": 13,
      "outputs": [
        {
          "output_type": "execute_result",
          "data": {
            "text/plain": [
              "(9976, 3, 224, 224)"
            ]
          },
          "metadata": {},
          "execution_count": 13
        }
      ]
    },
    {
      "cell_type": "code",
      "source": [
        "X_ = torch.from_numpy(X).to(device)"
      ],
      "metadata": {
        "id": "jGWIHxD73jAz"
      },
      "id": "jGWIHxD73jAz",
      "execution_count": 14,
      "outputs": []
    },
    {
      "cell_type": "code",
      "source": [
        "y_ = torch.from_numpy(y_).to(device)"
      ],
      "metadata": {
        "id": "zbl3QPuD3_aN"
      },
      "id": "zbl3QPuD3_aN",
      "execution_count": 18,
      "outputs": []
    },
    {
      "cell_type": "code",
      "source": [
        "del X\n",
        "gc.collect()"
      ],
      "metadata": {
        "id": "9tdWWyMBjpga",
        "colab": {
          "base_uri": "https://localhost:8080/"
        },
        "outputId": "5849a922-3c99-46ac-ecd2-544f4dbe7a9e"
      },
      "id": "9tdWWyMBjpga",
      "execution_count": 16,
      "outputs": [
        {
          "output_type": "execute_result",
          "data": {
            "text/plain": [
              "153"
            ]
          },
          "metadata": {},
          "execution_count": 16
        }
      ]
    },
    {
      "cell_type": "markdown",
      "metadata": {
        "id": "43fc4d4d"
      },
      "source": [
        "Converting X to appropriate Datatype..."
      ],
      "id": "43fc4d4d"
    },
    {
      "cell_type": "code",
      "execution_count": 19,
      "metadata": {
        "id": "83ce427f",
        "colab": {
          "base_uri": "https://localhost:8080/"
        },
        "outputId": "385fd3cc-b2e5-4a75-ef91-7479df4c4301"
      },
      "outputs": [
        {
          "output_type": "stream",
          "name": "stderr",
          "text": [
            "<ipython-input-19-e30e4ab0470a>:1: UserWarning: To copy construct from a tensor, it is recommended to use sourceTensor.clone().detach() or sourceTensor.clone().detach().requires_grad_(True), rather than torch.tensor(sourceTensor).\n",
            "  X_ = torch.tensor(X_,dtype = torch.float32)\n"
          ]
        }
      ],
      "source": [
        "X_ = torch.tensor(X_,dtype = torch.float32)\n",
        "\n",
        "y_ = y_.type(torch.LongTensor)"
      ],
      "id": "83ce427f"
    },
    {
      "cell_type": "markdown",
      "source": [
        "To get max value of classN-1"
      ],
      "metadata": {
        "id": "T2DjZNYUrFdA"
      },
      "id": "T2DjZNYUrFdA"
    },
    {
      "cell_type": "code",
      "source": [
        "y_ = y_-1"
      ],
      "metadata": {
        "id": "eFGPr_GdqDwY"
      },
      "id": "eFGPr_GdqDwY",
      "execution_count": 20,
      "outputs": []
    },
    {
      "cell_type": "code",
      "source": [
        "X_.to('cpu');"
      ],
      "metadata": {
        "colab": {
          "base_uri": "https://localhost:8080/"
        },
        "id": "SUD7b30_4hQQ",
        "outputId": "c9609e48-fd0e-415e-b199-721bc92bb9cb"
      },
      "id": "SUD7b30_4hQQ",
      "execution_count": 21,
      "outputs": [
        {
          "output_type": "execute_result",
          "data": {
            "text/plain": [
              "tensor([[[[0.7020, 0.6981, 0.7073,  ..., 0.8767, 0.8867, 0.8576],\n",
              "          [0.6986, 0.7020, 0.7073,  ..., 0.8747, 0.8612, 0.8522],\n",
              "          [0.6954, 0.7020, 0.7113,  ..., 0.8611, 0.8552, 0.8436],\n",
              "          ...,\n",
              "          [0.5658, 0.5406, 0.3496,  ..., 0.8820, 0.8859, 0.8862],\n",
              "          [0.5381, 0.5430, 0.5626,  ..., 0.8720, 0.8712, 0.8645],\n",
              "          [0.6561, 0.2843, 0.4027,  ..., 0.8772, 0.8746, 0.8690]],\n",
              "\n",
              "         [[0.8667, 0.8628, 0.8694,  ..., 0.8532, 0.8631, 0.8419],\n",
              "          [0.8633, 0.8667, 0.8694,  ..., 0.8512, 0.8443, 0.8366],\n",
              "          [0.8601, 0.8667, 0.8733,  ..., 0.8454, 0.8395, 0.8333],\n",
              "          ...,\n",
              "          [0.5533, 0.5459, 0.3829,  ..., 0.8507, 0.8545, 0.8548],\n",
              "          [0.5781, 0.5818, 0.6122,  ..., 0.8563, 0.8555, 0.8488],\n",
              "          [0.6865, 0.3080, 0.4461,  ..., 0.8616, 0.8589, 0.8533]],\n",
              "\n",
              "         [[0.9529, 0.9491, 0.9556,  ..., 0.8061, 0.8161, 0.7949],\n",
              "          [0.9496, 0.9529, 0.9556,  ..., 0.8041, 0.7972, 0.7895],\n",
              "          [0.9464, 0.9530, 0.9596,  ..., 0.8023, 0.7963, 0.7875],\n",
              "          ...,\n",
              "          [0.3126, 0.2466, 0.0820,  ..., 0.8075, 0.8114, 0.8117],\n",
              "          [0.2435, 0.3122, 0.3304,  ..., 0.8093, 0.8085, 0.8017],\n",
              "          [0.3828, 0.0733, 0.1709,  ..., 0.8145, 0.8118, 0.8062]]],\n",
              "\n",
              "\n",
              "        [[[0.5431, 0.5384, 0.5432,  ..., 0.8817, 0.8388, 0.7898],\n",
              "          [0.5389, 0.5429, 0.5452,  ..., 0.8685, 0.8764, 0.7414],\n",
              "          [0.5452, 0.5340, 0.5431,  ..., 0.4607, 0.8442, 0.8001],\n",
              "          ...,\n",
              "          [0.8917, 0.9095, 0.9020,  ..., 0.5882, 0.5784, 0.5784],\n",
              "          [0.8917, 0.9095, 0.9020,  ..., 0.6263, 0.6154, 0.6151],\n",
              "          [0.8917, 0.9095, 0.9020,  ..., 0.7276, 0.7163, 0.7172]],\n",
              "\n",
              "         [[0.5274, 0.5228, 0.5275,  ..., 0.8149, 0.8010, 0.7694],\n",
              "          [0.5232, 0.5272, 0.5295,  ..., 0.8135, 0.8418, 0.7259],\n",
              "          [0.5295, 0.5183, 0.5274,  ..., 0.3027, 0.7061, 0.6893],\n",
              "          ...,\n",
              "          [0.8604, 0.8702, 0.8627,  ..., 0.0935, 0.0838, 0.0838],\n",
              "          [0.8604, 0.8702, 0.8627,  ..., 0.1440, 0.1330, 0.1328],\n",
              "          [0.8604, 0.8702, 0.8627,  ..., 0.1727, 0.1614, 0.1623]],\n",
              "\n",
              "         [[0.4804, 0.4757, 0.4805,  ..., 0.7660, 0.7431, 0.7055],\n",
              "          [0.4761, 0.4802, 0.4825,  ..., 0.7522, 0.7746, 0.6511],\n",
              "          [0.4825, 0.4712, 0.4804,  ..., 0.2659, 0.6630, 0.6372],\n",
              "          ...,\n",
              "          [0.7192, 0.7291, 0.7216,  ..., 0.1249, 0.1151, 0.1151],\n",
              "          [0.7192, 0.7291, 0.7216,  ..., 0.1558, 0.1448, 0.1445],\n",
              "          [0.7192, 0.7291, 0.7216,  ..., 0.2088, 0.1975, 0.1984]]],\n",
              "\n",
              "\n",
              "        [[[0.8431, 0.8431, 0.8431,  ..., 0.1834, 0.1823, 0.1607],\n",
              "          [0.8471, 0.8471, 0.8471,  ..., 0.2202, 0.1954, 0.1818],\n",
              "          [0.8510, 0.8510, 0.8510,  ..., 0.3165, 0.2615, 0.2418],\n",
              "          ...,\n",
              "          [0.7796, 0.7780, 0.7954,  ..., 0.2952, 0.3286, 0.2852],\n",
              "          [0.7908, 0.7884, 0.7770,  ..., 0.3285, 0.3268, 0.2729],\n",
              "          [0.7700, 0.7729, 0.7925,  ..., 0.2773, 0.3167, 0.3351]],\n",
              "\n",
              "         [[0.8863, 0.8863, 0.8863,  ..., 0.3393, 0.3224, 0.2900],\n",
              "          [0.8941, 0.8941, 0.8941,  ..., 0.3569, 0.3296, 0.3151],\n",
              "          [0.8980, 0.8980, 0.8980,  ..., 0.4278, 0.3859, 0.3773],\n",
              "          ...,\n",
              "          [0.8463, 0.8447, 0.8621,  ..., 0.4050, 0.4384, 0.3950],\n",
              "          [0.8575, 0.8551, 0.8436,  ..., 0.4501, 0.4483, 0.3945],\n",
              "          [0.8367, 0.8395, 0.8592,  ..., 0.3989, 0.4382, 0.4567]],\n",
              "\n",
              "         [[0.9569, 0.9569, 0.9569,  ..., 0.4967, 0.4865, 0.4534],\n",
              "          [0.9569, 0.9569, 0.9569,  ..., 0.5301, 0.5148, 0.5024],\n",
              "          [0.9529, 0.9529, 0.9529,  ..., 0.5251, 0.5037, 0.5054],\n",
              "          ...,\n",
              "          [0.8855, 0.8839, 0.9013,  ..., 0.4873, 0.5207, 0.4773],\n",
              "          [0.8967, 0.8943, 0.8829,  ..., 0.5325, 0.5307, 0.4768],\n",
              "          [0.8759, 0.8788, 0.8984,  ..., 0.4813, 0.5206, 0.5390]]],\n",
              "\n",
              "\n",
              "        ...,\n",
              "\n",
              "\n",
              "        [[[0.2000, 0.2000, 0.2000,  ..., 0.1487, 0.1512, 0.1570],\n",
              "          [0.2000, 0.2028, 0.2066,  ..., 0.1437, 0.1557, 0.1727],\n",
              "          [0.2000, 0.2057, 0.2116,  ..., 0.1697, 0.1619, 0.1963],\n",
              "          ...,\n",
              "          [0.2275, 0.2303, 0.2335,  ..., 0.1201, 0.2951, 0.1868],\n",
              "          [0.2235, 0.2272, 0.2301,  ..., 0.0885, 0.0800, 0.1278],\n",
              "          [0.2196, 0.2234, 0.2269,  ..., 0.0621, 0.1165, 0.1391]],\n",
              "\n",
              "         [[0.1922, 0.1922, 0.1922,  ..., 0.1487, 0.1512, 0.1570],\n",
              "          [0.1922, 0.1950, 0.1987,  ..., 0.1437, 0.1557, 0.1727],\n",
              "          [0.1922, 0.1979, 0.2037,  ..., 0.1697, 0.1619, 0.1963],\n",
              "          ...,\n",
              "          [0.2118, 0.2146, 0.2178,  ..., 0.1240, 0.2990, 0.1907],\n",
              "          [0.2078, 0.2115, 0.2144,  ..., 0.0924, 0.0839, 0.1317],\n",
              "          [0.2039, 0.2078, 0.2112,  ..., 0.0660, 0.1204, 0.1431]],\n",
              "\n",
              "         [[0.1451, 0.1423, 0.1412,  ..., 0.1409, 0.1433, 0.1491],\n",
              "          [0.1451, 0.1451, 0.1477,  ..., 0.1359, 0.1479, 0.1648],\n",
              "          [0.1451, 0.1480, 0.1527,  ..., 0.1619, 0.1541, 0.1885],\n",
              "          ...,\n",
              "          [0.1647, 0.1675, 0.1708,  ..., 0.1044, 0.2794, 0.1711],\n",
              "          [0.1608, 0.1645, 0.1673,  ..., 0.0728, 0.0643, 0.1121],\n",
              "          [0.1569, 0.1607, 0.1641,  ..., 0.0464, 0.1008, 0.1234]]],\n",
              "\n",
              "\n",
              "        [[[0.2870, 0.2922, 0.2711,  ..., 0.1572, 0.2026, 0.2227],\n",
              "          [0.2851, 0.2926, 0.2886,  ..., 0.1593, 0.1871, 0.2234],\n",
              "          [0.2824, 0.2941, 0.3045,  ..., 0.1427, 0.1891, 0.2004],\n",
              "          ...,\n",
              "          [0.4549, 0.4577, 0.4610,  ..., 0.0581, 0.1012, 0.1751],\n",
              "          [0.4510, 0.4510, 0.4529,  ..., 0.0541, 0.0685, 0.0934],\n",
              "          [0.4471, 0.4443, 0.4429,  ..., 0.0608, 0.0658, 0.0518]],\n",
              "\n",
              "         [[0.2242, 0.2295, 0.2084,  ..., 0.1219, 0.1673, 0.1874],\n",
              "          [0.2223, 0.2299, 0.2259,  ..., 0.1240, 0.1518, 0.1881],\n",
              "          [0.2196, 0.2313, 0.2417,  ..., 0.1074, 0.1538, 0.1651],\n",
              "          ...,\n",
              "          [0.4510, 0.4538, 0.4571,  ..., 0.0542, 0.0973, 0.1711],\n",
              "          [0.4471, 0.4471, 0.4490,  ..., 0.0502, 0.0645, 0.0895],\n",
              "          [0.4431, 0.4403, 0.4390,  ..., 0.0569, 0.0619, 0.0479]],\n",
              "\n",
              "         [[0.2282, 0.2334, 0.2123,  ..., 0.0866, 0.1320, 0.1521],\n",
              "          [0.2263, 0.2338, 0.2298,  ..., 0.0887, 0.1165, 0.1528],\n",
              "          [0.2235, 0.2353, 0.2457,  ..., 0.0721, 0.1185, 0.1298],\n",
              "          ...,\n",
              "          [0.4353, 0.4381, 0.4414,  ..., 0.0385, 0.0816, 0.1555],\n",
              "          [0.4314, 0.4314, 0.4333,  ..., 0.0345, 0.0489, 0.0738],\n",
              "          [0.4275, 0.4246, 0.4233,  ..., 0.0412, 0.0462, 0.0322]]],\n",
              "\n",
              "\n",
              "        [[[0.5451, 0.5479, 0.5524,  ..., 0.2289, 0.2398, 0.3685],\n",
              "          [0.5451, 0.5479, 0.5524,  ..., 0.1970, 0.2037, 0.1692],\n",
              "          [0.5451, 0.5479, 0.5524,  ..., 0.1939, 0.1103, 0.3075],\n",
              "          ...,\n",
              "          [0.8136, 0.9166, 0.8216,  ..., 0.4593, 0.4477, 0.4428],\n",
              "          [0.9383, 0.9221, 0.8916,  ..., 0.4533, 0.4402, 0.4325],\n",
              "          [0.8847, 0.9024, 0.8703,  ..., 0.8423, 0.8397, 0.8375]],\n",
              "\n",
              "         [[0.4667, 0.4695, 0.4739,  ..., 0.0854, 0.0954, 0.2912],\n",
              "          [0.4667, 0.4695, 0.4739,  ..., 0.0738, 0.1169, 0.1586],\n",
              "          [0.4667, 0.4695, 0.4739,  ..., 0.0952, 0.0781, 0.3450],\n",
              "          ...,\n",
              "          [0.6265, 0.7509, 0.6924,  ..., 0.3252, 0.3211, 0.3174],\n",
              "          [0.7327, 0.7364, 0.7370,  ..., 0.3931, 0.3890, 0.3868],\n",
              "          [0.7248, 0.7592, 0.7414,  ..., 0.8960, 0.9022, 0.9059]],\n",
              "\n",
              "         [[0.4235, 0.4263, 0.4308,  ..., 0.0860, 0.1096, 0.3036],\n",
              "          [0.4235, 0.4263, 0.4308,  ..., 0.0624, 0.1034, 0.1485],\n",
              "          [0.4235, 0.4263, 0.4308,  ..., 0.0705, 0.0449, 0.3120],\n",
              "          ...,\n",
              "          [0.7749, 0.8729, 0.7691,  ..., 0.2509, 0.2531, 0.2493],\n",
              "          [0.8864, 0.8661, 0.8242,  ..., 0.3507, 0.3454, 0.3477],\n",
              "          [0.8975, 0.9122, 0.8641,  ..., 0.9193, 0.9250, 0.9336]]]])"
            ]
          },
          "metadata": {},
          "execution_count": 21
        }
      ]
    },
    {
      "cell_type": "markdown",
      "metadata": {
        "id": "5379ae48"
      },
      "source": [
        "Setup custom dataset class"
      ],
      "id": "5379ae48"
    },
    {
      "cell_type": "code",
      "execution_count": 22,
      "metadata": {
        "id": "76e13d73"
      },
      "outputs": [],
      "source": [
        "class SimpleDataset(Dataset):\n",
        "    def __init__(self, X, y,transform=None):\n",
        "        self.X = X\n",
        "        self.y = y\n",
        "        self.transform = transforms.Compose([transforms.Normalize(torch.mean(X), torch.std(X))])\n",
        "        \n",
        "    def __len__(self):\n",
        "        return len(self.X)\n",
        "    \n",
        "    def __getitem__(self, idx):\n",
        "        X = self.X[idx]\n",
        "        y = self.y[idx]\n",
        "\n",
        "        if self.transform:\n",
        "          X = self.transform(X)\n",
        " \n",
        "        return X, y"
      ],
      "id": "76e13d73"
    },
    {
      "cell_type": "code",
      "source": [
        "dataset = SimpleDataset(X_,y_,transform=True)"
      ],
      "metadata": {
        "id": "XxSIhM3R4sC7"
      },
      "id": "XxSIhM3R4sC7",
      "execution_count": 23,
      "outputs": []
    },
    {
      "cell_type": "code",
      "source": [
        "print(\"length of the dataset is:\", len(dataset))"
      ],
      "metadata": {
        "colab": {
          "base_uri": "https://localhost:8080/"
        },
        "id": "E-9ZTvQs41F-",
        "outputId": "4d007484-e87e-4bc8-96c3-16139f25a968"
      },
      "id": "E-9ZTvQs41F-",
      "execution_count": 24,
      "outputs": [
        {
          "output_type": "stream",
          "name": "stdout",
          "text": [
            "length of the dataset is: 9976\n"
          ]
        }
      ]
    },
    {
      "cell_type": "code",
      "source": [
        "train_data, test_data = random_split(dataset, [7000, 2976])"
      ],
      "metadata": {
        "id": "YMFf8uir5FrP"
      },
      "id": "YMFf8uir5FrP",
      "execution_count": 28,
      "outputs": []
    },
    {
      "cell_type": "code",
      "source": [
        "dataloader_train = DataLoader(train_data, batch_size=32, shuffle=True) \n",
        "dataloader_val = DataLoader(test_data, batch_size=32, shuffle=True) "
      ],
      "metadata": {
        "id": "yFIoQgYp5mdz"
      },
      "id": "yFIoQgYp5mdz",
      "execution_count": 40,
      "outputs": []
    },
    {
      "cell_type": "markdown",
      "metadata": {
        "id": "9c4df5ea"
      },
      "source": [
        "Setting up the CNN."
      ],
      "id": "9c4df5ea"
    },
    {
      "cell_type": "code",
      "execution_count": 42,
      "metadata": {
        "id": "c5b23ab6"
      },
      "outputs": [],
      "source": [
        "import torch.nn.functional as F\n",
        "\n",
        "class CNN(nn.Module):\n",
        "    def __init__(self):\n",
        "        super(CNN, self).__init__()\n",
        "        self.conv1 = nn.Conv2d(1, 32, 3)\n",
        "        self.batch = nn.BatchNorm2d(32)\n",
        "        #self.conv2 = nn.Conv2d(32,64,3) #remove layer\n",
        "        self.dropout1 = nn.Dropout(0.25)\n",
        "        self.dropout2 = nn.Dropout(0.25)\n",
        "        self.fc1 = nn.Linear(394272, 128)\n",
        "        #self.fc2 = nn.Linear(128,10)\n",
        "        self.Arousal = nn.Linear(128,10) #3\n",
        "        self.Valence = nn.Linear(128,10)\n",
        "        self.Dominance = nn.Linear(128,10)\n",
        "        self.pool = nn.MaxPool2d(2)\n",
        "        \n",
        "    def forward(self, x):\n",
        "        x = self.conv1(x)\n",
        "        x = self.batch(x)\n",
        "        x = F.relu(x)\n",
        "        #x = self.conv2(x)\n",
        "        #x = F.relu(x)\n",
        "        x = self.pool(x)\n",
        "        x = self.dropout1(x)\n",
        "        x = torch.flatten(x, 1)\n",
        "        x = self.fc1(x)\n",
        "        x = F.relu(x)\n",
        "        x = self.dropout2(x)\n",
        "        #x = self.fc2(x)\n",
        "        Arousal = self.Arousal(x)\n",
        "        Valence = self.Valence(x)\n",
        "        Dominance = self.Dominance(x)\n",
        "        return Arousal, Valence, Dominance \n",
        "#removed "
      ],
      "id": "c5b23ab6"
    },
    {
      "cell_type": "code",
      "execution_count": null,
      "metadata": {
        "id": "ad94c3ad"
      },
      "outputs": [],
      "source": [
        "SalienceNet = CNN()\n",
        "#SalienceNet.to(device)"
      ],
      "id": "ad94c3ad"
    },
    {
      "cell_type": "code",
      "execution_count": null,
      "metadata": {
        "id": "bSEPAmQoJlkq"
      },
      "outputs": [],
      "source": [
        "class ContinuousLoss_L2(nn.Module):\n",
        "  ''' Class to measure loss between continuous emotion dimension predictions and labels. Using l2 loss as base. '''\n",
        "  def __init__(self, margin=1):\n",
        "    super(ContinuousLoss_L2, self).__init__()\n",
        "    self.margin = margin\n",
        "  \n",
        "  def forward(self, pred, target):\n",
        "    labs = torch.abs(pred - target)\n",
        "    loss = labs ** 2 \n",
        "    loss[ (labs < self.margin) ] = 0.0\n",
        "    return loss.sum()"
      ],
      "id": "bSEPAmQoJlkq"
    },
    {
      "cell_type": "code",
      "execution_count": null,
      "metadata": {
        "id": "wpriQW4-Johz"
      },
      "outputs": [],
      "source": [
        "cont_loss = ContinuousLoss_L2()"
      ],
      "id": "wpriQW4-Johz"
    },
    {
      "cell_type": "code",
      "execution_count": 29,
      "metadata": {
        "id": "eMAlEzRt0VTw"
      },
      "outputs": [],
      "source": [
        "criterion = nn.CrossEntropyLoss()"
      ],
      "id": "eMAlEzRt0VTw"
    },
    {
      "cell_type": "code",
      "execution_count": 60,
      "metadata": {
        "id": "9997283d"
      },
      "outputs": [],
      "source": [
        "from tqdm import tqdm\n",
        "def train(net, loss_fn, dataloader_train,dataloader_val,\n",
        "          epoch=100, learning_rate=0.0001):\n",
        "    optimizer = torch.optim.Adam(net.parameters(), lr=learning_rate)#torch.optim.Adam(net.parameters(), lr=learning_rate,weight_decay=1e-4) # weight decay as a regularization technique to defy overfitting\n",
        "    for param in model_CNN.parameters():\n",
        "        param.requires_grad = False\n",
        "    for param in model_CNN.Arousal.parameters():\n",
        "      param.requires_grad = True\n",
        "    for param in model_CNN.Valence.parameters():\n",
        "      param.requires_grad = True\n",
        "    for param in model_CNN.Dominance.parameters():\n",
        "      param.requires_grad = True\n",
        "    train_loss = []\n",
        "    val_loss = []\n",
        "    train_accuracy = []\n",
        "    val_accuracy = []\n",
        "    train_epoch_loss = []\n",
        "    val_epoch_loss = []\n",
        "    for i in range(epoch):\n",
        "        train_loop = tqdm(dataloader_train)\n",
        "        val_loop = tqdm(dataloader_val)\n",
        "        total = 0\n",
        "        correct_a,correct_v,correct_d=0,0,0\n",
        "        net.to(device)   \n",
        "        net.train()\n",
        "        for data, label in train_loop:\n",
        "            data, label = data.to(device), label.to(device)\n",
        "            #make prediction\n",
        "            Arousal,Valence,Dominance = net(data.float())\n",
        "\n",
        "            _a, y_pred_train_arousal = torch.max(Arousal,1)\n",
        "            _v, y_pred_train_valence = torch.max(Valence,1)\n",
        "            _d, y_pred_train_dominance = torch.max(Dominance,1)\n",
        "\n",
        "            total += label[:,0].size(0)+label[:,1].size(0)+label[:,2].size(0)\n",
        "\n",
        "            correct_a += (y_pred_train_arousal == label[:,0]).sum().item()\n",
        "            correct_v += (y_pred_train_valence == label[:,1]).sum().item()\n",
        "            correct_d += (y_pred_train_dominance == label[:,2]).sum().item()\n",
        "           \n",
        "            sum_correct = (correct_a+correct_v+correct_d)\n",
        "            # Zero out the gradients\n",
        "            optimizer.zero_grad()\n",
        "\n",
        "            # Calculate loss.\n",
        "            #loss = loss_fn(output,label)#torch.max(label.long(), 1)[0])\n",
        "            loss_arousal = loss_fn(Arousal,label[:,0])\n",
        "            loss_valence = loss_fn(Valence,label[:,1])\n",
        "            loss_dominance = loss_fn(Dominance,label[:,2])\n",
        "            loss=loss_arousal+loss_valence+loss_dominance\n",
        "\n",
        "      \n",
        "            # Backpropagation and gradient update.\n",
        "            loss.backward()# Calculate gradients. #retrain_graph=True\n",
        "\n",
        "            optimizer.step() # Apply gradient update\n",
        "            \n",
        "            train_loss.append(loss.item())\n",
        "            train_loop.set_description(f\"Epoch [{i+1}/{epoch}]\")\n",
        "\n",
        "        train_accuracy.append(sum_correct/total)\n",
        "        train_epoch_loss.append((np.array(train_loss).mean()))\n",
        "\n",
        "        #validation\n",
        "        net.eval()\n",
        "        val_total = 0\n",
        "        val_arousal,val_valence, val_dominance = 0,0,0\n",
        "        for data, labels in dataloader_val:\n",
        "            data, labels = data.to(device), labels.to(device)\n",
        "\n",
        "            Arousal_v,Valence_v,Dominance_v = net(data.float())\n",
        "\n",
        "            _a, y_pred_val_arousal = torch.max(Arousal_v,1)\n",
        "            _v, y_pred_val_valence = torch.max(Valence_v,1)\n",
        "            _d, y_pred_val_dominance = torch.max(Dominance_v,1)\n",
        "\n",
        "            val_total += labels[:,0].size(0)+labels[:,1].size(0)+labels[:,2].size(0)\n",
        "\n",
        "            val_arousal += (y_pred_val_arousal == labels[:,0]).sum().item()\n",
        "            val_valence += (y_pred_val_valence == labels[:,1]).sum().item()\n",
        "            val_dominance += (y_pred_val_dominance == labels[:,2]).sum().item()\n",
        "           \n",
        "            sum_correct_val = (val_arousal+val_valence+val_dominance)\n",
        "          \n",
        "            loss_arousal_v = loss_fn(Arousal_v,labels[:,0])\n",
        "            loss_valence_v = loss_fn(Valence_v,labels[:,1])\n",
        "            loss_dominance_v = loss_fn(Dominance_v,labels[:,2])\n",
        "\n",
        "            val_l=loss_arousal_v+loss_valence_v+loss_dominance_v\n",
        "        \n",
        "            val_loss.append(val_l.item())\n",
        "\n",
        "        val_epoch_loss.append((np.array(val_loss).mean()))\n",
        "\n",
        "        val_accuracy.append(sum_correct_val/val_total)\n",
        "\n",
        "\n",
        "    return train_loss,train_epoch_loss,val_loss,val_epoch_loss, train_accuracy,val_accuracy\n"
      ],
      "id": "9997283d"
    },
    {
      "cell_type": "code",
      "execution_count": 31,
      "metadata": {
        "id": "JvEWX6FyZGIk"
      },
      "outputs": [],
      "source": [
        "def test(net,loss_fn,dataloader_test):\n",
        "  net.eval()\n",
        "  test_loss = []\n",
        "  test_total,test_correct = 0,0\n",
        "  test_acc = []\n",
        "  test_loop = tqdm(dataloader_test)\n",
        "  i=0\n",
        "  for batch, (data, labels) in enumerate(test_loop):\n",
        "      print('testing...')\n",
        "\n",
        "      data, labels = data.to(device), labels.to(device)\n",
        "      arousal,valence,dominance = net(data.float())\n",
        "\n",
        "      arousal_t = loss_fn(arousal,labels[:,0])\n",
        "      valence_t = loss_fn(valence,labels[:,1])\n",
        "      dominance_t = loss_fn(dominance,labels[:,2])\n",
        "\n",
        "      test_l = arousal_t+valence_t+dominance_t\n",
        "\n",
        "      test_loss.append(test_l.item())\n",
        "      test_loop.set_description(f\"Batch [{i+1}/{batch}]\")\n",
        "      i=+1\n",
        "\n",
        "        #test_total += labels.size(0)\n",
        "        #test_correct += (y_pred_test==torch.max(labels,1)[0]).sum().item()\n",
        "        \n",
        "    #test_acc.append(test_correct/test_total)\n",
        "    #y_pred_test = torch.softmax(outputs,dim=1).argmax(dim=1)\n",
        "\n",
        "   # print('test acc is {}'.format(test_acc)\n",
        "  return test_loss"
      ],
      "id": "JvEWX6FyZGIk"
    },
    {
      "cell_type": "code",
      "execution_count": 32,
      "metadata": {
        "id": "7e318c98"
      },
      "outputs": [],
      "source": [
        "import matplotlib.pyplot as plt"
      ],
      "id": "7e318c98"
    },
    {
      "cell_type": "code",
      "execution_count": 33,
      "metadata": {
        "id": "kGxhNDnUbZMD",
        "colab": {
          "base_uri": "https://localhost:8080/",
          "height": 17
        },
        "outputId": "aa868354-e1e9-40f8-a71b-0eac3a156c74"
      },
      "outputs": [
        {
          "output_type": "display_data",
          "data": {
            "text/plain": [
              "<IPython.core.display.Javascript object>"
            ],
            "application/javascript": [
              "google.colab.output.setIframeHeight(0, true, {maxHeight: 300})"
            ]
          },
          "metadata": {}
        }
      ],
      "source": [
        "from IPython.display import Javascript\n",
        "\n",
        "display(Javascript('''google.colab.output.setIframeHeight(0, true, {maxHeight: 300})''')) "
      ],
      "id": "kGxhNDnUbZMD"
    },
    {
      "cell_type": "code",
      "source": [
        "from torchvision import models"
      ],
      "metadata": {
        "id": "912Sex6VMmmd"
      },
      "id": "912Sex6VMmmd",
      "execution_count": 34,
      "outputs": []
    },
    {
      "cell_type": "code",
      "source": [
        "model = models.alexnet(pretrained=True)"
      ],
      "metadata": {
        "id": "Hod-SeceMqqE",
        "colab": {
          "base_uri": "https://localhost:8080/"
        },
        "outputId": "03426e47-e82b-46dc-ac78-ff461da35918"
      },
      "id": "Hod-SeceMqqE",
      "execution_count": 35,
      "outputs": [
        {
          "output_type": "stream",
          "name": "stderr",
          "text": [
            "/usr/local/lib/python3.10/dist-packages/torchvision/models/_utils.py:208: UserWarning: The parameter 'pretrained' is deprecated since 0.13 and may be removed in the future, please use 'weights' instead.\n",
            "  warnings.warn(\n",
            "/usr/local/lib/python3.10/dist-packages/torchvision/models/_utils.py:223: UserWarning: Arguments other than a weight enum or `None` for 'weights' are deprecated since 0.13 and may be removed in the future. The current behavior is equivalent to passing `weights=AlexNet_Weights.IMAGENET1K_V1`. You can also use `weights=AlexNet_Weights.DEFAULT` to get the most up-to-date weights.\n",
            "  warnings.warn(msg)\n",
            "Downloading: \"https://download.pytorch.org/models/alexnet-owt-7be5be79.pth\" to /root/.cache/torch/hub/checkpoints/alexnet-owt-7be5be79.pth\n",
            "100%|██████████| 233M/233M [00:03<00:00, 64.9MB/s]\n"
          ]
        }
      ]
    },
    {
      "cell_type": "code",
      "source": [
        "class CNN1(nn.Module):\n",
        "    def __init__(self, pretrained):\n",
        "        super(CNN1, self).__init__()\n",
        "        if pretrained is True:\n",
        "            self.model = models.__dict__[\"alexnet\"](pretrained=\"imagenet\")\n",
        "        else:\n",
        "            self.model = models.__dict__[\"alexnet\"](pretrained=None)\n",
        "        self.Arousal= nn.Linear(256, 10)\n",
        "        self.Valence = nn.Linear(256,10)\n",
        "        self.Dominance = nn.Linear(256, 10)    \n",
        "        \n",
        "    def forward(self, x):\n",
        "        bs, _, _, _ = x.shape\n",
        "        x = self.model.features(x)\n",
        "        x = F.adaptive_avg_pool2d(x, 1).reshape(bs, -1)\n",
        "        Arousal = self.Arousal(x)\n",
        "        Valence = self.Valence(x)\n",
        "        Dominance = self.Dominance(x)\n",
        "        return Arousal, Valence, Dominance \n",
        "        return {'label1': label1, 'label2': label2, 'label3': label3}"
      ],
      "metadata": {
        "id": "ayX1tkQ6p5r6"
      },
      "id": "ayX1tkQ6p5r6",
      "execution_count": 36,
      "outputs": []
    },
    {
      "cell_type": "code",
      "source": [
        "torch.cuda.empty_cache()"
      ],
      "metadata": {
        "id": "JF9XdnAI5c4N"
      },
      "id": "JF9XdnAI5c4N",
      "execution_count": 37,
      "outputs": []
    },
    {
      "cell_type": "code",
      "source": [
        "model_CNN = CNN1(True).to(device)"
      ],
      "metadata": {
        "id": "LN5RTKpPqPQG"
      },
      "id": "LN5RTKpPqPQG",
      "execution_count": 38,
      "outputs": []
    },
    {
      "cell_type": "code",
      "source": [
        "for param in model_CNN.parameters():\n",
        "        param.requires_grad = False\n",
        "for param in model_CNN.Arousal.parameters():\n",
        "  param.requires_grad = True\n",
        "for param in model_CNN.Valence.parameters():\n",
        "  param.requires_grad = True\n",
        "for param in model_CNN.Dominance.parameters():\n",
        "  param.requires_grad = True"
      ],
      "metadata": {
        "id": "-cX76_sdu0bo"
      },
      "id": "-cX76_sdu0bo",
      "execution_count": 39,
      "outputs": []
    },
    {
      "cell_type": "code",
      "execution_count": 61,
      "metadata": {
        "id": "c5ddd06d",
        "colab": {
          "base_uri": "https://localhost:8080/"
        },
        "outputId": "1e94e8ed-e039-4384-a3d5-1fa714bae268"
      },
      "outputs": [
        {
          "output_type": "stream",
          "name": "stderr",
          "text": [
            "\r  0%|          | 0/219 [00:00<?, ?it/s]\n",
            "\n",
            "Epoch [1/10]: 100%|██████████| 219/219 [00:03<00:00, 56.84it/s]\n",
            "  0%|          | 0/219 [00:00<?, ?it/s]\n",
            "\n",
            "\n",
            "  0%|          | 0/93 [00:05<?, ?it/s]\n",
            "Epoch [2/10]: 100%|██████████| 219/219 [00:04<00:00, 50.96it/s]\n",
            "  0%|          | 0/219 [00:00<?, ?it/s]\n",
            "\n",
            "  0%|          | 0/93 [00:05<?, ?it/s]\n",
            "Epoch [3/10]: 100%|██████████| 219/219 [00:03<00:00, 57.80it/s]\n",
            "  0%|          | 0/219 [00:00<?, ?it/s]\n",
            "\n",
            "\n",
            "  0%|          | 0/93 [00:04<?, ?it/s]\n",
            "Epoch [4/10]: 100%|██████████| 219/219 [00:03<00:00, 58.35it/s]\n",
            "  0%|          | 0/219 [00:00<?, ?it/s]\n",
            "\n",
            "  0%|          | 0/93 [00:04<?, ?it/s]\n",
            "Epoch [5/10]: 100%|██████████| 219/219 [00:04<00:00, 54.64it/s]\n",
            "  0%|          | 0/219 [00:00<?, ?it/s]\n",
            "\n",
            "\n",
            "  0%|          | 0/93 [00:05<?, ?it/s]\n",
            "Epoch [6/10]: 100%|██████████| 219/219 [00:03<00:00, 58.37it/s]\n",
            "  0%|          | 0/219 [00:00<?, ?it/s]\n",
            "\n",
            "  0%|          | 0/93 [00:04<?, ?it/s]\n",
            "Epoch [7/10]: 100%|██████████| 219/219 [00:03<00:00, 58.25it/s]\n",
            "  0%|          | 0/219 [00:00<?, ?it/s]\n",
            "\n",
            "\n",
            "  0%|          | 0/93 [00:05<?, ?it/s]\n",
            "Epoch [8/10]: 100%|██████████| 219/219 [00:04<00:00, 54.54it/s]\n",
            "  0%|          | 0/219 [00:00<?, ?it/s]\n",
            "\n",
            "  0%|          | 0/93 [00:05<?, ?it/s]\n",
            "Epoch [9/10]: 100%|██████████| 219/219 [00:03<00:00, 57.29it/s]\n",
            "  0%|          | 0/219 [00:00<?, ?it/s]\n",
            "\n",
            "\n",
            "  0%|          | 0/93 [00:05<?, ?it/s]\n",
            "Epoch [10/10]: 100%|██████████| 219/219 [00:03<00:00, 56.61it/s]\n",
            "  0%|          | 0/93 [00:05<?, ?it/s]\n"
          ]
        }
      ],
      "source": [
        "np.random.seed(1)\n",
        "torch.manual_seed(1)\n",
        "\n",
        "train_loss,train_epoch_loss,val_loss,val_epoch_loss,train_acc,val_acc=train(net=model_CNN,loss_fn=criterion,dataloader_train=dataloader_train,\n",
        "                  dataloader_val=dataloader_val,epoch=10)\n",
        "\n",
        "\n"
      ],
      "id": "c5ddd06d"
    },
    {
      "cell_type": "code",
      "execution_count": 65,
      "metadata": {
        "id": "fk-6haR7G5-q",
        "colab": {
          "base_uri": "https://localhost:8080/",
          "height": 472
        },
        "outputId": "1d7f0ab1-e95a-4f4f-d841-c2d3ce88bb4a"
      },
      "outputs": [
        {
          "output_type": "display_data",
          "data": {
            "text/plain": [
              "<Figure size 640x480 with 1 Axes>"
            ],
            "image/png": "[encoded data removed]"
          },
          "metadata": {}
        }
      ],
      "source": [
        "plt.plot(train_epoch_loss, label = 'train loss')\n",
        "plt.plot(val_epoch_loss, label = 'validation loss')\n",
        "plt.xlabel('Epoch')\n",
        "plt.ylabel('Loss')\n",
        "plt.title('loss per epoch')\n",
        "plt.legend()\n",
        "plt.show()"
      ],
      "id": "fk-6haR7G5-q"
    },
    {
      "cell_type": "code",
      "source": [
        "plt.plot(train_acc, label = 'train acc')\n",
        "plt.plot(val_acc, label = 'validation acc')\n",
        "plt.xlabel('Epoch')\n",
        "plt.ylabel('Accuracy')\n",
        "plt.title('Accuracy per epoch')\n",
        "plt.legend()\n",
        "plt.show()"
      ],
      "metadata": {
        "id": "s9cEBXo1dJNj",
        "colab": {
          "base_uri": "https://localhost:8080/",
          "height": 472
        },
        "outputId": "98acaf27-26ca-42df-9935-3263f2520831"
      },
      "id": "s9cEBXo1dJNj",
      "execution_count": 64,
      "outputs": [
        {
          "output_type": "display_data",
          "data": {
            "text/plain": [
              "<Figure size 640x480 with 1 Axes>"
            ],
            "image/png": "[encoded data removed]"
          },
          "metadata": {}
        }
      ]
    },
    {
      "cell_type": "code",
      "source": [
        "test_loss = test(net=SalienceNet,loss_fn=criterion,dataloader_test=dataloader_test)"
      ],
      "metadata": {
        "id": "DaXL76FBu8aa"
      },
      "id": "DaXL76FBu8aa",
      "execution_count": null,
      "outputs": []
    },
    {
      "cell_type": "code",
      "execution_count": null,
      "metadata": {
        "id": "dtd4ymkVafCh"
      },
      "outputs": [],
      "source": [
        "plt.plot(test_loss)\n",
        "plt.xlabel('Iterations of gradient descent')\n",
        "plt.ylabel('Loss')\n",
        "plt.title('Loss for test data')\n",
        "plt.show()"
      ],
      "id": "dtd4ymkVafCh"
    }
  ],
  "metadata": {
    "accelerator": "GPU",
    "colab": {
      "provenance": [],
      "include_colab_link": true
    },
    "gpuClass": "standard",
    "kernelspec": {
      "display_name": "YOLO",
      "language": "python",
      "name": "yolo"
    },
    "language_info": {
      "codemirror_mode": {
        "name": "ipython",
        "version": 3
      },
      "file_extension": ".py",
      "mimetype": "text/x-python",
      "name": "python",
      "nbconvert_exporter": "python",
      "pygments_lexer": "ipython3",
      "version": "3.10.9"
    }
  },
  "nbformat": 4,
  "nbformat_minor": 5
}