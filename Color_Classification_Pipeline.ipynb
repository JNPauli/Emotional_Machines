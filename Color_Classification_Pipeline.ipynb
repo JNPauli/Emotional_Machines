{
  "cells": [
    {
      "cell_type": "markdown",
      "metadata": {
        "id": "view-in-github",
        "colab_type": "text"
      },
      "source": [
        "<a href=\"https://colab.research.google.com/github/JNPauli/Protect_app_master_thesis/blob/main/Color_Classification_Pipeline.ipynb\" target=\"_parent\"><img src=\"https://colab.research.google.com/assets/colab-badge.svg\" alt=\"Open In Colab\"/></a>"
      ]
    },
    {
      "cell_type": "markdown",
      "metadata": {
        "id": "f3485813"
      },
      "source": [
        "0. This notebook is the continuation to the preprocessing.ipynb notebook."
      ],
      "id": "f3485813"
    },
    {
      "cell_type": "markdown",
      "metadata": {
        "id": "b60fcc27"
      },
      "source": [
        "1. Import all neccessary modules "
      ],
      "id": "b60fcc27"
    },
    {
      "cell_type": "code",
      "execution_count": 51,
      "metadata": {
        "id": "73af1d9d"
      },
      "outputs": [],
      "source": [
        "import os\n",
        "import pandas as pd\n",
        "import numpy as np\n",
        "import gc\n",
        "from sklearn.model_selection import train_test_split"
      ],
      "id": "73af1d9d"
    },
    {
      "cell_type": "code",
      "execution_count": 2,
      "metadata": {
        "colab": {
          "base_uri": "https://localhost:8080/"
        },
        "id": "xwWpOPN-SkYk",
        "outputId": "3c9079a1-cb87-4972-a45d-2ad2396a7d6d"
      },
      "outputs": [
        {
          "output_type": "stream",
          "name": "stdout",
          "text": [
            "Mounted at /content/drive\n"
          ]
        }
      ],
      "source": [
        "from google.colab import drive\n",
        "drive.mount('/content/drive')"
      ],
      "id": "xwWpOPN-SkYk"
    },
    {
      "cell_type": "markdown",
      "metadata": {
        "id": "0bab0d03"
      },
      "source": [
        "2. Import X and y"
      ],
      "id": "0bab0d03"
    },
    {
      "cell_type": "code",
      "execution_count": 3,
      "metadata": {
        "id": "0e61570a"
      },
      "outputs": [],
      "source": [
        "import torchvision\n",
        "from torchvision import transforms\n",
        "import torch\n",
        "import torch.nn as nn\n",
        "from torch.utils.data import Dataset, DataLoader\n",
        "from PIL import Image"
      ],
      "id": "0e61570a"
    },
    {
      "cell_type": "code",
      "execution_count": 4,
      "metadata": {
        "id": "Q822x4HZTzzr"
      },
      "outputs": [],
      "source": [
        "os.chdir('/content/drive/MyDrive/Thesis')"
      ],
      "id": "Q822x4HZTzzr"
    },
    {
      "cell_type": "code",
      "execution_count": 5,
      "metadata": {
        "id": "99428f03"
      },
      "outputs": [],
      "source": [
        "y = np.load('train_con.npy')\n",
        "y_idx = pd.read_csv('idx_y.csv')"
      ],
      "id": "99428f03"
    },
    {
      "cell_type": "markdown",
      "source": [
        "Remove elements from y that were not RBG but grayscale by index"
      ],
      "metadata": {
        "id": "FrYmCdafe8o2"
      },
      "id": "FrYmCdafe8o2"
    },
    {
      "cell_type": "code",
      "source": [
        "y = y[0:10001]"
      ],
      "metadata": {
        "id": "MHK_2z0ifFex"
      },
      "id": "MHK_2z0ifFex",
      "execution_count": 6,
      "outputs": []
    },
    {
      "cell_type": "code",
      "source": [
        "y_ = np.delete(y,y_idx.iloc[:,1],axis=0)"
      ],
      "metadata": {
        "id": "yHITyHqPepSa"
      },
      "id": "yHITyHqPepSa",
      "execution_count": 7,
      "outputs": []
    },
    {
      "cell_type": "code",
      "source": [
        "y_.shape"
      ],
      "metadata": {
        "colab": {
          "base_uri": "https://localhost:8080/"
        },
        "id": "MLdZQPfnemie",
        "outputId": "67387280-6352-4498-ba84-68023973737c"
      },
      "id": "MLdZQPfnemie",
      "execution_count": 8,
      "outputs": [
        {
          "output_type": "execute_result",
          "data": {
            "text/plain": [
              "(9976, 3)"
            ]
          },
          "metadata": {},
          "execution_count": 8
        }
      ]
    },
    {
      "cell_type": "markdown",
      "metadata": {
        "id": "daf7012a"
      },
      "source": [
        "NEW APPROACH:\n",
        "\n",
        "Fit CNN on orginal images, so no salience maps"
      ],
      "id": "daf7012a"
    },
    {
      "cell_type": "markdown",
      "metadata": {
        "id": "4fdc2364"
      },
      "source": [
        "1. Read `n-rows`from X."
      ],
      "id": "4fdc2364"
    },
    {
      "cell_type": "code",
      "execution_count": 9,
      "metadata": {
        "colab": {
          "base_uri": "https://localhost:8080/"
        },
        "id": "r367TL-IeTgB",
        "outputId": "abbf6ce2-d0b0-46f0-bc5e-6870e42d3248"
      },
      "outputs": [
        {
          "output_type": "stream",
          "name": "stdout",
          "text": [
            "cuda\n"
          ]
        }
      ],
      "source": [
        "if torch.cuda.is_available():\n",
        "  device = torch.device(\"cuda\")\n",
        "else:\n",
        "  device = torch.device(\"cpu\")\n",
        "\n",
        "print(device)"
      ],
      "id": "r367TL-IeTgB"
    },
    {
      "cell_type": "code",
      "execution_count": 10,
      "metadata": {
        "id": "27e2352f"
      },
      "outputs": [],
      "source": [
        "X = np.load('mscoco_og.npy')"
      ],
      "id": "27e2352f"
    },
    {
      "cell_type": "code",
      "source": [
        "X = np.swapaxes(X,0,3)"
      ],
      "metadata": {
        "id": "i2tQHntfhJRz"
      },
      "id": "i2tQHntfhJRz",
      "execution_count": 11,
      "outputs": []
    },
    {
      "cell_type": "code",
      "source": [
        "X = np.swapaxes(X,1,3)"
      ],
      "metadata": {
        "id": "ib4OPsRrht3q"
      },
      "id": "ib4OPsRrht3q",
      "execution_count": 12,
      "outputs": []
    },
    {
      "cell_type": "code",
      "source": [
        "X.shape"
      ],
      "metadata": {
        "id": "OJdPI4eQf4Wy",
        "colab": {
          "base_uri": "https://localhost:8080/"
        },
        "outputId": "e5637b2d-10ba-4135-c6e5-9b3a8e6a3bb5"
      },
      "id": "OJdPI4eQf4Wy",
      "execution_count": 13,
      "outputs": [
        {
          "output_type": "execute_result",
          "data": {
            "text/plain": [
              "(9976, 3, 224, 224)"
            ]
          },
          "metadata": {},
          "execution_count": 13
        }
      ]
    },
    {
      "cell_type": "code",
      "source": [
        "X_ = torch.from_numpy(X).to(device)"
      ],
      "metadata": {
        "id": "jGWIHxD73jAz"
      },
      "id": "jGWIHxD73jAz",
      "execution_count": 14,
      "outputs": []
    },
    {
      "cell_type": "code",
      "source": [
        "y_ = torch.from_numpy(y_).to(device)"
      ],
      "metadata": {
        "id": "zbl3QPuD3_aN"
      },
      "id": "zbl3QPuD3_aN",
      "execution_count": 15,
      "outputs": []
    },
    {
      "cell_type": "code",
      "source": [
        "del X\n",
        "gc.collect()"
      ],
      "metadata": {
        "id": "9tdWWyMBjpga",
        "colab": {
          "base_uri": "https://localhost:8080/"
        },
        "outputId": "1dba0131-0960-4c61-e69e-d162d4b5b80a"
      },
      "id": "9tdWWyMBjpga",
      "execution_count": 16,
      "outputs": [
        {
          "output_type": "execute_result",
          "data": {
            "text/plain": [
              "23"
            ]
          },
          "metadata": {},
          "execution_count": 16
        }
      ]
    },
    {
      "cell_type": "markdown",
      "metadata": {
        "id": "43fc4d4d"
      },
      "source": [
        "Converting X to appropriate Datatype..."
      ],
      "id": "43fc4d4d"
    },
    {
      "cell_type": "code",
      "execution_count": 17,
      "metadata": {
        "id": "83ce427f",
        "colab": {
          "base_uri": "https://localhost:8080/"
        },
        "outputId": "a5cb46db-9635-4962-e8b5-2c4de19da80c"
      },
      "outputs": [
        {
          "output_type": "stream",
          "name": "stderr",
          "text": [
            "<ipython-input-17-e30e4ab0470a>:1: UserWarning: To copy construct from a tensor, it is recommended to use sourceTensor.clone().detach() or sourceTensor.clone().detach().requires_grad_(True), rather than torch.tensor(sourceTensor).\n",
            "  X_ = torch.tensor(X_,dtype = torch.float32)\n"
          ]
        }
      ],
      "source": [
        "X_ = torch.tensor(X_,dtype = torch.float32)\n",
        "\n",
        "y_ = y_.type(torch.LongTensor)"
      ],
      "id": "83ce427f"
    },
    {
      "cell_type": "code",
      "source": [
        "X_[0,:,:,:].shape"
      ],
      "metadata": {
        "colab": {
          "base_uri": "https://localhost:8080/"
        },
        "id": "_Ab39MxloIsE",
        "outputId": "4841024e-f887-4a87-df77-1b0b64b2dfe9"
      },
      "id": "_Ab39MxloIsE",
      "execution_count": 24,
      "outputs": [
        {
          "output_type": "execute_result",
          "data": {
            "text/plain": [
              "torch.Size([3, 224, 224])"
            ]
          },
          "metadata": {},
          "execution_count": 24
        }
      ]
    },
    {
      "cell_type": "code",
      "source": [
        "Mean_color_R = []\n",
        "Mean_color_G = []\n",
        "Mean_color_B = []\n",
        "\n",
        "for idx, img in enumerate(X_):\n",
        "  R_mean, G_mean ,B_mean = X_[idx,:,:,:].mean(dim = [1,2]).to('cpu')\n",
        "  Mean_color_R.append(R_mean)\n",
        "  Mean_color_G.append(G_mean)\n",
        "  Mean_color_B.append(B_mean)\n",
        "\n"
      ],
      "metadata": {
        "id": "0_M0O6wbn5U1"
      },
      "id": "0_M0O6wbn5U1",
      "execution_count": 42,
      "outputs": []
    },
    {
      "cell_type": "code",
      "source": [
        "Color_Array = np.array((Mean_color_R, Mean_color_G, Mean_color_B), dtype=float)"
      ],
      "metadata": {
        "id": "bxO86F03ozSE"
      },
      "id": "bxO86F03ozSE",
      "execution_count": 44,
      "outputs": []
    },
    {
      "cell_type": "code",
      "source": [
        "Color_Array.shape"
      ],
      "metadata": {
        "colab": {
          "base_uri": "https://localhost:8080/"
        },
        "id": "U_4Op67Pp-3l",
        "outputId": "80a88b5f-65a5-482c-84e0-67091243f014"
      },
      "id": "U_4Op67Pp-3l",
      "execution_count": 46,
      "outputs": [
        {
          "output_type": "execute_result",
          "data": {
            "text/plain": [
              "(3, 9976)"
            ]
          },
          "metadata": {},
          "execution_count": 46
        }
      ]
    },
    {
      "cell_type": "markdown",
      "source": [
        "To get max value of classN-1"
      ],
      "metadata": {
        "id": "T2DjZNYUrFdA"
      },
      "id": "T2DjZNYUrFdA"
    },
    {
      "cell_type": "code",
      "source": [
        "y_ = y_-1"
      ],
      "metadata": {
        "id": "eFGPr_GdqDwY"
      },
      "id": "eFGPr_GdqDwY",
      "execution_count": 47,
      "outputs": []
    },
    {
      "cell_type": "code",
      "source": [
        "y_.to('cpu');\n",
        "y_ = y_.numpy();"
      ],
      "metadata": {
        "id": "SUD7b30_4hQQ"
      },
      "id": "SUD7b30_4hQQ",
      "execution_count": 57,
      "outputs": []
    },
    {
      "cell_type": "code",
      "source": [
        "Color_Array=np.reshape(Color_Array,(9976,3))"
      ],
      "metadata": {
        "id": "OKXMhRtLq9cx"
      },
      "id": "OKXMhRtLq9cx",
      "execution_count": 82,
      "outputs": []
    },
    {
      "cell_type": "code",
      "source": [
        "X_train,X_test,y_train,y_test = train_test_split(Color_Array,y_,test_size=0.3,random_state=42)"
      ],
      "metadata": {
        "id": "K1j5HjggqJSs"
      },
      "id": "K1j5HjggqJSs",
      "execution_count": 83,
      "outputs": []
    },
    {
      "cell_type": "code",
      "source": [
        "Color_Array.shape,y_.shape"
      ],
      "metadata": {
        "colab": {
          "base_uri": "https://localhost:8080/"
        },
        "id": "ai8WLKl5qJYz",
        "outputId": "c7e126db-330e-49d9-8e41-87f4add15e31"
      },
      "id": "ai8WLKl5qJYz",
      "execution_count": 63,
      "outputs": [
        {
          "output_type": "execute_result",
          "data": {
            "text/plain": [
              "((3, 9976), (9976, 3))"
            ]
          },
          "metadata": {},
          "execution_count": 63
        }
      ]
    },
    {
      "cell_type": "code",
      "source": [
        "X_train.shape,X_test.shape,y_train.shape,y_test.shape"
      ],
      "metadata": {
        "colab": {
          "base_uri": "https://localhost:8080/"
        },
        "id": "Ei67v0H6qwG8",
        "outputId": "d6c36ed5-54bd-4405-86bb-83a0d0f8b5ec"
      },
      "id": "Ei67v0H6qwG8",
      "execution_count": 66,
      "outputs": [
        {
          "output_type": "execute_result",
          "data": {
            "text/plain": [
              "((6983, 3), (2993, 3), (6983, 3), (2993, 3))"
            ]
          },
          "metadata": {},
          "execution_count": 66
        }
      ]
    },
    {
      "cell_type": "code",
      "source": [
        "np.mean(X_train),np.mean(X_test), np.std(X_train),np.std(X_test)"
      ],
      "metadata": {
        "colab": {
          "base_uri": "https://localhost:8080/"
        },
        "id": "k1AsRrOnre_y",
        "outputId": "909e6d04-1374-4894-8dcf-9ee20d8ac283"
      },
      "id": "k1AsRrOnre_y",
      "execution_count": 84,
      "outputs": [
        {
          "output_type": "execute_result",
          "data": {
            "text/plain": [
              "(0.43370424509169386,\n",
              " 0.43340951945997386,\n",
              " 0.13018049668223647,\n",
              " 0.13041735048829012)"
            ]
          },
          "metadata": {},
          "execution_count": 84
        }
      ]
    },
    {
      "cell_type": "code",
      "source": [
        "from sklearn.preprocessing import StandardScaler"
      ],
      "metadata": {
        "id": "HSgCm0iRrrbg"
      },
      "id": "HSgCm0iRrrbg",
      "execution_count": 74,
      "outputs": []
    },
    {
      "cell_type": "code",
      "source": [
        "Scaler = StandardScaler()"
      ],
      "metadata": {
        "id": "C2kNCPcXrw_K"
      },
      "id": "C2kNCPcXrw_K",
      "execution_count": 76,
      "outputs": []
    },
    {
      "cell_type": "code",
      "source": [
        "X_train = Scaler.fit_transform(X_train)"
      ],
      "metadata": {
        "id": "XoXJvSKbrxC7"
      },
      "id": "XoXJvSKbrxC7",
      "execution_count": 85,
      "outputs": []
    },
    {
      "cell_type": "code",
      "source": [
        "X_test = Scaler.transform(X_test)"
      ],
      "metadata": {
        "id": "lDWJ-D1irxHI"
      },
      "id": "lDWJ-D1irxHI",
      "execution_count": 86,
      "outputs": []
    },
    {
      "cell_type": "code",
      "source": [
        "np.mean(X_train),np.mean(X_test), np.std(X_train),np.std(X_test)"
      ],
      "metadata": {
        "colab": {
          "base_uri": "https://localhost:8080/"
        },
        "id": "I4Qko-rWr8SY",
        "outputId": "aa129ba5-3b08-44f4-8ab0-c04b2cd765fb"
      },
      "id": "I4Qko-rWr8SY",
      "execution_count": 87,
      "outputs": [
        {
          "output_type": "execute_result",
          "data": {
            "text/plain": [
              "(-3.29002078231561e-17,\n",
              " -0.0022130054273679913,\n",
              " 1.0000000000000009,\n",
              " 1.00209554867872)"
            ]
          },
          "metadata": {},
          "execution_count": 87
        }
      ]
    },
    {
      "cell_type": "code",
      "source": [
        "X_tensor_train = torch.from_numpy(X_train)\n",
        "X_tensor_test = torch.from_numpy(X_test)\n",
        "\n",
        "y_tensor_train = torch.from_numpy(y_train)\n",
        "y_tensor_test = torch.from_numpy(y_test)"
      ],
      "metadata": {
        "id": "RUKtNyGesW0i"
      },
      "id": "RUKtNyGesW0i",
      "execution_count": 91,
      "outputs": []
    },
    {
      "cell_type": "code",
      "source": [
        "X_tensor_train = torch.tensor(X_tensor_train,dtype = torch.float32)\n",
        "X_tensor_test = torch.tensor(X_tensor_test,dtype = torch.float32)\n",
        "\n",
        "y_tensor_train = y_tensor_train.type(torch.LongTensor)\n",
        "y_tensor_test = y_tensor_test.type(torch.LongTensor)"
      ],
      "metadata": {
        "colab": {
          "base_uri": "https://localhost:8080/"
        },
        "id": "eRmrhY-fsW77",
        "outputId": "9932eb0d-ea3a-4b0a-bc34-b01dfb36ec24"
      },
      "id": "eRmrhY-fsW77",
      "execution_count": 92,
      "outputs": [
        {
          "output_type": "stream",
          "name": "stderr",
          "text": [
            "<ipython-input-92-ace8a0b3a68e>:1: UserWarning: To copy construct from a tensor, it is recommended to use sourceTensor.clone().detach() or sourceTensor.clone().detach().requires_grad_(True), rather than torch.tensor(sourceTensor).\n",
            "  X_tensor_train = torch.tensor(X_tensor_train,dtype = torch.float32)\n",
            "<ipython-input-92-ace8a0b3a68e>:2: UserWarning: To copy construct from a tensor, it is recommended to use sourceTensor.clone().detach() or sourceTensor.clone().detach().requires_grad_(True), rather than torch.tensor(sourceTensor).\n",
            "  X_tensor_test = torch.tensor(X_tensor_test,dtype = torch.float32)\n"
          ]
        }
      ]
    },
    {
      "cell_type": "code",
      "source": [
        "torch.mean(X_tensor_train),torch.mean(X_tensor_test),torch.std(X_tensor_train),torch.std(X_tensor_test)"
      ],
      "metadata": {
        "colab": {
          "base_uri": "https://localhost:8080/"
        },
        "id": "r-w_dfCpsXBl",
        "outputId": "3ddaab63-de86-4d98-8539-86f76c042cc8"
      },
      "id": "r-w_dfCpsXBl",
      "execution_count": 93,
      "outputs": [
        {
          "output_type": "execute_result",
          "data": {
            "text/plain": [
              "(tensor(3.6419e-10), tensor(-0.0022), tensor(1.0000), tensor(1.0022))"
            ]
          },
          "metadata": {},
          "execution_count": 93
        }
      ]
    },
    {
      "cell_type": "markdown",
      "metadata": {
        "id": "5379ae48"
      },
      "source": [
        "Setup custom dataset class"
      ],
      "id": "5379ae48"
    },
    {
      "cell_type": "code",
      "execution_count": 96,
      "metadata": {
        "id": "76e13d73"
      },
      "outputs": [],
      "source": [
        "class SimpleDataset(Dataset):\n",
        "    def __init__(self, X, y):#,transform=None):\n",
        "        self.X = X\n",
        "        self.y = y\n",
        "        #self.transform = transforms.Compose([X.to])\n",
        "        \n",
        "    def __len__(self):\n",
        "        return len(self.X)\n",
        "    \n",
        "    def __getitem__(self, idx):\n",
        "        X = self.X[idx]\n",
        "        y = self.y[idx]\n",
        "\n",
        "        #if self.transform:\n",
        "         # X = self.transform(X)\n",
        " \n",
        "        return X, y"
      ],
      "id": "76e13d73"
    },
    {
      "cell_type": "code",
      "source": [
        "train_dataset = SimpleDataset(X_tensor_train,y_tensor_train)#,transform=True)"
      ],
      "metadata": {
        "id": "XxSIhM3R4sC7"
      },
      "id": "XxSIhM3R4sC7",
      "execution_count": 97,
      "outputs": []
    },
    {
      "cell_type": "code",
      "source": [
        "test_dataset = SimpleDataset(X_tensor_test,y_tensor_test)"
      ],
      "metadata": {
        "id": "VGTpuSchs-T2"
      },
      "id": "VGTpuSchs-T2",
      "execution_count": 98,
      "outputs": []
    },
    {
      "cell_type": "code",
      "source": [
        "dataloader_train = DataLoader(train_dataset, batch_size=64, shuffle=False) \n",
        "dataloader_test = DataLoader(test_dataset, batch_size=32, shuffle=True) "
      ],
      "metadata": {
        "id": "yFIoQgYp5mdz"
      },
      "id": "yFIoQgYp5mdz",
      "execution_count": 124,
      "outputs": []
    },
    {
      "cell_type": "code",
      "source": [
        "for x,y in dataloader_train:\n",
        "  print(x.shape)"
      ],
      "metadata": {
        "id": "zQ2kysL7wdJ1"
      },
      "id": "zQ2kysL7wdJ1",
      "execution_count": null,
      "outputs": []
    },
    {
      "cell_type": "code",
      "source": [
        "X_tensor_train.shape"
      ],
      "metadata": {
        "colab": {
          "base_uri": "https://localhost:8080/"
        },
        "id": "PY6lpk_WvhRL",
        "outputId": "28093a8e-7690-4328-f844-157072bbae83"
      },
      "id": "PY6lpk_WvhRL",
      "execution_count": 123,
      "outputs": [
        {
          "output_type": "execute_result",
          "data": {
            "text/plain": [
              "torch.Size([6983, 3])"
            ]
          },
          "metadata": {},
          "execution_count": 123
        }
      ]
    },
    {
      "cell_type": "markdown",
      "metadata": {
        "id": "9c4df5ea"
      },
      "source": [
        "Setting up the Classification DNN"
      ],
      "id": "9c4df5ea"
    },
    {
      "cell_type": "code",
      "execution_count": 147,
      "metadata": {
        "id": "c5b23ab6"
      },
      "outputs": [],
      "source": [
        "import torch.nn.functional as F\n",
        "\n",
        "class Dnn(nn.Module):\n",
        "    def __init__(self,n_inputs,n_hidden,n_hidden_2):\n",
        "        super().__init__()\n",
        "        self.in_layer = nn.Linear(n_inputs,n_hidden)\n",
        "        self.dropout = nn.Dropout(0.25)\n",
        "        self.hid_layer = nn.Linear(n_hidden, n_hidden_2)\n",
        "        self.Arousal = nn.Linear(n_hidden_2,10)\n",
        "        self.Valence = nn.Linear(n_hidden_2,10)\n",
        "        self.Dominance = nn.Linear(n_hidden_2,10)\n",
        "\n",
        "        \n",
        "    def forward(self, x):\n",
        "        x = torch.relu(self.in_layer(x))\n",
        "        x = self.dropout(x)\n",
        "        X = self.hid_layer(x)\n",
        "        Arousal = self.Arousal(x)\n",
        "        Valence = self.Valence(x)\n",
        "        Dominance = self.Dominance(x)\n",
        "        return Arousal, Valence, Dominance \n",
        "#removed "
      ],
      "id": "c5b23ab6"
    },
    {
      "cell_type": "code",
      "source": [
        "with torch.no_grad():\n",
        "  torch.cuda.empty_cache()"
      ],
      "metadata": {
        "id": "qKHbNDyEuLul"
      },
      "id": "qKHbNDyEuLul",
      "execution_count": 102,
      "outputs": []
    },
    {
      "cell_type": "code",
      "execution_count": 148,
      "metadata": {
        "id": "ad94c3ad",
        "colab": {
          "base_uri": "https://localhost:8080/"
        },
        "outputId": "5fc61ea3-e956-442d-ed9b-0ae0a6c07812"
      },
      "outputs": [
        {
          "output_type": "execute_result",
          "data": {
            "text/plain": [
              "Dnn(\n",
              "  (in_layer): Linear(in_features=3, out_features=2, bias=True)\n",
              "  (dropout): Dropout(p=0.25, inplace=False)\n",
              "  (hid_layer): Linear(in_features=2, out_features=2, bias=True)\n",
              "  (Arousal): Linear(in_features=2, out_features=10, bias=True)\n",
              "  (Valence): Linear(in_features=2, out_features=10, bias=True)\n",
              "  (Dominance): Linear(in_features=2, out_features=10, bias=True)\n",
              ")"
            ]
          },
          "metadata": {},
          "execution_count": 148
        }
      ],
      "source": [
        "ColorNet = Dnn(3,2,2)\n",
        "ColorNet.to(device)"
      ],
      "id": "ad94c3ad"
    },
    {
      "cell_type": "code",
      "execution_count": 114,
      "metadata": {
        "id": "eMAlEzRt0VTw"
      },
      "outputs": [],
      "source": [
        "criterion = nn.CrossEntropyLoss()"
      ],
      "id": "eMAlEzRt0VTw"
    },
    {
      "cell_type": "code",
      "execution_count": 115,
      "metadata": {
        "id": "9997283d"
      },
      "outputs": [],
      "source": [
        "from tqdm import tqdm\n",
        "def train(net, loss_fn, dataloader_train,dataloader_val,\n",
        "          epoch=100, learning_rate=0.0001):\n",
        "    optimizer = torch.optim.Adam(net.parameters(), lr=learning_rate,weight_decay=1e-4) # weight decay as a regularization technique to defy overfitting\n",
        "\n",
        "    train_loss = []\n",
        "    val_loss = []\n",
        "    train_accuracy = []\n",
        "    val_accuracy = []\n",
        "    train_epoch_loss = []\n",
        "    val_epoch_loss = []\n",
        "    for i in range(epoch):\n",
        "        train_loop = tqdm(dataloader_train)\n",
        "        val_loop = tqdm(dataloader_val)\n",
        "        total = 0\n",
        "        correct_a,correct_v,correct_d=0,0,0\n",
        "        net.to(device)   \n",
        "        net.train()\n",
        "        for data, label in train_loop:\n",
        "            data, label = data.to(device), label.to(device)\n",
        "            #make prediction\n",
        "            Arousal,Valence,Dominance = net(data.float())\n",
        "\n",
        "            _a, y_pred_train_arousal = torch.max(Arousal,1)\n",
        "            _v, y_pred_train_valence = torch.max(Valence,1)\n",
        "            _d, y_pred_train_dominance = torch.max(Dominance,1)\n",
        "\n",
        "            total += label[:,0].size(0)+label[:,1].size(0)+label[:,2].size(0)\n",
        "\n",
        "            correct_a += (y_pred_train_arousal == label[:,0]).sum().item()\n",
        "            correct_v += (y_pred_train_valence == label[:,1]).sum().item()\n",
        "            correct_d += (y_pred_train_dominance == label[:,2]).sum().item()\n",
        "           \n",
        "            sum_correct = (correct_a+correct_v+correct_d)\n",
        "            # Zero out the gradients\n",
        "            optimizer.zero_grad()\n",
        "\n",
        "            # Calculate loss.\n",
        "            #loss = loss_fn(output,label)#torch.max(label.long(), 1)[0])\n",
        "            loss_arousal = loss_fn(Arousal,label[:,0])\n",
        "            loss_valence = loss_fn(Valence,label[:,1])\n",
        "            loss_dominance = loss_fn(Dominance,label[:,2])\n",
        "            loss=loss_arousal+loss_valence+loss_dominance\n",
        "\n",
        "      \n",
        "            # Backpropagation and gradient update.\n",
        "            loss.backward()# Calculate gradients. #retrain_graph=True\n",
        "\n",
        "            optimizer.step() # Apply gradient update\n",
        "            \n",
        "            train_loss.append(loss.item())\n",
        "            train_loop.set_description(f\"Epoch [{i+1}/{epoch}]\")\n",
        "\n",
        "        train_accuracy.append(sum_correct/total)\n",
        "        train_epoch_loss.append((np.array(train_loss).mean()))\n",
        "\n",
        "        #validation\n",
        "        net.eval()\n",
        "        val_total = 0\n",
        "        val_arousal,val_valence, val_dominance = 0,0,0\n",
        "        for data, labels in dataloader_val:\n",
        "            data, labels = data.to(device), labels.to(device)\n",
        "\n",
        "            Arousal_v,Valence_v,Dominance_v = net(data.float())\n",
        "\n",
        "            _a, y_pred_val_arousal = torch.max(Arousal_v,1)\n",
        "            _v, y_pred_val_valence = torch.max(Valence_v,1)\n",
        "            _d, y_pred_val_dominance = torch.max(Dominance_v,1)\n",
        "\n",
        "            val_total += labels[:,0].size(0)+labels[:,1].size(0)+labels[:,2].size(0)\n",
        "\n",
        "            val_arousal += (y_pred_val_arousal == labels[:,0]).sum().item()\n",
        "            val_valence += (y_pred_val_valence == labels[:,1]).sum().item()\n",
        "            val_dominance += (y_pred_val_dominance == labels[:,2]).sum().item()\n",
        "           \n",
        "            sum_correct_val = (val_arousal+val_valence+val_dominance)\n",
        "          \n",
        "            loss_arousal_v = loss_fn(Arousal_v,labels[:,0])\n",
        "            loss_valence_v = loss_fn(Valence_v,labels[:,1])\n",
        "            loss_dominance_v = loss_fn(Dominance_v,labels[:,2])\n",
        "\n",
        "            val_l=loss_arousal_v+loss_valence_v+loss_dominance_v\n",
        "        \n",
        "            val_loss.append(val_l.item())\n",
        "\n",
        "        val_epoch_loss.append((np.array(val_loss).mean()))\n",
        "\n",
        "        val_accuracy.append(sum_correct_val/val_total)\n",
        "\n",
        "\n",
        "    return train_loss,train_epoch_loss,val_loss,val_epoch_loss, train_accuracy,val_accuracy\n"
      ],
      "id": "9997283d"
    },
    {
      "cell_type": "code",
      "execution_count": 116,
      "metadata": {
        "id": "JvEWX6FyZGIk"
      },
      "outputs": [],
      "source": [
        "def test(net,loss_fn,dataloader_test):\n",
        "  net.eval()\n",
        "  test_loss = []\n",
        "  test_total,test_correct = 0,0\n",
        "  test_acc = []\n",
        "  test_loop = tqdm(dataloader_test)\n",
        "  i=0\n",
        "  for batch, (data, labels) in enumerate(test_loop):\n",
        "      print('testing...')\n",
        "\n",
        "      data, labels = data.to(device), labels.to(device)\n",
        "      arousal,valence,dominance = net(data.float())\n",
        "\n",
        "      arousal_t = loss_fn(arousal,labels[:,0])\n",
        "      valence_t = loss_fn(valence,labels[:,1])\n",
        "      dominance_t = loss_fn(dominance,labels[:,2])\n",
        "\n",
        "      test_l = arousal_t+valence_t+dominance_t\n",
        "\n",
        "      test_loss.append(test_l.item())\n",
        "      test_loop.set_description(f\"Batch [{i+1}/{batch}]\")\n",
        "      i=+1\n",
        "\n",
        "        #test_total += labels.size(0)\n",
        "        #test_correct += (y_pred_test==torch.max(labels,1)[0]).sum().item()\n",
        "        \n",
        "    #test_acc.append(test_correct/test_total)\n",
        "    #y_pred_test = torch.softmax(outputs,dim=1).argmax(dim=1)\n",
        "\n",
        "   # print('test acc is {}'.format(test_acc)\n",
        "  return test_loss"
      ],
      "id": "JvEWX6FyZGIk"
    },
    {
      "cell_type": "code",
      "execution_count": 117,
      "metadata": {
        "id": "7e318c98"
      },
      "outputs": [],
      "source": [
        "import matplotlib.pyplot as plt"
      ],
      "id": "7e318c98"
    },
    {
      "cell_type": "code",
      "execution_count": 118,
      "metadata": {
        "id": "kGxhNDnUbZMD",
        "colab": {
          "base_uri": "https://localhost:8080/",
          "height": 17
        },
        "outputId": "b4caac46-f7c2-4fa8-f8b9-15c901b4922b"
      },
      "outputs": [
        {
          "output_type": "display_data",
          "data": {
            "text/plain": [
              "<IPython.core.display.Javascript object>"
            ],
            "application/javascript": [
              "google.colab.output.setIframeHeight(0, true, {maxHeight: 300})"
            ]
          },
          "metadata": {}
        }
      ],
      "source": [
        "from IPython.display import Javascript\n",
        "\n",
        "display(Javascript('''google.colab.output.setIframeHeight(0, true, {maxHeight: 300})''')) "
      ],
      "id": "kGxhNDnUbZMD"
    },
    {
      "cell_type": "code",
      "source": [
        "X_tensor_train.shape[1]"
      ],
      "metadata": {
        "colab": {
          "base_uri": "https://localhost:8080/"
        },
        "id": "7w1ulGe9xWWm",
        "outputId": "fcbfe033-26b6-4e44-ee81-be3dab5ad9ad"
      },
      "id": "7w1ulGe9xWWm",
      "execution_count": 136,
      "outputs": [
        {
          "output_type": "execute_result",
          "data": {
            "text/plain": [
              "3"
            ]
          },
          "metadata": {},
          "execution_count": 136
        }
      ]
    },
    {
      "cell_type": "code",
      "execution_count": 155,
      "metadata": {
        "id": "c5ddd06d",
        "colab": {
          "base_uri": "https://localhost:8080/"
        },
        "outputId": "116d9644-d2cb-44c8-ddbc-6cebcdcb0878"
      },
      "outputs": [
        {
          "output_type": "stream",
          "name": "stderr",
          "text": [
            "  0%|          | 0/110 [00:00<?, ?it/s]\n",
            "Epoch [1/200]: 100%|██████████| 110/110 [00:00<00:00, 190.13it/s]\n",
            "  0%|          | 0/110 [00:00<?, ?it/s]\n",
            "\n",
            "\n",
            "  0%|          | 0/94 [00:00<?, ?it/s]\n",
            "Epoch [2/200]: 100%|██████████| 110/110 [00:00<00:00, 184.68it/s]\n",
            "  0%|          | 0/110 [00:00<?, ?it/s]\n",
            "  0%|          | 0/94 [00:00<?, ?it/s]\n",
            "Epoch [3/200]: 100%|██████████| 110/110 [00:00<00:00, 160.04it/s]\n",
            "  0%|          | 0/110 [00:00<?, ?it/s]\n",
            "\n",
            "\n",
            "  0%|          | 0/94 [00:00<?, ?it/s]\n",
            "Epoch [4/200]: 100%|██████████| 110/110 [00:00<00:00, 176.31it/s]\n",
            "  0%|          | 0/110 [00:00<?, ?it/s]\n",
            "  0%|          | 0/94 [00:00<?, ?it/s]\n",
            "Epoch [5/200]: 100%|██████████| 110/110 [00:00<00:00, 176.40it/s]\n",
            "  0%|          | 0/110 [00:00<?, ?it/s]\n",
            "\n",
            "\n",
            "  0%|          | 0/94 [00:00<?, ?it/s]\n",
            "Epoch [6/200]: 100%|██████████| 110/110 [00:00<00:00, 160.47it/s]\n",
            "  0%|          | 0/110 [00:00<?, ?it/s]\n",
            "  0%|          | 0/94 [00:00<?, ?it/s]\n",
            "Epoch [7/200]: 100%|██████████| 110/110 [00:00<00:00, 162.73it/s]\n",
            "  0%|          | 0/110 [00:00<?, ?it/s]\n",
            "\n",
            "\n",
            "  0%|          | 0/94 [00:00<?, ?it/s]\n",
            "Epoch [8/200]: 100%|██████████| 110/110 [00:00<00:00, 154.31it/s]\n",
            "  0%|          | 0/110 [00:00<?, ?it/s]\n",
            "  0%|          | 0/94 [00:00<?, ?it/s]\n",
            "Epoch [9/200]: 100%|██████████| 110/110 [00:00<00:00, 174.61it/s]\n",
            "  0%|          | 0/110 [00:00<?, ?it/s]\n",
            "\n",
            "\n",
            "  0%|          | 0/94 [00:00<?, ?it/s]\n",
            "Epoch [10/200]: 100%|██████████| 110/110 [00:00<00:00, 176.47it/s]\n",
            "  0%|          | 0/110 [00:00<?, ?it/s]\n",
            "  0%|          | 0/94 [00:00<?, ?it/s]\n",
            "Epoch [11/200]: 100%|██████████| 110/110 [00:00<00:00, 175.46it/s]\n",
            "  0%|          | 0/110 [00:00<?, ?it/s]\n",
            "\n",
            "\n",
            "  0%|          | 0/94 [00:00<?, ?it/s]\n",
            "Epoch [12/200]: 100%|██████████| 110/110 [00:00<00:00, 178.15it/s]\n",
            "  0%|          | 0/110 [00:00<?, ?it/s]\n",
            "  0%|          | 0/94 [00:00<?, ?it/s]\n",
            "Epoch [13/200]: 100%|██████████| 110/110 [00:00<00:00, 178.44it/s]\n",
            "  0%|          | 0/110 [00:00<?, ?it/s]\n",
            "\n",
            "\n",
            "  0%|          | 0/94 [00:00<?, ?it/s]\n",
            "Epoch [14/200]: 100%|██████████| 110/110 [00:00<00:00, 181.31it/s]\n",
            "  0%|          | 0/110 [00:00<?, ?it/s]\n",
            "  0%|          | 0/94 [00:00<?, ?it/s]\n",
            "Epoch [15/200]: 100%|██████████| 110/110 [00:00<00:00, 175.63it/s]\n",
            "  0%|          | 0/110 [00:00<?, ?it/s]\n",
            "\n",
            "\n",
            "  0%|          | 0/94 [00:00<?, ?it/s]\n",
            "Epoch [16/200]: 100%|██████████| 110/110 [00:00<00:00, 176.07it/s]\n",
            "  0%|          | 0/110 [00:00<?, ?it/s]\n",
            "  0%|          | 0/94 [00:00<?, ?it/s]\n",
            "Epoch [17/200]: 100%|██████████| 110/110 [00:00<00:00, 176.45it/s]\n",
            "  0%|          | 0/110 [00:00<?, ?it/s]\n",
            "\n",
            "\n",
            "  0%|          | 0/94 [00:00<?, ?it/s]\n",
            "Epoch [18/200]: 100%|██████████| 110/110 [00:00<00:00, 171.79it/s]\n",
            "  0%|          | 0/110 [00:00<?, ?it/s]\n",
            "  0%|          | 0/94 [00:00<?, ?it/s]\n",
            "Epoch [19/200]: 100%|██████████| 110/110 [00:00<00:00, 179.92it/s]\n",
            "  0%|          | 0/110 [00:00<?, ?it/s]\n",
            "\n",
            "\n",
            "  0%|          | 0/94 [00:00<?, ?it/s]\n",
            "Epoch [20/200]: 100%|██████████| 110/110 [00:00<00:00, 180.91it/s]\n",
            "  0%|          | 0/110 [00:00<?, ?it/s]\n",
            "  0%|          | 0/94 [00:00<?, ?it/s]\n",
            "Epoch [21/200]: 100%|██████████| 110/110 [00:00<00:00, 176.00it/s]\n",
            "  0%|          | 0/110 [00:00<?, ?it/s]\n",
            "\n",
            "\n",
            "  0%|          | 0/94 [00:00<?, ?it/s]\n",
            "Epoch [22/200]: 100%|██████████| 110/110 [00:00<00:00, 160.40it/s]\n",
            "  0%|          | 0/110 [00:00<?, ?it/s]\n",
            "  0%|          | 0/94 [00:00<?, ?it/s]\n",
            "Epoch [23/200]: 100%|██████████| 110/110 [00:00<00:00, 165.11it/s]\n",
            "  0%|          | 0/110 [00:00<?, ?it/s]\n",
            "\n",
            "\n",
            "  0%|          | 0/94 [00:00<?, ?it/s]\n",
            "Epoch [24/200]: 100%|██████████| 110/110 [00:00<00:00, 154.60it/s]\n",
            "  0%|          | 0/110 [00:00<?, ?it/s]\n",
            "  0%|          | 0/94 [00:00<?, ?it/s]\n",
            "Epoch [25/200]: 100%|██████████| 110/110 [00:00<00:00, 152.65it/s]\n",
            "  0%|          | 0/110 [00:00<?, ?it/s]\n",
            "\n",
            "\n",
            "  0%|          | 0/94 [00:00<?, ?it/s]\n",
            "Epoch [26/200]: 100%|██████████| 110/110 [00:00<00:00, 165.79it/s]\n",
            "  0%|          | 0/110 [00:00<?, ?it/s]\n",
            "  0%|          | 0/94 [00:00<?, ?it/s]\n",
            "Epoch [27/200]: 100%|██████████| 110/110 [00:00<00:00, 160.32it/s]\n",
            "  0%|          | 0/110 [00:00<?, ?it/s]\n",
            "\n",
            "\n",
            "  0%|          | 0/94 [00:00<?, ?it/s]\n",
            "Epoch [28/200]: 100%|██████████| 110/110 [00:00<00:00, 161.31it/s]\n",
            "  0%|          | 0/110 [00:00<?, ?it/s]\n",
            "  0%|          | 0/94 [00:00<?, ?it/s]\n",
            "Epoch [29/200]: 100%|██████████| 110/110 [00:00<00:00, 165.69it/s]\n",
            "  0%|          | 0/110 [00:00<?, ?it/s]\n",
            "\n",
            "\n",
            "  0%|          | 0/94 [00:00<?, ?it/s]\n",
            "Epoch [30/200]: 100%|██████████| 110/110 [00:00<00:00, 176.91it/s]\n",
            "  0%|          | 0/110 [00:00<?, ?it/s]\n",
            "  0%|          | 0/94 [00:00<?, ?it/s]\n",
            "Epoch [31/200]: 100%|██████████| 110/110 [00:00<00:00, 177.01it/s]\n",
            "  0%|          | 0/110 [00:00<?, ?it/s]\n",
            "\n",
            "\n",
            "  0%|          | 0/94 [00:00<?, ?it/s]\n",
            "Epoch [32/200]: 100%|██████████| 110/110 [00:00<00:00, 169.55it/s]\n",
            "  0%|          | 0/110 [00:00<?, ?it/s]\n",
            "  0%|          | 0/94 [00:00<?, ?it/s]\n",
            "Epoch [33/200]: 100%|██████████| 110/110 [00:00<00:00, 174.83it/s]\n",
            "  0%|          | 0/110 [00:00<?, ?it/s]\n",
            "\n",
            "\n",
            "  0%|          | 0/94 [00:00<?, ?it/s]\n",
            "Epoch [34/200]: 100%|██████████| 110/110 [00:00<00:00, 180.31it/s]\n",
            "  0%|          | 0/110 [00:00<?, ?it/s]\n",
            "  0%|          | 0/94 [00:00<?, ?it/s]\n",
            "Epoch [35/200]: 100%|██████████| 110/110 [00:00<00:00, 174.35it/s]\n",
            "  0%|          | 0/110 [00:00<?, ?it/s]\n",
            "\n",
            "\n",
            "  0%|          | 0/94 [00:00<?, ?it/s]\n",
            "Epoch [36/200]: 100%|██████████| 110/110 [00:00<00:00, 176.24it/s]\n",
            "  0%|          | 0/110 [00:00<?, ?it/s]\n",
            "  0%|          | 0/94 [00:00<?, ?it/s]\n",
            "Epoch [37/200]: 100%|██████████| 110/110 [00:00<00:00, 180.44it/s]\n",
            "  0%|          | 0/110 [00:00<?, ?it/s]\n",
            "\n",
            "\n",
            "  0%|          | 0/94 [00:00<?, ?it/s]\n",
            "Epoch [38/200]: 100%|██████████| 110/110 [00:00<00:00, 166.80it/s]\n",
            "  0%|          | 0/110 [00:00<?, ?it/s]\n",
            "  0%|          | 0/94 [00:00<?, ?it/s]\n",
            "Epoch [39/200]: 100%|██████████| 110/110 [00:00<00:00, 170.28it/s]\n",
            "  0%|          | 0/110 [00:00<?, ?it/s]\n",
            "\n",
            "\n",
            "  0%|          | 0/94 [00:00<?, ?it/s]\n",
            "Epoch [40/200]: 100%|██████████| 110/110 [00:00<00:00, 165.95it/s]\n",
            "  0%|          | 0/110 [00:00<?, ?it/s]\n",
            "  0%|          | 0/94 [00:00<?, ?it/s]\n",
            "Epoch [41/200]: 100%|██████████| 110/110 [00:00<00:00, 171.94it/s]\n",
            "  0%|          | 0/110 [00:00<?, ?it/s]\n",
            "\n",
            "\n",
            "  0%|          | 0/94 [00:00<?, ?it/s]\n",
            "Epoch [42/200]: 100%|██████████| 110/110 [00:00<00:00, 175.30it/s]\n",
            "  0%|          | 0/110 [00:00<?, ?it/s]\n",
            "  0%|          | 0/94 [00:00<?, ?it/s]\n",
            "Epoch [43/200]: 100%|██████████| 110/110 [00:00<00:00, 172.33it/s]\n",
            "  0%|          | 0/110 [00:00<?, ?it/s]\n",
            "\n",
            "\n",
            "  0%|          | 0/94 [00:00<?, ?it/s]\n",
            "Epoch [44/200]: 100%|██████████| 110/110 [00:00<00:00, 167.49it/s]\n",
            "  0%|          | 0/110 [00:00<?, ?it/s]\n",
            "  0%|          | 0/94 [00:00<?, ?it/s]\n",
            "Epoch [45/200]: 100%|██████████| 110/110 [00:00<00:00, 173.91it/s]\n",
            "  0%|          | 0/110 [00:00<?, ?it/s]\n",
            "\n",
            "\n",
            "  0%|          | 0/94 [00:00<?, ?it/s]\n",
            "Epoch [46/200]: 100%|██████████| 110/110 [00:00<00:00, 179.05it/s]\n",
            "  0%|          | 0/110 [00:00<?, ?it/s]\n",
            "  0%|          | 0/94 [00:00<?, ?it/s]\n",
            "Epoch [47/200]: 100%|██████████| 110/110 [00:00<00:00, 174.92it/s]\n",
            "  0%|          | 0/110 [00:00<?, ?it/s]\n",
            "\n",
            "\n",
            "  0%|          | 0/94 [00:00<?, ?it/s]\n",
            "Epoch [48/200]: 100%|██████████| 110/110 [00:00<00:00, 174.17it/s]\n",
            "  0%|          | 0/110 [00:00<?, ?it/s]\n",
            "  0%|          | 0/94 [00:00<?, ?it/s]\n",
            "Epoch [49/200]: 100%|██████████| 110/110 [00:00<00:00, 171.57it/s]\n",
            "  0%|          | 0/110 [00:00<?, ?it/s]\n",
            "\n",
            "\n",
            "  0%|          | 0/94 [00:00<?, ?it/s]\n",
            "Epoch [50/200]: 100%|██████████| 110/110 [00:00<00:00, 166.86it/s]\n",
            "  0%|          | 0/110 [00:00<?, ?it/s]\n",
            "  0%|          | 0/94 [00:00<?, ?it/s]\n",
            "Epoch [51/200]: 100%|██████████| 110/110 [00:00<00:00, 171.10it/s]\n",
            "  0%|          | 0/110 [00:00<?, ?it/s]\n",
            "\n",
            "\n",
            "  0%|          | 0/94 [00:00<?, ?it/s]\n",
            "Epoch [52/200]: 100%|██████████| 110/110 [00:00<00:00, 176.87it/s]\n",
            "  0%|          | 0/110 [00:00<?, ?it/s]\n",
            "  0%|          | 0/94 [00:00<?, ?it/s]\n",
            "Epoch [53/200]: 100%|██████████| 110/110 [00:00<00:00, 164.12it/s]\n",
            "  0%|          | 0/110 [00:00<?, ?it/s]\n",
            "\n",
            "\n",
            "  0%|          | 0/94 [00:00<?, ?it/s]\n",
            "Epoch [54/200]: 100%|██████████| 110/110 [00:00<00:00, 176.50it/s]\n",
            "  0%|          | 0/110 [00:00<?, ?it/s]\n",
            "  0%|          | 0/94 [00:00<?, ?it/s]\n",
            "Epoch [55/200]: 100%|██████████| 110/110 [00:00<00:00, 174.17it/s]\n",
            "  0%|          | 0/110 [00:00<?, ?it/s]\n",
            "\n",
            "\n",
            "  0%|          | 0/94 [00:00<?, ?it/s]\n",
            "Epoch [56/200]: 100%|██████████| 110/110 [00:00<00:00, 178.57it/s]\n",
            "  0%|          | 0/110 [00:00<?, ?it/s]\n",
            "  0%|          | 0/94 [00:00<?, ?it/s]\n",
            "Epoch [57/200]: 100%|██████████| 110/110 [00:00<00:00, 180.09it/s]\n",
            "  0%|          | 0/110 [00:00<?, ?it/s]\n",
            "\n",
            "\n",
            "  0%|          | 0/94 [00:00<?, ?it/s]\n",
            "Epoch [58/200]: 100%|██████████| 110/110 [00:00<00:00, 183.66it/s]\n",
            "  0%|          | 0/110 [00:00<?, ?it/s]\n",
            "  0%|          | 0/94 [00:00<?, ?it/s]\n",
            "Epoch [59/200]: 100%|██████████| 110/110 [00:00<00:00, 171.14it/s]\n",
            "  0%|          | 0/110 [00:00<?, ?it/s]\n",
            "\n",
            "\n",
            "  0%|          | 0/94 [00:00<?, ?it/s]\n",
            "Epoch [60/200]: 100%|██████████| 110/110 [00:00<00:00, 175.50it/s]\n",
            "  0%|          | 0/110 [00:00<?, ?it/s]\n",
            "  0%|          | 0/94 [00:00<?, ?it/s]\n",
            "Epoch [61/200]: 100%|██████████| 110/110 [00:00<00:00, 180.27it/s]\n",
            "  0%|          | 0/110 [00:00<?, ?it/s]\n",
            "\n",
            "\n",
            "  0%|          | 0/94 [00:00<?, ?it/s]\n",
            "Epoch [62/200]: 100%|██████████| 110/110 [00:00<00:00, 170.56it/s]\n",
            "  0%|          | 0/110 [00:00<?, ?it/s]\n",
            "  0%|          | 0/94 [00:00<?, ?it/s]\n",
            "Epoch [63/200]: 100%|██████████| 110/110 [00:00<00:00, 162.82it/s]\n",
            "  0%|          | 0/110 [00:00<?, ?it/s]\n",
            "\n",
            "\n",
            "  0%|          | 0/94 [00:00<?, ?it/s]\n",
            "Epoch [64/200]: 100%|██████████| 110/110 [00:00<00:00, 154.50it/s]\n",
            "  0%|          | 0/110 [00:00<?, ?it/s]\n",
            "  0%|          | 0/94 [00:00<?, ?it/s]\n",
            "Epoch [65/200]: 100%|██████████| 110/110 [00:00<00:00, 157.26it/s]\n",
            "  0%|          | 0/110 [00:00<?, ?it/s]\n",
            "\n",
            "\n",
            "  0%|          | 0/94 [00:00<?, ?it/s]\n",
            "Epoch [66/200]: 100%|██████████| 110/110 [00:00<00:00, 168.10it/s]\n",
            "  0%|          | 0/110 [00:00<?, ?it/s]\n",
            "  0%|          | 0/94 [00:00<?, ?it/s]\n",
            "Epoch [67/200]: 100%|██████████| 110/110 [00:00<00:00, 166.17it/s]\n",
            "  0%|          | 0/110 [00:00<?, ?it/s]\n",
            "\n",
            "\n",
            "  0%|          | 0/94 [00:00<?, ?it/s]\n",
            "Epoch [68/200]: 100%|██████████| 110/110 [00:00<00:00, 152.39it/s]\n",
            "  0%|          | 0/110 [00:00<?, ?it/s]\n",
            "  0%|          | 0/94 [00:00<?, ?it/s]\n",
            "Epoch [69/200]: 100%|██████████| 110/110 [00:00<00:00, 174.18it/s]\n",
            "  0%|          | 0/110 [00:00<?, ?it/s]\n",
            "\n",
            "\n",
            "  0%|          | 0/94 [00:00<?, ?it/s]\n",
            "Epoch [70/200]: 100%|██████████| 110/110 [00:00<00:00, 174.70it/s]\n",
            "  0%|          | 0/110 [00:00<?, ?it/s]\n",
            "  0%|          | 0/94 [00:00<?, ?it/s]\n",
            "Epoch [71/200]: 100%|██████████| 110/110 [00:00<00:00, 160.65it/s]\n",
            "  0%|          | 0/110 [00:00<?, ?it/s]\n",
            "\n",
            "\n",
            "  0%|          | 0/94 [00:00<?, ?it/s]\n",
            "Epoch [72/200]: 100%|██████████| 110/110 [00:00<00:00, 177.11it/s]\n",
            "  0%|          | 0/110 [00:00<?, ?it/s]\n",
            "  0%|          | 0/94 [00:00<?, ?it/s]\n",
            "Epoch [73/200]: 100%|██████████| 110/110 [00:00<00:00, 164.92it/s]\n",
            "  0%|          | 0/110 [00:00<?, ?it/s]\n",
            "\n",
            "\n",
            "  0%|          | 0/94 [00:00<?, ?it/s]\n",
            "Epoch [74/200]: 100%|██████████| 110/110 [00:00<00:00, 171.01it/s]\n",
            "  0%|          | 0/110 [00:00<?, ?it/s]\n",
            "  0%|          | 0/94 [00:00<?, ?it/s]\n",
            "Epoch [75/200]: 100%|██████████| 110/110 [00:00<00:00, 182.86it/s]\n",
            "  0%|          | 0/110 [00:00<?, ?it/s]\n",
            "\n",
            "\n",
            "  0%|          | 0/94 [00:00<?, ?it/s]\n",
            "Epoch [76/200]: 100%|██████████| 110/110 [00:00<00:00, 186.34it/s]\n",
            "  0%|          | 0/110 [00:00<?, ?it/s]\n",
            "  0%|          | 0/94 [00:00<?, ?it/s]\n",
            "Epoch [77/200]: 100%|██████████| 110/110 [00:00<00:00, 162.84it/s]\n",
            "  0%|          | 0/110 [00:00<?, ?it/s]\n",
            "\n",
            "\n",
            "  0%|          | 0/94 [00:00<?, ?it/s]\n",
            "Epoch [78/200]: 100%|██████████| 110/110 [00:00<00:00, 167.46it/s]\n",
            "  0%|          | 0/110 [00:00<?, ?it/s]\n",
            "  0%|          | 0/94 [00:00<?, ?it/s]\n",
            "Epoch [79/200]: 100%|██████████| 110/110 [00:00<00:00, 171.90it/s]\n",
            "  0%|          | 0/110 [00:00<?, ?it/s]\n",
            "\n",
            "\n",
            "  0%|          | 0/94 [00:00<?, ?it/s]\n",
            "Epoch [80/200]: 100%|██████████| 110/110 [00:00<00:00, 170.73it/s]\n",
            "  0%|          | 0/110 [00:00<?, ?it/s]\n",
            "  0%|          | 0/94 [00:00<?, ?it/s]\n",
            "Epoch [81/200]: 100%|██████████| 110/110 [00:00<00:00, 165.98it/s]\n",
            "  0%|          | 0/110 [00:00<?, ?it/s]\n",
            "\n",
            "\n",
            "  0%|          | 0/94 [00:00<?, ?it/s]\n",
            "Epoch [82/200]: 100%|██████████| 110/110 [00:00<00:00, 164.31it/s]\n",
            "  0%|          | 0/110 [00:00<?, ?it/s]\n",
            "  0%|          | 0/94 [00:00<?, ?it/s]\n",
            "Epoch [83/200]: 100%|██████████| 110/110 [00:00<00:00, 166.49it/s]\n",
            "  0%|          | 0/110 [00:00<?, ?it/s]\n",
            "\n",
            "\n",
            "  0%|          | 0/94 [00:00<?, ?it/s]\n",
            "Epoch [84/200]: 100%|██████████| 110/110 [00:00<00:00, 161.34it/s]\n",
            "  0%|          | 0/110 [00:00<?, ?it/s]\n",
            "  0%|          | 0/94 [00:00<?, ?it/s]\n",
            "Epoch [85/200]: 100%|██████████| 110/110 [00:00<00:00, 173.22it/s]\n",
            "  0%|          | 0/110 [00:00<?, ?it/s]\n",
            "\n",
            "\n",
            "  0%|          | 0/94 [00:00<?, ?it/s]\n",
            "Epoch [86/200]: 100%|██████████| 110/110 [00:00<00:00, 182.15it/s]\n",
            "  0%|          | 0/110 [00:00<?, ?it/s]\n",
            "  0%|          | 0/94 [00:00<?, ?it/s]\n",
            "Epoch [87/200]: 100%|██████████| 110/110 [00:00<00:00, 162.50it/s]\n",
            "  0%|          | 0/110 [00:00<?, ?it/s]\n",
            "\n",
            "\n",
            "  0%|          | 0/94 [00:00<?, ?it/s]\n",
            "Epoch [88/200]: 100%|██████████| 110/110 [00:00<00:00, 183.97it/s]\n",
            "  0%|          | 0/110 [00:00<?, ?it/s]\n",
            "  0%|          | 0/94 [00:00<?, ?it/s]\n",
            "Epoch [89/200]: 100%|██████████| 110/110 [00:00<00:00, 194.27it/s]\n",
            "  0%|          | 0/110 [00:00<?, ?it/s]\n",
            "\n",
            "\n",
            "  0%|          | 0/94 [00:00<?, ?it/s]\n",
            "Epoch [90/200]: 100%|██████████| 110/110 [00:00<00:00, 169.00it/s]\n",
            "  0%|          | 0/110 [00:00<?, ?it/s]\n",
            "  0%|          | 0/94 [00:00<?, ?it/s]\n",
            "Epoch [91/200]: 100%|██████████| 110/110 [00:00<00:00, 168.47it/s]\n",
            "  0%|          | 0/110 [00:00<?, ?it/s]\n",
            "\n",
            "\n",
            "  0%|          | 0/94 [00:00<?, ?it/s]\n",
            "Epoch [92/200]: 100%|██████████| 110/110 [00:00<00:00, 163.41it/s]\n",
            "  0%|          | 0/110 [00:00<?, ?it/s]\n",
            "  0%|          | 0/94 [00:00<?, ?it/s]\n",
            "Epoch [93/200]: 100%|██████████| 110/110 [00:00<00:00, 166.36it/s]\n",
            "  0%|          | 0/110 [00:00<?, ?it/s]\n",
            "\n",
            "\n",
            "  0%|          | 0/94 [00:00<?, ?it/s]\n",
            "Epoch [94/200]: 100%|██████████| 110/110 [00:00<00:00, 172.31it/s]\n",
            "  0%|          | 0/110 [00:00<?, ?it/s]\n",
            "  0%|          | 0/94 [00:00<?, ?it/s]\n",
            "Epoch [95/200]: 100%|██████████| 110/110 [00:00<00:00, 170.59it/s]\n",
            "  0%|          | 0/110 [00:00<?, ?it/s]\n",
            "\n",
            "\n",
            "  0%|          | 0/94 [00:00<?, ?it/s]\n",
            "Epoch [96/200]: 100%|██████████| 110/110 [00:00<00:00, 175.22it/s]\n",
            "  0%|          | 0/110 [00:00<?, ?it/s]\n",
            "  0%|          | 0/94 [00:00<?, ?it/s]\n",
            "Epoch [97/200]: 100%|██████████| 110/110 [00:00<00:00, 171.92it/s]\n",
            "  0%|          | 0/110 [00:00<?, ?it/s]\n",
            "\n",
            "\n",
            "  0%|          | 0/94 [00:00<?, ?it/s]\n",
            "Epoch [98/200]: 100%|██████████| 110/110 [00:00<00:00, 161.62it/s]\n",
            "  0%|          | 0/110 [00:00<?, ?it/s]\n",
            "  0%|          | 0/94 [00:00<?, ?it/s]\n",
            "Epoch [99/200]: 100%|██████████| 110/110 [00:00<00:00, 166.41it/s]\n",
            "  0%|          | 0/110 [00:00<?, ?it/s]\n",
            "\n",
            "\n",
            "  0%|          | 0/94 [00:00<?, ?it/s]\n",
            "Epoch [100/200]: 100%|██████████| 110/110 [00:00<00:00, 164.29it/s]\n",
            "  0%|          | 0/110 [00:00<?, ?it/s]\n",
            "  0%|          | 0/94 [00:00<?, ?it/s]\n",
            "Epoch [101/200]: 100%|██████████| 110/110 [00:00<00:00, 168.06it/s]\n",
            "  0%|          | 0/110 [00:00<?, ?it/s]\n",
            "\n",
            "\n",
            "  0%|          | 0/94 [00:00<?, ?it/s]\n",
            "Epoch [102/200]: 100%|██████████| 110/110 [00:00<00:00, 177.46it/s]\n",
            "  0%|          | 0/110 [00:00<?, ?it/s]\n",
            "  0%|          | 0/94 [00:00<?, ?it/s]\n",
            "Epoch [103/200]: 100%|██████████| 110/110 [00:00<00:00, 165.53it/s]\n",
            "  0%|          | 0/110 [00:00<?, ?it/s]\n",
            "\n",
            "\n",
            "  0%|          | 0/94 [00:00<?, ?it/s]\n",
            "Epoch [104/200]: 100%|██████████| 110/110 [00:00<00:00, 171.22it/s]\n",
            "  0%|          | 0/110 [00:00<?, ?it/s]\n",
            "  0%|          | 0/94 [00:00<?, ?it/s]\n",
            "Epoch [105/200]: 100%|██████████| 110/110 [00:00<00:00, 181.95it/s]\n",
            "  0%|          | 0/110 [00:00<?, ?it/s]\n",
            "\n",
            "\n",
            "  0%|          | 0/94 [00:00<?, ?it/s]\n",
            "Epoch [106/200]: 100%|██████████| 110/110 [00:00<00:00, 164.73it/s]\n",
            "  0%|          | 0/110 [00:00<?, ?it/s]\n",
            "  0%|          | 0/94 [00:00<?, ?it/s]\n",
            "Epoch [107/200]: 100%|██████████| 110/110 [00:00<00:00, 170.00it/s]\n",
            "  0%|          | 0/110 [00:00<?, ?it/s]\n",
            "\n",
            "\n",
            "  0%|          | 0/94 [00:00<?, ?it/s]\n",
            "Epoch [108/200]: 100%|██████████| 110/110 [00:00<00:00, 181.83it/s]\n",
            "  0%|          | 0/110 [00:00<?, ?it/s]\n",
            "  0%|          | 0/94 [00:00<?, ?it/s]\n",
            "Epoch [109/200]: 100%|██████████| 110/110 [00:00<00:00, 187.42it/s]\n",
            "  0%|          | 0/110 [00:00<?, ?it/s]\n",
            "\n",
            "\n",
            "  0%|          | 0/94 [00:00<?, ?it/s]\n",
            "Epoch [110/200]: 100%|██████████| 110/110 [00:00<00:00, 188.27it/s]\n",
            "  0%|          | 0/110 [00:00<?, ?it/s]\n",
            "  0%|          | 0/94 [00:00<?, ?it/s]\n",
            "Epoch [111/200]: 100%|██████████| 110/110 [00:00<00:00, 178.37it/s]\n",
            "  0%|          | 0/110 [00:00<?, ?it/s]\n",
            "\n",
            "\n",
            "  0%|          | 0/94 [00:00<?, ?it/s]\n",
            "Epoch [112/200]: 100%|██████████| 110/110 [00:00<00:00, 175.74it/s]\n",
            "  0%|          | 0/110 [00:00<?, ?it/s]\n",
            "  0%|          | 0/94 [00:00<?, ?it/s]\n",
            "Epoch [113/200]: 100%|██████████| 110/110 [00:00<00:00, 166.75it/s]\n",
            "  0%|          | 0/110 [00:00<?, ?it/s]\n",
            "\n",
            "\n",
            "  0%|          | 0/94 [00:00<?, ?it/s]\n",
            "Epoch [114/200]: 100%|██████████| 110/110 [00:00<00:00, 150.40it/s]\n",
            "  0%|          | 0/110 [00:00<?, ?it/s]\n",
            "  0%|          | 0/94 [00:00<?, ?it/s]\n",
            "Epoch [115/200]: 100%|██████████| 110/110 [00:00<00:00, 156.07it/s]\n",
            "  0%|          | 0/110 [00:00<?, ?it/s]\n",
            "\n",
            "\n",
            "  0%|          | 0/94 [00:00<?, ?it/s]\n",
            "Epoch [116/200]: 100%|██████████| 110/110 [00:00<00:00, 167.19it/s]\n",
            "  0%|          | 0/110 [00:00<?, ?it/s]\n",
            "  0%|          | 0/94 [00:00<?, ?it/s]\n",
            "Epoch [117/200]: 100%|██████████| 110/110 [00:00<00:00, 170.10it/s]\n",
            "  0%|          | 0/110 [00:00<?, ?it/s]\n",
            "\n",
            "\n",
            "  0%|          | 0/94 [00:00<?, ?it/s]\n",
            "Epoch [118/200]: 100%|██████████| 110/110 [00:00<00:00, 169.81it/s]\n",
            "  0%|          | 0/110 [00:00<?, ?it/s]\n",
            "  0%|          | 0/94 [00:00<?, ?it/s]\n",
            "Epoch [119/200]: 100%|██████████| 110/110 [00:00<00:00, 171.40it/s]\n",
            "  0%|          | 0/110 [00:00<?, ?it/s]\n",
            "\n",
            "\n",
            "  0%|          | 0/94 [00:00<?, ?it/s]\n",
            "Epoch [120/200]: 100%|██████████| 110/110 [00:00<00:00, 168.12it/s]\n",
            "  0%|          | 0/110 [00:00<?, ?it/s]\n",
            "  0%|          | 0/94 [00:00<?, ?it/s]\n",
            "Epoch [121/200]: 100%|██████████| 110/110 [00:00<00:00, 177.86it/s]\n",
            "  0%|          | 0/110 [00:00<?, ?it/s]\n",
            "\n",
            "\n",
            "  0%|          | 0/94 [00:00<?, ?it/s]\n",
            "Epoch [122/200]: 100%|██████████| 110/110 [00:00<00:00, 184.30it/s]\n",
            "  0%|          | 0/110 [00:00<?, ?it/s]\n",
            "  0%|          | 0/94 [00:00<?, ?it/s]\n",
            "Epoch [123/200]: 100%|██████████| 110/110 [00:00<00:00, 181.16it/s]\n",
            "  0%|          | 0/110 [00:00<?, ?it/s]\n",
            "\n",
            "\n",
            "  0%|          | 0/94 [00:00<?, ?it/s]\n",
            "Epoch [124/200]: 100%|██████████| 110/110 [00:00<00:00, 192.03it/s]\n",
            "  0%|          | 0/110 [00:00<?, ?it/s]\n",
            "  0%|          | 0/94 [00:00<?, ?it/s]\n",
            "Epoch [125/200]: 100%|██████████| 110/110 [00:00<00:00, 179.50it/s]\n",
            "  0%|          | 0/110 [00:00<?, ?it/s]\n",
            "\n",
            "\n",
            "  0%|          | 0/94 [00:00<?, ?it/s]\n",
            "Epoch [126/200]: 100%|██████████| 110/110 [00:00<00:00, 178.37it/s]\n",
            "  0%|          | 0/110 [00:00<?, ?it/s]\n",
            "  0%|          | 0/94 [00:00<?, ?it/s]\n",
            "Epoch [127/200]: 100%|██████████| 110/110 [00:00<00:00, 188.24it/s]\n",
            "  0%|          | 0/110 [00:00<?, ?it/s]\n",
            "\n",
            "\n",
            "  0%|          | 0/94 [00:00<?, ?it/s]\n",
            "Epoch [128/200]: 100%|██████████| 110/110 [00:00<00:00, 182.95it/s]\n",
            "  0%|          | 0/110 [00:00<?, ?it/s]\n",
            "  0%|          | 0/94 [00:00<?, ?it/s]\n",
            "Epoch [129/200]: 100%|██████████| 110/110 [00:00<00:00, 183.94it/s]\n",
            "  0%|          | 0/110 [00:00<?, ?it/s]\n",
            "\n",
            "\n",
            "  0%|          | 0/94 [00:00<?, ?it/s]\n",
            "Epoch [130/200]: 100%|██████████| 110/110 [00:00<00:00, 175.64it/s]\n",
            "  0%|          | 0/110 [00:00<?, ?it/s]\n",
            "  0%|          | 0/94 [00:00<?, ?it/s]\n",
            "Epoch [131/200]: 100%|██████████| 110/110 [00:00<00:00, 183.92it/s]\n",
            "  0%|          | 0/110 [00:00<?, ?it/s]\n",
            "\n",
            "\n",
            "  0%|          | 0/94 [00:00<?, ?it/s]\n",
            "Epoch [132/200]: 100%|██████████| 110/110 [00:00<00:00, 157.25it/s]\n",
            "  0%|          | 0/110 [00:00<?, ?it/s]\n",
            "  0%|          | 0/94 [00:00<?, ?it/s]\n",
            "Epoch [133/200]: 100%|██████████| 110/110 [00:00<00:00, 160.65it/s]\n",
            "  0%|          | 0/110 [00:00<?, ?it/s]\n",
            "\n",
            "\n",
            "  0%|          | 0/94 [00:00<?, ?it/s]\n",
            "Epoch [134/200]: 100%|██████████| 110/110 [00:00<00:00, 174.55it/s]\n",
            "  0%|          | 0/110 [00:00<?, ?it/s]\n",
            "  0%|          | 0/94 [00:00<?, ?it/s]\n",
            "Epoch [135/200]: 100%|██████████| 110/110 [00:00<00:00, 162.18it/s]\n",
            "  0%|          | 0/110 [00:00<?, ?it/s]\n",
            "\n",
            "\n",
            "  0%|          | 0/94 [00:00<?, ?it/s]\n",
            "Epoch [136/200]: 100%|██████████| 110/110 [00:00<00:00, 156.18it/s]\n",
            "  0%|          | 0/110 [00:00<?, ?it/s]\n",
            "  0%|          | 0/94 [00:00<?, ?it/s]\n",
            "Epoch [137/200]: 100%|██████████| 110/110 [00:00<00:00, 159.97it/s]\n",
            "  0%|          | 0/110 [00:00<?, ?it/s]\n",
            "\n",
            "\n",
            "  0%|          | 0/94 [00:00<?, ?it/s]\n",
            "Epoch [138/200]: 100%|██████████| 110/110 [00:00<00:00, 156.70it/s]\n",
            "  0%|          | 0/110 [00:00<?, ?it/s]\n",
            "  0%|          | 0/94 [00:00<?, ?it/s]\n",
            "Epoch [139/200]: 100%|██████████| 110/110 [00:00<00:00, 175.04it/s]\n",
            "  0%|          | 0/110 [00:00<?, ?it/s]\n",
            "\n",
            "\n",
            "  0%|          | 0/94 [00:00<?, ?it/s]\n",
            "Epoch [140/200]: 100%|██████████| 110/110 [00:00<00:00, 170.70it/s]\n",
            "  0%|          | 0/110 [00:00<?, ?it/s]\n",
            "  0%|          | 0/94 [00:00<?, ?it/s]\n",
            "Epoch [141/200]: 100%|██████████| 110/110 [00:00<00:00, 169.56it/s]\n",
            "  0%|          | 0/110 [00:00<?, ?it/s]\n",
            "\n",
            "\n",
            "  0%|          | 0/94 [00:00<?, ?it/s]\n",
            "Epoch [142/200]: 100%|██████████| 110/110 [00:00<00:00, 164.10it/s]\n",
            "  0%|          | 0/110 [00:00<?, ?it/s]\n",
            "  0%|          | 0/94 [00:00<?, ?it/s]\n",
            "Epoch [143/200]: 100%|██████████| 110/110 [00:00<00:00, 167.50it/s]\n",
            "  0%|          | 0/110 [00:00<?, ?it/s]\n",
            "\n",
            "\n",
            "  0%|          | 0/94 [00:00<?, ?it/s]\n",
            "Epoch [144/200]: 100%|██████████| 110/110 [00:00<00:00, 157.00it/s]\n",
            "  0%|          | 0/110 [00:00<?, ?it/s]\n",
            "  0%|          | 0/94 [00:00<?, ?it/s]\n",
            "Epoch [145/200]: 100%|██████████| 110/110 [00:00<00:00, 158.69it/s]\n",
            "  0%|          | 0/110 [00:00<?, ?it/s]\n",
            "\n",
            "\n",
            "  0%|          | 0/94 [00:00<?, ?it/s]\n",
            "Epoch [146/200]: 100%|██████████| 110/110 [00:00<00:00, 167.46it/s]\n",
            "  0%|          | 0/110 [00:00<?, ?it/s]\n",
            "  0%|          | 0/94 [00:00<?, ?it/s]\n",
            "Epoch [147/200]: 100%|██████████| 110/110 [00:00<00:00, 179.12it/s]\n",
            "  0%|          | 0/110 [00:00<?, ?it/s]\n",
            "\n",
            "\n",
            "  0%|          | 0/94 [00:00<?, ?it/s]\n",
            "Epoch [148/200]: 100%|██████████| 110/110 [00:00<00:00, 173.24it/s]\n",
            "  0%|          | 0/110 [00:00<?, ?it/s]\n",
            "  0%|          | 0/94 [00:00<?, ?it/s]\n",
            "Epoch [149/200]: 100%|██████████| 110/110 [00:00<00:00, 164.75it/s]\n",
            "  0%|          | 0/110 [00:00<?, ?it/s]\n",
            "\n",
            "\n",
            "  0%|          | 0/94 [00:00<?, ?it/s]\n",
            "Epoch [150/200]: 100%|██████████| 110/110 [00:00<00:00, 165.54it/s]\n",
            "  0%|          | 0/110 [00:00<?, ?it/s]\n",
            "  0%|          | 0/94 [00:00<?, ?it/s]\n",
            "Epoch [151/200]: 100%|██████████| 110/110 [00:00<00:00, 164.95it/s]\n",
            "  0%|          | 0/110 [00:00<?, ?it/s]\n",
            "\n",
            "\n",
            "  0%|          | 0/94 [00:00<?, ?it/s]\n",
            "Epoch [152/200]: 100%|██████████| 110/110 [00:00<00:00, 151.65it/s]\n",
            "  0%|          | 0/110 [00:00<?, ?it/s]\n",
            "  0%|          | 0/94 [00:00<?, ?it/s]\n",
            "Epoch [153/200]: 100%|██████████| 110/110 [00:00<00:00, 180.56it/s]\n",
            "  0%|          | 0/110 [00:00<?, ?it/s]\n",
            "\n",
            "\n",
            "  0%|          | 0/94 [00:00<?, ?it/s]\n",
            "Epoch [154/200]: 100%|██████████| 110/110 [00:00<00:00, 149.02it/s]\n",
            "  0%|          | 0/110 [00:00<?, ?it/s]\n",
            "  0%|          | 0/94 [00:00<?, ?it/s]\n",
            "Epoch [155/200]: 100%|██████████| 110/110 [00:00<00:00, 164.05it/s]\n",
            "  0%|          | 0/110 [00:00<?, ?it/s]\n",
            "\n",
            "\n",
            "  0%|          | 0/94 [00:00<?, ?it/s]\n",
            "Epoch [156/200]: 100%|██████████| 110/110 [00:00<00:00, 150.10it/s]\n",
            "  0%|          | 0/110 [00:00<?, ?it/s]\n",
            "  0%|          | 0/94 [00:00<?, ?it/s]\n",
            "Epoch [157/200]: 100%|██████████| 110/110 [00:00<00:00, 170.13it/s]\n",
            "  0%|          | 0/110 [00:00<?, ?it/s]\n",
            "\n",
            "\n",
            "  0%|          | 0/94 [00:00<?, ?it/s]\n",
            "Epoch [158/200]: 100%|██████████| 110/110 [00:00<00:00, 170.56it/s]\n",
            "  0%|          | 0/110 [00:00<?, ?it/s]\n",
            "  0%|          | 0/94 [00:00<?, ?it/s]\n",
            "Epoch [159/200]: 100%|██████████| 110/110 [00:00<00:00, 160.19it/s]\n",
            "  0%|          | 0/110 [00:00<?, ?it/s]\n",
            "\n",
            "\n",
            "  0%|          | 0/94 [00:00<?, ?it/s]\n",
            "Epoch [160/200]: 100%|██████████| 110/110 [00:00<00:00, 169.19it/s]\n",
            "  0%|          | 0/110 [00:00<?, ?it/s]\n",
            "  0%|          | 0/94 [00:00<?, ?it/s]\n",
            "Epoch [161/200]: 100%|██████████| 110/110 [00:00<00:00, 175.06it/s]\n",
            "  0%|          | 0/110 [00:00<?, ?it/s]\n",
            "\n",
            "\n",
            "  0%|          | 0/94 [00:00<?, ?it/s]\n",
            "Epoch [162/200]: 100%|██████████| 110/110 [00:00<00:00, 175.07it/s]\n",
            "  0%|          | 0/110 [00:00<?, ?it/s]\n",
            "  0%|          | 0/94 [00:00<?, ?it/s]\n",
            "Epoch [163/200]: 100%|██████████| 110/110 [00:00<00:00, 168.86it/s]\n",
            "  0%|          | 0/110 [00:00<?, ?it/s]\n",
            "\n",
            "\n",
            "  0%|          | 0/94 [00:00<?, ?it/s]\n",
            "Epoch [164/200]: 100%|██████████| 110/110 [00:00<00:00, 174.61it/s]\n",
            "  0%|          | 0/110 [00:00<?, ?it/s]\n",
            "  0%|          | 0/94 [00:00<?, ?it/s]\n",
            "Epoch [165/200]: 100%|██████████| 110/110 [00:00<00:00, 160.37it/s]\n",
            "  0%|          | 0/110 [00:00<?, ?it/s]\n",
            "\n",
            "\n",
            "  0%|          | 0/94 [00:00<?, ?it/s]\n",
            "Epoch [166/200]: 100%|██████████| 110/110 [00:00<00:00, 158.84it/s]\n",
            "  0%|          | 0/110 [00:00<?, ?it/s]\n",
            "  0%|          | 0/94 [00:00<?, ?it/s]\n",
            "Epoch [167/200]: 100%|██████████| 110/110 [00:00<00:00, 170.34it/s]\n",
            "  0%|          | 0/110 [00:00<?, ?it/s]\n",
            "\n",
            "\n",
            "  0%|          | 0/94 [00:00<?, ?it/s]\n",
            "Epoch [168/200]: 100%|██████████| 110/110 [00:00<00:00, 173.99it/s]\n",
            "  0%|          | 0/110 [00:00<?, ?it/s]\n",
            "  0%|          | 0/94 [00:00<?, ?it/s]\n",
            "Epoch [169/200]: 100%|██████████| 110/110 [00:00<00:00, 175.54it/s]\n",
            "  0%|          | 0/110 [00:00<?, ?it/s]\n",
            "\n",
            "\n",
            "  0%|          | 0/94 [00:00<?, ?it/s]\n",
            "Epoch [170/200]: 100%|██████████| 110/110 [00:00<00:00, 164.18it/s]\n",
            "  0%|          | 0/110 [00:00<?, ?it/s]\n",
            "  0%|          | 0/94 [00:00<?, ?it/s]\n",
            "Epoch [171/200]: 100%|██████████| 110/110 [00:00<00:00, 151.11it/s]\n",
            "  0%|          | 0/110 [00:00<?, ?it/s]\n",
            "\n",
            "\n",
            "  0%|          | 0/94 [00:00<?, ?it/s]\n",
            "Epoch [172/200]: 100%|██████████| 110/110 [00:00<00:00, 160.86it/s]\n",
            "  0%|          | 0/110 [00:00<?, ?it/s]\n",
            "  0%|          | 0/94 [00:00<?, ?it/s]\n",
            "Epoch [173/200]: 100%|██████████| 110/110 [00:00<00:00, 154.39it/s]\n",
            "  0%|          | 0/110 [00:00<?, ?it/s]\n",
            "\n",
            "\n",
            "  0%|          | 0/94 [00:00<?, ?it/s]\n",
            "Epoch [174/200]: 100%|██████████| 110/110 [00:00<00:00, 157.15it/s]\n",
            "  0%|          | 0/110 [00:00<?, ?it/s]\n",
            "  0%|          | 0/94 [00:00<?, ?it/s]\n",
            "Epoch [175/200]: 100%|██████████| 110/110 [00:00<00:00, 172.44it/s]\n",
            "  0%|          | 0/110 [00:00<?, ?it/s]\n",
            "\n",
            "\n",
            "  0%|          | 0/94 [00:00<?, ?it/s]\n",
            "Epoch [176/200]: 100%|██████████| 110/110 [00:00<00:00, 181.05it/s]\n",
            "  0%|          | 0/110 [00:00<?, ?it/s]\n",
            "  0%|          | 0/94 [00:00<?, ?it/s]\n",
            "Epoch [177/200]: 100%|██████████| 110/110 [00:00<00:00, 161.38it/s]\n",
            "  0%|          | 0/110 [00:00<?, ?it/s]\n",
            "\n",
            "\n",
            "  0%|          | 0/94 [00:00<?, ?it/s]\n",
            "Epoch [178/200]: 100%|██████████| 110/110 [00:00<00:00, 177.94it/s]\n",
            "  0%|          | 0/110 [00:00<?, ?it/s]\n",
            "  0%|          | 0/94 [00:00<?, ?it/s]\n",
            "Epoch [179/200]: 100%|██████████| 110/110 [00:00<00:00, 171.54it/s]\n",
            "  0%|          | 0/110 [00:00<?, ?it/s]\n",
            "\n",
            "\n",
            "  0%|          | 0/94 [00:00<?, ?it/s]\n",
            "Epoch [180/200]: 100%|██████████| 110/110 [00:00<00:00, 173.16it/s]\n",
            "  0%|          | 0/110 [00:00<?, ?it/s]\n",
            "  0%|          | 0/94 [00:00<?, ?it/s]\n",
            "Epoch [181/200]: 100%|██████████| 110/110 [00:00<00:00, 180.71it/s]\n",
            "  0%|          | 0/110 [00:00<?, ?it/s]\n",
            "\n",
            "\n",
            "  0%|          | 0/94 [00:00<?, ?it/s]\n",
            "Epoch [182/200]: 100%|██████████| 110/110 [00:00<00:00, 181.30it/s]\n",
            "  0%|          | 0/110 [00:00<?, ?it/s]\n",
            "  0%|          | 0/94 [00:00<?, ?it/s]\n",
            "Epoch [183/200]: 100%|██████████| 110/110 [00:00<00:00, 159.77it/s]\n",
            "  0%|          | 0/110 [00:00<?, ?it/s]\n",
            "\n",
            "\n",
            "  0%|          | 0/94 [00:00<?, ?it/s]\n",
            "Epoch [184/200]: 100%|██████████| 110/110 [00:00<00:00, 166.40it/s]\n",
            "  0%|          | 0/110 [00:00<?, ?it/s]\n",
            "  0%|          | 0/94 [00:00<?, ?it/s]\n",
            "Epoch [185/200]: 100%|██████████| 110/110 [00:00<00:00, 173.72it/s]\n",
            "  0%|          | 0/110 [00:00<?, ?it/s]\n",
            "\n",
            "\n",
            "  0%|          | 0/94 [00:00<?, ?it/s]\n",
            "Epoch [186/200]: 100%|██████████| 110/110 [00:00<00:00, 183.61it/s]\n",
            "  0%|          | 0/110 [00:00<?, ?it/s]\n",
            "  0%|          | 0/94 [00:00<?, ?it/s]\n",
            "Epoch [187/200]: 100%|██████████| 110/110 [00:00<00:00, 178.39it/s]\n",
            "  0%|          | 0/110 [00:00<?, ?it/s]\n",
            "\n",
            "\n",
            "  0%|          | 0/94 [00:00<?, ?it/s]\n",
            "Epoch [188/200]: 100%|██████████| 110/110 [00:00<00:00, 180.14it/s]\n",
            "  0%|          | 0/110 [00:00<?, ?it/s]\n",
            "  0%|          | 0/94 [00:00<?, ?it/s]\n",
            "Epoch [189/200]: 100%|██████████| 110/110 [00:00<00:00, 180.84it/s]\n",
            "  0%|          | 0/110 [00:00<?, ?it/s]\n",
            "\n",
            "\n",
            "  0%|          | 0/94 [00:00<?, ?it/s]\n",
            "Epoch [190/200]: 100%|██████████| 110/110 [00:00<00:00, 174.73it/s]\n",
            "  0%|          | 0/110 [00:00<?, ?it/s]\n",
            "  0%|          | 0/94 [00:00<?, ?it/s]\n",
            "Epoch [191/200]: 100%|██████████| 110/110 [00:00<00:00, 168.50it/s]\n",
            "  0%|          | 0/110 [00:00<?, ?it/s]\n",
            "\n",
            "\n",
            "  0%|          | 0/94 [00:00<?, ?it/s]\n",
            "Epoch [192/200]: 100%|██████████| 110/110 [00:00<00:00, 182.34it/s]\n",
            "  0%|          | 0/110 [00:00<?, ?it/s]\n",
            "  0%|          | 0/94 [00:00<?, ?it/s]\n",
            "Epoch [193/200]: 100%|██████████| 110/110 [00:00<00:00, 180.82it/s]\n",
            "  0%|          | 0/110 [00:00<?, ?it/s]\n",
            "\n",
            "\n",
            "  0%|          | 0/94 [00:00<?, ?it/s]\n",
            "Epoch [194/200]: 100%|██████████| 110/110 [00:00<00:00, 190.67it/s]\n",
            "  0%|          | 0/110 [00:00<?, ?it/s]\n",
            "  0%|          | 0/94 [00:00<?, ?it/s]\n",
            "Epoch [195/200]: 100%|██████████| 110/110 [00:00<00:00, 176.25it/s]\n",
            "  0%|          | 0/110 [00:00<?, ?it/s]\n",
            "\n",
            "\n",
            "  0%|          | 0/94 [00:00<?, ?it/s]\n",
            "Epoch [196/200]: 100%|██████████| 110/110 [00:00<00:00, 179.11it/s]\n",
            "  0%|          | 0/110 [00:00<?, ?it/s]\n",
            "  0%|          | 0/94 [00:00<?, ?it/s]\n",
            "Epoch [197/200]: 100%|██████████| 110/110 [00:00<00:00, 168.04it/s]\n",
            "  0%|          | 0/110 [00:00<?, ?it/s]\n",
            "\n",
            "\n",
            "  0%|          | 0/94 [00:00<?, ?it/s]\n",
            "Epoch [198/200]: 100%|██████████| 110/110 [00:00<00:00, 176.89it/s]\n",
            "  0%|          | 0/110 [00:00<?, ?it/s]\n",
            "  0%|          | 0/94 [00:00<?, ?it/s]\n",
            "Epoch [199/200]: 100%|██████████| 110/110 [00:00<00:00, 169.19it/s]\n",
            "  0%|          | 0/110 [00:00<?, ?it/s]\n",
            "\n",
            "\n",
            "  0%|          | 0/94 [00:00<?, ?it/s]\n",
            "Epoch [200/200]: 100%|██████████| 110/110 [00:00<00:00, 183.79it/s]\n",
            "  0%|          | 0/94 [00:00<?, ?it/s]\n"
          ]
        }
      ],
      "source": [
        "np.random.seed(1)\n",
        "torch.manual_seed(1)\n",
        "\n",
        "train_loss,train_epoch_loss,val_loss,val_epoch_loss,train_acc,val_acc=train(net=ColorNet,loss_fn=criterion,dataloader_train=dataloader_train,\n",
        "                  dataloader_val=dataloader_test,epoch=200)\n",
        "\n",
        "\n"
      ],
      "id": "c5ddd06d"
    },
    {
      "cell_type": "code",
      "execution_count": 156,
      "metadata": {
        "id": "fk-6haR7G5-q",
        "colab": {
          "base_uri": "https://localhost:8080/",
          "height": 472
        },
        "outputId": "6cb6c36d-e61f-4f8d-b9b1-906293b801ba"
      },
      "outputs": [
        {
          "output_type": "display_data",
          "data": {
            "text/plain": [
              "<Figure size 640x480 with 1 Axes>"
            ],
            "image/png": "[encoded data removed]"
          },
          "metadata": {}
        }
      ],
      "source": [
        "plt.plot(train_epoch_loss, label = 'train loss')\n",
        "plt.plot(val_epoch_loss, label = 'validation loss')\n",
        "plt.xlabel('Epoch')\n",
        "plt.ylabel('Loss')\n",
        "plt.title('loss per epoch')\n",
        "plt.legend()\n",
        "plt.show()"
      ],
      "id": "fk-6haR7G5-q"
    },
    {
      "cell_type": "code",
      "source": [
        "plt.plot(train_acc, label = 'train acc')\n",
        "plt.plot(val_acc, label = 'validation acc')\n",
        "plt.xlabel('Epoch')\n",
        "plt.ylabel('Accuracy')\n",
        "plt.title('Accuracy per epoch')\n",
        "plt.legend()\n",
        "plt.show()"
      ],
      "metadata": {
        "id": "s9cEBXo1dJNj",
        "colab": {
          "base_uri": "https://localhost:8080/",
          "height": 472
        },
        "outputId": "711d907d-64a0-4395-9c75-0f69b6b19445"
      },
      "id": "s9cEBXo1dJNj",
      "execution_count": 157,
      "outputs": [
        {
          "output_type": "display_data",
          "data": {
            "text/plain": [
              "<Figure size 640x480 with 1 Axes>"
            ],
            "image/png": "[encoded data removed]"
          },
          "metadata": {}
        }
      ]
    },
    {
      "cell_type": "code",
      "source": [
        "test_loss = test(net=SalienceNet,loss_fn=criterion,dataloader_test=dataloader_test)"
      ],
      "metadata": {
        "id": "DaXL76FBu8aa"
      },
      "id": "DaXL76FBu8aa",
      "execution_count": null,
      "outputs": []
    },
    {
      "cell_type": "code",
      "execution_count": null,
      "metadata": {
        "id": "dtd4ymkVafCh"
      },
      "outputs": [],
      "source": [
        "plt.plot(test_loss)\n",
        "plt.xlabel('Iterations of gradient descent')\n",
        "plt.ylabel('Loss')\n",
        "plt.title('Loss for test data')\n",
        "plt.show()"
      ],
      "id": "dtd4ymkVafCh"
    }
  ],
  "metadata": {
    "accelerator": "GPU",
    "colab": {
      "provenance": [],
      "include_colab_link": true
    },
    "gpuClass": "standard",
    "kernelspec": {
      "display_name": "YOLO",
      "language": "python",
      "name": "yolo"
    },
    "language_info": {
      "codemirror_mode": {
        "name": "ipython",
        "version": 3
      },
      "file_extension": ".py",
      "mimetype": "text/x-python",
      "name": "python",
      "nbconvert_exporter": "python",
      "pygments_lexer": "ipython3",
      "version": "3.10.9"
    }
  },
  "nbformat": 4,
  "nbformat_minor": 5
}