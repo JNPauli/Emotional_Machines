{
 "cells": [
  {
   "cell_type": "markdown",
   "id": "f3485813",
   "metadata": {},
   "source": [
    "0. This notebook is the continuation to the preprocessing.ipynb notebook."
   ]
  },
  {
   "cell_type": "markdown",
   "id": "b60fcc27",
   "metadata": {},
   "source": [
    "1. Import all neccessary modules "
   ]
  },
  {
   "cell_type": "code",
   "execution_count": 331,
   "id": "73af1d9d",
   "metadata": {},
   "outputs": [],
   "source": [
    "import os\n",
    "import pandas as pd\n",
    "import numpy as np\n",
    "from sklearn.preprocessing import StandardScaler\n",
    "from sklearn.model_selection import train_test_split"
   ]
  },
  {
   "cell_type": "markdown",
   "id": "0bab0d03",
   "metadata": {},
   "source": [
    "2. Import X and y"
   ]
  },
  {
   "cell_type": "code",
   "execution_count": 330,
   "id": "0e61570a",
   "metadata": {},
   "outputs": [],
   "source": [
    "import torchvision\n",
    "from torchvision import transforms\n",
    "import torch\n",
    "from torch.utils.data import Dataset, DataLoader\n",
    "from PIL import Image"
   ]
  },
  {
   "cell_type": "code",
   "execution_count": 383,
   "id": "99428f03",
   "metadata": {},
   "outputs": [],
   "source": [
    "y = pd.read_csv('/mnt/c/Users/janos/OneDrive/Desktop/Master_thesis/Arousal.csv')"
   ]
  },
  {
   "cell_type": "code",
   "execution_count": 385,
   "id": "1bd70573",
   "metadata": {},
   "outputs": [],
   "source": [
    "y = y.iloc[:,[1]]"
   ]
  },
  {
   "cell_type": "code",
   "execution_count": 386,
   "id": "00af875b",
   "metadata": {},
   "outputs": [
    {
     "data": {
      "text/html": [
       "<div>\n",
       "<style scoped>\n",
       "    .dataframe tbody tr th:only-of-type {\n",
       "        vertical-align: middle;\n",
       "    }\n",
       "\n",
       "    .dataframe tbody tr th {\n",
       "        vertical-align: top;\n",
       "    }\n",
       "\n",
       "    .dataframe thead th {\n",
       "        text-align: right;\n",
       "    }\n",
       "</style>\n",
       "<table border=\"1\" class=\"dataframe\">\n",
       "  <thead>\n",
       "    <tr style=\"text-align: right;\">\n",
       "      <th></th>\n",
       "      <th>0</th>\n",
       "    </tr>\n",
       "  </thead>\n",
       "  <tbody>\n",
       "    <tr>\n",
       "      <th>0</th>\n",
       "      <td>5.0</td>\n",
       "    </tr>\n",
       "    <tr>\n",
       "      <th>1</th>\n",
       "      <td>6.0</td>\n",
       "    </tr>\n",
       "    <tr>\n",
       "      <th>2</th>\n",
       "      <td>7.0</td>\n",
       "    </tr>\n",
       "    <tr>\n",
       "      <th>3</th>\n",
       "      <td>8.0</td>\n",
       "    </tr>\n",
       "    <tr>\n",
       "      <th>4</th>\n",
       "      <td>7.0</td>\n",
       "    </tr>\n",
       "    <tr>\n",
       "      <th>...</th>\n",
       "      <td>...</td>\n",
       "    </tr>\n",
       "    <tr>\n",
       "      <th>14271</th>\n",
       "      <td>5.0</td>\n",
       "    </tr>\n",
       "    <tr>\n",
       "      <th>14272</th>\n",
       "      <td>8.0</td>\n",
       "    </tr>\n",
       "    <tr>\n",
       "      <th>14273</th>\n",
       "      <td>2.0</td>\n",
       "    </tr>\n",
       "    <tr>\n",
       "      <th>14274</th>\n",
       "      <td>6.0</td>\n",
       "    </tr>\n",
       "    <tr>\n",
       "      <th>14275</th>\n",
       "      <td>7.0</td>\n",
       "    </tr>\n",
       "  </tbody>\n",
       "</table>\n",
       "<p>14276 rows × 1 columns</p>\n",
       "</div>"
      ],
      "text/plain": [
       "         0\n",
       "0      5.0\n",
       "1      6.0\n",
       "2      7.0\n",
       "3      8.0\n",
       "4      7.0\n",
       "...    ...\n",
       "14271  5.0\n",
       "14272  8.0\n",
       "14273  2.0\n",
       "14274  6.0\n",
       "14275  7.0\n",
       "\n",
       "[14276 rows x 1 columns]"
      ]
     },
     "execution_count": 386,
     "metadata": {},
     "output_type": "execute_result"
    }
   ],
   "source": [
    "y"
   ]
  },
  {
   "cell_type": "code",
   "execution_count": 387,
   "id": "76877ed0",
   "metadata": {},
   "outputs": [],
   "source": [
    "y_100_rows = y[0:100]"
   ]
  },
  {
   "cell_type": "code",
   "execution_count": 391,
   "id": "79b31d55",
   "metadata": {},
   "outputs": [],
   "source": [
    "y_arr = y_100_rows.to_numpy()"
   ]
  },
  {
   "cell_type": "code",
   "execution_count": 5,
   "id": "f700efbc",
   "metadata": {},
   "outputs": [],
   "source": [
    "os.chdir('/mnt/c/Users/janos/OneDrive/Desktop/Master_thesis')"
   ]
  },
  {
   "cell_type": "markdown",
   "id": "fe82661d",
   "metadata": {},
   "source": [
    "NEW APPROACH:\n",
    "\n",
    "Fit CNN on X-Array. Problem: How to get RGB from array?\n",
    "**SOLVED**. See Cell below (\"GET RGBA VALUES FOR EACH HEATMAP\").\n",
    "\n",
    "RGB NOT NECCESSARY FOR CNN. STILL ADDING THIRD DIMENSION?"
   ]
  },
  {
   "cell_type": "markdown",
   "id": "ed33f5c8",
   "metadata": {},
   "source": [
    "1. Read first 10 rows from X."
   ]
  },
  {
   "cell_type": "code",
   "execution_count": 338,
   "id": "84561b39",
   "metadata": {},
   "outputs": [
    {
     "name": "stdout",
     "output_type": "stream",
     "text": [
      "Processed 1/10 chunks\n",
      "Processed 2/10 chunks\n",
      "Processed 3/10 chunks\n",
      "Processed 4/10 chunks\n",
      "Processed 5/10 chunks\n",
      "Processed 6/10 chunks\n",
      "Processed 7/10 chunks\n",
      "Processed 8/10 chunks\n",
      "Processed 9/10 chunks\n",
      "Processed 10/10 chunks\n"
     ]
    }
   ],
   "source": [
    "chunk = 10\n",
    "i=0\n",
    "X=[]\n",
    "import pandas as pd\n",
    "for df in pd.read_csv('X_matrix.csv',chunksize = chunk):\n",
    "    X.append(df)\n",
    "    i=i+1\n",
    "    print('Processed {i}/10 chunks'.format(i=i))\n",
    "    if i == 10:\n",
    "        break\n",
    "\n"
   ]
  },
  {
   "cell_type": "code",
   "execution_count": 342,
   "id": "679c5540",
   "metadata": {},
   "outputs": [],
   "source": [
    "X = pd.concat(X)"
   ]
  },
  {
   "cell_type": "code",
   "execution_count": 344,
   "id": "83e1bc5a",
   "metadata": {},
   "outputs": [],
   "source": [
    "X_arr = X.to_numpy()"
   ]
  },
  {
   "cell_type": "code",
   "execution_count": 449,
   "id": "be582191",
   "metadata": {},
   "outputs": [],
   "source": [
    "X_x = X_arr[:,:,np.newaxis]"
   ]
  },
  {
   "cell_type": "code",
   "execution_count": 450,
   "id": "81223d98",
   "metadata": {},
   "outputs": [
    {
     "data": {
      "text/plain": [
       "(100, 50177, 1)"
      ]
     },
     "execution_count": 450,
     "metadata": {},
     "output_type": "execute_result"
    }
   ],
   "source": [
    "X_x.shape"
   ]
  },
  {
   "cell_type": "markdown",
   "id": "4cea9fc7",
   "metadata": {},
   "source": [
    "Converting X to appropriate Datatype..."
   ]
  },
  {
   "cell_type": "code",
   "execution_count": 454,
   "id": "6a4bc5a8",
   "metadata": {},
   "outputs": [],
   "source": [
    "X_tensor_train = torch.from_numpy(X_x)\n",
    "y_tensor_train = torch.from_numpy(y_df)"
   ]
  },
  {
   "cell_type": "code",
   "execution_count": 455,
   "id": "7594034a",
   "metadata": {},
   "outputs": [
    {
     "name": "stderr",
     "output_type": "stream",
     "text": [
      "/tmp/ipykernel_790/1671349079.py:1: UserWarning: To copy construct from a tensor, it is recommended to use sourceTensor.clone().detach() or sourceTensor.clone().detach().requires_grad_(True), rather than torch.tensor(sourceTensor).\n",
      "  X_tensor_train = torch.tensor(X_tensor_train,dtype = torch.float32)\n"
     ]
    }
   ],
   "source": [
    "X_tensor_train = torch.tensor(X_tensor_train,dtype = torch.float32)\n",
    "y_tensor_train = y_tensor_train.type(torch.LongTensor)"
   ]
  },
  {
   "cell_type": "code",
   "execution_count": 456,
   "id": "7ff5a105",
   "metadata": {},
   "outputs": [
    {
     "data": {
      "text/plain": [
       "torch.Size([100, 50177, 1])"
      ]
     },
     "execution_count": 456,
     "metadata": {},
     "output_type": "execute_result"
    }
   ],
   "source": [
    "X_tensor_train.shape"
   ]
  },
  {
   "cell_type": "code",
   "execution_count": 407,
   "id": "5bb169e4",
   "metadata": {},
   "outputs": [
    {
     "data": {
      "text/plain": [
       "torch.Size([100, 1])"
      ]
     },
     "execution_count": 407,
     "metadata": {},
     "output_type": "execute_result"
    }
   ],
   "source": [
    "y_tensor_train.shape"
   ]
  },
  {
   "cell_type": "markdown",
   "id": "4a356ddf",
   "metadata": {},
   "source": [
    "Setup transformer"
   ]
  },
  {
   "cell_type": "code",
   "execution_count": 408,
   "id": "0e69132a",
   "metadata": {},
   "outputs": [],
   "source": [
    "class CustomDataset(Dataset):\n",
    "    def __init__(self, X, y):\n",
    "        self.X = X\n",
    "        self.y = y\n",
    "        \n",
    "    def __len__(self):\n",
    "        return len(self.X)\n",
    "    \n",
    "    def __getitem__(self, idx):\n",
    "        X = self.X[idx]\n",
    "        y = self.y[idx]\n",
    "        return X, y\n"
   ]
  },
  {
   "cell_type": "markdown",
   "id": "72ed4cc7",
   "metadata": {},
   "source": [
    "Setting up the CNN."
   ]
  },
  {
   "cell_type": "code",
   "execution_count": 519,
   "id": "7d39ee41",
   "metadata": {},
   "outputs": [],
   "source": [
    "import torch.nn as nn\n",
    "\n",
    "class CNN(nn.Module):\n",
    "    def __init__(self):\n",
    "        super(CNN, self).__init__()\n",
    "        self.conv1 = nn.Conv1d(1, 16, kernel_size=3, stride=1, padding=1)\n",
    "        self.relu1 = nn.ReLU(inplace=True)\n",
    "        self.pool1 = nn.MaxPool1d(kernel_size=2, stride=2)\n",
    "        self.conv2 = nn.Conv1d(16, 32, kernel_size=3, stride=1, padding=1)\n",
    "        self.relu2 = nn.ReLU(inplace=True)\n",
    "        self.pool2 = nn.MaxPool1d(kernel_size=2, stride=2)\n",
    "        self.fc1 = nn.Linear(32 * 12544, 128)\n",
    "        self.relu3 = nn.ReLU(inplace=True)\n",
    "        self.fc2 = nn.Linear(128, 10)\n",
    "        \n",
    "    def forward(self, x):\n",
    "        x = self.conv1(x)\n",
    "        x = self.relu1(x)\n",
    "        x = self.pool1(x)\n",
    "        x = self.conv2(x)\n",
    "        x = self.relu2(x)\n",
    "        x = self.pool2(x)\n",
    "        print(x.shape)\n",
    "        #x = torch.flatten(x, 1)\n",
    "        #x = x.view(x.size(0), -1)\n",
    "        x = x.view(-1, 32 * 12544)\n",
    "        x = self.fc1(x)\n",
    "        \n",
    "        x = self.relu3(x)\n",
    "        x = self.fc2(x)\n",
    "        print(x.shape)\n",
    "        return x\n"
   ]
  },
  {
   "cell_type": "code",
   "execution_count": 520,
   "id": "ec79dd69",
   "metadata": {},
   "outputs": [],
   "source": [
    "c = CNN()"
   ]
  },
  {
   "cell_type": "code",
   "execution_count": 431,
   "id": "94be91bb",
   "metadata": {},
   "outputs": [],
   "source": [
    "import torch.nn as nn\n",
    "import torch.nn.functional as F\n",
    "\n",
    "class saliencnn(nn.Module):\n",
    "    def __init__(self):\n",
    "        super(saliencnn, self).__init__()\n",
    "        self.conv1 = nn.Conv1d(1, 16, kernel_size=3, stride=1, padding=1)\n",
    "        self.conv2 = nn.Conv1d(16, 32, kernel_size=3, stride=1, padding=1)\n",
    "        self.fc1 = nn.Linear(9216, 128)\n",
    "        self.fc2 = nn.Linear(128, 10)\n",
    "        self.pool = nn.MaxPool1d(2)\n",
    "        \n",
    "    def forward(self, x):\n",
    "        x = self.conv1(x)\n",
    "        x = F.relu(x)\n",
    "        x = self.conv2(x)\n",
    "        x = F.relu(x)\n",
    "        x = self.pool(x)\n",
    "        x = torch.flatten(x, 1)\n",
    "        x = self.fc1(x)\n",
    "        x = F.relu(x)\n",
    "        x = self.fc2(x)\n",
    "        return x\n"
   ]
  },
  {
   "cell_type": "code",
   "execution_count": 432,
   "id": "e2cca085",
   "metadata": {},
   "outputs": [],
   "source": [
    "CNN = saliencnn()"
   ]
  },
  {
   "cell_type": "code",
   "execution_count": 506,
   "id": "8e06555d",
   "metadata": {},
   "outputs": [],
   "source": []
  },
  {
   "cell_type": "code",
   "execution_count": 480,
   "id": "0d901f97",
   "metadata": {},
   "outputs": [
    {
     "data": {
      "text/plain": [
       "torch.Size([4, 50177, 1])"
      ]
     },
     "execution_count": 480,
     "metadata": {},
     "output_type": "execute_result"
    }
   ],
   "source": [
    "x = batch_x.permute(0,1,2)\n",
    "x.shape"
   ]
  },
  {
   "cell_type": "code",
   "execution_count": 486,
   "id": "90bb0dbc",
   "metadata": {},
   "outputs": [
    {
     "data": {
      "text/plain": [
       "torch.Size([100, 50177, 1])"
      ]
     },
     "execution_count": 486,
     "metadata": {},
     "output_type": "execute_result"
    }
   ],
   "source": [
    "X_tensor_train.shape"
   ]
  },
  {
   "cell_type": "code",
   "execution_count": 487,
   "id": "8e884a06",
   "metadata": {},
   "outputs": [
    {
     "data": {
      "text/plain": [
       "torch.Size([100, 1, 50177])"
      ]
     },
     "execution_count": 487,
     "metadata": {},
     "output_type": "execute_result"
    }
   ],
   "source": [
    "XXX = X_tensor_train.permute(0,2,1)\n",
    "XXX.shape"
   ]
  },
  {
   "cell_type": "code",
   "execution_count": 537,
   "id": "832ca808",
   "metadata": {},
   "outputs": [
    {
     "name": "stdout",
     "output_type": "stream",
     "text": [
      "torch.Size([32, 1, 50177]) torch.Size([32, 1])\n",
      "torch.Size([32, 32, 12544])\n",
      "torch.Size([32, 10])\n",
      "torch.Size([32, 1, 50177]) torch.Size([32, 1])\n",
      "torch.Size([32, 32, 12544])\n",
      "torch.Size([32, 10])\n",
      "torch.Size([32, 1, 50177]) torch.Size([32, 1])\n",
      "torch.Size([32, 32, 12544])\n",
      "torch.Size([32, 10])\n"
     ]
    },
    {
     "ename": "RuntimeError",
     "evalue": "shape '[32]' is invalid for input of size 4",
     "output_type": "error",
     "traceback": [
      "\u001b[0;31m---------------------------------------------------------------------------\u001b[0m",
      "\u001b[0;31mRuntimeError\u001b[0m                              Traceback (most recent call last)",
      "Cell \u001b[0;32mIn[537], line 8\u001b[0m\n\u001b[1;32m      4\u001b[0m optimizer \u001b[38;5;241m=\u001b[39m torch\u001b[38;5;241m.\u001b[39moptim\u001b[38;5;241m.\u001b[39mAdam(c\u001b[38;5;241m.\u001b[39mparameters(), lr\u001b[38;5;241m=\u001b[39m\u001b[38;5;241m0.001\u001b[39m)\n\u001b[1;32m      6\u001b[0m \u001b[38;5;28;01mfor\u001b[39;00m batch_x, batch_y \u001b[38;5;129;01min\u001b[39;00m dataloader:\n\u001b[1;32m      7\u001b[0m     \u001b[38;5;66;03m#batch_x.permute(0,1,2)\u001b[39;00m\n\u001b[0;32m----> 8\u001b[0m     \u001b[43mbatch_y\u001b[49m\u001b[38;5;241;43m.\u001b[39;49m\u001b[43mreshape\u001b[49m\u001b[43m(\u001b[49m\u001b[38;5;241;43m32\u001b[39;49m\u001b[43m)\u001b[49m\n\u001b[1;32m      9\u001b[0m     \u001b[38;5;28mprint\u001b[39m(batch_x\u001b[38;5;241m.\u001b[39mshape, batch_y\u001b[38;5;241m.\u001b[39mshape)\n\u001b[1;32m     10\u001b[0m     \u001b[38;5;66;03m#output=c(batch_x)\u001b[39;00m\n\u001b[1;32m     11\u001b[0m     \u001b[38;5;66;03m#CNN CODE HERE\u001b[39;00m\n\u001b[1;32m     12\u001b[0m     \n\u001b[1;32m     13\u001b[0m \n\u001b[1;32m     14\u001b[0m     \u001b[38;5;66;03m# Zero out the gradients\u001b[39;00m\n",
      "\u001b[0;31mRuntimeError\u001b[0m: shape '[32]' is invalid for input of size 4"
     ]
    }
   ],
   "source": [
    "dataset = CustomDataset(XXX,y_tensor_train)\n",
    "dataloader = DataLoader(dataset, batch_size=32, shuffle=True)\n",
    "criterion = nn.CrossEntropyLoss()\n",
    "optimizer = torch.optim.Adam(c.parameters(), lr=0.001)\n",
    "\n",
    "for batch_x, batch_y in dataloader:\n",
    "    print(batch_x.shape, batch_y.shape)\n",
    "    #output=c(batch_x)\n",
    "    #CNN CODE HERE\n",
    "    \n",
    "\n",
    "    # Zero out the gradients\n",
    "    optimizer.zero_grad()\n",
    "\n",
    "    # Forward pass\n",
    "    x = batch_x\n",
    "    # Move the data to GPU for faster execution.\n",
    "    y = c(x)\n",
    "\n",
    "    # Calculate loss.\n",
    "    loss = criterion(y, torch.max(batch_y, 1)[1])\n",
    "    y_pred_probs = torch.softmax(out, dim=1) #get probability for given class\n",
    "    y_preds = y_pred_probs.argmax(dim=1)\n",
    "    # Backpropagation and gradient update.\n",
    "    loss.backward() # Calculate gradients.\n",
    "    optimizer.step() # Apply gradient udpate.\n",
    "    \n",
    " \n"
   ]
  },
  {
   "cell_type": "code",
   "execution_count": 539,
   "id": "1ae84e4f",
   "metadata": {},
   "outputs": [
    {
     "name": "stdout",
     "output_type": "stream",
     "text": [
      "cross entropy loss 0.0\n"
     ]
    }
   ],
   "source": [
    "print('cross entropy loss {}'.format(loss))"
   ]
  },
  {
   "cell_type": "code",
   "execution_count": 541,
   "id": "f416af6a",
   "metadata": {},
   "outputs": [],
   "source": [
    "y_pred_probs = torch.softmax(y, dim=1) #get probability for given class\n",
    "y_preds = y_pred_probs.argmax(dim=1)"
   ]
  },
  {
   "cell_type": "code",
   "execution_count": 545,
   "id": "688ae89d",
   "metadata": {},
   "outputs": [
    {
     "data": {
      "text/plain": [
       "tensor([[7],\n",
       "        [6],\n",
       "        [7],\n",
       "        [7]])"
      ]
     },
     "execution_count": 545,
     "metadata": {},
     "output_type": "execute_result"
    }
   ],
   "source": [
    "batch_y"
   ]
  },
  {
   "cell_type": "code",
   "execution_count": 544,
   "id": "2c727531",
   "metadata": {},
   "outputs": [
    {
     "data": {
      "text/plain": [
       "torch.Size([32])"
      ]
     },
     "execution_count": 544,
     "metadata": {},
     "output_type": "execute_result"
    }
   ],
   "source": [
    "y_preds"
   ]
  }
 ],
 "metadata": {
  "kernelspec": {
   "display_name": "YOLO",
   "language": "python",
   "name": "yolo"
  },
  "language_info": {
   "codemirror_mode": {
    "name": "ipython",
    "version": 3
   },
   "file_extension": ".py",
   "mimetype": "text/x-python",
   "name": "python",
   "nbconvert_exporter": "python",
   "pygments_lexer": "ipython3",
   "version": "3.10.9"
  }
 },
 "nbformat": 4,
 "nbformat_minor": 5
}
