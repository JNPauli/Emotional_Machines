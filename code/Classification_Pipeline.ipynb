{
 "cells": [
  {
   "cell_type": "markdown",
   "id": "f3485813",
   "metadata": {},
   "source": [
    "0. This notebook is the continuation to the preprocessing.ipynb notebook."
   ]
  },
  {
   "cell_type": "markdown",
   "id": "b60fcc27",
   "metadata": {},
   "source": [
    "1. Import all neccessary modules "
   ]
  },
  {
   "cell_type": "code",
   "execution_count": 331,
   "id": "73af1d9d",
   "metadata": {},
   "outputs": [],
   "source": [
    "import os\n",
    "import pandas as pd\n",
    "import numpy as np\n",
    "from sklearn.preprocessing import StandardScaler\n",
    "from sklearn.model_selection import train_test_split"
   ]
  },
  {
   "cell_type": "markdown",
   "id": "0bab0d03",
   "metadata": {},
   "source": [
    "2. Import X and y"
   ]
  },
  {
   "cell_type": "code",
   "execution_count": 330,
   "id": "0e61570a",
   "metadata": {},
   "outputs": [],
   "source": [
    "import torchvision\n",
    "from torchvision import transforms\n",
    "import torch\n",
    "from torch.utils.data import Dataset, DataLoader\n",
    "from PIL import Image"
   ]
  },
  {
   "cell_type": "code",
   "execution_count": 383,
   "id": "99428f03",
   "metadata": {},
   "outputs": [],
   "source": [
    "y = pd.read_csv('/mnt/c/Users/janos/OneDrive/Desktop/Master_thesis/Arousal.csv')"
   ]
  },
  {
   "cell_type": "code",
   "execution_count": 385,
   "id": "1bd70573",
   "metadata": {},
   "outputs": [],
   "source": [
    "y = y.iloc[:,[1]]"
   ]
  },
  {
   "cell_type": "code",
   "execution_count": 386,
   "id": "c9a71d9e",
   "metadata": {},
   "outputs": [
    {
     "data": {
      "text/html": [
       "<div>\n",
       "<style scoped>\n",
       "    .dataframe tbody tr th:only-of-type {\n",
       "        vertical-align: middle;\n",
       "    }\n",
       "\n",
       "    .dataframe tbody tr th {\n",
       "        vertical-align: top;\n",
       "    }\n",
       "\n",
       "    .dataframe thead th {\n",
       "        text-align: right;\n",
       "    }\n",
       "</style>\n",
       "<table border=\"1\" class=\"dataframe\">\n",
       "  <thead>\n",
       "    <tr style=\"text-align: right;\">\n",
       "      <th></th>\n",
       "      <th>0</th>\n",
       "    </tr>\n",
       "  </thead>\n",
       "  <tbody>\n",
       "    <tr>\n",
       "      <th>0</th>\n",
       "      <td>5.0</td>\n",
       "    </tr>\n",
       "    <tr>\n",
       "      <th>1</th>\n",
       "      <td>6.0</td>\n",
       "    </tr>\n",
       "    <tr>\n",
       "      <th>2</th>\n",
       "      <td>7.0</td>\n",
       "    </tr>\n",
       "    <tr>\n",
       "      <th>3</th>\n",
       "      <td>8.0</td>\n",
       "    </tr>\n",
       "    <tr>\n",
       "      <th>4</th>\n",
       "      <td>7.0</td>\n",
       "    </tr>\n",
       "    <tr>\n",
       "      <th>...</th>\n",
       "      <td>...</td>\n",
       "    </tr>\n",
       "    <tr>\n",
       "      <th>14271</th>\n",
       "      <td>5.0</td>\n",
       "    </tr>\n",
       "    <tr>\n",
       "      <th>14272</th>\n",
       "      <td>8.0</td>\n",
       "    </tr>\n",
       "    <tr>\n",
       "      <th>14273</th>\n",
       "      <td>2.0</td>\n",
       "    </tr>\n",
       "    <tr>\n",
       "      <th>14274</th>\n",
       "      <td>6.0</td>\n",
       "    </tr>\n",
       "    <tr>\n",
       "      <th>14275</th>\n",
       "      <td>7.0</td>\n",
       "    </tr>\n",
       "  </tbody>\n",
       "</table>\n",
       "<p>14276 rows × 1 columns</p>\n",
       "</div>"
      ],
      "text/plain": [
       "         0\n",
       "0      5.0\n",
       "1      6.0\n",
       "2      7.0\n",
       "3      8.0\n",
       "4      7.0\n",
       "...    ...\n",
       "14271  5.0\n",
       "14272  8.0\n",
       "14273  2.0\n",
       "14274  6.0\n",
       "14275  7.0\n",
       "\n",
       "[14276 rows x 1 columns]"
      ]
     },
     "execution_count": 386,
     "metadata": {},
     "output_type": "execute_result"
    }
   ],
   "source": [
    "y"
   ]
  },
  {
   "cell_type": "code",
   "execution_count": 387,
   "id": "62e3e27e",
   "metadata": {},
   "outputs": [],
   "source": [
    "y_100_rows = y[0:100]"
   ]
  },
  {
   "cell_type": "code",
   "execution_count": 391,
   "id": "5e22b480",
   "metadata": {},
   "outputs": [],
   "source": [
    "y_arr = y_100_rows.to_numpy()"
   ]
  },
  {
   "cell_type": "code",
   "execution_count": 5,
   "id": "f700efbc",
   "metadata": {},
   "outputs": [],
   "source": [
    "os.chdir('/mnt/c/Users/janos/OneDrive/Desktop/Master_thesis')"
   ]
  },
  {
   "cell_type": "markdown",
   "id": "4d90bd21",
   "metadata": {},
   "source": [
    "NEW APPROACH:\n",
    "\n",
    "Fit CNN on X-Array. Problem: How to get RGB from array?\n",
    "**SOLVED**. See Cell below (\"GET RGBA VALUES FOR EACH HEATMAP\").\n",
    "\n",
    "RGB NOT NECCESSARY FOR CNN. STILL ADDING THIRD DIMENSION?"
   ]
  },
  {
   "cell_type": "markdown",
   "id": "f5754199",
   "metadata": {},
   "source": [
    "1. Read first 10 rows from X."
   ]
  },
  {
   "cell_type": "code",
   "execution_count": 338,
   "id": "393b2d1e",
   "metadata": {},
   "outputs": [
    {
     "name": "stdout",
     "output_type": "stream",
     "text": [
      "Processed 1/10 chunks\n",
      "Processed 2/10 chunks\n",
      "Processed 3/10 chunks\n",
      "Processed 4/10 chunks\n",
      "Processed 5/10 chunks\n",
      "Processed 6/10 chunks\n",
      "Processed 7/10 chunks\n",
      "Processed 8/10 chunks\n",
      "Processed 9/10 chunks\n",
      "Processed 10/10 chunks\n"
     ]
    }
   ],
   "source": [
    "chunk = 10\n",
    "i=0\n",
    "X=[]\n",
    "import pandas as pd\n",
    "for df in pd.read_csv('X_matrix.csv',chunksize = chunk):\n",
    "    X.append(df)\n",
    "    i=i+1\n",
    "    print('Processed {i}/10 chunks'.format(i=i))\n",
    "    if i == 10:\n",
    "        break\n",
    "\n"
   ]
  },
  {
   "cell_type": "code",
   "execution_count": 342,
   "id": "4ec3e30a",
   "metadata": {},
   "outputs": [],
   "source": [
    "X = pd.concat(X)"
   ]
  },
  {
   "cell_type": "code",
   "execution_count": 344,
   "id": "0f7bc695",
   "metadata": {},
   "outputs": [],
   "source": [
    "X_arr = X.to_numpy()"
   ]
  },
  {
   "cell_type": "code",
   "execution_count": 449,
   "id": "db22b9ed",
   "metadata": {},
   "outputs": [],
   "source": [
    "X_x = X_arr[:,:,np.newaxis]"
   ]
  },
  {
   "cell_type": "code",
   "execution_count": 450,
   "id": "2bcf03e6",
   "metadata": {},
   "outputs": [
    {
     "data": {
      "text/plain": [
       "(100, 50177, 1)"
      ]
     },
     "execution_count": 450,
     "metadata": {},
     "output_type": "execute_result"
    }
   ],
   "source": [
    "X_x.shape"
   ]
  },
  {
   "cell_type": "markdown",
   "id": "4e487f10",
   "metadata": {},
   "source": [
    "Converting X to appropriate Datatype..."
   ]
  },
  {
   "cell_type": "code",
   "execution_count": 454,
   "id": "2dbb35fe",
   "metadata": {},
   "outputs": [],
   "source": [
    "X_tensor_train = torch.from_numpy(X_x)\n",
    "y_tensor_train = torch.from_numpy(y_df)"
   ]
  },
  {
   "cell_type": "code",
   "execution_count": 455,
   "id": "0a5ef711",
   "metadata": {},
   "outputs": [
    {
     "name": "stderr",
     "output_type": "stream",
     "text": [
      "/tmp/ipykernel_790/1671349079.py:1: UserWarning: To copy construct from a tensor, it is recommended to use sourceTensor.clone().detach() or sourceTensor.clone().detach().requires_grad_(True), rather than torch.tensor(sourceTensor).\n",
      "  X_tensor_train = torch.tensor(X_tensor_train,dtype = torch.float32)\n"
     ]
    }
   ],
   "source": [
    "X_tensor_train = torch.tensor(X_tensor_train,dtype = torch.float32)\n",
    "y_tensor_train = y_tensor_train.type(torch.LongTensor)"
   ]
  },
  {
   "cell_type": "code",
   "execution_count": 456,
   "id": "5917342d",
   "metadata": {},
   "outputs": [
    {
     "data": {
      "text/plain": [
       "torch.Size([100, 50177, 1])"
      ]
     },
     "execution_count": 456,
     "metadata": {},
     "output_type": "execute_result"
    }
   ],
   "source": [
    "X_tensor_train.shape"
   ]
  },
  {
   "cell_type": "code",
   "execution_count": 407,
   "id": "ed8a6230",
   "metadata": {},
   "outputs": [
    {
     "data": {
      "text/plain": [
       "torch.Size([100, 1])"
      ]
     },
     "execution_count": 407,
     "metadata": {},
     "output_type": "execute_result"
    }
   ],
   "source": [
    "y_tensor_train.shape"
   ]
  },
  {
   "cell_type": "markdown",
   "id": "ea77a69e",
   "metadata": {},
   "source": [
    "Setup transformer"
   ]
  },
  {
   "cell_type": "code",
   "execution_count": 408,
   "id": "72a65e60",
   "metadata": {},
   "outputs": [],
   "source": [
    "class CustomDataset(Dataset):\n",
    "    def __init__(self, X, y):\n",
    "        self.X = X\n",
    "        self.y = y\n",
    "        \n",
    "    def __len__(self):\n",
    "        return len(self.X)\n",
    "    \n",
    "    def __getitem__(self, idx):\n",
    "        X = self.X[idx]\n",
    "        y = self.y[idx]\n",
    "        return X, y\n"
   ]
  },
  {
   "cell_type": "markdown",
   "id": "ebea31b7",
   "metadata": {},
   "source": [
    "Setting up the CNN."
   ]
  },
  {
   "cell_type": "code",
   "execution_count": 548,
   "id": "c762a6f5",
   "metadata": {},
   "outputs": [],
   "source": [
    "import torch.nn as nn\n",
    "\n",
    "class CNN(nn.Module):\n",
    "    def __init__(self):\n",
    "        super(CNN, self).__init__()\n",
    "        self.conv1 = nn.Conv1d(1, 16, kernel_size=3, stride=1, padding=1)\n",
    "        self.relu1 = nn.ReLU(inplace=True)\n",
    "        self.pool1 = nn.MaxPool1d(kernel_size=2, stride=2)\n",
    "        self.conv2 = nn.Conv1d(16, 32, kernel_size=3, stride=1, padding=1)\n",
    "        self.relu2 = nn.ReLU(inplace=True)\n",
    "        self.pool2 = nn.MaxPool1d(kernel_size=2, stride=2)\n",
    "        self.fc1 = nn.Linear(32 * 12544, 128)\n",
    "        self.relu3 = nn.ReLU(inplace=True)\n",
    "        self.fc2 = nn.Linear(128, 10)\n",
    "        \n",
    "    def forward(self, x):\n",
    "        x = self.conv1(x)\n",
    "        x = self.relu1(x)\n",
    "        x = self.pool1(x)\n",
    "        x = self.conv2(x)\n",
    "        x = self.relu2(x)\n",
    "        x = self.pool2(x)\n",
    "        #x = torch.flatten(x, 1)\n",
    "        #x = x.view(x.size(0), -1)\n",
    "        x = x.view(-1, 32 * 12544)\n",
    "        x = self.fc1(x)\n",
    "        x = self.relu3(x)\n",
    "        x = self.fc2(x)\n",
    "        return x\n"
   ]
  },
  {
   "cell_type": "code",
   "execution_count": 549,
   "id": "eb519490",
   "metadata": {},
   "outputs": [],
   "source": [
    "c = CNN()"
   ]
  },
  {
   "cell_type": "code",
   "execution_count": 431,
   "id": "00580f7c",
   "metadata": {},
   "outputs": [],
   "source": [
    "import torch.nn as nn\n",
    "import torch.nn.functional as F\n",
    "\n",
    "class saliencnn(nn.Module):\n",
    "    def __init__(self):\n",
    "        super(saliencnn, self).__init__()\n",
    "        self.conv1 = nn.Conv1d(1, 16, kernel_size=3, stride=1, padding=1)\n",
    "        self.conv2 = nn.Conv1d(16, 32, kernel_size=3, stride=1, padding=1)\n",
    "        self.fc1 = nn.Linear(9216, 128)\n",
    "        self.fc2 = nn.Linear(128, 10)\n",
    "        self.pool = nn.MaxPool1d(2)\n",
    "        \n",
    "    def forward(self, x):\n",
    "        x = self.conv1(x)\n",
    "        x = F.relu(x)\n",
    "        x = self.conv2(x)\n",
    "        x = F.relu(x)\n",
    "        x = self.pool(x)\n",
    "        x = torch.flatten(x, 1)\n",
    "        x = self.fc1(x)\n",
    "        x = F.relu(x)\n",
    "        x = self.fc2(x)\n",
    "        return x\n"
   ]
  },
  {
   "cell_type": "code",
   "execution_count": 432,
   "id": "2381844e",
   "metadata": {},
   "outputs": [],
   "source": [
    "CNN = saliencnn()"
   ]
  },
  {
   "cell_type": "code",
   "execution_count": 486,
   "id": "55d167d2",
   "metadata": {},
   "outputs": [
    {
     "data": {
      "text/plain": [
       "torch.Size([100, 50177, 1])"
      ]
     },
     "execution_count": 486,
     "metadata": {},
     "output_type": "execute_result"
    }
   ],
   "source": [
    "X_tensor_train.shape"
   ]
  },
  {
   "cell_type": "code",
   "execution_count": 487,
   "id": "ffc84bba",
   "metadata": {},
   "outputs": [
    {
     "data": {
      "text/plain": [
       "torch.Size([100, 1, 50177])"
      ]
     },
     "execution_count": 487,
     "metadata": {},
     "output_type": "execute_result"
    }
   ],
   "source": [
    "XXX = X_tensor_train.permute(0,2,1)\n",
    "XXX.shape"
   ]
  },
  {
   "cell_type": "code",
   "execution_count": 560,
   "id": "de70e081",
   "metadata": {},
   "outputs": [],
   "source": [
    "def analysis(net, loss_fn, train_data, train_labels,\n",
    "          n_epochs=50, learning_rate=0.01):\n",
    "    optimizer = optim.SGD(net.parameters(), lr=learning_rate,weight_decay=1e-4)\n",
    "    train_loss = []\n",
    "    c.train()\n",
    "    for i in range(n_epochs):\n",
    "        for data, label in dataloader:\n",
    "        #make prediction\n",
    "            output = c(data)\n",
    "\n",
    "            # Zero out the gradients\n",
    "            optimizer.zero_grad()\n",
    "\n",
    "            # Calculate loss.\n",
    "            loss = criterion(y, torch.max(label, 1)[1])\n",
    "\n",
    "            # Backpropagation and gradient update.\n",
    "            loss.backward() # Calculate gradients.\n",
    "\n",
    "            optimizer.step() # Apply gradient udpate.\n",
    "\n",
    "            train_loss.append(loss.item())\n",
    "\n",
    "            if (i + 1) % (n_epochs // 5) == 0:\n",
    "                print(f'iteration {i + 1}/{n_epochs} | loss: {loss.item():.3f}')\n",
    "        y_pred = torch.softmax(out,dim=1).argmax(dim=1)\n"
   ]
  },
  {
   "cell_type": "code",
   "execution_count": 556,
   "id": "a3974dea",
   "metadata": {},
   "outputs": [
    {
     "ename": "RuntimeError",
     "evalue": "Trying to backward through the graph a second time (or directly access saved tensors after they have already been freed). Saved intermediate values of the graph are freed when you call .backward() or autograd.grad(). Specify retain_graph=True if you need to backward through the graph a second time or if you need to access saved tensors after calling backward.",
     "output_type": "error",
     "traceback": [
      "\u001b[0;31m---------------------------------------------------------------------------\u001b[0m",
      "\u001b[0;31mRuntimeError\u001b[0m                              Traceback (most recent call last)",
      "Cell \u001b[0;32mIn[556], line 20\u001b[0m\n\u001b[1;32m     17\u001b[0m     loss \u001b[38;5;241m=\u001b[39m criterion(y, torch\u001b[38;5;241m.\u001b[39mmax(label, \u001b[38;5;241m1\u001b[39m)[\u001b[38;5;241m1\u001b[39m])\n\u001b[1;32m     19\u001b[0m     \u001b[38;5;66;03m# Backpropagation and gradient update.\u001b[39;00m\n\u001b[0;32m---> 20\u001b[0m     \u001b[43mloss\u001b[49m\u001b[38;5;241;43m.\u001b[39;49m\u001b[43mbackward\u001b[49m\u001b[43m(\u001b[49m\u001b[43m)\u001b[49m \u001b[38;5;66;03m# Calculate gradients.\u001b[39;00m\n\u001b[1;32m     22\u001b[0m     optimizer\u001b[38;5;241m.\u001b[39mstep() \u001b[38;5;66;03m# Apply gradient udpate.\u001b[39;00m\n\u001b[1;32m     24\u001b[0m train_loss\u001b[38;5;241m.\u001b[39mappend(loss\u001b[38;5;241m.\u001b[39mitem())\n",
      "File \u001b[0;32m~/miniconda3/envs/yolo/lib/python3.10/site-packages/torch/_tensor.py:488\u001b[0m, in \u001b[0;36mTensor.backward\u001b[0;34m(self, gradient, retain_graph, create_graph, inputs)\u001b[0m\n\u001b[1;32m    478\u001b[0m \u001b[38;5;28;01mif\u001b[39;00m has_torch_function_unary(\u001b[38;5;28mself\u001b[39m):\n\u001b[1;32m    479\u001b[0m     \u001b[38;5;28;01mreturn\u001b[39;00m handle_torch_function(\n\u001b[1;32m    480\u001b[0m         Tensor\u001b[38;5;241m.\u001b[39mbackward,\n\u001b[1;32m    481\u001b[0m         (\u001b[38;5;28mself\u001b[39m,),\n\u001b[0;32m   (...)\u001b[0m\n\u001b[1;32m    486\u001b[0m         inputs\u001b[38;5;241m=\u001b[39minputs,\n\u001b[1;32m    487\u001b[0m     )\n\u001b[0;32m--> 488\u001b[0m \u001b[43mtorch\u001b[49m\u001b[38;5;241;43m.\u001b[39;49m\u001b[43mautograd\u001b[49m\u001b[38;5;241;43m.\u001b[39;49m\u001b[43mbackward\u001b[49m\u001b[43m(\u001b[49m\n\u001b[1;32m    489\u001b[0m \u001b[43m    \u001b[49m\u001b[38;5;28;43mself\u001b[39;49m\u001b[43m,\u001b[49m\u001b[43m \u001b[49m\u001b[43mgradient\u001b[49m\u001b[43m,\u001b[49m\u001b[43m \u001b[49m\u001b[43mretain_graph\u001b[49m\u001b[43m,\u001b[49m\u001b[43m \u001b[49m\u001b[43mcreate_graph\u001b[49m\u001b[43m,\u001b[49m\u001b[43m \u001b[49m\u001b[43minputs\u001b[49m\u001b[38;5;241;43m=\u001b[39;49m\u001b[43minputs\u001b[49m\n\u001b[1;32m    490\u001b[0m \u001b[43m\u001b[49m\u001b[43m)\u001b[49m\n",
      "File \u001b[0;32m~/miniconda3/envs/yolo/lib/python3.10/site-packages/torch/autograd/__init__.py:197\u001b[0m, in \u001b[0;36mbackward\u001b[0;34m(tensors, grad_tensors, retain_graph, create_graph, grad_variables, inputs)\u001b[0m\n\u001b[1;32m    192\u001b[0m     retain_graph \u001b[38;5;241m=\u001b[39m create_graph\n\u001b[1;32m    194\u001b[0m \u001b[38;5;66;03m# The reason we repeat same the comment below is that\u001b[39;00m\n\u001b[1;32m    195\u001b[0m \u001b[38;5;66;03m# some Python versions print out the first line of a multi-line function\u001b[39;00m\n\u001b[1;32m    196\u001b[0m \u001b[38;5;66;03m# calls in the traceback and some print out the last line\u001b[39;00m\n\u001b[0;32m--> 197\u001b[0m \u001b[43mVariable\u001b[49m\u001b[38;5;241;43m.\u001b[39;49m\u001b[43m_execution_engine\u001b[49m\u001b[38;5;241;43m.\u001b[39;49m\u001b[43mrun_backward\u001b[49m\u001b[43m(\u001b[49m\u001b[43m  \u001b[49m\u001b[38;5;66;43;03m# Calls into the C++ engine to run the backward pass\u001b[39;49;00m\n\u001b[1;32m    198\u001b[0m \u001b[43m    \u001b[49m\u001b[43mtensors\u001b[49m\u001b[43m,\u001b[49m\u001b[43m \u001b[49m\u001b[43mgrad_tensors_\u001b[49m\u001b[43m,\u001b[49m\u001b[43m \u001b[49m\u001b[43mretain_graph\u001b[49m\u001b[43m,\u001b[49m\u001b[43m \u001b[49m\u001b[43mcreate_graph\u001b[49m\u001b[43m,\u001b[49m\u001b[43m \u001b[49m\u001b[43minputs\u001b[49m\u001b[43m,\u001b[49m\n\u001b[1;32m    199\u001b[0m \u001b[43m    \u001b[49m\u001b[43mallow_unreachable\u001b[49m\u001b[38;5;241;43m=\u001b[39;49m\u001b[38;5;28;43;01mTrue\u001b[39;49;00m\u001b[43m,\u001b[49m\u001b[43m \u001b[49m\u001b[43maccumulate_grad\u001b[49m\u001b[38;5;241;43m=\u001b[39;49m\u001b[38;5;28;43;01mTrue\u001b[39;49;00m\u001b[43m)\u001b[49m\n",
      "\u001b[0;31mRuntimeError\u001b[0m: Trying to backward through the graph a second time (or directly access saved tensors after they have already been freed). Saved intermediate values of the graph are freed when you call .backward() or autograd.grad(). Specify retain_graph=True if you need to backward through the graph a second time or if you need to access saved tensors after calling backward."
     ]
    }
   ],
   "source": [
    "dataset = CustomDataset(XXX,y_tensor_train)\n",
    "dataloader = DataLoader(dataset, batch_size=32, shuffle=True)\n",
    "criterion = nn.CrossEntropyLoss()\n",
    "optimizer = torch.optim.Adam(c.parameters(), lr=0.001)\n",
    "train_loss = []\n",
    "\n",
    "for epoch in range(5):\n",
    "    c.train()\n",
    "    for data, label in dataloader:\n",
    "        #make prediction\n",
    "        output = c(data)\n",
    "\n",
    "        # Zero out the gradients\n",
    "        optimizer.zero_grad()\n",
    "            \n",
    "        # Calculate loss.\n",
    "        loss = criterion(y, torch.max(label, 1)[1])\n",
    "            \n",
    "        # Backpropagation and gradient update.\n",
    "        loss.backward() # Calculate gradients.\n",
    "            \n",
    "        optimizer.step() # Apply gradient udpate.\n",
    "        \n",
    "        train_loss.append(loss.item())\n",
    "        \n",
    "    if (i + 1) % (n_epochs // 5) == 0:\n",
    "        print(f'iteration {i + 1}/{n_epochs} | loss: {loss.item():.3f}')\n",
    "    y_pred = torch.softmax(out,dim=1).argmax(dim=1)\n"
   ]
  },
  {
   "cell_type": "code",
   "execution_count": 539,
   "id": "0275371e",
   "metadata": {},
   "outputs": [
    {
     "name": "stdout",
     "output_type": "stream",
     "text": [
      "cross entropy loss 0.0\n"
     ]
    }
   ],
   "source": [
    "print('cross entropy loss {}'.format(loss))"
   ]
  },
  {
   "cell_type": "code",
   "execution_count": 541,
   "id": "c137c691",
   "metadata": {},
   "outputs": [],
   "source": [
    "y_pred_probs = torch.softmax(y, dim=1) #get probability for given class\n",
    "y_preds = y_pred_probs.argmax(dim=1)"
   ]
  },
  {
   "cell_type": "code",
   "execution_count": 545,
   "id": "382c8408",
   "metadata": {},
   "outputs": [
    {
     "data": {
      "text/plain": [
       "tensor([[7],\n",
       "        [6],\n",
       "        [7],\n",
       "        [7]])"
      ]
     },
     "execution_count": 545,
     "metadata": {},
     "output_type": "execute_result"
    }
   ],
   "source": [
    "batch_y"
   ]
  },
  {
   "cell_type": "code",
   "execution_count": 544,
   "id": "9dcfc22f",
   "metadata": {},
   "outputs": [
    {
     "data": {
      "text/plain": [
       "torch.Size([32])"
      ]
     },
     "execution_count": 544,
     "metadata": {},
     "output_type": "execute_result"
    }
   ],
   "source": [
    "y_preds"
   ]
  }
 ],
 "metadata": {
  "kernelspec": {
   "display_name": "YOLO",
   "language": "python",
   "name": "yolo"
  },
  "language_info": {
   "codemirror_mode": {
    "name": "ipython",
    "version": 3
   },
   "file_extension": ".py",
   "mimetype": "text/x-python",
   "name": "python",
   "nbconvert_exporter": "python",
   "pygments_lexer": "ipython3",
   "version": "3.10.9"
  }
 },
 "nbformat": 4,
 "nbformat_minor": 5
}
