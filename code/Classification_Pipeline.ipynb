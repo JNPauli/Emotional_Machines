{
 "cells": [
  {
   "cell_type": "markdown",
   "id": "f3485813",
   "metadata": {},
   "source": [
    "0. This notebook is the continuation to the preprocessing.ipynb notebook."
   ]
  },
  {
   "cell_type": "markdown",
   "id": "b60fcc27",
   "metadata": {},
   "source": [
    "1. Import all neccessary modules "
   ]
  },
  {
   "cell_type": "code",
   "execution_count": 331,
   "id": "73af1d9d",
   "metadata": {},
   "outputs": [],
   "source": [
    "import os\n",
    "import pandas as pd\n",
    "import numpy as np\n",
    "from sklearn.preprocessing import StandardScaler\n",
    "from sklearn.model_selection import train_test_split"
   ]
  },
  {
   "cell_type": "markdown",
   "id": "0bab0d03",
   "metadata": {},
   "source": [
    "2. Import X and y"
   ]
  },
  {
   "cell_type": "code",
   "execution_count": 330,
   "id": "0e61570a",
   "metadata": {},
   "outputs": [],
   "source": [
    "import torchvision\n",
    "from torchvision import transforms\n",
    "import torch\n",
    "from torch.utils.data import Dataset, DataLoader\n",
    "from PIL import Image"
   ]
  },
  {
   "cell_type": "code",
   "execution_count": 383,
   "id": "99428f03",
   "metadata": {},
   "outputs": [],
   "source": [
    "y = pd.read_csv('/mnt/c/Users/janos/OneDrive/Desktop/Master_thesis/Arousal.csv')"
   ]
  },
  {
   "cell_type": "code",
   "execution_count": 385,
   "id": "1bd70573",
   "metadata": {},
   "outputs": [],
   "source": [
    "y = y.iloc[:,[1]]"
   ]
  },
  {
   "cell_type": "code",
   "execution_count": 386,
   "id": "2364f801",
   "metadata": {},
   "outputs": [
    {
     "data": {
      "text/html": [
       "<div>\n",
       "<style scoped>\n",
       "    .dataframe tbody tr th:only-of-type {\n",
       "        vertical-align: middle;\n",
       "    }\n",
       "\n",
       "    .dataframe tbody tr th {\n",
       "        vertical-align: top;\n",
       "    }\n",
       "\n",
       "    .dataframe thead th {\n",
       "        text-align: right;\n",
       "    }\n",
       "</style>\n",
       "<table border=\"1\" class=\"dataframe\">\n",
       "  <thead>\n",
       "    <tr style=\"text-align: right;\">\n",
       "      <th></th>\n",
       "      <th>0</th>\n",
       "    </tr>\n",
       "  </thead>\n",
       "  <tbody>\n",
       "    <tr>\n",
       "      <th>0</th>\n",
       "      <td>5.0</td>\n",
       "    </tr>\n",
       "    <tr>\n",
       "      <th>1</th>\n",
       "      <td>6.0</td>\n",
       "    </tr>\n",
       "    <tr>\n",
       "      <th>2</th>\n",
       "      <td>7.0</td>\n",
       "    </tr>\n",
       "    <tr>\n",
       "      <th>3</th>\n",
       "      <td>8.0</td>\n",
       "    </tr>\n",
       "    <tr>\n",
       "      <th>4</th>\n",
       "      <td>7.0</td>\n",
       "    </tr>\n",
       "    <tr>\n",
       "      <th>...</th>\n",
       "      <td>...</td>\n",
       "    </tr>\n",
       "    <tr>\n",
       "      <th>14271</th>\n",
       "      <td>5.0</td>\n",
       "    </tr>\n",
       "    <tr>\n",
       "      <th>14272</th>\n",
       "      <td>8.0</td>\n",
       "    </tr>\n",
       "    <tr>\n",
       "      <th>14273</th>\n",
       "      <td>2.0</td>\n",
       "    </tr>\n",
       "    <tr>\n",
       "      <th>14274</th>\n",
       "      <td>6.0</td>\n",
       "    </tr>\n",
       "    <tr>\n",
       "      <th>14275</th>\n",
       "      <td>7.0</td>\n",
       "    </tr>\n",
       "  </tbody>\n",
       "</table>\n",
       "<p>14276 rows × 1 columns</p>\n",
       "</div>"
      ],
      "text/plain": [
       "         0\n",
       "0      5.0\n",
       "1      6.0\n",
       "2      7.0\n",
       "3      8.0\n",
       "4      7.0\n",
       "...    ...\n",
       "14271  5.0\n",
       "14272  8.0\n",
       "14273  2.0\n",
       "14274  6.0\n",
       "14275  7.0\n",
       "\n",
       "[14276 rows x 1 columns]"
      ]
     },
     "execution_count": 386,
     "metadata": {},
     "output_type": "execute_result"
    }
   ],
   "source": [
    "y"
   ]
  },
  {
   "cell_type": "code",
   "execution_count": 387,
   "id": "12c68d7f",
   "metadata": {},
   "outputs": [],
   "source": [
    "y_100_rows = y[0:100]"
   ]
  },
  {
   "cell_type": "code",
   "execution_count": 391,
   "id": "b8a461fd",
   "metadata": {},
   "outputs": [],
   "source": [
    "y_arr = y_100_rows.to_numpy()"
   ]
  },
  {
   "cell_type": "code",
   "execution_count": 5,
   "id": "f700efbc",
   "metadata": {},
   "outputs": [],
   "source": [
    "os.chdir('/mnt/c/Users/janos/OneDrive/Desktop/Master_thesis')"
   ]
  },
  {
   "cell_type": "markdown",
   "id": "90d787fb",
   "metadata": {},
   "source": [
    "NEW APPROACH:\n",
    "\n",
    "Fit CNN on X-Array. Problem: How to get RGB from array?\n",
    "**SOLVED**. See Cell below (\"GET RGBA VALUES FOR EACH HEATMAP\").\n",
    "\n",
    "RGB NOT NECCESSARY FOR CNN. STILL ADDING THIRD DIMENSION?"
   ]
  },
  {
   "cell_type": "markdown",
   "id": "aca71947",
   "metadata": {},
   "source": [
    "1. Read first 10 rows from X."
   ]
  },
  {
   "cell_type": "code",
   "execution_count": 338,
   "id": "d2a76e30",
   "metadata": {},
   "outputs": [
    {
     "name": "stdout",
     "output_type": "stream",
     "text": [
      "Processed 1/10 chunks\n",
      "Processed 2/10 chunks\n",
      "Processed 3/10 chunks\n",
      "Processed 4/10 chunks\n",
      "Processed 5/10 chunks\n",
      "Processed 6/10 chunks\n",
      "Processed 7/10 chunks\n",
      "Processed 8/10 chunks\n",
      "Processed 9/10 chunks\n",
      "Processed 10/10 chunks\n"
     ]
    }
   ],
   "source": [
    "chunk = 10\n",
    "i=0\n",
    "X=[]\n",
    "import pandas as pd\n",
    "for df in pd.read_csv('X_matrix.csv',chunksize = chunk):\n",
    "    X.append(df)\n",
    "    i=i+1\n",
    "    print('Processed {i}/10 chunks'.format(i=i))\n",
    "    if i == 10:\n",
    "        break\n",
    "\n"
   ]
  },
  {
   "cell_type": "code",
   "execution_count": 342,
   "id": "0d924066",
   "metadata": {},
   "outputs": [],
   "source": [
    "X = pd.concat(X)"
   ]
  },
  {
   "cell_type": "code",
   "execution_count": 344,
   "id": "ed368484",
   "metadata": {},
   "outputs": [],
   "source": [
    "X_arr = X.to_numpy()"
   ]
  },
  {
   "cell_type": "code",
   "execution_count": 449,
   "id": "83417a8b",
   "metadata": {},
   "outputs": [],
   "source": [
    "X_x = X_arr[:,:,np.newaxis]"
   ]
  },
  {
   "cell_type": "code",
   "execution_count": 450,
   "id": "ed0ed122",
   "metadata": {},
   "outputs": [
    {
     "data": {
      "text/plain": [
       "(100, 50177, 1)"
      ]
     },
     "execution_count": 450,
     "metadata": {},
     "output_type": "execute_result"
    }
   ],
   "source": [
    "X_x.shape"
   ]
  },
  {
   "cell_type": "markdown",
   "id": "70c0e8f7",
   "metadata": {},
   "source": [
    "Converting X to appropriate Datatype..."
   ]
  },
  {
   "cell_type": "code",
   "execution_count": 454,
   "id": "e8d4b837",
   "metadata": {},
   "outputs": [],
   "source": [
    "X_tensor_train = torch.from_numpy(X_x)\n",
    "y_tensor_train = torch.from_numpy(y_df)"
   ]
  },
  {
   "cell_type": "code",
   "execution_count": 455,
   "id": "6d295767",
   "metadata": {},
   "outputs": [
    {
     "name": "stderr",
     "output_type": "stream",
     "text": [
      "/tmp/ipykernel_790/1671349079.py:1: UserWarning: To copy construct from a tensor, it is recommended to use sourceTensor.clone().detach() or sourceTensor.clone().detach().requires_grad_(True), rather than torch.tensor(sourceTensor).\n",
      "  X_tensor_train = torch.tensor(X_tensor_train,dtype = torch.float32)\n"
     ]
    }
   ],
   "source": [
    "X_tensor_train = torch.tensor(X_tensor_train,dtype = torch.float32)\n",
    "y_tensor_train = y_tensor_train.type(torch.LongTensor)"
   ]
  },
  {
   "cell_type": "code",
   "execution_count": 456,
   "id": "1c65ff15",
   "metadata": {},
   "outputs": [
    {
     "data": {
      "text/plain": [
       "torch.Size([100, 50177, 1])"
      ]
     },
     "execution_count": 456,
     "metadata": {},
     "output_type": "execute_result"
    }
   ],
   "source": [
    "X_tensor_train.shape"
   ]
  },
  {
   "cell_type": "code",
   "execution_count": 407,
   "id": "17a38044",
   "metadata": {},
   "outputs": [
    {
     "data": {
      "text/plain": [
       "torch.Size([100, 1])"
      ]
     },
     "execution_count": 407,
     "metadata": {},
     "output_type": "execute_result"
    }
   ],
   "source": [
    "y_tensor_train.shape"
   ]
  },
  {
   "cell_type": "markdown",
   "id": "e67c392a",
   "metadata": {},
   "source": [
    "Setup transformer"
   ]
  },
  {
   "cell_type": "code",
   "execution_count": 408,
   "id": "5adf8bc6",
   "metadata": {},
   "outputs": [],
   "source": [
    "class CustomDataset(Dataset):\n",
    "    def __init__(self, X, y):\n",
    "        self.X = X\n",
    "        self.y = y\n",
    "        \n",
    "    def __len__(self):\n",
    "        return len(self.X)\n",
    "    \n",
    "    def __getitem__(self, idx):\n",
    "        X = self.X[idx]\n",
    "        y = self.y[idx]\n",
    "        return X, y\n"
   ]
  },
  {
   "cell_type": "markdown",
   "id": "5ac25495",
   "metadata": {},
   "source": [
    "Setting up the CNN."
   ]
  },
  {
   "cell_type": "code",
   "execution_count": 519,
   "id": "2f35cac7",
   "metadata": {},
   "outputs": [],
   "source": [
    "import torch.nn as nn\n",
    "\n",
    "class CNN(nn.Module):\n",
    "    def __init__(self):\n",
    "        super(CNN, self).__init__()\n",
    "        self.conv1 = nn.Conv1d(1, 16, kernel_size=3, stride=1, padding=1)\n",
    "        self.relu1 = nn.ReLU(inplace=True)\n",
    "        self.pool1 = nn.MaxPool1d(kernel_size=2, stride=2)\n",
    "        self.conv2 = nn.Conv1d(16, 32, kernel_size=3, stride=1, padding=1)\n",
    "        self.relu2 = nn.ReLU(inplace=True)\n",
    "        self.pool2 = nn.MaxPool1d(kernel_size=2, stride=2)\n",
    "        self.fc1 = nn.Linear(32 * 12544, 128)\n",
    "        self.relu3 = nn.ReLU(inplace=True)\n",
    "        self.fc2 = nn.Linear(128, 10)\n",
    "        \n",
    "    def forward(self, x):\n",
    "        x = self.conv1(x)\n",
    "        x = self.relu1(x)\n",
    "        x = self.pool1(x)\n",
    "        x = self.conv2(x)\n",
    "        x = self.relu2(x)\n",
    "        x = self.pool2(x)\n",
    "        print(x.shape)\n",
    "        #x = torch.flatten(x, 1)\n",
    "        #x = x.view(x.size(0), -1)\n",
    "        x = x.view(-1, 32 * 12544)\n",
    "        x = self.fc1(x)\n",
    "        \n",
    "        x = self.relu3(x)\n",
    "        x = self.fc2(x)\n",
    "        print(x.shape)\n",
    "        return x\n"
   ]
  },
  {
   "cell_type": "code",
   "execution_count": 520,
   "id": "d9a12dc2",
   "metadata": {},
   "outputs": [],
   "source": [
    "c = CNN()"
   ]
  },
  {
   "cell_type": "code",
   "execution_count": 431,
   "id": "cade8faf",
   "metadata": {},
   "outputs": [],
   "source": [
    "import torch.nn as nn\n",
    "import torch.nn.functional as F\n",
    "\n",
    "class saliencnn(nn.Module):\n",
    "    def __init__(self):\n",
    "        super(saliencnn, self).__init__()\n",
    "        self.conv1 = nn.Conv1d(1, 16, kernel_size=3, stride=1, padding=1)\n",
    "        self.conv2 = nn.Conv1d(16, 32, kernel_size=3, stride=1, padding=1)\n",
    "        self.fc1 = nn.Linear(9216, 128)\n",
    "        self.fc2 = nn.Linear(128, 10)\n",
    "        self.pool = nn.MaxPool1d(2)\n",
    "        \n",
    "    def forward(self, x):\n",
    "        x = self.conv1(x)\n",
    "        x = F.relu(x)\n",
    "        x = self.conv2(x)\n",
    "        x = F.relu(x)\n",
    "        x = self.pool(x)\n",
    "        x = torch.flatten(x, 1)\n",
    "        x = self.fc1(x)\n",
    "        x = F.relu(x)\n",
    "        x = self.fc2(x)\n",
    "        return x\n"
   ]
  },
  {
   "cell_type": "code",
   "execution_count": 432,
   "id": "5da503cc",
   "metadata": {},
   "outputs": [],
   "source": [
    "CNN = saliencnn()"
   ]
  },
  {
   "cell_type": "code",
   "execution_count": 506,
   "id": "ff01ffc2",
   "metadata": {},
   "outputs": [],
   "source": []
  },
  {
   "cell_type": "code",
   "execution_count": 480,
   "id": "78214cb8",
   "metadata": {},
   "outputs": [
    {
     "data": {
      "text/plain": [
       "torch.Size([4, 50177, 1])"
      ]
     },
     "execution_count": 480,
     "metadata": {},
     "output_type": "execute_result"
    }
   ],
   "source": [
    "x = batch_x.permute(0,1,2)\n",
    "x.shape"
   ]
  },
  {
   "cell_type": "code",
   "execution_count": 486,
   "id": "5345f270",
   "metadata": {},
   "outputs": [
    {
     "data": {
      "text/plain": [
       "torch.Size([100, 50177, 1])"
      ]
     },
     "execution_count": 486,
     "metadata": {},
     "output_type": "execute_result"
    }
   ],
   "source": [
    "X_tensor_train.shape"
   ]
  },
  {
   "cell_type": "code",
   "execution_count": 487,
   "id": "bf480175",
   "metadata": {},
   "outputs": [
    {
     "data": {
      "text/plain": [
       "torch.Size([100, 1, 50177])"
      ]
     },
     "execution_count": 487,
     "metadata": {},
     "output_type": "execute_result"
    }
   ],
   "source": [
    "XXX = X_tensor_train.permute(0,2,1)\n",
    "XXX.shape"
   ]
  },
  {
   "cell_type": "code",
   "execution_count": 521,
   "id": "0db870d9",
   "metadata": {},
   "outputs": [
    {
     "name": "stdout",
     "output_type": "stream",
     "text": [
      "torch.Size([32, 1, 50177]) torch.Size([32, 1])\n",
      "torch.Size([32, 32, 12544])\n",
      "torch.Size([32, 10])\n",
      "torch.Size([32, 1, 50177]) torch.Size([32, 1])\n",
      "torch.Size([32, 32, 12544])\n",
      "torch.Size([32, 10])\n",
      "torch.Size([32, 1, 50177]) torch.Size([32, 1])\n",
      "torch.Size([32, 32, 12544])\n",
      "torch.Size([32, 10])\n",
      "torch.Size([4, 1, 50177]) torch.Size([4, 1])\n",
      "torch.Size([4, 32, 12544])\n",
      "torch.Size([4, 10])\n"
     ]
    }
   ],
   "source": [
    "dataset = CustomDataset(XXX,y_tensor_train)\n",
    "dataloader = DataLoader(dataset, batch_size=32, shuffle=True)\n",
    "\n",
    "for batch_x, batch_y in dataloader:\n",
    "    #batch_x.permute(0,1,2)\n",
    "    print(batch_x.shape, batch_y.shape)\n",
    "    output=c(batch_x)\n",
    "    '''CNN CODE HERE\n",
    "    \n",
    "    \n",
    "    \n",
    "    '''\n"
   ]
  },
  {
   "cell_type": "code",
   "execution_count": 522,
   "id": "32c2d5f8",
   "metadata": {},
   "outputs": [
    {
     "data": {
      "text/plain": [
       "tensor([[-0.0848,  0.0049, -0.0714, -0.0340,  0.0558,  0.0390,  0.1038, -0.0714,\n",
       "          0.0857,  0.0365],\n",
       "        [-0.0799,  0.0029, -0.0789, -0.0324,  0.0610,  0.0362,  0.0997, -0.0704,\n",
       "          0.0892,  0.0357],\n",
       "        [-0.0786,  0.0042, -0.0894, -0.0283,  0.0760,  0.0284,  0.0960, -0.0697,\n",
       "          0.0997,  0.0346],\n",
       "        [-0.0773,  0.0027, -0.0864, -0.0295,  0.0737,  0.0278,  0.1009, -0.0714,\n",
       "          0.0986,  0.0367]], grad_fn=<AddmmBackward0>)"
      ]
     },
     "execution_count": 522,
     "metadata": {},
     "output_type": "execute_result"
    }
   ],
   "source": [
    "output"
   ]
  },
  {
   "cell_type": "code",
   "execution_count": 523,
   "id": "fa20b898",
   "metadata": {},
   "outputs": [
    {
     "data": {
      "text/plain": [
       "tensor([[0.0911, 0.0996, 0.0923, 0.0958, 0.1048, 0.1031, 0.1100, 0.0923, 0.1080,\n",
       "         0.1028],\n",
       "        [0.0915, 0.0994, 0.0916, 0.0960, 0.1054, 0.1028, 0.1096, 0.0924, 0.1084,\n",
       "         0.1028],\n",
       "        [0.0916, 0.0995, 0.0906, 0.0963, 0.1069, 0.1019, 0.1090, 0.0924, 0.1094,\n",
       "         0.1025],\n",
       "        [0.0917, 0.0993, 0.0908, 0.0961, 0.1066, 0.1018, 0.1095, 0.0922, 0.1093,\n",
       "         0.1027]], grad_fn=<SoftmaxBackward0>)"
      ]
     },
     "execution_count": 523,
     "metadata": {},
     "output_type": "execute_result"
    }
   ],
   "source": [
    "result = F.softmax(output, dim=1)\n",
    "result"
   ]
  }
 ],
 "metadata": {
  "kernelspec": {
   "display_name": "YOLO",
   "language": "python",
   "name": "yolo"
  },
  "language_info": {
   "codemirror_mode": {
    "name": "ipython",
    "version": 3
   },
   "file_extension": ".py",
   "mimetype": "text/x-python",
   "name": "python",
   "nbconvert_exporter": "python",
   "pygments_lexer": "ipython3",
   "version": "3.10.9"
  }
 },
 "nbformat": 4,
 "nbformat_minor": 5
}
