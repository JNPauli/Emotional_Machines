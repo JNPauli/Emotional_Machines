{
 "cells": [
  {
   "cell_type": "markdown",
   "id": "f3485813",
   "metadata": {},
   "source": [
    "0. This notebook is the continuation to the preprocessing.ipynb notebook."
   ]
  },
  {
   "cell_type": "markdown",
   "id": "b60fcc27",
   "metadata": {},
   "source": [
    "1. Import all neccessary modules "
   ]
  },
  {
   "cell_type": "code",
   "execution_count": 1,
   "id": "73af1d9d",
   "metadata": {},
   "outputs": [],
   "source": [
    "import os\n",
    "import pandas as pd\n",
    "import numpy as np\n",
    "from sklearn.preprocessing import StandardScaler\n",
    "from sklearn.model_selection import train_test_split"
   ]
  },
  {
   "cell_type": "markdown",
   "id": "0bab0d03",
   "metadata": {},
   "source": [
    "2. Import X and y"
   ]
  },
  {
   "cell_type": "code",
   "execution_count": 2,
   "id": "0e61570a",
   "metadata": {},
   "outputs": [],
   "source": [
    "import torchvision\n",
    "from torchvision import transforms\n",
    "import torch\n",
    "from torch.utils.data import Dataset, DataLoader\n",
    "from PIL import Image"
   ]
  },
  {
   "cell_type": "code",
   "execution_count": 3,
   "id": "99428f03",
   "metadata": {},
   "outputs": [],
   "source": [
    "y = pd.read_csv('/mnt/c/Users/janos/OneDrive/Desktop/Master_thesis/Arousal.csv')"
   ]
  },
  {
   "cell_type": "code",
   "execution_count": 4,
   "id": "1bd70573",
   "metadata": {},
   "outputs": [],
   "source": [
    "y = y.iloc[:,[1]]"
   ]
  },
  {
   "cell_type": "code",
   "execution_count": 5,
   "id": "19d05c2d",
   "metadata": {},
   "outputs": [
    {
     "data": {
      "text/html": [
       "<div>\n",
       "<style scoped>\n",
       "    .dataframe tbody tr th:only-of-type {\n",
       "        vertical-align: middle;\n",
       "    }\n",
       "\n",
       "    .dataframe tbody tr th {\n",
       "        vertical-align: top;\n",
       "    }\n",
       "\n",
       "    .dataframe thead th {\n",
       "        text-align: right;\n",
       "    }\n",
       "</style>\n",
       "<table border=\"1\" class=\"dataframe\">\n",
       "  <thead>\n",
       "    <tr style=\"text-align: right;\">\n",
       "      <th></th>\n",
       "      <th>0</th>\n",
       "    </tr>\n",
       "  </thead>\n",
       "  <tbody>\n",
       "    <tr>\n",
       "      <th>0</th>\n",
       "      <td>5.0</td>\n",
       "    </tr>\n",
       "    <tr>\n",
       "      <th>1</th>\n",
       "      <td>6.0</td>\n",
       "    </tr>\n",
       "    <tr>\n",
       "      <th>2</th>\n",
       "      <td>7.0</td>\n",
       "    </tr>\n",
       "    <tr>\n",
       "      <th>3</th>\n",
       "      <td>8.0</td>\n",
       "    </tr>\n",
       "    <tr>\n",
       "      <th>4</th>\n",
       "      <td>7.0</td>\n",
       "    </tr>\n",
       "    <tr>\n",
       "      <th>...</th>\n",
       "      <td>...</td>\n",
       "    </tr>\n",
       "    <tr>\n",
       "      <th>14271</th>\n",
       "      <td>5.0</td>\n",
       "    </tr>\n",
       "    <tr>\n",
       "      <th>14272</th>\n",
       "      <td>8.0</td>\n",
       "    </tr>\n",
       "    <tr>\n",
       "      <th>14273</th>\n",
       "      <td>2.0</td>\n",
       "    </tr>\n",
       "    <tr>\n",
       "      <th>14274</th>\n",
       "      <td>6.0</td>\n",
       "    </tr>\n",
       "    <tr>\n",
       "      <th>14275</th>\n",
       "      <td>7.0</td>\n",
       "    </tr>\n",
       "  </tbody>\n",
       "</table>\n",
       "<p>14276 rows × 1 columns</p>\n",
       "</div>"
      ],
      "text/plain": [
       "         0\n",
       "0      5.0\n",
       "1      6.0\n",
       "2      7.0\n",
       "3      8.0\n",
       "4      7.0\n",
       "...    ...\n",
       "14271  5.0\n",
       "14272  8.0\n",
       "14273  2.0\n",
       "14274  6.0\n",
       "14275  7.0\n",
       "\n",
       "[14276 rows x 1 columns]"
      ]
     },
     "execution_count": 5,
     "metadata": {},
     "output_type": "execute_result"
    }
   ],
   "source": [
    "y"
   ]
  },
  {
   "cell_type": "code",
   "execution_count": 6,
   "id": "115b6413",
   "metadata": {},
   "outputs": [],
   "source": [
    "y_100_rows = y[0:100]"
   ]
  },
  {
   "cell_type": "code",
   "execution_count": 7,
   "id": "d8334369",
   "metadata": {},
   "outputs": [],
   "source": [
    "y_arr = y_100_rows.to_numpy()"
   ]
  },
  {
   "cell_type": "code",
   "execution_count": 8,
   "id": "f700efbc",
   "metadata": {},
   "outputs": [],
   "source": [
    "os.chdir('/mnt/c/Users/janos/OneDrive/Desktop/Master_thesis')"
   ]
  },
  {
   "cell_type": "markdown",
   "id": "06f776e9",
   "metadata": {},
   "source": [
    "NEW APPROACH:\n",
    "\n",
    "Fit CNN on X-Array. Problem: How to get RGB from array?\n",
    "**SOLVED**. See Cell below (\"GET RGBA VALUES FOR EACH HEATMAP\").\n",
    "\n",
    "RGB NOT NECCESSARY FOR CNN. STILL ADDING THIRD DIMENSION?"
   ]
  },
  {
   "cell_type": "markdown",
   "id": "757dd58c",
   "metadata": {},
   "source": [
    "1. Read first 10 rows from X."
   ]
  },
  {
   "cell_type": "code",
   "execution_count": 9,
   "id": "8fd9fec6",
   "metadata": {},
   "outputs": [
    {
     "name": "stdout",
     "output_type": "stream",
     "text": [
      "Processed 1/10 chunks\n",
      "Processed 2/10 chunks\n",
      "Processed 3/10 chunks\n",
      "Processed 4/10 chunks\n",
      "Processed 5/10 chunks\n",
      "Processed 6/10 chunks\n",
      "Processed 7/10 chunks\n",
      "Processed 8/10 chunks\n",
      "Processed 9/10 chunks\n",
      "Processed 10/10 chunks\n"
     ]
    }
   ],
   "source": [
    "chunk = 10\n",
    "i=0\n",
    "X=[]\n",
    "import pandas as pd\n",
    "for df in pd.read_csv('X_matrix.csv',chunksize = chunk):\n",
    "    X.append(df)\n",
    "    i=i+1\n",
    "    print('Processed {i}/10 chunks'.format(i=i))\n",
    "    if i == 10:\n",
    "        break\n",
    "\n"
   ]
  },
  {
   "cell_type": "code",
   "execution_count": 10,
   "id": "a4b34dae",
   "metadata": {},
   "outputs": [],
   "source": [
    "X = pd.concat(X)"
   ]
  },
  {
   "cell_type": "code",
   "execution_count": 11,
   "id": "4eea2fde",
   "metadata": {},
   "outputs": [],
   "source": [
    "X_arr = X.to_numpy()"
   ]
  },
  {
   "cell_type": "markdown",
   "id": "4f71a435",
   "metadata": {},
   "source": [
    "Adding new dimension for CNN"
   ]
  },
  {
   "cell_type": "code",
   "execution_count": 12,
   "id": "564595fc",
   "metadata": {},
   "outputs": [],
   "source": [
    "X_ = X_arr[:,:,np.newaxis]"
   ]
  },
  {
   "cell_type": "code",
   "execution_count": 13,
   "id": "75fca9fe",
   "metadata": {},
   "outputs": [],
   "source": [
    "X_ = np.swapaxes(X_,2,1)"
   ]
  },
  {
   "cell_type": "code",
   "execution_count": 14,
   "id": "9ceb6de7",
   "metadata": {},
   "outputs": [
    {
     "data": {
      "text/plain": [
       "(100, 1, 50177)"
      ]
     },
     "execution_count": 14,
     "metadata": {},
     "output_type": "execute_result"
    }
   ],
   "source": [
    "X_.shape"
   ]
  },
  {
   "cell_type": "markdown",
   "id": "26a1b271",
   "metadata": {},
   "source": [
    "Converting X to appropriate Datatype..."
   ]
  },
  {
   "cell_type": "code",
   "execution_count": 17,
   "id": "65c53b90",
   "metadata": {},
   "outputs": [],
   "source": [
    "X_tensor_train = torch.from_numpy(X_)\n",
    "y_tensor_train = torch.from_numpy(y_arr)"
   ]
  },
  {
   "cell_type": "code",
   "execution_count": 18,
   "id": "4da84574",
   "metadata": {},
   "outputs": [
    {
     "name": "stderr",
     "output_type": "stream",
     "text": [
      "/tmp/ipykernel_992/1671349079.py:1: UserWarning: To copy construct from a tensor, it is recommended to use sourceTensor.clone().detach() or sourceTensor.clone().detach().requires_grad_(True), rather than torch.tensor(sourceTensor).\n",
      "  X_tensor_train = torch.tensor(X_tensor_train,dtype = torch.float32)\n"
     ]
    }
   ],
   "source": [
    "X_tensor_train = torch.tensor(X_tensor_train,dtype = torch.float32)\n",
    "y_tensor_train = y_tensor_train.type(torch.LongTensor)"
   ]
  },
  {
   "cell_type": "code",
   "execution_count": 19,
   "id": "b9f13475",
   "metadata": {},
   "outputs": [
    {
     "data": {
      "text/plain": [
       "torch.Size([100, 1, 50177])"
      ]
     },
     "execution_count": 19,
     "metadata": {},
     "output_type": "execute_result"
    }
   ],
   "source": [
    "X_tensor_train.shape"
   ]
  },
  {
   "cell_type": "code",
   "execution_count": 20,
   "id": "a4ba9007",
   "metadata": {},
   "outputs": [
    {
     "data": {
      "text/plain": [
       "torch.Size([100, 1])"
      ]
     },
     "execution_count": 20,
     "metadata": {},
     "output_type": "execute_result"
    }
   ],
   "source": [
    "y_tensor_train.shape"
   ]
  },
  {
   "cell_type": "markdown",
   "id": "afb549b3",
   "metadata": {},
   "source": [
    "Setup transformer"
   ]
  },
  {
   "cell_type": "code",
   "execution_count": 21,
   "id": "3135c897",
   "metadata": {},
   "outputs": [],
   "source": [
    "class CustomDataset(Dataset):\n",
    "    def __init__(self, X, y):\n",
    "        self.X = X\n",
    "        self.y = y\n",
    "        \n",
    "    def __len__(self):\n",
    "        return len(self.X)\n",
    "    \n",
    "    def __getitem__(self, idx):\n",
    "        X = self.X[idx]\n",
    "        y = self.y[idx]\n",
    "        return X, y\n"
   ]
  },
  {
   "cell_type": "markdown",
   "id": "a5adedde",
   "metadata": {},
   "source": [
    "Setting up the CNN."
   ]
  },
  {
   "cell_type": "code",
   "execution_count": 22,
   "id": "e7878fb8",
   "metadata": {},
   "outputs": [],
   "source": [
    "import torch.nn as nn\n",
    "\n",
    "class CNN(nn.Module):\n",
    "    def __init__(self):\n",
    "        super(CNN, self).__init__()\n",
    "        self.conv1 = nn.Conv1d(1, 16, kernel_size=3, stride=1, padding=1)\n",
    "        self.relu1 = nn.ReLU(inplace=True)\n",
    "        self.pool1 = nn.MaxPool1d(kernel_size=2, stride=2)\n",
    "        self.conv2 = nn.Conv1d(16, 32, kernel_size=3, stride=1, padding=1)\n",
    "        self.relu2 = nn.ReLU(inplace=True)\n",
    "        self.pool2 = nn.MaxPool1d(kernel_size=2, stride=2)\n",
    "        self.fc1 = nn.Linear(32 * 12544, 128)\n",
    "        self.relu3 = nn.ReLU(inplace=True)\n",
    "        self.fc2 = nn.Linear(128, 10)\n",
    "        \n",
    "    def forward(self, x):\n",
    "        x = self.conv1(x)\n",
    "        x = self.relu1(x)\n",
    "        x = self.pool1(x)\n",
    "        x = self.conv2(x)\n",
    "        x = self.relu2(x)\n",
    "        x = self.pool2(x)\n",
    "        #x = torch.flatten(x, 1)\n",
    "        #x = x.view(x.size(0), -1)\n",
    "        x = x.view(-1, 32 * 12544)\n",
    "        x = self.fc1(x)\n",
    "        x = self.relu3(x)\n",
    "        x = self.fc2(x)\n",
    "        return x\n"
   ]
  },
  {
   "cell_type": "code",
   "execution_count": 23,
   "id": "2f7cb558",
   "metadata": {},
   "outputs": [],
   "source": [
    "c = CNN()"
   ]
  },
  {
   "cell_type": "code",
   "execution_count": 24,
   "id": "0ec95fbd",
   "metadata": {},
   "outputs": [],
   "source": [
    "import torch.nn as nn\n",
    "import torch.nn.functional as F\n",
    "\n",
    "class saliencnn(nn.Module):\n",
    "    def __init__(self):\n",
    "        super(saliencnn, self).__init__()\n",
    "        self.conv1 = nn.Conv1d(1, 16, kernel_size=3, stride=1, padding=1)\n",
    "        self.conv2 = nn.Conv1d(16, 32, kernel_size=3, stride=1, padding=1)\n",
    "        self.fc1 = nn.Linear(9216, 128)\n",
    "        self.fc2 = nn.Linear(128, 10)\n",
    "        self.pool = nn.MaxPool1d(2)\n",
    "        \n",
    "    def forward(self, x):\n",
    "        x = self.conv1(x)\n",
    "        x = F.relu(x)\n",
    "        x = self.conv2(x)\n",
    "        x = F.relu(x)\n",
    "        x = self.pool(x)\n",
    "        x = torch.flatten(x, 1)\n",
    "        x = self.fc1(x)\n",
    "        x = F.relu(x)\n",
    "        x = self.fc2(x)\n",
    "        return x\n"
   ]
  },
  {
   "cell_type": "code",
   "execution_count": 25,
   "id": "55bb7ced",
   "metadata": {},
   "outputs": [],
   "source": [
    "CNN = saliencnn()"
   ]
  },
  {
   "cell_type": "code",
   "execution_count": 67,
   "id": "8cab71fb",
   "metadata": {},
   "outputs": [],
   "source": [
    "dataset = CustomDataset(X_tensor_train,y_tensor_train)\n",
    "dataloader = DataLoader(dataset, batch_size=32, shuffle=True)\n",
    "criterion = nn.CrossEntropyLoss()"
   ]
  },
  {
   "cell_type": "code",
   "execution_count": 56,
   "id": "6b666b69",
   "metadata": {},
   "outputs": [],
   "source": [
    "data, target = data.to('cpu'), label.to('cpu')"
   ]
  },
  {
   "cell_type": "code",
   "execution_count": 57,
   "id": "a64dcf78",
   "metadata": {},
   "outputs": [
    {
     "data": {
      "text/plain": [
       "tensor([[[8.0000e+01, 1.3810e-01, 1.0296e-01,  ..., 1.1874e-02,\n",
       "          6.9254e-03, 8.2102e-03]],\n",
       "\n",
       "        [[7.9000e+01, 7.5426e-02, 8.1042e-02,  ..., 4.0362e-03,\n",
       "          5.1370e-03, 4.6739e-03]],\n",
       "\n",
       "        [[7.0000e+00, 1.6194e-03, 1.5752e-02,  ..., 6.4163e-02,\n",
       "          7.1252e-02, 6.5783e-02]],\n",
       "\n",
       "        [[6.2000e+01, 1.5321e-02, 3.3675e-02,  ..., 4.9030e-03,\n",
       "          3.1270e-02, 4.2512e-02]]])"
      ]
     },
     "execution_count": 57,
     "metadata": {},
     "output_type": "execute_result"
    }
   ],
   "source": [
    "data"
   ]
  },
  {
   "cell_type": "code",
   "execution_count": 75,
   "id": "5022ffe9",
   "metadata": {},
   "outputs": [],
   "source": [
    "def train(net, loss_fn, dataloader,\n",
    "          n_epochs=50, learning_rate=0.01):\n",
    "    optimizer = torch.optim.SGD(net.parameters(), lr=learning_rate,weight_decay=1e-4)\n",
    "    train_loss = []\n",
    "    net.train()\n",
    "    for i in range(n_epochs):   \n",
    "        for data, label in dataloader:\n",
    "            data, label = data.to('cpu'), label.to('cpu')\n",
    "        #make prediction\n",
    "            output = net(data)\n",
    "\n",
    "            # Zero out the gradients\n",
    "            optimizer.zero_grad()\n",
    "\n",
    "            # Calculate loss.\n",
    "            loss = criterion(output,torch.max(label, 1)[0])\n",
    "\n",
    "            # Backpropagation and gradient update.\n",
    "            loss.backward()# Calculate gradients. #retrain_graph=True\n",
    "\n",
    "            optimizer.step() # Apply gradient udpate.\n",
    "\n",
    "            train_loss.append(loss.item())\n",
    "            \n",
    "            print(data.shape)\n",
    "\n",
    "            if (i + 1) % (n_epochs // 5) == 0:\n",
    "                print(f'iteration {i + 1}/{n_epochs} | loss: {loss.item():.3f}')\n",
    "        y_pred = torch.softmax(output,dim=1).argmax(dim=1)\n",
    "        return y_pred, train_loss\n"
   ]
  },
  {
   "cell_type": "code",
   "execution_count": 41,
   "id": "19679d1d",
   "metadata": {},
   "outputs": [],
   "source": [
    "import matplotlib.pyplot as plt"
   ]
  },
  {
   "cell_type": "code",
   "execution_count": 76,
   "id": "a0e2703b",
   "metadata": {},
   "outputs": [
    {
     "name": "stdout",
     "output_type": "stream",
     "text": [
      "torch.Size([32, 1, 50177])\n",
      "torch.Size([32, 1, 50177])\n",
      "torch.Size([32, 1, 50177])\n",
      "torch.Size([4, 1, 50177])\n"
     ]
    },
    {
     "data": {
      "image/png": "[encoded data removed]",
      "text/plain": [
       "<Figure size 640x480 with 1 Axes>"
      ]
     },
     "metadata": {},
     "output_type": "display_data"
    }
   ],
   "source": [
    "#y_pred,train_loss =\n",
    "train(net=c,loss_fn=criterion,dataloader=dataloader)\n",
    "\n",
    "plt.plot(train_loss)\n",
    "\n",
    "plt.xlabel('iterations of gradient descent')\n",
    "plt.ylabel('Cross entropy')\n",
    "plt.show()"
   ]
  },
  {
   "cell_type": "code",
   "execution_count": 77,
   "id": "3ced011e",
   "metadata": {},
   "outputs": [],
   "source": [
    "xyz = c(X_tensor_train)"
   ]
  },
  {
   "cell_type": "code",
   "execution_count": 87,
   "id": "674fbbfd",
   "metadata": {},
   "outputs": [],
   "source": [
    "loss = criterion(xyz,torch.max(y_tensor_train, 1)[1])\n",
    "y_pred_probs = torch.softmax(xyz, dim=1) #get probability for given class\n",
    "y_preds = y_pred_probs.argmax(dim=1)"
   ]
  },
  {
   "cell_type": "code",
   "execution_count": 93,
   "id": "be9a69b2",
   "metadata": {},
   "outputs": [
    {
     "data": {
      "text/plain": [
       "tensor([ 5,  6,  7,  8,  7,  3,  6,  7,  7,  7,  8,  5,  6,  2,  8,  6,  6,  5,\n",
       "         5,  6,  7,  6,  6,  5,  8,  5,  6,  5,  7,  7,  7,  4,  7,  6,  6,  6,\n",
       "         4,  6,  5,  7,  7,  6,  4,  7,  7,  8,  5,  8,  7,  6,  4,  6,  5,  8,\n",
       "         7, 10,  6,  6,  7,  6,  7,  6,  7,  5,  4,  8,  5,  6,  5,  6,  7,  2,\n",
       "         5,  5,  5,  8,  7,  6,  7,  7,  6,  6,  7,  6,  5,  6,  6,  5,  5,  7,\n",
       "         6,  6,  7,  7,  6,  3,  4,  5,  6,  6])"
      ]
     },
     "execution_count": 93,
     "metadata": {},
     "output_type": "execute_result"
    }
   ],
   "source": [
    "torch.max(y_tensor_train,1)[0]"
   ]
  },
  {
   "cell_type": "code",
   "execution_count": 89,
   "id": "86027738",
   "metadata": {},
   "outputs": [
    {
     "name": "stdout",
     "output_type": "stream",
     "text": [
      "true category: tensor([[ 5],\n",
      "        [ 6],\n",
      "        [ 7],\n",
      "        [ 8],\n",
      "        [ 7],\n",
      "        [ 3],\n",
      "        [ 6],\n",
      "        [ 7],\n",
      "        [ 7],\n",
      "        [ 7],\n",
      "        [ 8],\n",
      "        [ 5],\n",
      "        [ 6],\n",
      "        [ 2],\n",
      "        [ 8],\n",
      "        [ 6],\n",
      "        [ 6],\n",
      "        [ 5],\n",
      "        [ 5],\n",
      "        [ 6],\n",
      "        [ 7],\n",
      "        [ 6],\n",
      "        [ 6],\n",
      "        [ 5],\n",
      "        [ 8],\n",
      "        [ 5],\n",
      "        [ 6],\n",
      "        [ 5],\n",
      "        [ 7],\n",
      "        [ 7],\n",
      "        [ 7],\n",
      "        [ 4],\n",
      "        [ 7],\n",
      "        [ 6],\n",
      "        [ 6],\n",
      "        [ 6],\n",
      "        [ 4],\n",
      "        [ 6],\n",
      "        [ 5],\n",
      "        [ 7],\n",
      "        [ 7],\n",
      "        [ 6],\n",
      "        [ 4],\n",
      "        [ 7],\n",
      "        [ 7],\n",
      "        [ 8],\n",
      "        [ 5],\n",
      "        [ 8],\n",
      "        [ 7],\n",
      "        [ 6],\n",
      "        [ 4],\n",
      "        [ 6],\n",
      "        [ 5],\n",
      "        [ 8],\n",
      "        [ 7],\n",
      "        [10],\n",
      "        [ 6],\n",
      "        [ 6],\n",
      "        [ 7],\n",
      "        [ 6],\n",
      "        [ 7],\n",
      "        [ 6],\n",
      "        [ 7],\n",
      "        [ 5],\n",
      "        [ 4],\n",
      "        [ 8],\n",
      "        [ 5],\n",
      "        [ 6],\n",
      "        [ 5],\n",
      "        [ 6],\n",
      "        [ 7],\n",
      "        [ 2],\n",
      "        [ 5],\n",
      "        [ 5],\n",
      "        [ 5],\n",
      "        [ 8],\n",
      "        [ 7],\n",
      "        [ 6],\n",
      "        [ 7],\n",
      "        [ 7],\n",
      "        [ 6],\n",
      "        [ 6],\n",
      "        [ 7],\n",
      "        [ 6],\n",
      "        [ 5],\n",
      "        [ 6],\n",
      "        [ 6],\n",
      "        [ 5],\n",
      "        [ 5],\n",
      "        [ 7],\n",
      "        [ 6],\n",
      "        [ 6],\n",
      "        [ 7],\n",
      "        [ 7],\n",
      "        [ 6],\n",
      "        [ 3],\n",
      "        [ 4],\n",
      "        [ 5],\n",
      "        [ 6],\n",
      "        [ 6]])\n",
      "Predicted category:tensor([0, 0, 0, 0, 0, 0, 0, 0, 0, 0, 0, 0, 0, 0, 0, 0, 0, 0, 0, 0, 0, 0, 0, 0,\n",
      "        0, 0, 0, 0, 0, 0, 0, 0, 0, 0, 0, 0, 0, 0, 0, 0, 0, 0, 0, 0, 0, 0, 0, 0,\n",
      "        0, 0, 0, 0, 0, 0, 0, 0, 0, 0, 0, 0, 0, 0, 0, 0, 0, 0, 0, 0, 0, 0, 0, 0,\n",
      "        0, 0, 0, 0, 0, 0, 0, 0, 0, 0, 0, 0, 0, 0, 0, 0, 0, 0, 0, 0, 0, 0, 0, 0,\n",
      "        0, 0, 0, 0])\n",
      "cross entropy loss 0.00031904224306344986\n"
     ]
    }
   ],
   "source": [
    "print('true category: {}'.format(y_tensor_train))\n",
    "print('Predicted category:{}'.format(y_preds))\n",
    "print('cross entropy loss {}'.format(loss))"
   ]
  },
  {
   "cell_type": "code",
   "execution_count": 83,
   "id": "9f8bdd1b",
   "metadata": {},
   "outputs": [
    {
     "data": {
      "text/plain": [
       "tensor([[ 8.6946, -1.3119, -0.5777, -2.0572, -1.8663, -2.6961, -1.8886, -1.5400,\n",
       "         -0.5638, -0.9394],\n",
       "        [ 8.4401, -1.2733, -0.5634, -2.0011, -1.8072, -2.6137, -1.8295, -1.4921,\n",
       "         -0.5523, -0.9160],\n",
       "        [ 8.5073, -1.2849, -0.5671, -2.0165, -1.8205, -2.6364, -1.8420, -1.5020,\n",
       "         -0.5574, -0.9225],\n",
       "        [ 8.3331, -1.2566, -0.5556, -1.9752, -1.7838, -2.5815, -1.8053, -1.4724,\n",
       "         -0.5449, -0.9043],\n",
       "        [ 8.7583, -1.3212, -0.5819, -2.0720, -1.8774, -2.7143, -1.8974, -1.5487,\n",
       "         -0.5693, -0.9484],\n",
       "        [ 8.7138, -1.3157, -0.5764, -2.0596, -1.8696, -2.7033, -1.8892, -1.5424,\n",
       "         -0.5692, -0.9424],\n",
       "        [ 8.5171, -1.2888, -0.5661, -2.0179, -1.8234, -2.6414, -1.8461, -1.5055,\n",
       "         -0.5570, -0.9207],\n",
       "        [ 8.6385, -1.3053, -0.5724, -2.0447, -1.8526, -2.6793, -1.8723, -1.5325,\n",
       "         -0.5656, -0.9339],\n",
       "        [ 8.7992, -1.3285, -0.5785, -2.0826, -1.8884, -2.7326, -1.9057, -1.5593,\n",
       "         -0.5751, -0.9505],\n",
       "        [ 8.5318, -1.2907, -0.5647, -2.0230, -1.8306, -2.6454, -1.8493, -1.5124,\n",
       "         -0.5576, -0.9212],\n",
       "        [ 8.4080, -1.2722, -0.5575, -1.9953, -1.8023, -2.6073, -1.8213, -1.4906,\n",
       "         -0.5508, -0.9073],\n",
       "        [ 8.5965, -1.3000, -0.5690, -2.0351, -1.8419, -2.6645, -1.8624, -1.5209,\n",
       "         -0.5611, -0.9277],\n",
       "        [ 8.6061, -1.3017, -0.5693, -2.0376, -1.8440, -2.6678, -1.8643, -1.5229,\n",
       "         -0.5618, -0.9282],\n",
       "        [ 8.4763, -1.2824, -0.5612, -2.0121, -1.8182, -2.6314, -1.8361, -1.5024,\n",
       "         -0.5557, -0.9128],\n",
       "        [ 8.7913, -1.3290, -0.5816, -2.0848, -1.8822, -2.7276, -1.9021, -1.5553,\n",
       "         -0.5715, -0.9490],\n",
       "        [ 8.6849, -1.3150, -0.5726, -2.0597, -1.8649, -2.6995, -1.8835, -1.5412,\n",
       "         -0.5680, -0.9327],\n",
       "        [ 8.6945, -1.3168, -0.5729, -2.0622, -1.8670, -2.7028, -1.8854, -1.5432,\n",
       "         -0.5687, -0.9332],\n",
       "        [ 8.5051, -1.2873, -0.5620, -2.0197, -1.8221, -2.6404, -1.8417, -1.5083,\n",
       "         -0.5578, -0.9131],\n",
       "        [ 8.5129, -1.2906, -0.5615, -2.0199, -1.8245, -2.6424, -1.8436, -1.5102,\n",
       "         -0.5584, -0.9149],\n",
       "        [ 8.4866, -1.2855, -0.5593, -2.0161, -1.8179, -2.6348, -1.8353, -1.5078,\n",
       "         -0.5574, -0.9105],\n",
       "        [ 8.6921, -1.3169, -0.5721, -2.0626, -1.8635, -2.6993, -1.8815, -1.5429,\n",
       "         -0.5688, -0.9325],\n",
       "        [ 8.8118, -1.3361, -0.5778, -2.0885, -1.8909, -2.7360, -1.9075, -1.5636,\n",
       "         -0.5735, -0.9437],\n",
       "        [ 8.9307, -1.3531, -0.5866, -2.1162, -1.9173, -2.7742, -1.9337, -1.5850,\n",
       "         -0.5817, -0.9569],\n",
       "        [ 8.9404, -1.3548, -0.5869, -2.1187, -1.9194, -2.7776, -1.9356, -1.5870,\n",
       "         -0.5824, -0.9575],\n",
       "        [ 8.6202, -1.3079, -0.5676, -2.0478, -1.8488, -2.6781, -1.8659, -1.5319,\n",
       "         -0.5647, -0.9206],\n",
       "        [ 9.0941, -1.3800, -0.5943, -2.1551, -1.9494, -2.8253, -1.9693, -1.6123,\n",
       "         -0.5917, -0.9678],\n",
       "        [ 8.7788, -1.3312, -0.5765, -2.0866, -1.8860, -2.7305, -1.9004, -1.5614,\n",
       "         -0.5748, -0.9373],\n",
       "        [ 8.7885, -1.3329, -0.5768, -2.0891, -1.8881, -2.7338, -1.9023, -1.5634,\n",
       "         -0.5755, -0.9378],\n",
       "        [ 8.7113, -1.3224, -0.5714, -2.0689, -1.8672, -2.7082, -1.8835, -1.5470,\n",
       "         -0.5700, -0.9301],\n",
       "        [ 8.7174, -1.3211, -0.5724, -2.0712, -1.8726, -2.7105, -1.8840, -1.5511,\n",
       "         -0.5717, -0.9273],\n",
       "        [ 8.7271, -1.3229, -0.5727, -2.0737, -1.8747, -2.7139, -1.8859, -1.5531,\n",
       "         -0.5724, -0.9278],\n",
       "        [ 8.7415, -1.3307, -0.5748, -2.0764, -1.8748, -2.7191, -1.8904, -1.5516,\n",
       "         -0.5705, -0.9322],\n",
       "        [ 8.8790, -1.3505, -0.5798, -2.1079, -1.9035, -2.7613, -1.9207, -1.5767,\n",
       "         -0.5803, -0.9472],\n",
       "        [ 8.8639, -1.3468, -0.5785, -2.1078, -1.9006, -2.7568, -1.9142, -1.5762,\n",
       "         -0.5830, -0.9437],\n",
       "        [ 8.7382, -1.3273, -0.5708, -2.0756, -1.8753, -2.7171, -1.8883, -1.5539,\n",
       "         -0.5723, -0.9312],\n",
       "        [ 9.0426, -1.3740, -0.5913, -2.1463, -1.9405, -2.8127, -1.9538, -1.6087,\n",
       "         -0.5907, -0.9609],\n",
       "        [ 8.6879, -1.3210, -0.5674, -2.0655, -1.8631, -2.7032, -1.8785, -1.5455,\n",
       "         -0.5705, -0.9229],\n",
       "        [ 8.8543, -1.3482, -0.5788, -2.1064, -1.9007, -2.7557, -1.9151, -1.5757,\n",
       "         -0.5798, -0.9418],\n",
       "        [ 8.8126, -1.3411, -0.5732, -2.0953, -1.8891, -2.7429, -1.9044, -1.5690,\n",
       "         -0.5799, -0.9366],\n",
       "        [ 8.7661, -1.3316, -0.5708, -2.0840, -1.8797, -2.7285, -1.8935, -1.5597,\n",
       "         -0.5755, -0.9315],\n",
       "        [ 8.8671, -1.3495, -0.5774, -2.1090, -1.9009, -2.7611, -1.9156, -1.5787,\n",
       "         -0.5823, -0.9406],\n",
       "        [ 8.8175, -1.3449, -0.5741, -2.0981, -1.8897, -2.7470, -1.9062, -1.5704,\n",
       "         -0.5772, -0.9369],\n",
       "        [ 8.7848, -1.3379, -0.5718, -2.0901, -1.8835, -2.7342, -1.8963, -1.5641,\n",
       "         -0.5778, -0.9301],\n",
       "        [ 8.7828, -1.3382, -0.5708, -2.0888, -1.8837, -2.7355, -1.8980, -1.5643,\n",
       "         -0.5770, -0.9307],\n",
       "        [ 8.8056, -1.3419, -0.5739, -2.0946, -1.8897, -2.7426, -1.9018, -1.5678,\n",
       "         -0.5773, -0.9320],\n",
       "        [ 8.9389, -1.3625, -0.5813, -2.1263, -1.9191, -2.7856, -1.9311, -1.5914,\n",
       "         -0.5861, -0.9456],\n",
       "        [ 8.8558, -1.3484, -0.5766, -2.1063, -1.9013, -2.7595, -1.9122, -1.5803,\n",
       "         -0.5787, -0.9378],\n",
       "        [ 9.2181, -1.4051, -0.5943, -2.1929, -1.9765, -2.8739, -1.9943, -1.6456,\n",
       "         -0.6010, -0.9762],\n",
       "        [ 9.0590, -1.3798, -0.5870, -2.1525, -1.9445, -2.8236, -1.9566, -1.6143,\n",
       "         -0.5920, -0.9568],\n",
       "        [ 9.1484, -1.3944, -0.5910, -2.1734, -1.9633, -2.8515, -1.9749, -1.6312,\n",
       "         -0.5981, -0.9678],\n",
       "        [ 8.9811, -1.3687, -0.5814, -2.1388, -1.9258, -2.7986, -1.9397, -1.6014,\n",
       "         -0.5889, -0.9476],\n",
       "        [ 8.9573, -1.3677, -0.5816, -2.1330, -1.9233, -2.7912, -1.9330, -1.5974,\n",
       "         -0.5874, -0.9459],\n",
       "        [ 9.1199, -1.3924, -0.5919, -2.1675, -1.9565, -2.8424, -1.9709, -1.6258,\n",
       "         -0.5954, -0.9592],\n",
       "        [ 8.8668, -1.3532, -0.5728, -2.1127, -1.9022, -2.7642, -1.9119, -1.5815,\n",
       "         -0.5850, -0.9350],\n",
       "        [ 8.8883, -1.3580, -0.5738, -2.1163, -1.9079, -2.7718, -1.9176, -1.5870,\n",
       "         -0.5845, -0.9357],\n",
       "        [ 8.9154, -1.3621, -0.5750, -2.1229, -1.9136, -2.7778, -1.9231, -1.5913,\n",
       "         -0.5869, -0.9387],\n",
       "        [ 8.9103, -1.3607, -0.5760, -2.1242, -1.9118, -2.7791, -1.9210, -1.5911,\n",
       "         -0.5871, -0.9390],\n",
       "        [ 9.2276, -1.4118, -0.5971, -2.1969, -1.9846, -2.8775, -1.9928, -1.6460,\n",
       "         -0.6024, -0.9693],\n",
       "        [ 9.0524, -1.3828, -0.5852, -2.1567, -1.9411, -2.8239, -1.9505, -1.6163,\n",
       "         -0.5949, -0.9532],\n",
       "        [ 9.0620, -1.3845, -0.5855, -2.1592, -1.9432, -2.8273, -1.9524, -1.6182,\n",
       "         -0.5957, -0.9537],\n",
       "        [ 9.0817, -1.3893, -0.5870, -2.1629, -1.9476, -2.8342, -1.9592, -1.6202,\n",
       "         -0.5949, -0.9547],\n",
       "        [ 9.0914, -1.3910, -0.5873, -2.1654, -1.9497, -2.8376, -1.9611, -1.6222,\n",
       "         -0.5956, -0.9553],\n",
       "        [ 9.1651, -1.3998, -0.5927, -2.1831, -1.9668, -2.8628, -1.9790, -1.6365,\n",
       "         -0.6001, -0.9624],\n",
       "        [ 9.1748, -1.4015, -0.5930, -2.1856, -1.9689, -2.8661, -1.9809, -1.6384,\n",
       "         -0.6008, -0.9630],\n",
       "        [ 9.1316, -1.3952, -0.5887, -2.1770, -1.9595, -2.8516, -1.9688, -1.6318,\n",
       "         -0.5994, -0.9577],\n",
       "        [ 9.1413, -1.3969, -0.5890, -2.1795, -1.9616, -2.8549, -1.9707, -1.6338,\n",
       "         -0.6001, -0.9582],\n",
       "        [ 9.1380, -1.3998, -0.5877, -2.1772, -1.9611, -2.8530, -1.9705, -1.6324,\n",
       "         -0.5981, -0.9554],\n",
       "        [ 9.2891, -1.4226, -0.5947, -2.2130, -1.9932, -2.9008, -2.0040, -1.6573,\n",
       "         -0.6117, -0.9709],\n",
       "        [ 9.2344, -1.4164, -0.5913, -2.1993, -1.9804, -2.8846, -1.9918, -1.6514,\n",
       "         -0.6047, -0.9649],\n",
       "        [ 9.4084, -1.4410, -0.6041, -2.2425, -2.0195, -2.9407, -2.0283, -1.6803,\n",
       "         -0.6170, -0.9852],\n",
       "        [ 9.0457, -1.3862, -0.5803, -2.1569, -1.9409, -2.8263, -1.9481, -1.6185,\n",
       "         -0.5958, -0.9442],\n",
       "        [ 9.4872, -1.4535, -0.6093, -2.2591, -2.0377, -2.9649, -2.0457, -1.6970,\n",
       "         -0.6205, -0.9900],\n",
       "        [ 9.4969, -1.4553, -0.6096, -2.2616, -2.0398, -2.9683, -2.0476, -1.6990,\n",
       "         -0.6212, -0.9905],\n",
       "        [ 9.5088, -1.4582, -0.6078, -2.2668, -2.0395, -2.9717, -2.0465, -1.7009,\n",
       "         -0.6239, -0.9968],\n",
       "        [ 9.3904, -1.4375, -0.6000, -2.2404, -2.0171, -2.9367, -2.0233, -1.6820,\n",
       "         -0.6160, -0.9833],\n",
       "        [ 9.2326, -1.4145, -0.5906, -2.2025, -1.9817, -2.8879, -1.9870, -1.6542,\n",
       "         -0.6068, -0.9659],\n",
       "        [ 9.4288, -1.4437, -0.6030, -2.2442, -2.0270, -2.9484, -2.0331, -1.6882,\n",
       "         -0.6148, -0.9840],\n",
       "        [ 9.2833, -1.4248, -0.5919, -2.2130, -1.9932, -2.9040, -2.0004, -1.6634,\n",
       "         -0.6098, -0.9658],\n",
       "        [ 9.3502, -1.4344, -0.5958, -2.2302, -2.0079, -2.9247, -2.0116, -1.6727,\n",
       "         -0.6139, -0.9737],\n",
       "        [ 9.0933, -1.3963, -0.5809, -2.1717, -1.9514, -2.8441, -1.9573, -1.6301,\n",
       "         -0.5997, -0.9473],\n",
       "        [ 9.2722, -1.4221, -0.5905, -2.2124, -1.9911, -2.9007, -1.9943, -1.6616,\n",
       "         -0.6098, -0.9656],\n",
       "        [ 9.1244, -1.4003, -0.5809, -2.1788, -1.9579, -2.8541, -1.9639, -1.6359,\n",
       "         -0.6028, -0.9487],\n",
       "        [ 9.1139, -1.4004, -0.5784, -2.1757, -1.9545, -2.8506, -1.9607, -1.6339,\n",
       "         -0.6010, -0.9457],\n",
       "        [ 9.1678, -1.4066, -0.5850, -2.1895, -1.9660, -2.8683, -1.9726, -1.6418,\n",
       "         -0.6049, -0.9541],\n",
       "        [ 9.4073, -1.4435, -0.6008, -2.2492, -2.0205, -2.9454, -2.0234, -1.6866,\n",
       "         -0.6202, -0.9771],\n",
       "        [ 9.4876, -1.4554, -0.6015, -2.2586, -2.0379, -2.9677, -2.0437, -1.6990,\n",
       "         -0.6189, -0.9840],\n",
       "        [ 9.1859, -1.4115, -0.5848, -2.1940, -1.9724, -2.8764, -1.9774, -1.6480,\n",
       "         -0.6053, -0.9538],\n",
       "        [ 9.4315, -1.4455, -0.6012, -2.2520, -2.0242, -2.9500, -2.0316, -1.6881,\n",
       "         -0.6195, -0.9791],\n",
       "        [ 9.4412, -1.4473, -0.6015, -2.2545, -2.0264, -2.9534, -2.0335, -1.6901,\n",
       "         -0.6202, -0.9797],\n",
       "        [ 9.2084, -1.4148, -0.5835, -2.1984, -1.9764, -2.8825, -1.9789, -1.6518,\n",
       "         -0.6074, -0.9535],\n",
       "        [ 9.2180, -1.4166, -0.5838, -2.2009, -1.9785, -2.8858, -1.9808, -1.6537,\n",
       "         -0.6081, -0.9541],\n",
       "        [ 9.3647, -1.4374, -0.5951, -2.2363, -2.0123, -2.9327, -2.0121, -1.6818,\n",
       "         -0.6154, -0.9706],\n",
       "        [ 9.5455, -1.4665, -0.6027, -2.2761, -2.0481, -2.9920, -2.0558, -1.7120,\n",
       "         -0.6266, -0.9875],\n",
       "        [ 9.3582, -1.4372, -0.5936, -2.2369, -2.0097, -2.9293, -2.0132, -1.6799,\n",
       "         -0.6180, -0.9693],\n",
       "        [ 9.3775, -1.4393, -0.5935, -2.2413, -2.0119, -2.9368, -2.0159, -1.6832,\n",
       "         -0.6191, -0.9702],\n",
       "        [ 9.3923, -1.4468, -0.5945, -2.2461, -2.0163, -2.9446, -2.0191, -1.6881,\n",
       "         -0.6208, -0.9730],\n",
       "        [ 9.5579, -1.4705, -0.6036, -2.2786, -2.0522, -2.9932, -2.0565, -1.7147,\n",
       "         -0.6239, -0.9881],\n",
       "        [ 9.6109, -1.4790, -0.6057, -2.2971, -2.0645, -3.0128, -2.0684, -1.7268,\n",
       "         -0.6364, -0.9945],\n",
       "        [ 9.6261, -1.4827, -0.6060, -2.3005, -2.0661, -3.0191, -2.0732, -1.7326,\n",
       "         -0.6312, -0.9904],\n",
       "        [ 9.4131, -1.4504, -0.5929, -2.2523, -2.0208, -2.9500, -2.0221, -1.6920,\n",
       "         -0.6216, -0.9702]], grad_fn=<AddmmBackward0>)"
      ]
     },
     "execution_count": 83,
     "metadata": {},
     "output_type": "execute_result"
    }
   ],
   "source": [
    "xyz"
   ]
  },
  {
   "cell_type": "code",
   "execution_count": 82,
   "id": "a650c26b",
   "metadata": {},
   "outputs": [
    {
     "data": {
      "text/plain": [
       "torch.Size([100])"
      ]
     },
     "execution_count": 82,
     "metadata": {},
     "output_type": "execute_result"
    }
   ],
   "source": [
    "y_pred.shape"
   ]
  },
  {
   "cell_type": "code",
   "execution_count": 53,
   "id": "3d9e0216",
   "metadata": {},
   "outputs": [
    {
     "data": {
      "text/plain": [
       "tensor([[ 5],\n",
       "        [ 6],\n",
       "        [ 7],\n",
       "        [ 8],\n",
       "        [ 7],\n",
       "        [ 3],\n",
       "        [ 6],\n",
       "        [ 7],\n",
       "        [ 7],\n",
       "        [ 7],\n",
       "        [ 8],\n",
       "        [ 5],\n",
       "        [ 6],\n",
       "        [ 2],\n",
       "        [ 8],\n",
       "        [ 6],\n",
       "        [ 6],\n",
       "        [ 5],\n",
       "        [ 5],\n",
       "        [ 6],\n",
       "        [ 7],\n",
       "        [ 6],\n",
       "        [ 6],\n",
       "        [ 5],\n",
       "        [ 8],\n",
       "        [ 5],\n",
       "        [ 6],\n",
       "        [ 5],\n",
       "        [ 7],\n",
       "        [ 7],\n",
       "        [ 7],\n",
       "        [ 4],\n",
       "        [ 7],\n",
       "        [ 6],\n",
       "        [ 6],\n",
       "        [ 6],\n",
       "        [ 4],\n",
       "        [ 6],\n",
       "        [ 5],\n",
       "        [ 7],\n",
       "        [ 7],\n",
       "        [ 6],\n",
       "        [ 4],\n",
       "        [ 7],\n",
       "        [ 7],\n",
       "        [ 8],\n",
       "        [ 5],\n",
       "        [ 8],\n",
       "        [ 7],\n",
       "        [ 6],\n",
       "        [ 4],\n",
       "        [ 6],\n",
       "        [ 5],\n",
       "        [ 8],\n",
       "        [ 7],\n",
       "        [10],\n",
       "        [ 6],\n",
       "        [ 6],\n",
       "        [ 7],\n",
       "        [ 6],\n",
       "        [ 7],\n",
       "        [ 6],\n",
       "        [ 7],\n",
       "        [ 5],\n",
       "        [ 4],\n",
       "        [ 8],\n",
       "        [ 5],\n",
       "        [ 6],\n",
       "        [ 5],\n",
       "        [ 6],\n",
       "        [ 7],\n",
       "        [ 2],\n",
       "        [ 5],\n",
       "        [ 5],\n",
       "        [ 5],\n",
       "        [ 8],\n",
       "        [ 7],\n",
       "        [ 6],\n",
       "        [ 7],\n",
       "        [ 7],\n",
       "        [ 6],\n",
       "        [ 6],\n",
       "        [ 7],\n",
       "        [ 6],\n",
       "        [ 5],\n",
       "        [ 6],\n",
       "        [ 6],\n",
       "        [ 5],\n",
       "        [ 5],\n",
       "        [ 7],\n",
       "        [ 6],\n",
       "        [ 6],\n",
       "        [ 7],\n",
       "        [ 7],\n",
       "        [ 6],\n",
       "        [ 3],\n",
       "        [ 4],\n",
       "        [ 5],\n",
       "        [ 6],\n",
       "        [ 6]])"
      ]
     },
     "execution_count": 53,
     "metadata": {},
     "output_type": "execute_result"
    }
   ],
   "source": [
    "y_tensor_train"
   ]
  },
  {
   "cell_type": "code",
   "execution_count": null,
   "id": "79afe8a6",
   "metadata": {},
   "outputs": [],
   "source": [
    "dataset = CustomDataset(XXX,y_tensor_train)\n",
    "dataloader = DataLoader(dataset, batch_size=32, shuffle=True)\n",
    "criterion = nn.CrossEntropyLoss()\n",
    "optimizer = torch.optim.Adam(c.parameters(), lr=0.001)\n",
    "train_loss = []\n",
    "\n",
    "for epoch in range(5):\n",
    "    c.train()\n",
    "    for data, label in dataloader:\n",
    "        #make prediction\n",
    "        output = c(data)\n",
    "\n",
    "        # Zero out the gradients\n",
    "        optimizer.zero_grad()\n",
    "            \n",
    "        # Calculate loss.\n",
    "        loss = criterion(y, torch.max(label, 1)[1])\n",
    "            \n",
    "        # Backpropagation and gradient update.\n",
    "        loss.backward(retain_graph=True) # Calculate gradients.\n",
    "            \n",
    "        optimizer.step() # Apply gradient udpate.\n",
    "        \n",
    "        train_loss.append(loss.item())\n",
    "        \n",
    "    if (i + 1) % (n_epochs // 5) == 0:\n",
    "        print(f'iteration {i + 1}/{n_epochs} | loss: {loss.item():.3f}')\n",
    "    y_pred = torch.softmax(out,dim=1).argmax(dim=1)\n"
   ]
  }
 ],
 "metadata": {
  "kernelspec": {
   "display_name": "YOLO",
   "language": "python",
   "name": "yolo"
  },
  "language_info": {
   "codemirror_mode": {
    "name": "ipython",
    "version": 3
   },
   "file_extension": ".py",
   "mimetype": "text/x-python",
   "name": "python",
   "nbconvert_exporter": "python",
   "pygments_lexer": "ipython3",
   "version": "3.10.9"
  }
 },
 "nbformat": 4,
 "nbformat_minor": 5
}
