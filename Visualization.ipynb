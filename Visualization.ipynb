{
  "nbformat": 4,
  "nbformat_minor": 0,
  "metadata": {
    "colab": {
      "provenance": [],
      "authorship_tag": "ABX9TyNv1xhrynKwnb6di6wmCZZy",
      "include_colab_link": true
    },
    "kernelspec": {
      "name": "python3",
      "display_name": "Python 3"
    },
    "language_info": {
      "name": "python"
    }
  },
  "cells": [
    {
      "cell_type": "markdown",
      "metadata": {
        "id": "view-in-github",
        "colab_type": "text"
      },
      "source": [
        "<a href=\"https://colab.research.google.com/github/JNPauli/Emotional_Machines/blob/main/Visualization.ipynb\" target=\"_parent\"><img src=\"https://colab.research.google.com/assets/colab-badge.svg\" alt=\"Open In Colab\"/></a>"
      ]
    },
    {
      "cell_type": "code",
      "execution_count": 1,
      "metadata": {
        "id": "wERwEj5abTmL"
      },
      "outputs": [],
      "source": [
        "import os\n",
        "import pandas as pd\n",
        "import numpy as np\n",
        "from sklearn.model_selection import train_test_split\n",
        "import gc"
      ]
    },
    {
      "cell_type": "code",
      "source": [
        "from google.colab import drive\n",
        "drive.mount('/content/drive')"
      ],
      "metadata": {
        "colab": {
          "base_uri": "https://localhost:8080/"
        },
        "id": "iB288mStbhp_",
        "outputId": "6f3dbc06-6be0-4dbb-ae68-cd1836b0b8a2"
      },
      "execution_count": 3,
      "outputs": [
        {
          "output_type": "stream",
          "name": "stdout",
          "text": [
            "Mounted at /content/drive\n"
          ]
        }
      ]
    },
    {
      "cell_type": "code",
      "source": [
        "import torchvision\n",
        "from torchvision import transforms\n",
        "import torch\n",
        "import torch.nn as nn\n",
        "from torch.utils.data import Dataset, DataLoader\n",
        "from PIL import Image\n",
        "import torch.nn.functional as F"
      ],
      "metadata": {
        "id": "m4uXtHb4bpht"
      },
      "execution_count": 25,
      "outputs": []
    },
    {
      "cell_type": "code",
      "source": [
        "if torch.cuda.is_available():\n",
        "  device = torch.device(\"cuda\")\n",
        "else:\n",
        "  device = torch.device(\"cpu\")\n",
        "\n",
        "print(device)"
      ],
      "metadata": {
        "colab": {
          "base_uri": "https://localhost:8080/"
        },
        "id": "spy2AYTrbidw",
        "outputId": "cc62a941-4b91-49fb-f465-38368d9e8170"
      },
      "execution_count": 5,
      "outputs": [
        {
          "output_type": "stream",
          "name": "stdout",
          "text": [
            "cpu\n"
          ]
        }
      ]
    },
    {
      "cell_type": "code",
      "source": [
        "os.chdir('/content/drive/MyDrive/Thesis')"
      ],
      "metadata": {
        "id": "AMXJUbCrbvU2"
      },
      "execution_count": 6,
      "outputs": []
    },
    {
      "cell_type": "code",
      "source": [
        "X_frames = np.load('frames_npy.npy')"
      ],
      "metadata": {
        "id": "oVD-8OU3bvXN"
      },
      "execution_count": 7,
      "outputs": []
    },
    {
      "cell_type": "code",
      "source": [
        "X_= torch.from_numpy(X_frames)"
      ],
      "metadata": {
        "id": "Qhsypnuvby7P"
      },
      "execution_count": 8,
      "outputs": []
    },
    {
      "cell_type": "code",
      "source": [
        "X_ = torch.tensor(X_,dtype=torch.float32)"
      ],
      "metadata": {
        "colab": {
          "base_uri": "https://localhost:8080/"
        },
        "id": "VOlNCWTnb533",
        "outputId": "acab1ee8-8d82-435f-81c0-3f051ef5fb11"
      },
      "execution_count": 9,
      "outputs": [
        {
          "output_type": "stream",
          "name": "stderr",
          "text": [
            "<ipython-input-9-bb4c90be16b0>:1: UserWarning: To copy construct from a tensor, it is recommended to use sourceTensor.clone().detach() or sourceTensor.clone().detach().requires_grad_(True), rather than torch.tensor(sourceTensor).\n",
            "  X_ = torch.tensor(X_,dtype=torch.float32)\n"
          ]
        }
      ]
    },
    {
      "cell_type": "code",
      "source": [
        "X_ = X_.expand(-1, 3, -1, -1)\n",
        "X_.shape"
      ],
      "metadata": {
        "colab": {
          "base_uri": "https://localhost:8080/"
        },
        "id": "B6W74QT4cFE4",
        "outputId": "eeaf06c3-8466-4e3d-b66b-dcdd8809e93f"
      },
      "execution_count": 10,
      "outputs": [
        {
          "output_type": "execute_result",
          "data": {
            "text/plain": [
              "torch.Size([7348, 3, 224, 224])"
            ]
          },
          "metadata": {},
          "execution_count": 10
        }
      ]
    },
    {
      "cell_type": "code",
      "source": [
        "\n",
        "\n",
        "from torchvision import models\n",
        "\n"
      ],
      "metadata": {
        "id": "5j_B_paucL2U"
      },
      "execution_count": 11,
      "outputs": []
    },
    {
      "cell_type": "code",
      "source": [
        "model = models.alexnet(pretrained=True)"
      ],
      "metadata": {
        "colab": {
          "base_uri": "https://localhost:8080/"
        },
        "id": "-mwrPc50cQc6",
        "outputId": "ed4e05f4-397b-4332-eef3-118532faf7df"
      },
      "execution_count": 12,
      "outputs": [
        {
          "output_type": "stream",
          "name": "stderr",
          "text": [
            "/usr/local/lib/python3.10/dist-packages/torchvision/models/_utils.py:208: UserWarning: The parameter 'pretrained' is deprecated since 0.13 and may be removed in the future, please use 'weights' instead.\n",
            "  warnings.warn(\n",
            "/usr/local/lib/python3.10/dist-packages/torchvision/models/_utils.py:223: UserWarning: Arguments other than a weight enum or `None` for 'weights' are deprecated since 0.13 and may be removed in the future. The current behavior is equivalent to passing `weights=AlexNet_Weights.IMAGENET1K_V1`. You can also use `weights=AlexNet_Weights.DEFAULT` to get the most up-to-date weights.\n",
            "  warnings.warn(msg)\n",
            "Downloading: \"https://download.pytorch.org/models/alexnet-owt-7be5be79.pth\" to /root/.cache/torch/hub/checkpoints/alexnet-owt-7be5be79.pth\n",
            "100%|██████████| 233M/233M [00:01<00:00, 212MB/s]\n"
          ]
        }
      ]
    },
    {
      "cell_type": "code",
      "source": [
        "class CNN1(nn.Module):\n",
        "    def __init__(self, pretrained):\n",
        "        super(CNN1, self).__init__()\n",
        "        if pretrained is True:\n",
        "            self.model = models.__dict__[\"alexnet\"](pretrained=\"imagenet\")\n",
        "        else:\n",
        "            self.model = models.__dict__[\"alexnet\"](pretrained=None)\n",
        "        self.Arousal= nn.Linear(256, 10)\n",
        "        self.Valence = nn.Linear(256,10)\n",
        "        self.Dominance = nn.Linear(256, 10)\n",
        "\n",
        "    def forward(self, x):\n",
        "        bs, _, _, _ = x.shape\n",
        "        x = self.model.features(x)\n",
        "        x = F.adaptive_avg_pool2d(x, 1).reshape(bs, -1)\n",
        "        Arousal = self.Arousal(x)\n",
        "        Valence = self.Valence(x)\n",
        "        Dominance = self.Dominance(x)\n",
        "        return Arousal, Valence, Dominance\n",
        "        return {'label1': label1, 'label2': label2, 'label3': label3}"
      ],
      "metadata": {
        "id": "5P5VKH-NcRhK"
      },
      "execution_count": null,
      "outputs": []
    },
    {
      "cell_type": "code",
      "source": [
        "model_CNN = CNN1(True).to(device)"
      ],
      "metadata": {
        "colab": {
          "base_uri": "https://localhost:8080/"
        },
        "id": "1XfQMh-BcVY2",
        "outputId": "79be8f4b-9495-4996-cccc-c12fceb64242"
      },
      "execution_count": 32,
      "outputs": [
        {
          "output_type": "stream",
          "name": "stderr",
          "text": [
            "/usr/local/lib/python3.10/dist-packages/torchvision/models/_utils.py:208: UserWarning: The parameter 'pretrained' is deprecated since 0.13 and may be removed in the future, please use 'weights' instead.\n",
            "  warnings.warn(\n",
            "/usr/local/lib/python3.10/dist-packages/torchvision/models/_utils.py:223: UserWarning: Arguments other than a weight enum or `None` for 'weights' are deprecated since 0.13 and may be removed in the future. The current behavior is equivalent to passing `weights=AlexNet_Weights.IMAGENET1K_V1`. You can also use `weights=AlexNet_Weights.DEFAULT` to get the most up-to-date weights.\n",
            "  warnings.warn(msg)\n"
          ]
        }
      ]
    },
    {
      "cell_type": "code",
      "source": [
        "for param in model_CNN.parameters():\n",
        "        param.requires_grad = False\n",
        "for param in model_CNN.Arousal.parameters():\n",
        "  param.requires_grad = True\n",
        "for param in model_CNN.Valence.parameters():\n",
        "  param.requires_grad = True\n",
        "for param in model_CNN.Dominance.parameters():\n",
        "  param.requires_grad = True"
      ],
      "metadata": {
        "id": "_hRgZnvccXcF"
      },
      "execution_count": 35,
      "outputs": []
    },
    {
      "cell_type": "code",
      "source": [
        "X = X_[0:1,:,:,:]"
      ],
      "metadata": {
        "id": "8ZbIiXs1cZYY"
      },
      "execution_count": 22,
      "outputs": []
    },
    {
      "cell_type": "code",
      "source": [
        "X.shape"
      ],
      "metadata": {
        "colab": {
          "base_uri": "https://localhost:8080/"
        },
        "id": "zNxXETiudD5V",
        "outputId": "069714c3-d25d-437c-b580-dc5a08d098e1"
      },
      "execution_count": 23,
      "outputs": [
        {
          "output_type": "execute_result",
          "data": {
            "text/plain": [
              "torch.Size([1, 3, 224, 224])"
            ]
          },
          "metadata": {},
          "execution_count": 23
        }
      ]
    },
    {
      "cell_type": "code",
      "source": [
        "pip install torchviz"
      ],
      "metadata": {
        "colab": {
          "base_uri": "https://localhost:8080/"
        },
        "id": "7qpuLp-rcxvY",
        "outputId": "fc01c570-0d00-4672-bb55-fbf5b539fd45"
      },
      "execution_count": 29,
      "outputs": [
        {
          "output_type": "stream",
          "name": "stdout",
          "text": [
            "Collecting torchviz\n",
            "  Downloading torchviz-0.0.2.tar.gz (4.9 kB)\n",
            "  Preparing metadata (setup.py) ... \u001b[?25l\u001b[?25hdone\n",
            "Requirement already satisfied: torch in /usr/local/lib/python3.10/dist-packages (from torchviz) (2.0.1+cu118)\n",
            "Requirement already satisfied: graphviz in /usr/local/lib/python3.10/dist-packages (from torchviz) (0.20.1)\n",
            "Requirement already satisfied: filelock in /usr/local/lib/python3.10/dist-packages (from torch->torchviz) (3.12.4)\n",
            "Requirement already satisfied: typing-extensions in /usr/local/lib/python3.10/dist-packages (from torch->torchviz) (4.5.0)\n",
            "Requirement already satisfied: sympy in /usr/local/lib/python3.10/dist-packages (from torch->torchviz) (1.12)\n",
            "Requirement already satisfied: networkx in /usr/local/lib/python3.10/dist-packages (from torch->torchviz) (3.1)\n",
            "Requirement already satisfied: jinja2 in /usr/local/lib/python3.10/dist-packages (from torch->torchviz) (3.1.2)\n",
            "Requirement already satisfied: triton==2.0.0 in /usr/local/lib/python3.10/dist-packages (from torch->torchviz) (2.0.0)\n",
            "Requirement already satisfied: cmake in /usr/local/lib/python3.10/dist-packages (from triton==2.0.0->torch->torchviz) (3.27.5)\n",
            "Requirement already satisfied: lit in /usr/local/lib/python3.10/dist-packages (from triton==2.0.0->torch->torchviz) (17.0.1)\n",
            "Requirement already satisfied: MarkupSafe>=2.0 in /usr/local/lib/python3.10/dist-packages (from jinja2->torch->torchviz) (2.1.3)\n",
            "Requirement already satisfied: mpmath>=0.19 in /usr/local/lib/python3.10/dist-packages (from sympy->torch->torchviz) (1.3.0)\n",
            "Building wheels for collected packages: torchviz\n",
            "  Building wheel for torchviz (setup.py) ... \u001b[?25l\u001b[?25hdone\n",
            "  Created wheel for torchviz: filename=torchviz-0.0.2-py3-none-any.whl size=4130 sha256=eeea5e82892cbb4a7138aacc2716f98d37bcff16947c44c8d2a6646000cbb25a\n",
            "  Stored in directory: /root/.cache/pip/wheels/4c/97/88/a02973217949e0db0c9f4346d154085f4725f99c4f15a87094\n",
            "Successfully built torchviz\n",
            "Installing collected packages: torchviz\n",
            "Successfully installed torchviz-0.0.2\n"
          ]
        }
      ]
    },
    {
      "cell_type": "code",
      "source": [
        "from torchviz import make_dot"
      ],
      "metadata": {
        "id": "MsJFzszKdZCl"
      },
      "execution_count": 30,
      "outputs": []
    },
    {
      "cell_type": "code",
      "source": [
        "y = model_CNN(X)"
      ],
      "metadata": {
        "id": "sEU1rMTlc-E2"
      },
      "execution_count": 36,
      "outputs": []
    },
    {
      "cell_type": "code",
      "source": [
        "make_dot(y, params=dict(model_CNN.named_parameters()))"
      ],
      "metadata": {
        "colab": {
          "base_uri": "https://localhost:8080/",
          "height": 396
        },
        "id": "EiM29UaCdP7G",
        "outputId": "ea22aed7-7e31-4606-c9fb-0727dd7e1240"
      },
      "execution_count": 37,
      "outputs": [
        {
          "output_type": "execute_result",
          "data": {
            "image/svg+xml": "<?xml version=\"1.0\" encoding=\"UTF-8\" standalone=\"no\"?>\n<!DOCTYPE svg PUBLIC \"-//W3C//DTD SVG 1.1//EN\"\n \"http://www.w3.org/Graphics/SVG/1.1/DTD/svg11.dtd\">\n<!-- Generated by graphviz version 2.43.0 (0)\n -->\n<!-- Title: %3 Pages: 1 -->\n<svg width=\"691pt\" height=\"281pt\"\n viewBox=\"0.00 0.00 691.00 281.00\" xmlns=\"http://www.w3.org/2000/svg\" xmlns:xlink=\"http://www.w3.org/1999/xlink\">\n<g id=\"graph0\" class=\"graph\" transform=\"scale(1 1) rotate(0) translate(4 277)\">\n<title>%3</title>\n<polygon fill=\"white\" stroke=\"transparent\" points=\"-4,4 -4,-277 687,-277 687,4 -4,4\"/>\n<!-- 135323253555744 -->\n<g id=\"node1\" class=\"node\">\n<title>135323253555744</title>\n<polygon fill=\"#caff70\" stroke=\"black\" points=\"137,-31 72,-31 72,0 137,0 137,-31\"/>\n<text text-anchor=\"middle\" x=\"104.5\" y=\"-7\" font-family=\"monospace\" font-size=\"10.00\"> (1, 10)</text>\n</g>\n<!-- 135318525171776 -->\n<g id=\"node2\" class=\"node\">\n<title>135318525171776</title>\n<polygon fill=\"lightgrey\" stroke=\"black\" points=\"155,-86 54,-86 54,-67 155,-67 155,-86\"/>\n<text text-anchor=\"middle\" x=\"104.5\" y=\"-74\" font-family=\"monospace\" font-size=\"10.00\">AddmmBackward0</text>\n</g>\n<!-- 135318525171776&#45;&gt;135323253555744 -->\n<g id=\"edge6\" class=\"edge\">\n<title>135318525171776&#45;&gt;135323253555744</title>\n<path fill=\"none\" stroke=\"black\" d=\"M104.5,-66.79C104.5,-60.07 104.5,-50.4 104.5,-41.34\"/>\n<polygon fill=\"black\" stroke=\"black\" points=\"108,-41.19 104.5,-31.19 101,-41.19 108,-41.19\"/>\n</g>\n<!-- 135323213017440 -->\n<g id=\"node3\" class=\"node\">\n<title>135323213017440</title>\n<polygon fill=\"lightgrey\" stroke=\"black\" points=\"101,-141 0,-141 0,-122 101,-122 101,-141\"/>\n<text text-anchor=\"middle\" x=\"50.5\" y=\"-129\" font-family=\"monospace\" font-size=\"10.00\">AccumulateGrad</text>\n</g>\n<!-- 135323213017440&#45;&gt;135318525171776 -->\n<g id=\"edge1\" class=\"edge\">\n<title>135323213017440&#45;&gt;135318525171776</title>\n<path fill=\"none\" stroke=\"black\" d=\"M59.42,-121.75C67.28,-114.03 78.93,-102.6 88.42,-93.28\"/>\n<polygon fill=\"black\" stroke=\"black\" points=\"91.06,-95.59 95.75,-86.09 86.16,-90.6 91.06,-95.59\"/>\n</g>\n<!-- 135318524949536 -->\n<g id=\"node4\" class=\"node\">\n<title>135318524949536</title>\n<polygon fill=\"lightblue\" stroke=\"black\" points=\"94,-207 5,-207 5,-177 94,-177 94,-207\"/>\n<text text-anchor=\"middle\" x=\"49.5\" y=\"-195\" font-family=\"monospace\" font-size=\"10.00\">Arousal.bias</text>\n<text text-anchor=\"middle\" x=\"49.5\" y=\"-184\" font-family=\"monospace\" font-size=\"10.00\"> (10)</text>\n</g>\n<!-- 135318524949536&#45;&gt;135323213017440 -->\n<g id=\"edge2\" class=\"edge\">\n<title>135318524949536&#45;&gt;135323213017440</title>\n<path fill=\"none\" stroke=\"black\" d=\"M49.74,-176.84C49.87,-169.21 50.03,-159.7 50.18,-151.45\"/>\n<polygon fill=\"black\" stroke=\"black\" points=\"53.68,-151.32 50.35,-141.27 46.68,-151.2 53.68,-151.32\"/>\n</g>\n<!-- 135318525165872 -->\n<g id=\"node5\" class=\"node\">\n<title>135318525165872</title>\n<polygon fill=\"lightgrey\" stroke=\"black\" points=\"198,-141 121,-141 121,-122 198,-122 198,-141\"/>\n<text text-anchor=\"middle\" x=\"159.5\" y=\"-129\" font-family=\"monospace\" font-size=\"10.00\">TBackward0</text>\n</g>\n<!-- 135318525165872&#45;&gt;135318525171776 -->\n<g id=\"edge3\" class=\"edge\">\n<title>135318525165872&#45;&gt;135318525171776</title>\n<path fill=\"none\" stroke=\"black\" d=\"M150.42,-121.75C142.41,-114.03 130.54,-102.6 120.88,-93.28\"/>\n<polygon fill=\"black\" stroke=\"black\" points=\"123.04,-90.51 113.41,-86.09 118.19,-95.55 123.04,-90.51\"/>\n</g>\n<!-- 135323212878496 -->\n<g id=\"node6\" class=\"node\">\n<title>135323212878496</title>\n<polygon fill=\"lightgrey\" stroke=\"black\" points=\"213,-201.5 112,-201.5 112,-182.5 213,-182.5 213,-201.5\"/>\n<text text-anchor=\"middle\" x=\"162.5\" y=\"-189.5\" font-family=\"monospace\" font-size=\"10.00\">AccumulateGrad</text>\n</g>\n<!-- 135323212878496&#45;&gt;135318525165872 -->\n<g id=\"edge4\" class=\"edge\">\n<title>135323212878496&#45;&gt;135318525165872</title>\n<path fill=\"none\" stroke=\"black\" d=\"M162.06,-182.37C161.64,-174.25 161,-161.81 160.47,-151.39\"/>\n<polygon fill=\"black\" stroke=\"black\" points=\"163.95,-150.97 159.94,-141.17 156.96,-151.33 163.95,-150.97\"/>\n</g>\n<!-- 135318524947776 -->\n<g id=\"node7\" class=\"node\">\n<title>135318524947776</title>\n<polygon fill=\"lightblue\" stroke=\"black\" points=\"213,-273 112,-273 112,-243 213,-243 213,-273\"/>\n<text text-anchor=\"middle\" x=\"162.5\" y=\"-261\" font-family=\"monospace\" font-size=\"10.00\">Arousal.weight</text>\n<text text-anchor=\"middle\" x=\"162.5\" y=\"-250\" font-family=\"monospace\" font-size=\"10.00\"> (10, 256)</text>\n</g>\n<!-- 135318524947776&#45;&gt;135323212878496 -->\n<g id=\"edge5\" class=\"edge\">\n<title>135318524947776&#45;&gt;135323212878496</title>\n<path fill=\"none\" stroke=\"black\" d=\"M162.5,-242.8C162.5,-233.7 162.5,-221.79 162.5,-211.9\"/>\n<polygon fill=\"black\" stroke=\"black\" points=\"166,-211.84 162.5,-201.84 159,-211.84 166,-211.84\"/>\n</g>\n<!-- 135318525148544 -->\n<g id=\"node8\" class=\"node\">\n<title>135318525148544</title>\n<polygon fill=\"#caff70\" stroke=\"black\" points=\"365,-31 300,-31 300,0 365,0 365,-31\"/>\n<text text-anchor=\"middle\" x=\"332.5\" y=\"-7\" font-family=\"monospace\" font-size=\"10.00\"> (1, 10)</text>\n</g>\n<!-- 135318525171344 -->\n<g id=\"node9\" class=\"node\">\n<title>135318525171344</title>\n<polygon fill=\"lightgrey\" stroke=\"black\" points=\"383,-86 282,-86 282,-67 383,-67 383,-86\"/>\n<text text-anchor=\"middle\" x=\"332.5\" y=\"-74\" font-family=\"monospace\" font-size=\"10.00\">AddmmBackward0</text>\n</g>\n<!-- 135318525171344&#45;&gt;135318525148544 -->\n<g id=\"edge12\" class=\"edge\">\n<title>135318525171344&#45;&gt;135318525148544</title>\n<path fill=\"none\" stroke=\"black\" d=\"M332.5,-66.79C332.5,-60.07 332.5,-50.4 332.5,-41.34\"/>\n<polygon fill=\"black\" stroke=\"black\" points=\"336,-41.19 332.5,-31.19 329,-41.19 336,-41.19\"/>\n</g>\n<!-- 135323212884928 -->\n<g id=\"node10\" class=\"node\">\n<title>135323212884928</title>\n<polygon fill=\"lightgrey\" stroke=\"black\" points=\"327,-141 226,-141 226,-122 327,-122 327,-141\"/>\n<text text-anchor=\"middle\" x=\"276.5\" y=\"-129\" font-family=\"monospace\" font-size=\"10.00\">AccumulateGrad</text>\n</g>\n<!-- 135323212884928&#45;&gt;135318525171344 -->\n<g id=\"edge7\" class=\"edge\">\n<title>135323212884928&#45;&gt;135318525171344</title>\n<path fill=\"none\" stroke=\"black\" d=\"M285.5,-121.98C293.69,-114.23 306.01,-102.58 315.97,-93.14\"/>\n<polygon fill=\"black\" stroke=\"black\" points=\"318.48,-95.59 323.34,-86.17 313.67,-90.5 318.48,-95.59\"/>\n</g>\n<!-- 135320250691360 -->\n<g id=\"node11\" class=\"node\">\n<title>135320250691360</title>\n<polygon fill=\"lightblue\" stroke=\"black\" points=\"320,-207 231,-207 231,-177 320,-177 320,-207\"/>\n<text text-anchor=\"middle\" x=\"275.5\" y=\"-195\" font-family=\"monospace\" font-size=\"10.00\">Valence.bias</text>\n<text text-anchor=\"middle\" x=\"275.5\" y=\"-184\" font-family=\"monospace\" font-size=\"10.00\"> (10)</text>\n</g>\n<!-- 135320250691360&#45;&gt;135323212884928 -->\n<g id=\"edge8\" class=\"edge\">\n<title>135320250691360&#45;&gt;135323212884928</title>\n<path fill=\"none\" stroke=\"black\" d=\"M275.74,-176.84C275.87,-169.21 276.03,-159.7 276.18,-151.45\"/>\n<polygon fill=\"black\" stroke=\"black\" points=\"279.68,-151.32 276.35,-141.27 272.68,-151.2 279.68,-151.32\"/>\n</g>\n<!-- 135318525171488 -->\n<g id=\"node12\" class=\"node\">\n<title>135318525171488</title>\n<polygon fill=\"lightgrey\" stroke=\"black\" points=\"424,-141 347,-141 347,-122 424,-122 424,-141\"/>\n<text text-anchor=\"middle\" x=\"385.5\" y=\"-129\" font-family=\"monospace\" font-size=\"10.00\">TBackward0</text>\n</g>\n<!-- 135318525171488&#45;&gt;135318525171344 -->\n<g id=\"edge9\" class=\"edge\">\n<title>135318525171488&#45;&gt;135318525171344</title>\n<path fill=\"none\" stroke=\"black\" d=\"M376.75,-121.75C369.03,-114.03 357.6,-102.6 348.28,-93.28\"/>\n<polygon fill=\"black\" stroke=\"black\" points=\"350.64,-90.69 341.09,-86.09 345.69,-95.64 350.64,-90.69\"/>\n</g>\n<!-- 135323212874896 -->\n<g id=\"node13\" class=\"node\">\n<title>135323212874896</title>\n<polygon fill=\"lightgrey\" stroke=\"black\" points=\"439,-201.5 338,-201.5 338,-182.5 439,-182.5 439,-201.5\"/>\n<text text-anchor=\"middle\" x=\"388.5\" y=\"-189.5\" font-family=\"monospace\" font-size=\"10.00\">AccumulateGrad</text>\n</g>\n<!-- 135323212874896&#45;&gt;135318525171488 -->\n<g id=\"edge10\" class=\"edge\">\n<title>135323212874896&#45;&gt;135318525171488</title>\n<path fill=\"none\" stroke=\"black\" d=\"M388.06,-182.37C387.64,-174.25 387,-161.81 386.47,-151.39\"/>\n<polygon fill=\"black\" stroke=\"black\" points=\"389.95,-150.97 385.94,-141.17 382.96,-151.33 389.95,-150.97\"/>\n</g>\n<!-- 135318524947696 -->\n<g id=\"node14\" class=\"node\">\n<title>135318524947696</title>\n<polygon fill=\"lightblue\" stroke=\"black\" points=\"439,-273 338,-273 338,-243 439,-243 439,-273\"/>\n<text text-anchor=\"middle\" x=\"388.5\" y=\"-261\" font-family=\"monospace\" font-size=\"10.00\">Valence.weight</text>\n<text text-anchor=\"middle\" x=\"388.5\" y=\"-250\" font-family=\"monospace\" font-size=\"10.00\"> (10, 256)</text>\n</g>\n<!-- 135318524947696&#45;&gt;135323212874896 -->\n<g id=\"edge11\" class=\"edge\">\n<title>135318524947696&#45;&gt;135323212874896</title>\n<path fill=\"none\" stroke=\"black\" d=\"M388.5,-242.8C388.5,-233.7 388.5,-221.79 388.5,-211.9\"/>\n<polygon fill=\"black\" stroke=\"black\" points=\"392,-211.84 388.5,-201.84 385,-211.84 392,-211.84\"/>\n</g>\n<!-- 135318525148624 -->\n<g id=\"node15\" class=\"node\">\n<title>135318525148624</title>\n<polygon fill=\"#caff70\" stroke=\"black\" points=\"599,-31 534,-31 534,0 599,0 599,-31\"/>\n<text text-anchor=\"middle\" x=\"566.5\" y=\"-7\" font-family=\"monospace\" font-size=\"10.00\"> (1, 10)</text>\n</g>\n<!-- 135318525169232 -->\n<g id=\"node16\" class=\"node\">\n<title>135318525169232</title>\n<polygon fill=\"lightgrey\" stroke=\"black\" points=\"617,-86 516,-86 516,-67 617,-67 617,-86\"/>\n<text text-anchor=\"middle\" x=\"566.5\" y=\"-74\" font-family=\"monospace\" font-size=\"10.00\">AddmmBackward0</text>\n</g>\n<!-- 135318525169232&#45;&gt;135318525148624 -->\n<g id=\"edge18\" class=\"edge\">\n<title>135318525169232&#45;&gt;135318525148624</title>\n<path fill=\"none\" stroke=\"black\" d=\"M566.5,-66.79C566.5,-60.07 566.5,-50.4 566.5,-41.34\"/>\n<polygon fill=\"black\" stroke=\"black\" points=\"570,-41.19 566.5,-31.19 563,-41.19 570,-41.19\"/>\n</g>\n<!-- 135323212889968 -->\n<g id=\"node17\" class=\"node\">\n<title>135323212889968</title>\n<polygon fill=\"lightgrey\" stroke=\"black\" points=\"561,-141 460,-141 460,-122 561,-122 561,-141\"/>\n<text text-anchor=\"middle\" x=\"510.5\" y=\"-129\" font-family=\"monospace\" font-size=\"10.00\">AccumulateGrad</text>\n</g>\n<!-- 135323212889968&#45;&gt;135318525169232 -->\n<g id=\"edge13\" class=\"edge\">\n<title>135323212889968&#45;&gt;135318525169232</title>\n<path fill=\"none\" stroke=\"black\" d=\"M519.5,-121.98C527.69,-114.23 540.01,-102.58 549.97,-93.14\"/>\n<polygon fill=\"black\" stroke=\"black\" points=\"552.48,-95.59 557.34,-86.17 547.67,-90.5 552.48,-95.59\"/>\n</g>\n<!-- 135318524767472 -->\n<g id=\"node18\" class=\"node\">\n<title>135318524767472</title>\n<polygon fill=\"lightblue\" stroke=\"black\" points=\"558,-207 457,-207 457,-177 558,-177 558,-207\"/>\n<text text-anchor=\"middle\" x=\"507.5\" y=\"-195\" font-family=\"monospace\" font-size=\"10.00\">Dominance.bias</text>\n<text text-anchor=\"middle\" x=\"507.5\" y=\"-184\" font-family=\"monospace\" font-size=\"10.00\"> (10)</text>\n</g>\n<!-- 135318524767472&#45;&gt;135323212889968 -->\n<g id=\"edge14\" class=\"edge\">\n<title>135318524767472&#45;&gt;135323212889968</title>\n<path fill=\"none\" stroke=\"black\" d=\"M508.23,-176.84C508.62,-169.21 509.1,-159.7 509.53,-151.45\"/>\n<polygon fill=\"black\" stroke=\"black\" points=\"513.03,-151.43 510.05,-141.27 506.04,-151.07 513.03,-151.43\"/>\n</g>\n<!-- 135318525168752 -->\n<g id=\"node19\" class=\"node\">\n<title>135318525168752</title>\n<polygon fill=\"lightgrey\" stroke=\"black\" points=\"662,-141 585,-141 585,-122 662,-122 662,-141\"/>\n<text text-anchor=\"middle\" x=\"623.5\" y=\"-129\" font-family=\"monospace\" font-size=\"10.00\">TBackward0</text>\n</g>\n<!-- 135318525168752&#45;&gt;135318525169232 -->\n<g id=\"edge15\" class=\"edge\">\n<title>135318525168752&#45;&gt;135318525169232</title>\n<path fill=\"none\" stroke=\"black\" d=\"M614.34,-121.98C606,-114.23 593.47,-102.58 583.32,-93.14\"/>\n<polygon fill=\"black\" stroke=\"black\" points=\"585.53,-90.42 575.82,-86.17 580.76,-95.54 585.53,-90.42\"/>\n</g>\n<!-- 135323212879312 -->\n<g id=\"node20\" class=\"node\">\n<title>135323212879312</title>\n<polygon fill=\"lightgrey\" stroke=\"black\" points=\"677,-201.5 576,-201.5 576,-182.5 677,-182.5 677,-201.5\"/>\n<text text-anchor=\"middle\" x=\"626.5\" y=\"-189.5\" font-family=\"monospace\" font-size=\"10.00\">AccumulateGrad</text>\n</g>\n<!-- 135323212879312&#45;&gt;135318525168752 -->\n<g id=\"edge16\" class=\"edge\">\n<title>135323212879312&#45;&gt;135318525168752</title>\n<path fill=\"none\" stroke=\"black\" d=\"M626.06,-182.37C625.64,-174.25 625,-161.81 624.47,-151.39\"/>\n<polygon fill=\"black\" stroke=\"black\" points=\"627.95,-150.97 623.94,-141.17 620.96,-151.33 627.95,-150.97\"/>\n</g>\n<!-- 135318524757392 -->\n<g id=\"node21\" class=\"node\">\n<title>135318524757392</title>\n<polygon fill=\"lightblue\" stroke=\"black\" points=\"683,-273 570,-273 570,-243 683,-243 683,-273\"/>\n<text text-anchor=\"middle\" x=\"626.5\" y=\"-261\" font-family=\"monospace\" font-size=\"10.00\">Dominance.weight</text>\n<text text-anchor=\"middle\" x=\"626.5\" y=\"-250\" font-family=\"monospace\" font-size=\"10.00\"> (10, 256)</text>\n</g>\n<!-- 135318524757392&#45;&gt;135323212879312 -->\n<g id=\"edge17\" class=\"edge\">\n<title>135318524757392&#45;&gt;135323212879312</title>\n<path fill=\"none\" stroke=\"black\" d=\"M626.5,-242.8C626.5,-233.7 626.5,-221.79 626.5,-211.9\"/>\n<polygon fill=\"black\" stroke=\"black\" points=\"630,-211.84 626.5,-201.84 623,-211.84 630,-211.84\"/>\n</g>\n</g>\n</svg>\n",
            "text/plain": [
              "<graphviz.graphs.Digraph at 0x7b13640a87f0>"
            ]
          },
          "metadata": {},
          "execution_count": 37
        }
      ]
    }
  ]
}