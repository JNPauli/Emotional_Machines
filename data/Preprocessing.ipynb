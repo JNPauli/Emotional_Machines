{
 "cells": [
  {
   "cell_type": "markdown",
   "id": "b0d0e596",
   "metadata": {},
   "source": [
    "## Processing y"
   ]
  },
  {
   "cell_type": "code",
   "execution_count": 13,
   "id": "65c2d0f3",
   "metadata": {},
   "outputs": [],
   "source": [
    "import os\n",
    "import pandas as pd"
   ]
  },
  {
   "cell_type": "code",
   "execution_count": 15,
   "id": "aaf50ffb",
   "metadata": {},
   "outputs": [],
   "source": [
    "os.chdir('/mnt/c/Users/janos/OneDrive/Desktop/Master_thesis/kosti/mat2csv/emotic_pre/')\n",
    "train = pd.read_csv('train.csv')\n",
    "train_mscoco = train[train['Folder'] == 'mscoco/images']\n",
    "train_frames = train[train['Folder'] == 'framesdb/images']"
   ]
  },
  {
   "cell_type": "code",
   "execution_count": 16,
   "id": "7f90cc91",
   "metadata": {},
   "outputs": [],
   "source": [
    "test = pd.read_csv('test.csv')\n",
    "val = pd.read_csv('val.csv')"
   ]
  },
  {
   "cell_type": "code",
   "execution_count": 17,
   "id": "2e50b622",
   "metadata": {},
   "outputs": [
    {
     "data": {
      "text/plain": [
       "((7203, 9), (3315, 9))"
      ]
     },
     "execution_count": 17,
     "metadata": {},
     "output_type": "execute_result"
    }
   ],
   "source": [
    "test.shape, val.shape"
   ]
  },
  {
   "cell_type": "code",
   "execution_count": 21,
   "id": "10f5937f",
   "metadata": {},
   "outputs": [],
   "source": [
    "import re"
   ]
  },
  {
   "cell_type": "code",
   "execution_count": 22,
   "id": "2a3b6e2a",
   "metadata": {},
   "outputs": [],
   "source": [
    "y = []\n",
    "y_fr = []\n",
    "for rating_ms in train_mscoco['Continuous_Labels']:\n",
    "    y.append(rating_ms)\n",
    "\n",
    "for rating_frames in train_frames['Continuous_Labels']: \n",
    "    y.append(rating_frames)"
   ]
  },
  {
   "cell_type": "code",
   "execution_count": 23,
   "id": "632bd210",
   "metadata": {},
   "outputs": [
    {
     "data": {
      "text/plain": [
       "21624"
      ]
     },
     "execution_count": 23,
     "metadata": {},
     "output_type": "execute_result"
    }
   ],
   "source": [
    "len(y)"
   ]
  },
  {
   "cell_type": "code",
   "execution_count": 24,
   "id": "455ca006",
   "metadata": {},
   "outputs": [],
   "source": [
    "y_ = []\n",
    "for idx, label in enumerate(y):\n",
    "    s = (re.sub(r\"[\\[\\]]\",'',y[idx]))\n",
    "    for i, x in enumerate(s):\n",
    "        y_.append(x)\n",
    "        if x == ',':\n",
    "            y_.remove(x)\n",
    "        if x == ' ':\n",
    "            y_.remove(x)\n",
    "        try:\n",
    "            if x == '1' and s[i+1] == '0':\n",
    "                y_.remove(x)\n",
    "                y_.append('10')\n",
    "        except IndexError:\n",
    "            continue\n",
    "        \n",
    "\n"
   ]
  },
  {
   "cell_type": "code",
   "execution_count": 25,
   "id": "7ba2e641",
   "metadata": {},
   "outputs": [],
   "source": [
    "for idx, el in enumerate(y_):\n",
    "    if el == '10':\n",
    "        if y_[idx+1] == '0':\n",
    "            y_.remove(y_[idx+1])\n",
    "\n"
   ]
  },
  {
   "cell_type": "code",
   "execution_count": 26,
   "id": "e9ba188c",
   "metadata": {},
   "outputs": [
    {
     "data": {
      "text/plain": [
       "64872"
      ]
     },
     "execution_count": 26,
     "metadata": {},
     "output_type": "execute_result"
    }
   ],
   "source": [
    "len(y_)"
   ]
  },
  {
   "cell_type": "code",
   "execution_count": 27,
   "id": "58173aa3",
   "metadata": {},
   "outputs": [],
   "source": [
    "cont_labels = []\n",
    "for val in y_:\n",
    "    cont_labels.append(float(val))"
   ]
  },
  {
   "cell_type": "code",
   "execution_count": 28,
   "id": "82f6da2d",
   "metadata": {},
   "outputs": [],
   "source": [
    "img = 0\n",
    "Arousal = []\n",
    "Valence = []\n",
    "Dominance = []\n",
    "for val in cont_labels:\n",
    "    if img == 0:\n",
    "        Arousal.append(val)\n",
    "        img = img+1\n",
    "        continue\n",
    "    if img == 1:\n",
    "        Valence.append(val)\n",
    "        img = img+1\n",
    "        continue \n",
    "    if img == 2:\n",
    "        Dominance.append(val)\n",
    "        img = 0\n",
    "        continue\n",
    "    \n",
    "\n"
   ]
  },
  {
   "cell_type": "code",
   "execution_count": 31,
   "id": "0f69f154",
   "metadata": {},
   "outputs": [],
   "source": [
    "import numpy as np\n",
    "\n",
    "Arousal = np.array(Arousal)\n",
    "\n",
    "Valence = np.array(Valence)\n",
    "\n",
    "Dominance = np.array(Dominance)\n"
   ]
  },
  {
   "cell_type": "code",
   "execution_count": 32,
   "id": "3780b4d5",
   "metadata": {},
   "outputs": [
    {
     "data": {
      "text/plain": [
       "((21624,), (21624,), (21624,))"
      ]
     },
     "execution_count": 32,
     "metadata": {},
     "output_type": "execute_result"
    }
   ],
   "source": [
    "Arousal.shape, Valence.shape, Dominance.shape"
   ]
  },
  {
   "cell_type": "code",
   "execution_count": 32,
   "id": "30082995",
   "metadata": {},
   "outputs": [],
   "source": [
    "y = Arousal"
   ]
  },
  {
   "cell_type": "code",
   "execution_count": 33,
   "id": "d131ac29",
   "metadata": {},
   "outputs": [],
   "source": [
    "Valence_df = pd.DataFrame(Valence)\n",
    "Dominance_df = pd.DataFrame(Dominance)"
   ]
  },
  {
   "cell_type": "code",
   "execution_count": 37,
   "id": "d22eb2f0",
   "metadata": {},
   "outputs": [],
   "source": [
    "path = '/mnt/c/Users/janos/OneDrive/Desktop/Master_thesis'"
   ]
  },
  {
   "cell_type": "code",
   "execution_count": 40,
   "id": "ea775f07",
   "metadata": {},
   "outputs": [],
   "source": [
    "Valence_df.to_csv(os.path.join(path,'Valence_frames_emodb.csv'))"
   ]
  },
  {
   "cell_type": "code",
   "execution_count": 41,
   "id": "88c4693c",
   "metadata": {},
   "outputs": [],
   "source": [
    "Dominance_df.to_csv(os.path.join(path,'Dominance_frames_emodb.csv'))"
   ]
  },
  {
   "cell_type": "code",
   "execution_count": 42,
   "id": "3a096c2a",
   "metadata": {},
   "outputs": [],
   "source": [
    "y_df = pd.DataFrame(y)"
   ]
  },
  {
   "cell_type": "code",
   "execution_count": 48,
   "id": "f3e1dd42",
   "metadata": {},
   "outputs": [],
   "source": [
    "Arousal_df = pd.DataFrame(Arousal)"
   ]
  },
  {
   "cell_type": "code",
   "execution_count": 60,
   "id": "60eaa12b",
   "metadata": {},
   "outputs": [],
   "source": [
    "all_ratings = y_df "
   ]
  },
  {
   "cell_type": "code",
   "execution_count": 62,
   "id": "f7069462",
   "metadata": {},
   "outputs": [],
   "source": [
    "all_ratings.to_csv(os.path.join(path,'All_ratings_train.csv'))"
   ]
  },
  {
   "cell_type": "code",
   "execution_count": 43,
   "id": "75542407",
   "metadata": {},
   "outputs": [],
   "source": [
    "y_df.to_csv('Arousal_frames_emodb.csv')"
   ]
  },
  {
   "cell_type": "code",
   "execution_count": 44,
   "id": "5aba64b5",
   "metadata": {},
   "outputs": [
    {
     "data": {
      "text/html": [
       "<div>\n",
       "<style scoped>\n",
       "    .dataframe tbody tr th:only-of-type {\n",
       "        vertical-align: middle;\n",
       "    }\n",
       "\n",
       "    .dataframe tbody tr th {\n",
       "        vertical-align: top;\n",
       "    }\n",
       "\n",
       "    .dataframe thead th {\n",
       "        text-align: right;\n",
       "    }\n",
       "</style>\n",
       "<table border=\"1\" class=\"dataframe\">\n",
       "  <thead>\n",
       "    <tr style=\"text-align: right;\">\n",
       "      <th></th>\n",
       "      <th>0</th>\n",
       "    </tr>\n",
       "  </thead>\n",
       "  <tbody>\n",
       "    <tr>\n",
       "      <th>0</th>\n",
       "      <td>5.0</td>\n",
       "    </tr>\n",
       "    <tr>\n",
       "      <th>1</th>\n",
       "      <td>6.0</td>\n",
       "    </tr>\n",
       "    <tr>\n",
       "      <th>2</th>\n",
       "      <td>7.0</td>\n",
       "    </tr>\n",
       "    <tr>\n",
       "      <th>3</th>\n",
       "      <td>8.0</td>\n",
       "    </tr>\n",
       "    <tr>\n",
       "      <th>4</th>\n",
       "      <td>7.0</td>\n",
       "    </tr>\n",
       "    <tr>\n",
       "      <th>...</th>\n",
       "      <td>...</td>\n",
       "    </tr>\n",
       "    <tr>\n",
       "      <th>21619</th>\n",
       "      <td>6.0</td>\n",
       "    </tr>\n",
       "    <tr>\n",
       "      <th>21620</th>\n",
       "      <td>5.0</td>\n",
       "    </tr>\n",
       "    <tr>\n",
       "      <th>21621</th>\n",
       "      <td>5.0</td>\n",
       "    </tr>\n",
       "    <tr>\n",
       "      <th>21622</th>\n",
       "      <td>6.0</td>\n",
       "    </tr>\n",
       "    <tr>\n",
       "      <th>21623</th>\n",
       "      <td>5.0</td>\n",
       "    </tr>\n",
       "  </tbody>\n",
       "</table>\n",
       "<p>21624 rows × 1 columns</p>\n",
       "</div>"
      ],
      "text/plain": [
       "         0\n",
       "0      5.0\n",
       "1      6.0\n",
       "2      7.0\n",
       "3      8.0\n",
       "4      7.0\n",
       "...    ...\n",
       "21619  6.0\n",
       "21620  5.0\n",
       "21621  5.0\n",
       "21622  6.0\n",
       "21623  5.0\n",
       "\n",
       "[21624 rows x 1 columns]"
      ]
     },
     "execution_count": 44,
     "metadata": {},
     "output_type": "execute_result"
    }
   ],
   "source": [
    "y_df"
   ]
  }
 ],
 "metadata": {
  "kernelspec": {
   "display_name": "YOLO",
   "language": "python",
   "name": "yolo"
  },
  "language_info": {
   "codemirror_mode": {
    "name": "ipython",
    "version": 3
   },
   "file_extension": ".py",
   "mimetype": "text/x-python",
   "name": "python",
   "nbconvert_exporter": "python",
   "pygments_lexer": "ipython3",
   "version": "3.10.9"
  }
 },
 "nbformat": 4,
 "nbformat_minor": 5
}
