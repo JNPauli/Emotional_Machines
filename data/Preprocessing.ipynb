{
 "cells": [
  {
   "cell_type": "markdown",
   "id": "b0d0e596",
   "metadata": {},
   "source": [
    "## Deep Classification Network"
   ]
  },
  {
   "cell_type": "markdown",
   "id": "3b73c8da",
   "metadata": {},
   "source": [
    "0. First, the grid established in the Dataset exploration notebook will be tested with the SVM. Then, a DNN is implemented."
   ]
  },
  {
   "cell_type": "markdown",
   "id": "1df51ce6",
   "metadata": {},
   "source": [
    "1. Import all `modules` we are going to need"
   ]
  },
  {
   "cell_type": "code",
   "execution_count": 1,
   "id": "8eb6c846",
   "metadata": {},
   "outputs": [],
   "source": [
    "import torch\n",
    "from torch import nn\n",
    "import torchvision"
   ]
  },
  {
   "cell_type": "code",
   "execution_count": 2,
   "id": "4a6ed228",
   "metadata": {},
   "outputs": [],
   "source": [
    "from sklearn.model_selection import train_test_split\n",
    "from sklearn.svm import SVC"
   ]
  },
  {
   "cell_type": "markdown",
   "id": "7ff6ab38",
   "metadata": {},
   "source": [
    "2. Set up y. Then, import and process X."
   ]
  },
  {
   "cell_type": "code",
   "execution_count": 3,
   "id": "65c2d0f3",
   "metadata": {},
   "outputs": [],
   "source": [
    "import os\n",
    "import pandas as pd"
   ]
  },
  {
   "cell_type": "code",
   "execution_count": 4,
   "id": "aaf50ffb",
   "metadata": {},
   "outputs": [],
   "source": [
    "os.chdir('/mnt/c/Users/janos/OneDrive/Desktop/Master_thesis/kosti/mat2csv/emotic_pre/')\n",
    "train = pd.read_csv('train.csv')\n",
    "train_mscoco = train[train['Folder'] == 'mscoco/images']"
   ]
  },
  {
   "cell_type": "code",
   "execution_count": 5,
   "id": "10f5937f",
   "metadata": {},
   "outputs": [],
   "source": [
    "import re"
   ]
  },
  {
   "cell_type": "code",
   "execution_count": 6,
   "id": "2a3b6e2a",
   "metadata": {},
   "outputs": [],
   "source": [
    "y = []\n",
    "i=0\n",
    "for rating in train_mscoco['Continuous_Labels']:\n",
    "    y.append(rating)"
   ]
  },
  {
   "cell_type": "code",
   "execution_count": 7,
   "id": "455ca006",
   "metadata": {},
   "outputs": [],
   "source": [
    "y_ = []\n",
    "for idx, label in enumerate(y):\n",
    "    s = (re.sub(r\"[\\[\\]]\",'',y[idx]))\n",
    "    for i, x in enumerate(s):\n",
    "        y_.append(x)\n",
    "        if x == ',':\n",
    "            y_.remove(x)\n",
    "        if x == ' ':\n",
    "            y_.remove(x)\n",
    "        try:\n",
    "            if x == '1' and s[i+1] == '0':\n",
    "                y_.remove(x)\n",
    "                y_.append('10')\n",
    "        except IndexError:\n",
    "            continue\n",
    "        \n",
    "\n"
   ]
  },
  {
   "cell_type": "code",
   "execution_count": 8,
   "id": "7ba2e641",
   "metadata": {},
   "outputs": [],
   "source": [
    "for idx, el in enumerate(y_):\n",
    "    if el == '10':\n",
    "        if y_[idx+1] == '0':\n",
    "            y_.remove(y_[idx+1])\n",
    "\n"
   ]
  },
  {
   "cell_type": "code",
   "execution_count": 9,
   "id": "e9ba188c",
   "metadata": {},
   "outputs": [
    {
     "data": {
      "text/plain": [
       "42828"
      ]
     },
     "execution_count": 9,
     "metadata": {},
     "output_type": "execute_result"
    }
   ],
   "source": [
    "len(y_)"
   ]
  },
  {
   "cell_type": "code",
   "execution_count": 10,
   "id": "58173aa3",
   "metadata": {},
   "outputs": [],
   "source": [
    "cont_labels = []\n",
    "for val in y_:\n",
    "    cont_labels.append(float(val))"
   ]
  },
  {
   "cell_type": "code",
   "execution_count": 11,
   "id": "82f6da2d",
   "metadata": {},
   "outputs": [],
   "source": [
    "img = 0\n",
    "Arousal = []\n",
    "Valence = []\n",
    "Dominance = []\n",
    "for val in cont_labels:\n",
    "    if img == 0:\n",
    "        Arousal.append(val)\n",
    "        img = img+1\n",
    "        continue\n",
    "    if img == 1:\n",
    "        Valence.append(val)\n",
    "        img = img+1\n",
    "        continue \n",
    "    if img == 2:\n",
    "        Dominance.append(val)\n",
    "        img = 0\n",
    "        continue\n",
    "    \n",
    "\n"
   ]
  },
  {
   "cell_type": "code",
   "execution_count": 12,
   "id": "0f69f154",
   "metadata": {},
   "outputs": [],
   "source": [
    "import numpy as np\n",
    "\n",
    "Arousal = np.array(Arousal)\n",
    "\n"
   ]
  },
  {
   "cell_type": "code",
   "execution_count": 13,
   "id": "3780b4d5",
   "metadata": {},
   "outputs": [
    {
     "data": {
      "text/plain": [
       "(14276,)"
      ]
     },
     "execution_count": 13,
     "metadata": {},
     "output_type": "execute_result"
    }
   ],
   "source": [
    "Arousal.shape"
   ]
  },
  {
   "cell_type": "code",
   "execution_count": 14,
   "id": "30082995",
   "metadata": {},
   "outputs": [],
   "source": [
    "y = Arousal"
   ]
  },
  {
   "cell_type": "code",
   "execution_count": 15,
   "id": "31ef8e3a",
   "metadata": {},
   "outputs": [],
   "source": [
    "from sklearn.feature_selection import SelectKBest"
   ]
  },
  {
   "cell_type": "code",
   "execution_count": 16,
   "id": "93d5b3a8",
   "metadata": {},
   "outputs": [],
   "source": [
    "k_select = SelectKBest(k=40000)"
   ]
  },
  {
   "cell_type": "code",
   "execution_count": 17,
   "id": "be7fb8a8",
   "metadata": {},
   "outputs": [],
   "source": [
    "y_df = pd.DataFrame(y)"
   ]
  },
  {
   "cell_type": "code",
   "execution_count": 18,
   "id": "bd36d4a3",
   "metadata": {},
   "outputs": [],
   "source": [
    "y_series = y_df.squeeze()"
   ]
  },
  {
   "cell_type": "code",
   "execution_count": 19,
   "id": "b3bef4a6",
   "metadata": {},
   "outputs": [
    {
     "data": {
      "text/plain": [
       "12000    7.0\n",
       "12001    6.0\n",
       "12002    5.0\n",
       "12003    6.0\n",
       "12004    8.0\n",
       "        ... \n",
       "14271    5.0\n",
       "14272    8.0\n",
       "14273    2.0\n",
       "14274    6.0\n",
       "14275    7.0\n",
       "Name: 0, Length: 2276, dtype: float64"
      ]
     },
     "execution_count": 19,
     "metadata": {},
     "output_type": "execute_result"
    }
   ],
   "source": [
    "y_series[12000:14276]"
   ]
  },
  {
   "cell_type": "markdown",
   "id": "8339ca85",
   "metadata": {},
   "source": [
    "**NEXT STEP**:\n",
    "\n",
    "`Rename`all columns more meaningful. Then apply k-best to all chunked dataframes."
   ]
  },
  {
   "cell_type": "code",
   "execution_count": 20,
   "id": "d4200dc6",
   "metadata": {},
   "outputs": [],
   "source": [
    "os.chdir(\"/mnt/c/Users/janos/OneDrive/Desktop/Master_thesis\")"
   ]
  },
  {
   "cell_type": "code",
   "execution_count": 21,
   "id": "366de836",
   "metadata": {},
   "outputs": [
    {
     "name": "stdout",
     "output_type": "stream",
     "text": [
      "processing...\n",
      "Read the 0 dataframe\n",
      "Read the 1 dataframe\n",
      "Read the 2 dataframe\n",
      "Read the 3 dataframe\n",
      "Read the 4 dataframe\n"
     ]
    }
   ],
   "source": [
    "# the number of row in each data frame\n",
    "# you can put any value here according to your situation\n",
    "chunksize = 3000\n",
    "index=0\n",
    "# the list that contains all the dataframes\n",
    "list_of_dataframes = []\n",
    "\n",
    "print('processing...')\n",
    "for df in pd.read_csv('X_Matrix.csv', chunksize=chunksize):\n",
    "    # process your data frame here\n",
    "    # then add the current data frame into the list\n",
    "    list_of_dataframes.append(df)\n",
    "    print('Read the {num} dataframe'.format(num=index))\n",
    "    index=index+1\n",
    "   "
   ]
  },
  {
   "cell_type": "code",
   "execution_count": 22,
   "id": "24706f8d",
   "metadata": {},
   "outputs": [],
   "source": [
    "for df in list_of_dataframes:\n",
    "    for pos, col in enumerate(df):\n",
    "        df.columns.values[pos] = 'Feature ' + str(pos)\n",
    "        "
   ]
  },
  {
   "cell_type": "code",
   "execution_count": 23,
   "id": "89b423d1",
   "metadata": {
    "tags": [
     "output_scroll"
    ]
   },
   "outputs": [
    {
     "name": "stdout",
     "output_type": "stream",
     "text": [
      "processing...\n"
     ]
    },
    {
     "name": "stderr",
     "output_type": "stream",
     "text": [
      "/home/jpauli/miniconda3/envs/yolo/lib/python3.10/site-packages/sklearn/utils/validation.py:1143: DataConversionWarning: A column-vector y was passed when a 1d array was expected. Please change the shape of y to (n_samples, ), for example using ravel().\n",
      "  y = column_or_1d(y, warn=True)\n"
     ]
    },
    {
     "name": "stdout",
     "output_type": "stream",
     "text": [
      "Applied k-best to 0/5 chunks!\n",
      "processing...\n"
     ]
    },
    {
     "name": "stderr",
     "output_type": "stream",
     "text": [
      "/home/jpauli/miniconda3/envs/yolo/lib/python3.10/site-packages/sklearn/utils/validation.py:1143: DataConversionWarning: A column-vector y was passed when a 1d array was expected. Please change the shape of y to (n_samples, ), for example using ravel().\n",
      "  y = column_or_1d(y, warn=True)\n"
     ]
    },
    {
     "name": "stdout",
     "output_type": "stream",
     "text": [
      "Applied k-best to 1/5 chunks!\n",
      "processing...\n"
     ]
    },
    {
     "name": "stderr",
     "output_type": "stream",
     "text": [
      "/home/jpauli/miniconda3/envs/yolo/lib/python3.10/site-packages/sklearn/utils/validation.py:1143: DataConversionWarning: A column-vector y was passed when a 1d array was expected. Please change the shape of y to (n_samples, ), for example using ravel().\n",
      "  y = column_or_1d(y, warn=True)\n"
     ]
    },
    {
     "name": "stdout",
     "output_type": "stream",
     "text": [
      "Applied k-best to 2/5 chunks!\n",
      "processing...\n"
     ]
    },
    {
     "name": "stderr",
     "output_type": "stream",
     "text": [
      "/home/jpauli/miniconda3/envs/yolo/lib/python3.10/site-packages/sklearn/utils/validation.py:1143: DataConversionWarning: A column-vector y was passed when a 1d array was expected. Please change the shape of y to (n_samples, ), for example using ravel().\n",
      "  y = column_or_1d(y, warn=True)\n"
     ]
    },
    {
     "name": "stdout",
     "output_type": "stream",
     "text": [
      "Applied k-best to 3/5 chunks!\n",
      "processing...\n"
     ]
    },
    {
     "name": "stderr",
     "output_type": "stream",
     "text": [
      "/home/jpauli/miniconda3/envs/yolo/lib/python3.10/site-packages/sklearn/utils/validation.py:1143: DataConversionWarning: A column-vector y was passed when a 1d array was expected. Please change the shape of y to (n_samples, ), for example using ravel().\n",
      "  y = column_or_1d(y, warn=True)\n"
     ]
    },
    {
     "name": "stdout",
     "output_type": "stream",
     "text": [
      "Applied k-best to 4/5 chunks!\n"
     ]
    }
   ],
   "source": [
    "k_list = []\n",
    "track = 0\n",
    "i=0\n",
    "j=3000\n",
    "for chunk in list_of_dataframes:\n",
    "    print('processing...')\n",
    "    k_select.fit_transform(chunk, y_df[i:j])\n",
    "    cols_idxs = k_select.get_support(indices=True)\n",
    "    k_list.append(chunk.iloc[:,cols_idxs])\n",
    "    print('Applied k-best to {track}/5 chunks!'.format(track=track))\n",
    "    track=track+1\n",
    "    if track == 4:\n",
    "        i=12000\n",
    "        j=12000+list_of_dataframes[4].shape[0]\n",
    "        \n",
    "    else:\n",
    "        i=i+3000\n",
    "        j=j+3000\n",
    "        "
   ]
  },
  {
   "cell_type": "markdown",
   "id": "26c0eab1",
   "metadata": {},
   "source": [
    "**Step 4.**\n",
    "\n",
    "`Majority voting`"
   ]
  },
  {
   "cell_type": "code",
   "execution_count": 24,
   "id": "772dee03",
   "metadata": {},
   "outputs": [
    {
     "data": {
      "text/plain": [
       "25390"
      ]
     },
     "execution_count": 24,
     "metadata": {},
     "output_type": "execute_result"
    }
   ],
   "source": [
    "len(set(k_list[0]).intersection(k_list[1], k_list[2]))"
   ]
  },
  {
   "cell_type": "code",
   "execution_count": 25,
   "id": "4f90c9ef",
   "metadata": {},
   "outputs": [],
   "source": [
    "features = list(set(k_list[0]).intersection(k_list[1], k_list[2]))"
   ]
  },
  {
   "cell_type": "markdown",
   "id": "db0135ac",
   "metadata": {},
   "source": [
    "**Step 5.**\n",
    "\n",
    "Reduce columns from *k* (=40000) to the amount of features that are commmon between dataframe one, two and three.\n",
    "\n",
    "Then concatenate."
   ]
  },
  {
   "cell_type": "code",
   "execution_count": 26,
   "id": "989ffcbe",
   "metadata": {},
   "outputs": [
    {
     "name": "stdout",
     "output_type": "stream",
     "text": [
      "processing chunk 0/2\n",
      "processing chunk 1/2\n",
      "processing chunk 2/2\n"
     ]
    }
   ],
   "source": [
    "feature_list = []\n",
    "for chunk, df in enumerate(list_of_dataframes):\n",
    "    print('processing chunk {chunk}/2'.format(chunk=chunk))\n",
    "    feature_list.append(df[features])\n",
    "    if chunk == 2:\n",
    "        break"
   ]
  },
  {
   "cell_type": "code",
   "execution_count": 28,
   "id": "99310d16",
   "metadata": {},
   "outputs": [
    {
     "name": "stdout",
     "output_type": "stream",
     "text": [
      "df_0\n",
      "df_1\n",
      "df_2\n"
     ]
    }
   ],
   "source": [
    "for chunk, df in enumerate(feature_list):\n",
    "    print('df_{cunk}'.format(cunk=chunk))"
   ]
  },
  {
   "cell_type": "code",
   "execution_count": 29,
   "id": "36271eb6",
   "metadata": {},
   "outputs": [],
   "source": [
    "feature_list[0].to_csv('X_1.csv')\n",
    "feature_list[1].to_csv('X_2.csv')\n",
    "feature_list[2].to_csv('X_3.csv')"
   ]
  },
  {
   "cell_type": "code",
   "execution_count": 32,
   "id": "c162a0d1",
   "metadata": {},
   "outputs": [],
   "source": [
    "# remaining dataframes for RAM purposes\n",
    "list_df_r = []\n",
    "list_df_r.append(list_of_dataframes[3])\n",
    "list_df_r.append(list_of_dataframes[4])"
   ]
  },
  {
   "cell_type": "code",
   "execution_count": 37,
   "id": "a8dba018",
   "metadata": {},
   "outputs": [
    {
     "name": "stdout",
     "output_type": "stream",
     "text": [
      "processing chunk 0/1\n",
      "processing chunk 1/1\n"
     ]
    }
   ],
   "source": [
    "for pos, df in enumerate(list_df_r):\n",
    "    print('processing chunk {pos}/1'.format(pos=pos))\n",
    "    feature_list.append(df[features])\n",
    "    "
   ]
  },
  {
   "cell_type": "code",
   "execution_count": 41,
   "id": "15bcd085",
   "metadata": {},
   "outputs": [],
   "source": [
    "feature_list[3].to_csv('X_4.csv')\n",
    "feature_list[4].to_csv('X_5.csv')"
   ]
  }
 ],
 "metadata": {
  "kernelspec": {
   "display_name": "YOLO",
   "language": "python",
   "name": "yolo"
  },
  "language_info": {
   "codemirror_mode": {
    "name": "ipython",
    "version": 3
   },
   "file_extension": ".py",
   "mimetype": "text/x-python",
   "name": "python",
   "nbconvert_exporter": "python",
   "pygments_lexer": "ipython3",
   "version": "3.10.9"
  }
 },
 "nbformat": 4,
 "nbformat_minor": 5
}
