{
 "cells": [
  {
   "cell_type": "markdown",
   "id": "5b142c5e",
   "metadata": {},
   "source": [
    "## **0. Introduction**"
   ]
  },
  {
   "cell_type": "markdown",
   "id": "04761262",
   "metadata": {},
   "source": [
    "This notebook serves the purpose of exploring the data used in the master thesis. For now I will look into the dataset from [Kim et al., 2018](https://ieeexplore.ieee.org/document/8344491/figures#figures), the data can be downloaded [here](http://cga.yonsei.ac.kr/publications/Building_Emotional_Machines:_Recognizing_Image_Emotions_through_Deep_Neural_Networks_).\n",
    "\n",
    "The total dataset consists of 10766 images. There exists the folder \"Emotionlabel\", that contains the average arousal and average valence ratings. To make sure that those are the corresponding labels, I will no inspect if the size matches the image shape."
   ]
  },
  {
   "cell_type": "code",
   "execution_count": 52,
   "id": "01ee0cc2",
   "metadata": {},
   "outputs": [
    {
     "data": {
      "text/plain": [
       "['arousal_avg_10766_v2.txt', 'valence_avg_10766_v2.txt']"
      ]
     },
     "execution_count": 52,
     "metadata": {},
     "output_type": "execute_result"
    }
   ],
   "source": [
    "import os\n",
    "os.chdir('/mnt/d/Masterarbeit/Kim et al/Emotionlabel')\n",
    "os.listdir()"
   ]
  },
  {
   "cell_type": "code",
   "execution_count": 60,
   "id": "8586c7c4",
   "metadata": {},
   "outputs": [
    {
     "name": "stdout",
     "output_type": "stream",
     "text": [
      "(10765, 1) (10765, 1)\n"
     ]
    }
   ],
   "source": [
    "import pandas as pd\n",
    "arousal = pd.read_table('arousal_avg_10766_v2.txt',delimiter = ' ')\n",
    "valence = pd.read_table('valence_avg_10766_v2.txt',delimiter = ' ')\n",
    "print(arousal.shape,valence.shape)"
   ]
  },
  {
   "cell_type": "markdown",
   "id": "f00ff484",
   "metadata": {},
   "source": [
    "The size of the labels match the amount of images in the dataset. This is good news.\n",
    "The files are named the average rating because *\"A total of 1,339 workers were recruited to assign the\n",
    "emotion values of the 10,766 images in the dataset. The evaluation time per image varied from 10 seconds to a minute depending on the worker. Each image is evaluated on at least five workers, and the average of the acquired values is assigned to the emotion value of the image\"*"
   ]
  }
 ],
 "metadata": {
  "kernelspec": {
   "display_name": "neuro_ai",
   "language": "python",
   "name": "neuro_ai"
  },
  "language_info": {
   "codemirror_mode": {
    "name": "ipython",
    "version": 3
   },
   "file_extension": ".py",
   "mimetype": "text/x-python",
   "name": "python",
   "nbconvert_exporter": "python",
   "pygments_lexer": "ipython3",
   "version": "3.7.0"
  }
 },
 "nbformat": 4,
 "nbformat_minor": 5
}
