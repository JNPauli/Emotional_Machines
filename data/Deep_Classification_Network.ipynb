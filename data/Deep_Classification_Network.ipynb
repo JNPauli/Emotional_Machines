{
 "cells": [
  {
   "cell_type": "markdown",
   "id": "b0d0e596",
   "metadata": {},
   "source": [
    "## Deep Classification Network"
   ]
  },
  {
   "cell_type": "markdown",
   "id": "3b73c8da",
   "metadata": {},
   "source": [
    "0. First, the grid established in the Dataset exploration notebook will be tested with the SVM. Then, a DNN is implemented."
   ]
  },
  {
   "cell_type": "markdown",
   "id": "1df51ce6",
   "metadata": {},
   "source": [
    "1. Import all `modules` we are going to need"
   ]
  },
  {
   "cell_type": "code",
   "execution_count": 1,
   "id": "8eb6c846",
   "metadata": {},
   "outputs": [],
   "source": [
    "import torch\n",
    "from torch import nn\n",
    "import torchvision"
   ]
  },
  {
   "cell_type": "code",
   "execution_count": 2,
   "id": "4a6ed228",
   "metadata": {},
   "outputs": [],
   "source": [
    "from sklearn.model_selection import train_test_split\n",
    "from sklearn.svm import SVC"
   ]
  },
  {
   "cell_type": "markdown",
   "id": "7ff6ab38",
   "metadata": {},
   "source": [
    "2. Import Input Matrix X. Then, import y"
   ]
  },
  {
   "cell_type": "code",
   "execution_count": 3,
   "id": "65c2d0f3",
   "metadata": {},
   "outputs": [],
   "source": [
    "import os\n",
    "import pandas as pd"
   ]
  },
  {
   "cell_type": "code",
   "execution_count": 4,
   "id": "3142a163",
   "metadata": {},
   "outputs": [],
   "source": [
    "os.chdir(\"/mnt/c/Users/janos/OneDrive/Desktop/Master_thesis\")"
   ]
  },
  {
   "cell_type": "code",
   "execution_count": 5,
   "id": "6bd88359",
   "metadata": {},
   "outputs": [
    {
     "name": "stdout",
     "output_type": "stream",
     "text": [
      "Read the 0 dataframe\n",
      "Read the 1 dataframe\n",
      "Read the 2 dataframe\n",
      "Read the 3 dataframe\n",
      "Read the 4 dataframe\n",
      "Read the 5 dataframe\n",
      "Read the 6 dataframe\n",
      "Read the 7 dataframe\n",
      "Read the 8 dataframe\n",
      "Read the 9 dataframe\n",
      "Read the 10 dataframe\n",
      "Read the 11 dataframe\n",
      "Read the 12 dataframe\n",
      "Read the 13 dataframe\n",
      "Read the 14 dataframe\n"
     ]
    }
   ],
   "source": [
    "# the number of row in each data frame\n",
    "# you can put any value here according to your situation\n",
    "chunksize = 1000\n",
    "index=0\n",
    "# the list that contains all the dataframes\n",
    "list_of_dataframes = []\n",
    "\n",
    "for df in pd.read_csv('X_Matrix.csv', chunksize=chunksize):\n",
    "    # process your data frame here\n",
    "    # then add the current data frame into the list\n",
    "    list_of_dataframes.append(df)\n",
    "    print('Read the {num} dataframe'.format(num=index))\n",
    "    index=index+1\n",
    "# if you want all the dataframes together, here it is\n",
    "#result = pd.concat(list_of_dataframes)"
   ]
  },
  {
   "cell_type": "markdown",
   "id": "62ccd9dd",
   "metadata": {},
   "source": [
    "3. Import y"
   ]
  },
  {
   "cell_type": "code",
   "execution_count": 9,
   "id": "aaf50ffb",
   "metadata": {},
   "outputs": [],
   "source": [
    "os.chdir('/mnt/c/Users/janos/OneDrive/Desktop/Master_thesis/kosti/mat2csv/emotic_pre/')\n",
    "train = pd.read_csv('train.csv')\n",
    "train_mscoco = train[train['Folder'] == 'mscoco/images']"
   ]
  },
  {
   "cell_type": "code",
   "execution_count": 10,
   "id": "10f5937f",
   "metadata": {},
   "outputs": [],
   "source": [
    "import re"
   ]
  },
  {
   "cell_type": "code",
   "execution_count": 11,
   "id": "2a3b6e2a",
   "metadata": {},
   "outputs": [],
   "source": [
    "y = []\n",
    "i=0\n",
    "for rating in train_mscoco['Continuous_Labels']:\n",
    "    y.append(rating)"
   ]
  },
  {
   "cell_type": "code",
   "execution_count": 12,
   "id": "455ca006",
   "metadata": {},
   "outputs": [],
   "source": [
    "y_ = []\n",
    "for idx, label in enumerate(y):\n",
    "    s = (re.sub(r\"[\\[\\]]\",'',y[idx]))\n",
    "    for i, x in enumerate(s):\n",
    "        y_.append(x)\n",
    "        if x == ',':\n",
    "            y_.remove(x)\n",
    "        if x == ' ':\n",
    "            y_.remove(x)\n",
    "        try:\n",
    "            if x == '1' and s[i+1] == '0':\n",
    "                y_.remove(x)\n",
    "                y_.append('10')\n",
    "        except IndexError:\n",
    "            continue\n",
    "        \n",
    "\n"
   ]
  },
  {
   "cell_type": "code",
   "execution_count": 13,
   "id": "7ba2e641",
   "metadata": {},
   "outputs": [],
   "source": [
    "for idx, el in enumerate(y_):\n",
    "    if el == '10':\n",
    "        if y_[idx+1] == '0':\n",
    "            y_.remove(y_[idx+1])\n",
    "\n"
   ]
  },
  {
   "cell_type": "code",
   "execution_count": 14,
   "id": "e9ba188c",
   "metadata": {},
   "outputs": [
    {
     "data": {
      "text/plain": [
       "42828"
      ]
     },
     "execution_count": 14,
     "metadata": {},
     "output_type": "execute_result"
    }
   ],
   "source": [
    "len(y_)"
   ]
  },
  {
   "cell_type": "code",
   "execution_count": 15,
   "id": "58173aa3",
   "metadata": {},
   "outputs": [],
   "source": [
    "cont_labels = []\n",
    "for val in y_:\n",
    "    cont_labels.append(float(val))"
   ]
  },
  {
   "cell_type": "code",
   "execution_count": 16,
   "id": "82f6da2d",
   "metadata": {},
   "outputs": [],
   "source": [
    "img = 0\n",
    "Arousal = []\n",
    "Valence = []\n",
    "Dominance = []\n",
    "for val in cont_labels:\n",
    "    if img == 0:\n",
    "        Arousal.append(val)\n",
    "        img = img+1\n",
    "        continue\n",
    "    if img == 1:\n",
    "        Valence.append(val)\n",
    "        img = img+1\n",
    "        continue \n",
    "    if img == 2:\n",
    "        Dominance.append(val)\n",
    "        img = 0\n",
    "        continue\n",
    "    \n",
    "\n"
   ]
  },
  {
   "cell_type": "code",
   "execution_count": 17,
   "id": "0f69f154",
   "metadata": {},
   "outputs": [],
   "source": [
    "import numpy as np\n",
    "\n",
    "Arousal = np.array(Arousal)\n",
    "\n"
   ]
  },
  {
   "cell_type": "code",
   "execution_count": 18,
   "id": "3780b4d5",
   "metadata": {},
   "outputs": [
    {
     "data": {
      "text/plain": [
       "(14276,)"
      ]
     },
     "execution_count": 18,
     "metadata": {},
     "output_type": "execute_result"
    }
   ],
   "source": [
    "Arousal.shape"
   ]
  },
  {
   "cell_type": "code",
   "execution_count": 19,
   "id": "30082995",
   "metadata": {},
   "outputs": [],
   "source": [
    "y = Arousal"
   ]
  },
  {
   "cell_type": "code",
   "execution_count": 21,
   "id": "73e3fe7a",
   "metadata": {},
   "outputs": [
    {
     "data": {
      "text/plain": [
       "276"
      ]
     },
     "execution_count": 21,
     "metadata": {},
     "output_type": "execute_result"
    }
   ],
   "source": [
    "list_of_dataframes[14].shape[0]"
   ]
  },
  {
   "cell_type": "code",
   "execution_count": 22,
   "id": "31ef8e3a",
   "metadata": {},
   "outputs": [],
   "source": [
    "from sklearn.feature_selection import SelectKBest"
   ]
  },
  {
   "cell_type": "code",
   "execution_count": 25,
   "id": "698839e8",
   "metadata": {},
   "outputs": [],
   "source": [
    "y_df = pd.DataFrame(y)"
   ]
  },
  {
   "cell_type": "code",
   "execution_count": 26,
   "id": "89b423d1",
   "metadata": {
    "tags": [
     "output_scroll"
    ]
   },
   "outputs": [
    {
     "name": "stderr",
     "output_type": "stream",
     "text": [
      "/home/jpauli/miniconda3/envs/yolo/lib/python3.10/site-packages/sklearn/utils/validation.py:1143: DataConversionWarning: A column-vector y was passed when a 1d array was expected. Please change the shape of y to (n_samples, ), for example using ravel().\n",
      "  y = column_or_1d(y, warn=True)\n"
     ]
    },
    {
     "name": "stdout",
     "output_type": "stream",
     "text": [
      "Applied k-best to 0 chunks!\n"
     ]
    },
    {
     "name": "stderr",
     "output_type": "stream",
     "text": [
      "/home/jpauli/miniconda3/envs/yolo/lib/python3.10/site-packages/sklearn/utils/validation.py:1143: DataConversionWarning: A column-vector y was passed when a 1d array was expected. Please change the shape of y to (n_samples, ), for example using ravel().\n",
      "  y = column_or_1d(y, warn=True)\n"
     ]
    },
    {
     "name": "stdout",
     "output_type": "stream",
     "text": [
      "Applied k-best to 1 chunks!\n"
     ]
    },
    {
     "name": "stderr",
     "output_type": "stream",
     "text": [
      "/home/jpauli/miniconda3/envs/yolo/lib/python3.10/site-packages/sklearn/utils/validation.py:1143: DataConversionWarning: A column-vector y was passed when a 1d array was expected. Please change the shape of y to (n_samples, ), for example using ravel().\n",
      "  y = column_or_1d(y, warn=True)\n"
     ]
    },
    {
     "name": "stdout",
     "output_type": "stream",
     "text": [
      "Applied k-best to 2 chunks!\n"
     ]
    },
    {
     "name": "stderr",
     "output_type": "stream",
     "text": [
      "/home/jpauli/miniconda3/envs/yolo/lib/python3.10/site-packages/sklearn/utils/validation.py:1143: DataConversionWarning: A column-vector y was passed when a 1d array was expected. Please change the shape of y to (n_samples, ), for example using ravel().\n",
      "  y = column_or_1d(y, warn=True)\n"
     ]
    },
    {
     "name": "stdout",
     "output_type": "stream",
     "text": [
      "Applied k-best to 3 chunks!\n"
     ]
    },
    {
     "name": "stderr",
     "output_type": "stream",
     "text": [
      "/home/jpauli/miniconda3/envs/yolo/lib/python3.10/site-packages/sklearn/utils/validation.py:1143: DataConversionWarning: A column-vector y was passed when a 1d array was expected. Please change the shape of y to (n_samples, ), for example using ravel().\n",
      "  y = column_or_1d(y, warn=True)\n"
     ]
    },
    {
     "name": "stdout",
     "output_type": "stream",
     "text": [
      "Applied k-best to 4 chunks!\n"
     ]
    },
    {
     "name": "stderr",
     "output_type": "stream",
     "text": [
      "/home/jpauli/miniconda3/envs/yolo/lib/python3.10/site-packages/sklearn/utils/validation.py:1143: DataConversionWarning: A column-vector y was passed when a 1d array was expected. Please change the shape of y to (n_samples, ), for example using ravel().\n",
      "  y = column_or_1d(y, warn=True)\n"
     ]
    },
    {
     "name": "stdout",
     "output_type": "stream",
     "text": [
      "Applied k-best to 5 chunks!\n"
     ]
    },
    {
     "name": "stderr",
     "output_type": "stream",
     "text": [
      "/home/jpauli/miniconda3/envs/yolo/lib/python3.10/site-packages/sklearn/utils/validation.py:1143: DataConversionWarning: A column-vector y was passed when a 1d array was expected. Please change the shape of y to (n_samples, ), for example using ravel().\n",
      "  y = column_or_1d(y, warn=True)\n"
     ]
    },
    {
     "name": "stdout",
     "output_type": "stream",
     "text": [
      "Applied k-best to 6 chunks!\n"
     ]
    },
    {
     "name": "stderr",
     "output_type": "stream",
     "text": [
      "/home/jpauli/miniconda3/envs/yolo/lib/python3.10/site-packages/sklearn/utils/validation.py:1143: DataConversionWarning: A column-vector y was passed when a 1d array was expected. Please change the shape of y to (n_samples, ), for example using ravel().\n",
      "  y = column_or_1d(y, warn=True)\n"
     ]
    },
    {
     "name": "stdout",
     "output_type": "stream",
     "text": [
      "Applied k-best to 7 chunks!\n"
     ]
    },
    {
     "name": "stderr",
     "output_type": "stream",
     "text": [
      "/home/jpauli/miniconda3/envs/yolo/lib/python3.10/site-packages/sklearn/utils/validation.py:1143: DataConversionWarning: A column-vector y was passed when a 1d array was expected. Please change the shape of y to (n_samples, ), for example using ravel().\n",
      "  y = column_or_1d(y, warn=True)\n"
     ]
    },
    {
     "name": "stdout",
     "output_type": "stream",
     "text": [
      "Applied k-best to 8 chunks!\n"
     ]
    },
    {
     "name": "stderr",
     "output_type": "stream",
     "text": [
      "/home/jpauli/miniconda3/envs/yolo/lib/python3.10/site-packages/sklearn/utils/validation.py:1143: DataConversionWarning: A column-vector y was passed when a 1d array was expected. Please change the shape of y to (n_samples, ), for example using ravel().\n",
      "  y = column_or_1d(y, warn=True)\n"
     ]
    },
    {
     "name": "stdout",
     "output_type": "stream",
     "text": [
      "Applied k-best to 9 chunks!\n"
     ]
    },
    {
     "name": "stderr",
     "output_type": "stream",
     "text": [
      "/home/jpauli/miniconda3/envs/yolo/lib/python3.10/site-packages/sklearn/utils/validation.py:1143: DataConversionWarning: A column-vector y was passed when a 1d array was expected. Please change the shape of y to (n_samples, ), for example using ravel().\n",
      "  y = column_or_1d(y, warn=True)\n"
     ]
    },
    {
     "name": "stdout",
     "output_type": "stream",
     "text": [
      "Applied k-best to 10 chunks!\n"
     ]
    },
    {
     "name": "stderr",
     "output_type": "stream",
     "text": [
      "/home/jpauli/miniconda3/envs/yolo/lib/python3.10/site-packages/sklearn/utils/validation.py:1143: DataConversionWarning: A column-vector y was passed when a 1d array was expected. Please change the shape of y to (n_samples, ), for example using ravel().\n",
      "  y = column_or_1d(y, warn=True)\n"
     ]
    },
    {
     "name": "stdout",
     "output_type": "stream",
     "text": [
      "Applied k-best to 11 chunks!\n"
     ]
    },
    {
     "name": "stderr",
     "output_type": "stream",
     "text": [
      "/home/jpauli/miniconda3/envs/yolo/lib/python3.10/site-packages/sklearn/utils/validation.py:1143: DataConversionWarning: A column-vector y was passed when a 1d array was expected. Please change the shape of y to (n_samples, ), for example using ravel().\n",
      "  y = column_or_1d(y, warn=True)\n"
     ]
    },
    {
     "name": "stdout",
     "output_type": "stream",
     "text": [
      "Applied k-best to 12 chunks!\n"
     ]
    },
    {
     "name": "stderr",
     "output_type": "stream",
     "text": [
      "/home/jpauli/miniconda3/envs/yolo/lib/python3.10/site-packages/sklearn/utils/validation.py:1143: DataConversionWarning: A column-vector y was passed when a 1d array was expected. Please change the shape of y to (n_samples, ), for example using ravel().\n",
      "  y = column_or_1d(y, warn=True)\n"
     ]
    },
    {
     "name": "stdout",
     "output_type": "stream",
     "text": [
      "Applied k-best to 13 chunks!\n"
     ]
    },
    {
     "name": "stderr",
     "output_type": "stream",
     "text": [
      "/home/jpauli/miniconda3/envs/yolo/lib/python3.10/site-packages/sklearn/utils/validation.py:1143: DataConversionWarning: A column-vector y was passed when a 1d array was expected. Please change the shape of y to (n_samples, ), for example using ravel().\n",
      "  y = column_or_1d(y, warn=True)\n"
     ]
    },
    {
     "name": "stdout",
     "output_type": "stream",
     "text": [
      "Applied k-best to 14 chunks!\n"
     ]
    }
   ],
   "source": [
    "k_list = []\n",
    "track = 0\n",
    "i=0\n",
    "j=1000\n",
    "for chunk in list_of_dataframes:\n",
    "    k_list.append(pd.DataFrame(SelectKBest(k=40000).fit_transform(chunk, y_df[i:j])))\n",
    "\n",
    "    print('Applied k-best to {track} chunks!'.format(track=track))\n",
    "    track=track+1\n",
    "    if track == 14:\n",
    "        i=14000\n",
    "        j=14000+list_of_dataframes[14].shape[0]\n",
    "        \n",
    "    else:\n",
    "        i=i+1000\n",
    "        j=j+1000\n",
    "        "
   ]
  },
  {
   "cell_type": "code",
   "execution_count": 28,
   "id": "a8c7e662",
   "metadata": {},
   "outputs": [
    {
     "data": {
      "text/html": [
       "<div>\n",
       "<style scoped>\n",
       "    .dataframe tbody tr th:only-of-type {\n",
       "        vertical-align: middle;\n",
       "    }\n",
       "\n",
       "    .dataframe tbody tr th {\n",
       "        vertical-align: top;\n",
       "    }\n",
       "\n",
       "    .dataframe thead th {\n",
       "        text-align: right;\n",
       "    }\n",
       "</style>\n",
       "<table border=\"1\" class=\"dataframe\">\n",
       "  <thead>\n",
       "    <tr style=\"text-align: right;\">\n",
       "      <th></th>\n",
       "      <th>0</th>\n",
       "      <th>1</th>\n",
       "      <th>2</th>\n",
       "      <th>3</th>\n",
       "      <th>4</th>\n",
       "      <th>5</th>\n",
       "      <th>6</th>\n",
       "      <th>7</th>\n",
       "      <th>8</th>\n",
       "      <th>9</th>\n",
       "      <th>...</th>\n",
       "      <th>39990</th>\n",
       "      <th>39991</th>\n",
       "      <th>39992</th>\n",
       "      <th>39993</th>\n",
       "      <th>39994</th>\n",
       "      <th>39995</th>\n",
       "      <th>39996</th>\n",
       "      <th>39997</th>\n",
       "      <th>39998</th>\n",
       "      <th>39999</th>\n",
       "    </tr>\n",
       "  </thead>\n",
       "  <tbody>\n",
       "    <tr>\n",
       "      <th>0</th>\n",
       "      <td>14000.0</td>\n",
       "      <td>0.002983</td>\n",
       "      <td>0.002624</td>\n",
       "      <td>0.003486</td>\n",
       "      <td>0.004920</td>\n",
       "      <td>0.005720</td>\n",
       "      <td>0.019834</td>\n",
       "      <td>0.013985</td>\n",
       "      <td>0.013921</td>\n",
       "      <td>0.008999</td>\n",
       "      <td>...</td>\n",
       "      <td>0.047873</td>\n",
       "      <td>0.016421</td>\n",
       "      <td>0.010720</td>\n",
       "      <td>0.007967</td>\n",
       "      <td>0.003424</td>\n",
       "      <td>0.028607</td>\n",
       "      <td>0.006359</td>\n",
       "      <td>0.002972</td>\n",
       "      <td>0.003128</td>\n",
       "      <td>0.001388</td>\n",
       "    </tr>\n",
       "    <tr>\n",
       "      <th>1</th>\n",
       "      <td>14001.0</td>\n",
       "      <td>0.062586</td>\n",
       "      <td>0.027364</td>\n",
       "      <td>0.053738</td>\n",
       "      <td>0.048039</td>\n",
       "      <td>0.054604</td>\n",
       "      <td>0.064544</td>\n",
       "      <td>0.063026</td>\n",
       "      <td>0.032068</td>\n",
       "      <td>0.022397</td>\n",
       "      <td>...</td>\n",
       "      <td>0.027307</td>\n",
       "      <td>0.008309</td>\n",
       "      <td>0.013371</td>\n",
       "      <td>0.004423</td>\n",
       "      <td>0.013888</td>\n",
       "      <td>0.025754</td>\n",
       "      <td>0.010644</td>\n",
       "      <td>0.014561</td>\n",
       "      <td>0.026044</td>\n",
       "      <td>0.008892</td>\n",
       "    </tr>\n",
       "    <tr>\n",
       "      <th>2</th>\n",
       "      <td>14002.0</td>\n",
       "      <td>0.078794</td>\n",
       "      <td>0.039873</td>\n",
       "      <td>0.074930</td>\n",
       "      <td>0.055050</td>\n",
       "      <td>0.069653</td>\n",
       "      <td>0.093185</td>\n",
       "      <td>0.047934</td>\n",
       "      <td>0.013722</td>\n",
       "      <td>0.027485</td>\n",
       "      <td>...</td>\n",
       "      <td>0.035630</td>\n",
       "      <td>0.004622</td>\n",
       "      <td>0.016758</td>\n",
       "      <td>0.020034</td>\n",
       "      <td>0.004449</td>\n",
       "      <td>0.004084</td>\n",
       "      <td>0.010122</td>\n",
       "      <td>0.005570</td>\n",
       "      <td>0.003506</td>\n",
       "      <td>0.009049</td>\n",
       "    </tr>\n",
       "    <tr>\n",
       "      <th>3</th>\n",
       "      <td>14003.0</td>\n",
       "      <td>0.037931</td>\n",
       "      <td>0.021864</td>\n",
       "      <td>0.014515</td>\n",
       "      <td>0.005891</td>\n",
       "      <td>0.012321</td>\n",
       "      <td>0.008541</td>\n",
       "      <td>0.009423</td>\n",
       "      <td>0.003371</td>\n",
       "      <td>0.005977</td>\n",
       "      <td>...</td>\n",
       "      <td>0.007062</td>\n",
       "      <td>0.007914</td>\n",
       "      <td>0.007093</td>\n",
       "      <td>0.010805</td>\n",
       "      <td>0.011705</td>\n",
       "      <td>0.002574</td>\n",
       "      <td>0.006702</td>\n",
       "      <td>0.004432</td>\n",
       "      <td>0.003992</td>\n",
       "      <td>0.018727</td>\n",
       "    </tr>\n",
       "    <tr>\n",
       "      <th>4</th>\n",
       "      <td>14004.0</td>\n",
       "      <td>0.007292</td>\n",
       "      <td>0.008967</td>\n",
       "      <td>0.019246</td>\n",
       "      <td>0.010443</td>\n",
       "      <td>0.017788</td>\n",
       "      <td>0.037201</td>\n",
       "      <td>0.025179</td>\n",
       "      <td>0.039869</td>\n",
       "      <td>0.022370</td>\n",
       "      <td>...</td>\n",
       "      <td>0.020466</td>\n",
       "      <td>0.018037</td>\n",
       "      <td>0.025835</td>\n",
       "      <td>0.041098</td>\n",
       "      <td>0.025301</td>\n",
       "      <td>0.010871</td>\n",
       "      <td>0.011995</td>\n",
       "      <td>0.011456</td>\n",
       "      <td>0.017219</td>\n",
       "      <td>0.029210</td>\n",
       "    </tr>\n",
       "    <tr>\n",
       "      <th>...</th>\n",
       "      <td>...</td>\n",
       "      <td>...</td>\n",
       "      <td>...</td>\n",
       "      <td>...</td>\n",
       "      <td>...</td>\n",
       "      <td>...</td>\n",
       "      <td>...</td>\n",
       "      <td>...</td>\n",
       "      <td>...</td>\n",
       "      <td>...</td>\n",
       "      <td>...</td>\n",
       "      <td>...</td>\n",
       "      <td>...</td>\n",
       "      <td>...</td>\n",
       "      <td>...</td>\n",
       "      <td>...</td>\n",
       "      <td>...</td>\n",
       "      <td>...</td>\n",
       "      <td>...</td>\n",
       "      <td>...</td>\n",
       "      <td>...</td>\n",
       "    </tr>\n",
       "    <tr>\n",
       "      <th>271</th>\n",
       "      <td>14271.0</td>\n",
       "      <td>0.267639</td>\n",
       "      <td>0.042201</td>\n",
       "      <td>0.027928</td>\n",
       "      <td>0.089289</td>\n",
       "      <td>0.064527</td>\n",
       "      <td>0.054865</td>\n",
       "      <td>0.083702</td>\n",
       "      <td>0.023402</td>\n",
       "      <td>0.044274</td>\n",
       "      <td>...</td>\n",
       "      <td>0.062407</td>\n",
       "      <td>0.056790</td>\n",
       "      <td>0.055323</td>\n",
       "      <td>0.050115</td>\n",
       "      <td>0.030401</td>\n",
       "      <td>0.087418</td>\n",
       "      <td>0.009426</td>\n",
       "      <td>0.025549</td>\n",
       "      <td>0.030971</td>\n",
       "      <td>0.055721</td>\n",
       "    </tr>\n",
       "    <tr>\n",
       "      <th>272</th>\n",
       "      <td>14272.0</td>\n",
       "      <td>0.032026</td>\n",
       "      <td>0.057695</td>\n",
       "      <td>0.034665</td>\n",
       "      <td>0.059026</td>\n",
       "      <td>0.059890</td>\n",
       "      <td>0.029450</td>\n",
       "      <td>0.046175</td>\n",
       "      <td>0.061146</td>\n",
       "      <td>0.042535</td>\n",
       "      <td>...</td>\n",
       "      <td>0.032671</td>\n",
       "      <td>0.030913</td>\n",
       "      <td>0.035982</td>\n",
       "      <td>0.026066</td>\n",
       "      <td>0.018557</td>\n",
       "      <td>0.006037</td>\n",
       "      <td>0.007422</td>\n",
       "      <td>0.008649</td>\n",
       "      <td>0.016959</td>\n",
       "      <td>0.016321</td>\n",
       "    </tr>\n",
       "    <tr>\n",
       "      <th>273</th>\n",
       "      <td>14273.0</td>\n",
       "      <td>0.012289</td>\n",
       "      <td>0.010207</td>\n",
       "      <td>0.007706</td>\n",
       "      <td>0.023971</td>\n",
       "      <td>0.007756</td>\n",
       "      <td>0.013266</td>\n",
       "      <td>0.006782</td>\n",
       "      <td>0.009684</td>\n",
       "      <td>0.007833</td>\n",
       "      <td>...</td>\n",
       "      <td>0.006524</td>\n",
       "      <td>0.001503</td>\n",
       "      <td>0.006025</td>\n",
       "      <td>0.001511</td>\n",
       "      <td>0.000982</td>\n",
       "      <td>0.003358</td>\n",
       "      <td>0.015541</td>\n",
       "      <td>0.001342</td>\n",
       "      <td>0.016504</td>\n",
       "      <td>0.011995</td>\n",
       "    </tr>\n",
       "    <tr>\n",
       "      <th>274</th>\n",
       "      <td>14274.0</td>\n",
       "      <td>0.084886</td>\n",
       "      <td>0.109931</td>\n",
       "      <td>0.112647</td>\n",
       "      <td>0.063579</td>\n",
       "      <td>0.031083</td>\n",
       "      <td>0.042788</td>\n",
       "      <td>0.013575</td>\n",
       "      <td>0.101139</td>\n",
       "      <td>0.022196</td>\n",
       "      <td>...</td>\n",
       "      <td>0.053313</td>\n",
       "      <td>0.004429</td>\n",
       "      <td>0.009398</td>\n",
       "      <td>0.011244</td>\n",
       "      <td>0.008214</td>\n",
       "      <td>0.008786</td>\n",
       "      <td>0.007248</td>\n",
       "      <td>0.007781</td>\n",
       "      <td>0.026731</td>\n",
       "      <td>0.009179</td>\n",
       "    </tr>\n",
       "    <tr>\n",
       "      <th>275</th>\n",
       "      <td>14275.0</td>\n",
       "      <td>0.084886</td>\n",
       "      <td>0.109931</td>\n",
       "      <td>0.112647</td>\n",
       "      <td>0.063579</td>\n",
       "      <td>0.031083</td>\n",
       "      <td>0.042788</td>\n",
       "      <td>0.013575</td>\n",
       "      <td>0.101139</td>\n",
       "      <td>0.022196</td>\n",
       "      <td>...</td>\n",
       "      <td>0.053313</td>\n",
       "      <td>0.004429</td>\n",
       "      <td>0.009398</td>\n",
       "      <td>0.011244</td>\n",
       "      <td>0.008214</td>\n",
       "      <td>0.008786</td>\n",
       "      <td>0.007248</td>\n",
       "      <td>0.007781</td>\n",
       "      <td>0.026731</td>\n",
       "      <td>0.009179</td>\n",
       "    </tr>\n",
       "  </tbody>\n",
       "</table>\n",
       "<p>276 rows × 40000 columns</p>\n",
       "</div>"
      ],
      "text/plain": [
       "       0         1         2         3         4         5         6      \\\n",
       "0    14000.0  0.002983  0.002624  0.003486  0.004920  0.005720  0.019834   \n",
       "1    14001.0  0.062586  0.027364  0.053738  0.048039  0.054604  0.064544   \n",
       "2    14002.0  0.078794  0.039873  0.074930  0.055050  0.069653  0.093185   \n",
       "3    14003.0  0.037931  0.021864  0.014515  0.005891  0.012321  0.008541   \n",
       "4    14004.0  0.007292  0.008967  0.019246  0.010443  0.017788  0.037201   \n",
       "..       ...       ...       ...       ...       ...       ...       ...   \n",
       "271  14271.0  0.267639  0.042201  0.027928  0.089289  0.064527  0.054865   \n",
       "272  14272.0  0.032026  0.057695  0.034665  0.059026  0.059890  0.029450   \n",
       "273  14273.0  0.012289  0.010207  0.007706  0.023971  0.007756  0.013266   \n",
       "274  14274.0  0.084886  0.109931  0.112647  0.063579  0.031083  0.042788   \n",
       "275  14275.0  0.084886  0.109931  0.112647  0.063579  0.031083  0.042788   \n",
       "\n",
       "        7         8         9      ...     39990     39991     39992  \\\n",
       "0    0.013985  0.013921  0.008999  ...  0.047873  0.016421  0.010720   \n",
       "1    0.063026  0.032068  0.022397  ...  0.027307  0.008309  0.013371   \n",
       "2    0.047934  0.013722  0.027485  ...  0.035630  0.004622  0.016758   \n",
       "3    0.009423  0.003371  0.005977  ...  0.007062  0.007914  0.007093   \n",
       "4    0.025179  0.039869  0.022370  ...  0.020466  0.018037  0.025835   \n",
       "..        ...       ...       ...  ...       ...       ...       ...   \n",
       "271  0.083702  0.023402  0.044274  ...  0.062407  0.056790  0.055323   \n",
       "272  0.046175  0.061146  0.042535  ...  0.032671  0.030913  0.035982   \n",
       "273  0.006782  0.009684  0.007833  ...  0.006524  0.001503  0.006025   \n",
       "274  0.013575  0.101139  0.022196  ...  0.053313  0.004429  0.009398   \n",
       "275  0.013575  0.101139  0.022196  ...  0.053313  0.004429  0.009398   \n",
       "\n",
       "        39993     39994     39995     39996     39997     39998     39999  \n",
       "0    0.007967  0.003424  0.028607  0.006359  0.002972  0.003128  0.001388  \n",
       "1    0.004423  0.013888  0.025754  0.010644  0.014561  0.026044  0.008892  \n",
       "2    0.020034  0.004449  0.004084  0.010122  0.005570  0.003506  0.009049  \n",
       "3    0.010805  0.011705  0.002574  0.006702  0.004432  0.003992  0.018727  \n",
       "4    0.041098  0.025301  0.010871  0.011995  0.011456  0.017219  0.029210  \n",
       "..        ...       ...       ...       ...       ...       ...       ...  \n",
       "271  0.050115  0.030401  0.087418  0.009426  0.025549  0.030971  0.055721  \n",
       "272  0.026066  0.018557  0.006037  0.007422  0.008649  0.016959  0.016321  \n",
       "273  0.001511  0.000982  0.003358  0.015541  0.001342  0.016504  0.011995  \n",
       "274  0.011244  0.008214  0.008786  0.007248  0.007781  0.026731  0.009179  \n",
       "275  0.011244  0.008214  0.008786  0.007248  0.007781  0.026731  0.009179  \n",
       "\n",
       "[276 rows x 40000 columns]"
      ]
     },
     "execution_count": 28,
     "metadata": {},
     "output_type": "execute_result"
    }
   ],
   "source": [
    "k_list[14]"
   ]
  },
  {
   "cell_type": "markdown",
   "id": "08f5cf3f",
   "metadata": {},
   "source": [
    "Y TO DF?\n",
    "    "
   ]
  },
  {
   "cell_type": "markdown",
   "id": "0658a66a",
   "metadata": {},
   "source": [
    "Transform X to numpy array"
   ]
  }
 ],
 "metadata": {
  "kernelspec": {
   "display_name": "YOLO",
   "language": "python",
   "name": "yolo"
  },
  "language_info": {
   "codemirror_mode": {
    "name": "ipython",
    "version": 3
   },
   "file_extension": ".py",
   "mimetype": "text/x-python",
   "name": "python",
   "nbconvert_exporter": "python",
   "pygments_lexer": "ipython3",
   "version": "3.10.9"
  }
 },
 "nbformat": 4,
 "nbformat_minor": 5
}
