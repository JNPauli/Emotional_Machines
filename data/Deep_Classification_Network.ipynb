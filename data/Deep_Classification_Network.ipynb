{
 "cells": [
  {
   "cell_type": "markdown",
   "id": "b0d0e596",
   "metadata": {},
   "source": [
    "## Deep Classification Network"
   ]
  },
  {
   "cell_type": "markdown",
   "id": "3b73c8da",
   "metadata": {},
   "source": [
    "0. First, the grid established in the Dataset exploration notebook will be tested with the SVM. Then, a DNN is implemented."
   ]
  },
  {
   "cell_type": "markdown",
   "id": "1df51ce6",
   "metadata": {},
   "source": [
    "1. Import all `modules` we are going to need"
   ]
  },
  {
   "cell_type": "code",
   "execution_count": 1,
   "id": "8eb6c846",
   "metadata": {},
   "outputs": [],
   "source": [
    "import torch\n",
    "from torch import nn\n",
    "import torchvision"
   ]
  },
  {
   "cell_type": "code",
   "execution_count": 4,
   "id": "4a6ed228",
   "metadata": {},
   "outputs": [],
   "source": [
    "from sklearn.model_selection import train_test_split\n",
    "from sklearn.svm import SVC"
   ]
  },
  {
   "cell_type": "markdown",
   "id": "7ff6ab38",
   "metadata": {},
   "source": [
    "2. Import Input Matrix X. Then, import y"
   ]
  },
  {
   "cell_type": "code",
   "execution_count": 1,
   "id": "65c2d0f3",
   "metadata": {},
   "outputs": [],
   "source": [
    "import os\n",
    "import pandas as pd"
   ]
  },
  {
   "cell_type": "code",
   "execution_count": 2,
   "id": "3142a163",
   "metadata": {},
   "outputs": [],
   "source": [
    "os.chdir(\"/mnt/c/Users/janos/OneDrive/Desktop/Master_thesis\")"
   ]
  },
  {
   "cell_type": "code",
   "execution_count": 3,
   "id": "bd6ce4ae",
   "metadata": {},
   "outputs": [],
   "source": [
    "X = pd.read_csv('X_matrix.csv')"
   ]
  },
  {
   "cell_type": "markdown",
   "id": "62ccd9dd",
   "metadata": {},
   "source": [
    "3. Import y"
   ]
  },
  {
   "cell_type": "code",
   "execution_count": 5,
   "id": "aaf50ffb",
   "metadata": {},
   "outputs": [],
   "source": [
    "os.chdir('/mnt/c/Users/janos/OneDrive/Desktop/Master_thesis/kosti/mat2csv/emotic_pre/')\n",
    "train = pd.read_csv('train.csv')\n",
    "train_mscoco = train[train['Folder'] == 'mscoco/images']"
   ]
  },
  {
   "cell_type": "code",
   "execution_count": 6,
   "id": "10f5937f",
   "metadata": {},
   "outputs": [],
   "source": [
    "import re"
   ]
  },
  {
   "cell_type": "code",
   "execution_count": 7,
   "id": "2a3b6e2a",
   "metadata": {},
   "outputs": [],
   "source": [
    "y = []\n",
    "i=0\n",
    "for rating in train_mscoco['Continuous_Labels']:\n",
    "    y.append(rating)"
   ]
  },
  {
   "cell_type": "code",
   "execution_count": 10,
   "id": "455ca006",
   "metadata": {},
   "outputs": [],
   "source": [
    "y_ = []\n",
    "for idx, label in enumerate(y):\n",
    "    s = (re.sub(r\"[\\[\\]]\",'',y[idx]))\n",
    "    for i, x in enumerate(s):\n",
    "        y_.append(x)\n",
    "        if x == ',':\n",
    "            y_.remove(x)\n",
    "        if x == ' ':\n",
    "            y_.remove(x)\n",
    "        try:\n",
    "            if x == '1' and s[i+1] == '0':\n",
    "                y_.remove(x)\n",
    "                y_.append('10')\n",
    "        except IndexError:\n",
    "            continue\n",
    "        \n",
    "\n"
   ]
  },
  {
   "cell_type": "code",
   "execution_count": 12,
   "id": "7ba2e641",
   "metadata": {},
   "outputs": [],
   "source": [
    "for idx, el in enumerate(y_):\n",
    "    if el == '10':\n",
    "        if y_[idx+1] == '0':\n",
    "            y_.remove(y_[idx+1])\n",
    "\n"
   ]
  },
  {
   "cell_type": "code",
   "execution_count": 13,
   "id": "e9ba188c",
   "metadata": {},
   "outputs": [
    {
     "data": {
      "text/plain": [
       "42828"
      ]
     },
     "execution_count": 13,
     "metadata": {},
     "output_type": "execute_result"
    }
   ],
   "source": [
    "len(y_)"
   ]
  },
  {
   "cell_type": "code",
   "execution_count": 14,
   "id": "58173aa3",
   "metadata": {},
   "outputs": [],
   "source": [
    "cont_labels = []\n",
    "for val in y_:\n",
    "    cont_labels.append(float(val))"
   ]
  },
  {
   "cell_type": "code",
   "execution_count": 15,
   "id": "82f6da2d",
   "metadata": {},
   "outputs": [],
   "source": [
    "img = 0\n",
    "Arousal = []\n",
    "Valence = []\n",
    "Dominance = []\n",
    "for val in cont_labels:\n",
    "    if img == 0:\n",
    "        Arousal.append(val)\n",
    "        img = img+1\n",
    "        continue\n",
    "    if img == 1:\n",
    "        Valence.append(val)\n",
    "        img = img+1\n",
    "        continue \n",
    "    if img == 2:\n",
    "        Dominance.append(val)\n",
    "        img = 0\n",
    "        continue\n",
    "    \n",
    "\n"
   ]
  },
  {
   "cell_type": "code",
   "execution_count": 18,
   "id": "0f69f154",
   "metadata": {},
   "outputs": [],
   "source": [
    "import numpy as np\n",
    "\n",
    "Arousal = np.array(Arousal)\n",
    "\n"
   ]
  },
  {
   "cell_type": "code",
   "execution_count": 19,
   "id": "3780b4d5",
   "metadata": {},
   "outputs": [
    {
     "data": {
      "text/plain": [
       "(14276,)"
      ]
     },
     "execution_count": 19,
     "metadata": {},
     "output_type": "execute_result"
    }
   ],
   "source": [
    "Arousal.shape"
   ]
  },
  {
   "cell_type": "code",
   "execution_count": 24,
   "id": "30082995",
   "metadata": {},
   "outputs": [],
   "source": [
    "y = Arousal"
   ]
  },
  {
   "cell_type": "markdown",
   "id": "0658a66a",
   "metadata": {},
   "source": [
    "Transform X to numpy array"
   ]
  },
  {
   "cell_type": "code",
   "execution_count": 20,
   "id": "b31171cd",
   "metadata": {},
   "outputs": [
    {
     "data": {
      "text/plain": [
       "14276"
      ]
     },
     "execution_count": 20,
     "metadata": {},
     "output_type": "execute_result"
    }
   ],
   "source": [
    "X = np.array(X)\n",
    "\n"
   ]
  },
  {
   "cell_type": "code",
   "execution_count": 25,
   "id": "b1cd3b4c",
   "metadata": {},
   "outputs": [],
   "source": [
    "from sklearn.feature_selection import SelectKBest\n",
    "\n"
   ]
  },
  {
   "cell_type": "code",
   "execution_count": null,
   "id": "3abc8469",
   "metadata": {},
   "outputs": [],
   "source": [
    "X_new = SelectKBest(k=40000).fit_transform(X, y)\n",
    "\n"
   ]
  }
 ],
 "metadata": {
  "kernelspec": {
   "display_name": "YOLO",
   "language": "python",
   "name": "yolo"
  },
  "language_info": {
   "codemirror_mode": {
    "name": "ipython",
    "version": 3
   },
   "file_extension": ".py",
   "mimetype": "text/x-python",
   "name": "python",
   "nbconvert_exporter": "python",
   "pygments_lexer": "ipython3",
   "version": "3.10.9"
  }
 },
 "nbformat": 4,
 "nbformat_minor": 5
}
