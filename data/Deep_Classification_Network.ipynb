{
 "cells": [
  {
   "cell_type": "markdown",
   "id": "b0d0e596",
   "metadata": {},
   "source": [
    "## Deep Classification Network"
   ]
  },
  {
   "cell_type": "markdown",
   "id": "3b73c8da",
   "metadata": {},
   "source": [
    "0. First, the grid established in the Dataset exploration notebook will be tested with the SVM. Then, a DNN is implemented."
   ]
  },
  {
   "cell_type": "markdown",
   "id": "1df51ce6",
   "metadata": {},
   "source": [
    "1. Import all `modules` we are going to need"
   ]
  },
  {
   "cell_type": "code",
   "execution_count": 1,
   "id": "8eb6c846",
   "metadata": {},
   "outputs": [],
   "source": [
    "import torch\n",
    "from torch import nn\n",
    "import torchvision"
   ]
  },
  {
   "cell_type": "code",
   "execution_count": 2,
   "id": "4a6ed228",
   "metadata": {},
   "outputs": [],
   "source": [
    "from sklearn.model_selection import train_test_split\n",
    "from sklearn.svm import SVC"
   ]
  },
  {
   "cell_type": "markdown",
   "id": "7ff6ab38",
   "metadata": {},
   "source": [
    "2. Import Input Matrix X. Then, import y"
   ]
  },
  {
   "cell_type": "code",
   "execution_count": 3,
   "id": "65c2d0f3",
   "metadata": {},
   "outputs": [],
   "source": [
    "import os\n",
    "import pandas as pd"
   ]
  },
  {
   "cell_type": "code",
   "execution_count": 4,
   "id": "3142a163",
   "metadata": {},
   "outputs": [],
   "source": [
    "os.chdir(\"/mnt/c/Users/janos/OneDrive/Desktop/Master_thesis\")"
   ]
  },
  {
   "cell_type": "code",
   "execution_count": 5,
   "id": "6bd88359",
   "metadata": {},
   "outputs": [
    {
     "name": "stdout",
     "output_type": "stream",
     "text": [
      "Read the 0 dataframe\n",
      "Read the 1 dataframe\n",
      "Read the 2 dataframe\n",
      "Read the 3 dataframe\n",
      "Read the 4 dataframe\n",
      "Read the 5 dataframe\n",
      "Read the 6 dataframe\n",
      "Read the 7 dataframe\n",
      "Read the 8 dataframe\n",
      "Read the 9 dataframe\n",
      "Read the 10 dataframe\n",
      "Read the 11 dataframe\n",
      "Read the 12 dataframe\n",
      "Read the 13 dataframe\n",
      "Read the 14 dataframe\n"
     ]
    }
   ],
   "source": [
    "# the number of row in each data frame\n",
    "# you can put any value here according to your situation\n",
    "chunksize = 1000\n",
    "index=0\n",
    "# the list that contains all the dataframes\n",
    "list_of_dataframes = []\n",
    "\n",
    "for df in pd.read_csv('X_Matrix.csv', chunksize=chunksize):\n",
    "    # process your data frame here\n",
    "    # then add the current data frame into the list\n",
    "    list_of_dataframes.append(df)\n",
    "    print('Read the {num} dataframe'.format(num=index))\n",
    "    index=index+1\n",
    "# if you want all the dataframes together, here it is\n",
    "#result = pd.concat(list_of_dataframes)"
   ]
  },
  {
   "cell_type": "markdown",
   "id": "62ccd9dd",
   "metadata": {},
   "source": [
    "3. Import y"
   ]
  },
  {
   "cell_type": "code",
   "execution_count": 6,
   "id": "aaf50ffb",
   "metadata": {},
   "outputs": [],
   "source": [
    "os.chdir('/mnt/c/Users/janos/OneDrive/Desktop/Master_thesis/kosti/mat2csv/emotic_pre/')\n",
    "train = pd.read_csv('train.csv')\n",
    "train_mscoco = train[train['Folder'] == 'mscoco/images']"
   ]
  },
  {
   "cell_type": "code",
   "execution_count": 7,
   "id": "10f5937f",
   "metadata": {},
   "outputs": [],
   "source": [
    "import re"
   ]
  },
  {
   "cell_type": "code",
   "execution_count": 8,
   "id": "2a3b6e2a",
   "metadata": {},
   "outputs": [],
   "source": [
    "y = []\n",
    "i=0\n",
    "for rating in train_mscoco['Continuous_Labels']:\n",
    "    y.append(rating)"
   ]
  },
  {
   "cell_type": "code",
   "execution_count": 9,
   "id": "455ca006",
   "metadata": {},
   "outputs": [],
   "source": [
    "y_ = []\n",
    "for idx, label in enumerate(y):\n",
    "    s = (re.sub(r\"[\\[\\]]\",'',y[idx]))\n",
    "    for i, x in enumerate(s):\n",
    "        y_.append(x)\n",
    "        if x == ',':\n",
    "            y_.remove(x)\n",
    "        if x == ' ':\n",
    "            y_.remove(x)\n",
    "        try:\n",
    "            if x == '1' and s[i+1] == '0':\n",
    "                y_.remove(x)\n",
    "                y_.append('10')\n",
    "        except IndexError:\n",
    "            continue\n",
    "        \n",
    "\n"
   ]
  },
  {
   "cell_type": "code",
   "execution_count": 10,
   "id": "7ba2e641",
   "metadata": {},
   "outputs": [],
   "source": [
    "for idx, el in enumerate(y_):\n",
    "    if el == '10':\n",
    "        if y_[idx+1] == '0':\n",
    "            y_.remove(y_[idx+1])\n",
    "\n"
   ]
  },
  {
   "cell_type": "code",
   "execution_count": 11,
   "id": "e9ba188c",
   "metadata": {},
   "outputs": [
    {
     "data": {
      "text/plain": [
       "42828"
      ]
     },
     "execution_count": 11,
     "metadata": {},
     "output_type": "execute_result"
    }
   ],
   "source": [
    "len(y_)"
   ]
  },
  {
   "cell_type": "code",
   "execution_count": 12,
   "id": "58173aa3",
   "metadata": {},
   "outputs": [],
   "source": [
    "cont_labels = []\n",
    "for val in y_:\n",
    "    cont_labels.append(float(val))"
   ]
  },
  {
   "cell_type": "code",
   "execution_count": 13,
   "id": "82f6da2d",
   "metadata": {},
   "outputs": [],
   "source": [
    "img = 0\n",
    "Arousal = []\n",
    "Valence = []\n",
    "Dominance = []\n",
    "for val in cont_labels:\n",
    "    if img == 0:\n",
    "        Arousal.append(val)\n",
    "        img = img+1\n",
    "        continue\n",
    "    if img == 1:\n",
    "        Valence.append(val)\n",
    "        img = img+1\n",
    "        continue \n",
    "    if img == 2:\n",
    "        Dominance.append(val)\n",
    "        img = 0\n",
    "        continue\n",
    "    \n",
    "\n"
   ]
  },
  {
   "cell_type": "code",
   "execution_count": 14,
   "id": "0f69f154",
   "metadata": {},
   "outputs": [],
   "source": [
    "import numpy as np\n",
    "\n",
    "Arousal = np.array(Arousal)\n",
    "\n"
   ]
  },
  {
   "cell_type": "code",
   "execution_count": 15,
   "id": "3780b4d5",
   "metadata": {},
   "outputs": [
    {
     "data": {
      "text/plain": [
       "(14276,)"
      ]
     },
     "execution_count": 15,
     "metadata": {},
     "output_type": "execute_result"
    }
   ],
   "source": [
    "Arousal.shape"
   ]
  },
  {
   "cell_type": "code",
   "execution_count": 16,
   "id": "30082995",
   "metadata": {},
   "outputs": [],
   "source": [
    "y = Arousal"
   ]
  },
  {
   "cell_type": "code",
   "execution_count": 17,
   "id": "73e3fe7a",
   "metadata": {},
   "outputs": [
    {
     "data": {
      "text/plain": [
       "276"
      ]
     },
     "execution_count": 17,
     "metadata": {},
     "output_type": "execute_result"
    }
   ],
   "source": [
    "list_of_dataframes[14].shape[0]"
   ]
  },
  {
   "cell_type": "code",
   "execution_count": 18,
   "id": "31ef8e3a",
   "metadata": {},
   "outputs": [],
   "source": [
    "from sklearn.feature_selection import SelectKBest"
   ]
  },
  {
   "cell_type": "code",
   "execution_count": 32,
   "id": "61754fbe",
   "metadata": {},
   "outputs": [],
   "source": [
    "k_select = SelectKBest(k=40000)"
   ]
  },
  {
   "cell_type": "code",
   "execution_count": 19,
   "id": "6d80747b",
   "metadata": {},
   "outputs": [],
   "source": [
    "y_df = pd.DataFrame(y)"
   ]
  },
  {
   "cell_type": "code",
   "execution_count": 20,
   "id": "19cdcd1e",
   "metadata": {},
   "outputs": [],
   "source": [
    "y_series = y_df.squeeze()"
   ]
  },
  {
   "cell_type": "code",
   "execution_count": 21,
   "id": "bae69e2a",
   "metadata": {},
   "outputs": [
    {
     "data": {
      "text/plain": [
       "14000    7.0\n",
       "14001    8.0\n",
       "14002    7.0\n",
       "14003    8.0\n",
       "14004    8.0\n",
       "        ... \n",
       "14271    5.0\n",
       "14272    8.0\n",
       "14273    2.0\n",
       "14274    6.0\n",
       "14275    7.0\n",
       "Name: 0, Length: 276, dtype: float64"
      ]
     },
     "execution_count": 21,
     "metadata": {},
     "output_type": "execute_result"
    }
   ],
   "source": [
    "y_series[14000:14276]"
   ]
  },
  {
   "cell_type": "markdown",
   "id": "205551b6",
   "metadata": {},
   "source": [
    "**NEXT STEP**:\n",
    "`Rename`all columns more meaningful. Then apply k-best to all chunked dataframes."
   ]
  },
  {
   "cell_type": "code",
   "execution_count": 22,
   "id": "d74def06",
   "metadata": {},
   "outputs": [],
   "source": [
    "for df in list_of_dataframes:\n",
    "    for pos, col in enumerate(df):\n",
    "        df.columns.values[pos] = 'Feature' + str(pos)\n",
    "        "
   ]
  },
  {
   "cell_type": "code",
   "execution_count": 45,
   "id": "89b423d1",
   "metadata": {
    "tags": [
     "output_scroll"
    ]
   },
   "outputs": [
    {
     "name": "stderr",
     "output_type": "stream",
     "text": [
      "/home/jpauli/miniconda3/envs/yolo/lib/python3.10/site-packages/sklearn/utils/validation.py:1143: DataConversionWarning: A column-vector y was passed when a 1d array was expected. Please change the shape of y to (n_samples, ), for example using ravel().\n",
      "  y = column_or_1d(y, warn=True)\n"
     ]
    },
    {
     "name": "stdout",
     "output_type": "stream",
     "text": [
      "Applied k-best to 0 chunks!\n"
     ]
    },
    {
     "name": "stderr",
     "output_type": "stream",
     "text": [
      "/home/jpauli/miniconda3/envs/yolo/lib/python3.10/site-packages/sklearn/utils/validation.py:1143: DataConversionWarning: A column-vector y was passed when a 1d array was expected. Please change the shape of y to (n_samples, ), for example using ravel().\n",
      "  y = column_or_1d(y, warn=True)\n"
     ]
    },
    {
     "name": "stdout",
     "output_type": "stream",
     "text": [
      "Applied k-best to 1 chunks!\n"
     ]
    },
    {
     "name": "stderr",
     "output_type": "stream",
     "text": [
      "/home/jpauli/miniconda3/envs/yolo/lib/python3.10/site-packages/sklearn/utils/validation.py:1143: DataConversionWarning: A column-vector y was passed when a 1d array was expected. Please change the shape of y to (n_samples, ), for example using ravel().\n",
      "  y = column_or_1d(y, warn=True)\n"
     ]
    },
    {
     "name": "stdout",
     "output_type": "stream",
     "text": [
      "Applied k-best to 2 chunks!\n"
     ]
    },
    {
     "name": "stderr",
     "output_type": "stream",
     "text": [
      "/home/jpauli/miniconda3/envs/yolo/lib/python3.10/site-packages/sklearn/utils/validation.py:1143: DataConversionWarning: A column-vector y was passed when a 1d array was expected. Please change the shape of y to (n_samples, ), for example using ravel().\n",
      "  y = column_or_1d(y, warn=True)\n"
     ]
    },
    {
     "name": "stdout",
     "output_type": "stream",
     "text": [
      "Applied k-best to 3 chunks!\n"
     ]
    },
    {
     "name": "stderr",
     "output_type": "stream",
     "text": [
      "/home/jpauli/miniconda3/envs/yolo/lib/python3.10/site-packages/sklearn/utils/validation.py:1143: DataConversionWarning: A column-vector y was passed when a 1d array was expected. Please change the shape of y to (n_samples, ), for example using ravel().\n",
      "  y = column_or_1d(y, warn=True)\n"
     ]
    },
    {
     "name": "stdout",
     "output_type": "stream",
     "text": [
      "Applied k-best to 4 chunks!\n"
     ]
    },
    {
     "name": "stderr",
     "output_type": "stream",
     "text": [
      "/home/jpauli/miniconda3/envs/yolo/lib/python3.10/site-packages/sklearn/utils/validation.py:1143: DataConversionWarning: A column-vector y was passed when a 1d array was expected. Please change the shape of y to (n_samples, ), for example using ravel().\n",
      "  y = column_or_1d(y, warn=True)\n"
     ]
    },
    {
     "name": "stdout",
     "output_type": "stream",
     "text": [
      "Applied k-best to 5 chunks!\n"
     ]
    },
    {
     "name": "stderr",
     "output_type": "stream",
     "text": [
      "/home/jpauli/miniconda3/envs/yolo/lib/python3.10/site-packages/sklearn/utils/validation.py:1143: DataConversionWarning: A column-vector y was passed when a 1d array was expected. Please change the shape of y to (n_samples, ), for example using ravel().\n",
      "  y = column_or_1d(y, warn=True)\n"
     ]
    },
    {
     "name": "stdout",
     "output_type": "stream",
     "text": [
      "Applied k-best to 6 chunks!\n"
     ]
    },
    {
     "name": "stderr",
     "output_type": "stream",
     "text": [
      "/home/jpauli/miniconda3/envs/yolo/lib/python3.10/site-packages/sklearn/utils/validation.py:1143: DataConversionWarning: A column-vector y was passed when a 1d array was expected. Please change the shape of y to (n_samples, ), for example using ravel().\n",
      "  y = column_or_1d(y, warn=True)\n"
     ]
    },
    {
     "name": "stdout",
     "output_type": "stream",
     "text": [
      "Applied k-best to 7 chunks!\n"
     ]
    },
    {
     "name": "stderr",
     "output_type": "stream",
     "text": [
      "/home/jpauli/miniconda3/envs/yolo/lib/python3.10/site-packages/sklearn/utils/validation.py:1143: DataConversionWarning: A column-vector y was passed when a 1d array was expected. Please change the shape of y to (n_samples, ), for example using ravel().\n",
      "  y = column_or_1d(y, warn=True)\n"
     ]
    },
    {
     "name": "stdout",
     "output_type": "stream",
     "text": [
      "Applied k-best to 8 chunks!\n"
     ]
    },
    {
     "name": "stderr",
     "output_type": "stream",
     "text": [
      "/home/jpauli/miniconda3/envs/yolo/lib/python3.10/site-packages/sklearn/utils/validation.py:1143: DataConversionWarning: A column-vector y was passed when a 1d array was expected. Please change the shape of y to (n_samples, ), for example using ravel().\n",
      "  y = column_or_1d(y, warn=True)\n"
     ]
    },
    {
     "name": "stdout",
     "output_type": "stream",
     "text": [
      "Applied k-best to 9 chunks!\n"
     ]
    },
    {
     "name": "stderr",
     "output_type": "stream",
     "text": [
      "/home/jpauli/miniconda3/envs/yolo/lib/python3.10/site-packages/sklearn/utils/validation.py:1143: DataConversionWarning: A column-vector y was passed when a 1d array was expected. Please change the shape of y to (n_samples, ), for example using ravel().\n",
      "  y = column_or_1d(y, warn=True)\n"
     ]
    },
    {
     "name": "stdout",
     "output_type": "stream",
     "text": [
      "Applied k-best to 10 chunks!\n"
     ]
    },
    {
     "name": "stderr",
     "output_type": "stream",
     "text": [
      "/home/jpauli/miniconda3/envs/yolo/lib/python3.10/site-packages/sklearn/utils/validation.py:1143: DataConversionWarning: A column-vector y was passed when a 1d array was expected. Please change the shape of y to (n_samples, ), for example using ravel().\n",
      "  y = column_or_1d(y, warn=True)\n"
     ]
    },
    {
     "name": "stdout",
     "output_type": "stream",
     "text": [
      "Applied k-best to 11 chunks!\n"
     ]
    },
    {
     "name": "stderr",
     "output_type": "stream",
     "text": [
      "/home/jpauli/miniconda3/envs/yolo/lib/python3.10/site-packages/sklearn/utils/validation.py:1143: DataConversionWarning: A column-vector y was passed when a 1d array was expected. Please change the shape of y to (n_samples, ), for example using ravel().\n",
      "  y = column_or_1d(y, warn=True)\n"
     ]
    },
    {
     "name": "stdout",
     "output_type": "stream",
     "text": [
      "Applied k-best to 12 chunks!\n"
     ]
    },
    {
     "name": "stderr",
     "output_type": "stream",
     "text": [
      "/home/jpauli/miniconda3/envs/yolo/lib/python3.10/site-packages/sklearn/utils/validation.py:1143: DataConversionWarning: A column-vector y was passed when a 1d array was expected. Please change the shape of y to (n_samples, ), for example using ravel().\n",
      "  y = column_or_1d(y, warn=True)\n"
     ]
    },
    {
     "name": "stdout",
     "output_type": "stream",
     "text": [
      "Applied k-best to 13 chunks!\n"
     ]
    },
    {
     "name": "stderr",
     "output_type": "stream",
     "text": [
      "/home/jpauli/miniconda3/envs/yolo/lib/python3.10/site-packages/sklearn/utils/validation.py:1143: DataConversionWarning: A column-vector y was passed when a 1d array was expected. Please change the shape of y to (n_samples, ), for example using ravel().\n",
      "  y = column_or_1d(y, warn=True)\n"
     ]
    },
    {
     "name": "stdout",
     "output_type": "stream",
     "text": [
      "Applied k-best to 14 chunks!\n"
     ]
    }
   ],
   "source": [
    "k_list = []\n",
    "track = 0\n",
    "i=0\n",
    "j=1000\n",
    "for chunk in list_of_dataframes:\n",
    "    k_select.fit_transform(chunk, y_df[i:j])\n",
    "    cols_idxs = k_select.get_support(indices=True)\n",
    "    k_list.append(chunk.iloc[:,cols_idxs])\n",
    "    print('Applied k-best to {track} chunks!'.format(track=track))\n",
    "    track=track+1\n",
    "    if track == 14:\n",
    "        i=14000\n",
    "        j=14000+list_of_dataframes[14].shape[0]\n",
    "        \n",
    "    else:\n",
    "        i=i+1000\n",
    "        j=j+1000\n",
    "        "
   ]
  },
  {
   "cell_type": "code",
   "execution_count": 53,
   "id": "a8c7e662",
   "metadata": {},
   "outputs": [
    {
     "data": {
      "text/html": [
       "<div>\n",
       "<style scoped>\n",
       "    .dataframe tbody tr th:only-of-type {\n",
       "        vertical-align: middle;\n",
       "    }\n",
       "\n",
       "    .dataframe tbody tr th {\n",
       "        vertical-align: top;\n",
       "    }\n",
       "\n",
       "    .dataframe thead th {\n",
       "        text-align: right;\n",
       "    }\n",
       "</style>\n",
       "<table border=\"1\" class=\"dataframe\">\n",
       "  <thead>\n",
       "    <tr style=\"text-align: right;\">\n",
       "      <th></th>\n",
       "      <th>Feature0</th>\n",
       "      <th>Feature2</th>\n",
       "      <th>Feature6</th>\n",
       "      <th>Feature8</th>\n",
       "      <th>Feature9</th>\n",
       "      <th>Feature10</th>\n",
       "      <th>Feature11</th>\n",
       "      <th>Feature12</th>\n",
       "      <th>Feature17</th>\n",
       "      <th>Feature18</th>\n",
       "      <th>...</th>\n",
       "      <th>Feature50164</th>\n",
       "      <th>Feature50165</th>\n",
       "      <th>Feature50167</th>\n",
       "      <th>Feature50168</th>\n",
       "      <th>Feature50169</th>\n",
       "      <th>Feature50170</th>\n",
       "      <th>Feature50171</th>\n",
       "      <th>Feature50172</th>\n",
       "      <th>Feature50173</th>\n",
       "      <th>Feature50176</th>\n",
       "    </tr>\n",
       "  </thead>\n",
       "  <tbody>\n",
       "    <tr>\n",
       "      <th>8000</th>\n",
       "      <td>8000</td>\n",
       "      <td>0.010968</td>\n",
       "      <td>0.005971</td>\n",
       "      <td>0.005024</td>\n",
       "      <td>0.006697</td>\n",
       "      <td>0.005194</td>\n",
       "      <td>0.006136</td>\n",
       "      <td>0.011277</td>\n",
       "      <td>0.001848</td>\n",
       "      <td>0.007945</td>\n",
       "      <td>...</td>\n",
       "      <td>0.054926</td>\n",
       "      <td>0.036575</td>\n",
       "      <td>0.012423</td>\n",
       "      <td>0.049717</td>\n",
       "      <td>0.031604</td>\n",
       "      <td>0.010351</td>\n",
       "      <td>0.008495</td>\n",
       "      <td>0.038107</td>\n",
       "      <td>0.062138</td>\n",
       "      <td>0.089240</td>\n",
       "    </tr>\n",
       "    <tr>\n",
       "      <th>8001</th>\n",
       "      <td>8001</td>\n",
       "      <td>0.076054</td>\n",
       "      <td>0.202234</td>\n",
       "      <td>0.088045</td>\n",
       "      <td>0.326959</td>\n",
       "      <td>0.200962</td>\n",
       "      <td>0.281703</td>\n",
       "      <td>0.112076</td>\n",
       "      <td>0.131658</td>\n",
       "      <td>0.295174</td>\n",
       "      <td>...</td>\n",
       "      <td>0.012347</td>\n",
       "      <td>0.021219</td>\n",
       "      <td>0.004784</td>\n",
       "      <td>0.003951</td>\n",
       "      <td>0.022180</td>\n",
       "      <td>0.006294</td>\n",
       "      <td>0.008456</td>\n",
       "      <td>0.005869</td>\n",
       "      <td>0.005350</td>\n",
       "      <td>0.009068</td>\n",
       "    </tr>\n",
       "    <tr>\n",
       "      <th>8002</th>\n",
       "      <td>8002</td>\n",
       "      <td>0.030585</td>\n",
       "      <td>0.121949</td>\n",
       "      <td>0.198508</td>\n",
       "      <td>0.085249</td>\n",
       "      <td>0.104548</td>\n",
       "      <td>0.116697</td>\n",
       "      <td>0.315565</td>\n",
       "      <td>0.061166</td>\n",
       "      <td>0.386085</td>\n",
       "      <td>...</td>\n",
       "      <td>0.022246</td>\n",
       "      <td>0.022030</td>\n",
       "      <td>0.008226</td>\n",
       "      <td>0.003169</td>\n",
       "      <td>0.003360</td>\n",
       "      <td>0.002436</td>\n",
       "      <td>0.016749</td>\n",
       "      <td>0.008145</td>\n",
       "      <td>0.040456</td>\n",
       "      <td>0.026661</td>\n",
       "    </tr>\n",
       "    <tr>\n",
       "      <th>8003</th>\n",
       "      <td>8003</td>\n",
       "      <td>0.030585</td>\n",
       "      <td>0.121949</td>\n",
       "      <td>0.198508</td>\n",
       "      <td>0.085249</td>\n",
       "      <td>0.104548</td>\n",
       "      <td>0.116697</td>\n",
       "      <td>0.315565</td>\n",
       "      <td>0.061166</td>\n",
       "      <td>0.386085</td>\n",
       "      <td>...</td>\n",
       "      <td>0.022246</td>\n",
       "      <td>0.022030</td>\n",
       "      <td>0.008226</td>\n",
       "      <td>0.003169</td>\n",
       "      <td>0.003360</td>\n",
       "      <td>0.002436</td>\n",
       "      <td>0.016749</td>\n",
       "      <td>0.008145</td>\n",
       "      <td>0.040456</td>\n",
       "      <td>0.026661</td>\n",
       "    </tr>\n",
       "    <tr>\n",
       "      <th>8004</th>\n",
       "      <td>8004</td>\n",
       "      <td>0.122884</td>\n",
       "      <td>0.029114</td>\n",
       "      <td>0.049784</td>\n",
       "      <td>0.083367</td>\n",
       "      <td>0.040112</td>\n",
       "      <td>0.019237</td>\n",
       "      <td>0.024253</td>\n",
       "      <td>0.036263</td>\n",
       "      <td>0.038604</td>\n",
       "      <td>...</td>\n",
       "      <td>0.012718</td>\n",
       "      <td>0.010536</td>\n",
       "      <td>0.001468</td>\n",
       "      <td>0.008702</td>\n",
       "      <td>0.009145</td>\n",
       "      <td>0.012497</td>\n",
       "      <td>0.018283</td>\n",
       "      <td>0.011756</td>\n",
       "      <td>0.004769</td>\n",
       "      <td>0.000354</td>\n",
       "    </tr>\n",
       "    <tr>\n",
       "      <th>...</th>\n",
       "      <td>...</td>\n",
       "      <td>...</td>\n",
       "      <td>...</td>\n",
       "      <td>...</td>\n",
       "      <td>...</td>\n",
       "      <td>...</td>\n",
       "      <td>...</td>\n",
       "      <td>...</td>\n",
       "      <td>...</td>\n",
       "      <td>...</td>\n",
       "      <td>...</td>\n",
       "      <td>...</td>\n",
       "      <td>...</td>\n",
       "      <td>...</td>\n",
       "      <td>...</td>\n",
       "      <td>...</td>\n",
       "      <td>...</td>\n",
       "      <td>...</td>\n",
       "      <td>...</td>\n",
       "      <td>...</td>\n",
       "      <td>...</td>\n",
       "    </tr>\n",
       "    <tr>\n",
       "      <th>8995</th>\n",
       "      <td>8995</td>\n",
       "      <td>0.076408</td>\n",
       "      <td>0.023384</td>\n",
       "      <td>0.015339</td>\n",
       "      <td>0.010341</td>\n",
       "      <td>0.017298</td>\n",
       "      <td>0.044009</td>\n",
       "      <td>0.037489</td>\n",
       "      <td>0.031711</td>\n",
       "      <td>0.020510</td>\n",
       "      <td>...</td>\n",
       "      <td>0.004593</td>\n",
       "      <td>0.001488</td>\n",
       "      <td>0.011672</td>\n",
       "      <td>0.006992</td>\n",
       "      <td>0.004873</td>\n",
       "      <td>0.001860</td>\n",
       "      <td>0.006952</td>\n",
       "      <td>0.005668</td>\n",
       "      <td>0.003266</td>\n",
       "      <td>0.022309</td>\n",
       "    </tr>\n",
       "    <tr>\n",
       "      <th>8996</th>\n",
       "      <td>8996</td>\n",
       "      <td>0.034827</td>\n",
       "      <td>0.060703</td>\n",
       "      <td>0.069598</td>\n",
       "      <td>0.023827</td>\n",
       "      <td>0.051291</td>\n",
       "      <td>0.027772</td>\n",
       "      <td>0.062071</td>\n",
       "      <td>0.114373</td>\n",
       "      <td>0.067908</td>\n",
       "      <td>...</td>\n",
       "      <td>0.007540</td>\n",
       "      <td>0.004574</td>\n",
       "      <td>0.004183</td>\n",
       "      <td>0.006079</td>\n",
       "      <td>0.006021</td>\n",
       "      <td>0.015051</td>\n",
       "      <td>0.012404</td>\n",
       "      <td>0.003840</td>\n",
       "      <td>0.009810</td>\n",
       "      <td>0.005647</td>\n",
       "    </tr>\n",
       "    <tr>\n",
       "      <th>8997</th>\n",
       "      <td>8997</td>\n",
       "      <td>0.047967</td>\n",
       "      <td>0.032935</td>\n",
       "      <td>0.012680</td>\n",
       "      <td>0.031420</td>\n",
       "      <td>0.027600</td>\n",
       "      <td>0.015465</td>\n",
       "      <td>0.038896</td>\n",
       "      <td>0.016858</td>\n",
       "      <td>0.019865</td>\n",
       "      <td>...</td>\n",
       "      <td>0.003303</td>\n",
       "      <td>0.008046</td>\n",
       "      <td>0.011015</td>\n",
       "      <td>0.014046</td>\n",
       "      <td>0.008323</td>\n",
       "      <td>0.010633</td>\n",
       "      <td>0.005889</td>\n",
       "      <td>0.020715</td>\n",
       "      <td>0.005079</td>\n",
       "      <td>0.001990</td>\n",
       "    </tr>\n",
       "    <tr>\n",
       "      <th>8998</th>\n",
       "      <td>8998</td>\n",
       "      <td>0.040696</td>\n",
       "      <td>0.072321</td>\n",
       "      <td>0.098541</td>\n",
       "      <td>0.215239</td>\n",
       "      <td>0.238613</td>\n",
       "      <td>0.061221</td>\n",
       "      <td>0.077495</td>\n",
       "      <td>0.131670</td>\n",
       "      <td>0.064194</td>\n",
       "      <td>...</td>\n",
       "      <td>0.099551</td>\n",
       "      <td>0.144208</td>\n",
       "      <td>0.177405</td>\n",
       "      <td>0.224425</td>\n",
       "      <td>0.102011</td>\n",
       "      <td>0.118900</td>\n",
       "      <td>0.223585</td>\n",
       "      <td>0.116678</td>\n",
       "      <td>0.267085</td>\n",
       "      <td>0.437534</td>\n",
       "    </tr>\n",
       "    <tr>\n",
       "      <th>8999</th>\n",
       "      <td>8999</td>\n",
       "      <td>0.090823</td>\n",
       "      <td>0.043827</td>\n",
       "      <td>0.029508</td>\n",
       "      <td>0.025656</td>\n",
       "      <td>0.050060</td>\n",
       "      <td>0.074666</td>\n",
       "      <td>0.100122</td>\n",
       "      <td>0.157058</td>\n",
       "      <td>0.059094</td>\n",
       "      <td>...</td>\n",
       "      <td>0.064290</td>\n",
       "      <td>0.068336</td>\n",
       "      <td>0.074629</td>\n",
       "      <td>0.066004</td>\n",
       "      <td>0.031324</td>\n",
       "      <td>0.071860</td>\n",
       "      <td>0.091943</td>\n",
       "      <td>0.014739</td>\n",
       "      <td>0.021336</td>\n",
       "      <td>0.032018</td>\n",
       "    </tr>\n",
       "  </tbody>\n",
       "</table>\n",
       "<p>1000 rows × 40000 columns</p>\n",
       "</div>"
      ],
      "text/plain": [
       "      Feature0  Feature2  Feature6  Feature8  Feature9  Feature10  Feature11  \\\n",
       "8000      8000  0.010968  0.005971  0.005024  0.006697   0.005194   0.006136   \n",
       "8001      8001  0.076054  0.202234  0.088045  0.326959   0.200962   0.281703   \n",
       "8002      8002  0.030585  0.121949  0.198508  0.085249   0.104548   0.116697   \n",
       "8003      8003  0.030585  0.121949  0.198508  0.085249   0.104548   0.116697   \n",
       "8004      8004  0.122884  0.029114  0.049784  0.083367   0.040112   0.019237   \n",
       "...        ...       ...       ...       ...       ...        ...        ...   \n",
       "8995      8995  0.076408  0.023384  0.015339  0.010341   0.017298   0.044009   \n",
       "8996      8996  0.034827  0.060703  0.069598  0.023827   0.051291   0.027772   \n",
       "8997      8997  0.047967  0.032935  0.012680  0.031420   0.027600   0.015465   \n",
       "8998      8998  0.040696  0.072321  0.098541  0.215239   0.238613   0.061221   \n",
       "8999      8999  0.090823  0.043827  0.029508  0.025656   0.050060   0.074666   \n",
       "\n",
       "      Feature12  Feature17  Feature18  ...  Feature50164  Feature50165  \\\n",
       "8000   0.011277   0.001848   0.007945  ...      0.054926      0.036575   \n",
       "8001   0.112076   0.131658   0.295174  ...      0.012347      0.021219   \n",
       "8002   0.315565   0.061166   0.386085  ...      0.022246      0.022030   \n",
       "8003   0.315565   0.061166   0.386085  ...      0.022246      0.022030   \n",
       "8004   0.024253   0.036263   0.038604  ...      0.012718      0.010536   \n",
       "...         ...        ...        ...  ...           ...           ...   \n",
       "8995   0.037489   0.031711   0.020510  ...      0.004593      0.001488   \n",
       "8996   0.062071   0.114373   0.067908  ...      0.007540      0.004574   \n",
       "8997   0.038896   0.016858   0.019865  ...      0.003303      0.008046   \n",
       "8998   0.077495   0.131670   0.064194  ...      0.099551      0.144208   \n",
       "8999   0.100122   0.157058   0.059094  ...      0.064290      0.068336   \n",
       "\n",
       "      Feature50167  Feature50168  Feature50169  Feature50170  Feature50171  \\\n",
       "8000      0.012423      0.049717      0.031604      0.010351      0.008495   \n",
       "8001      0.004784      0.003951      0.022180      0.006294      0.008456   \n",
       "8002      0.008226      0.003169      0.003360      0.002436      0.016749   \n",
       "8003      0.008226      0.003169      0.003360      0.002436      0.016749   \n",
       "8004      0.001468      0.008702      0.009145      0.012497      0.018283   \n",
       "...            ...           ...           ...           ...           ...   \n",
       "8995      0.011672      0.006992      0.004873      0.001860      0.006952   \n",
       "8996      0.004183      0.006079      0.006021      0.015051      0.012404   \n",
       "8997      0.011015      0.014046      0.008323      0.010633      0.005889   \n",
       "8998      0.177405      0.224425      0.102011      0.118900      0.223585   \n",
       "8999      0.074629      0.066004      0.031324      0.071860      0.091943   \n",
       "\n",
       "      Feature50172  Feature50173  Feature50176  \n",
       "8000      0.038107      0.062138      0.089240  \n",
       "8001      0.005869      0.005350      0.009068  \n",
       "8002      0.008145      0.040456      0.026661  \n",
       "8003      0.008145      0.040456      0.026661  \n",
       "8004      0.011756      0.004769      0.000354  \n",
       "...            ...           ...           ...  \n",
       "8995      0.005668      0.003266      0.022309  \n",
       "8996      0.003840      0.009810      0.005647  \n",
       "8997      0.020715      0.005079      0.001990  \n",
       "8998      0.116678      0.267085      0.437534  \n",
       "8999      0.014739      0.021336      0.032018  \n",
       "\n",
       "[1000 rows x 40000 columns]"
      ]
     },
     "execution_count": 53,
     "metadata": {},
     "output_type": "execute_result"
    }
   ],
   "source": [
    "k_list[8]"
   ]
  },
  {
   "cell_type": "markdown",
   "id": "0658a66a",
   "metadata": {},
   "source": [
    "Transform X to numpy array"
   ]
  }
 ],
 "metadata": {
  "kernelspec": {
   "display_name": "YOLO",
   "language": "python",
   "name": "yolo"
  },
  "language_info": {
   "codemirror_mode": {
    "name": "ipython",
    "version": 3
   },
   "file_extension": ".py",
   "mimetype": "text/x-python",
   "name": "python",
   "nbconvert_exporter": "python",
   "pygments_lexer": "ipython3",
   "version": "3.10.9"
  }
 },
 "nbformat": 4,
 "nbformat_minor": 5
}
