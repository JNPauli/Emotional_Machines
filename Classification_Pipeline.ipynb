{
  "cells": [
    {
      "cell_type": "markdown",
      "metadata": {
        "id": "view-in-github",
        "colab_type": "text"
      },
      "source": [
        "<a href=\"https://colab.research.google.com/github/JNPauli/Emotional_Machines/blob/main/Classification_Pipeline.ipynb\" target=\"_parent\"><img src=\"https://colab.research.google.com/assets/colab-badge.svg\" alt=\"Open In Colab\"/></a>"
      ]
    },
    {
      "cell_type": "markdown",
      "metadata": {
        "id": "f3485813"
      },
      "source": [
        "0. This notebook is the continuation to the preprocessing.ipynb notebook."
      ],
      "id": "f3485813"
    },
    {
      "cell_type": "markdown",
      "metadata": {
        "id": "b60fcc27"
      },
      "source": [
        "1. Import all neccessary modules"
      ],
      "id": "b60fcc27"
    },
    {
      "cell_type": "code",
      "execution_count": 2,
      "metadata": {
        "id": "73af1d9d"
      },
      "outputs": [],
      "source": [
        "import os\n",
        "import pandas as pd\n",
        "import numpy as np\n",
        "from sklearn.model_selection import train_test_split\n",
        "import gc"
      ],
      "id": "73af1d9d"
    },
    {
      "cell_type": "code",
      "execution_count": 3,
      "metadata": {
        "colab": {
          "base_uri": "https://localhost:8080/"
        },
        "id": "xwWpOPN-SkYk",
        "outputId": "ce9f1104-85a3-4e86-d472-267fd7197a7b"
      },
      "outputs": [
        {
          "output_type": "stream",
          "name": "stdout",
          "text": [
            "Drive already mounted at /content/drive; to attempt to forcibly remount, call drive.mount(\"/content/drive\", force_remount=True).\n"
          ]
        }
      ],
      "source": [
        "from google.colab import drive\n",
        "drive.mount('/content/drive')"
      ],
      "id": "xwWpOPN-SkYk"
    },
    {
      "cell_type": "markdown",
      "metadata": {
        "id": "0bab0d03"
      },
      "source": [
        "2. Import X and y"
      ],
      "id": "0bab0d03"
    },
    {
      "cell_type": "code",
      "execution_count": 4,
      "metadata": {
        "id": "0e61570a"
      },
      "outputs": [],
      "source": [
        "import torchvision\n",
        "from torchvision import transforms\n",
        "import torch\n",
        "import torch.nn as nn\n",
        "from torch.utils.data import Dataset, DataLoader\n",
        "from PIL import Image"
      ],
      "id": "0e61570a"
    },
    {
      "cell_type": "code",
      "execution_count": 5,
      "metadata": {
        "id": "Q822x4HZTzzr"
      },
      "outputs": [],
      "source": [
        "os.chdir('/content/drive/MyDrive/Thesis')"
      ],
      "id": "Q822x4HZTzzr"
    },
    {
      "cell_type": "code",
      "execution_count": 6,
      "metadata": {
        "id": "99428f03"
      },
      "outputs": [],
      "source": [
        "y = np.load('train_con.npy')"
      ],
      "id": "99428f03"
    },
    {
      "cell_type": "code",
      "execution_count": 7,
      "metadata": {
        "id": "986e4ca0"
      },
      "outputs": [],
      "source": [
        "y_ = y[0:10000]\n",
        "y_frames = y[14276:]"
      ],
      "id": "986e4ca0"
    },
    {
      "cell_type": "code",
      "execution_count": 8,
      "metadata": {
        "id": "hkGr-adRJKPY"
      },
      "outputs": [],
      "source": [
        "y_all = np.concatenate((y_,y_frames))"
      ],
      "id": "hkGr-adRJKPY"
    },
    {
      "cell_type": "markdown",
      "metadata": {
        "id": "daf7012a"
      },
      "source": [
        "NEW APPROACH:\n",
        "\n",
        "Fit CNN on X"
      ],
      "id": "daf7012a"
    },
    {
      "cell_type": "markdown",
      "metadata": {
        "id": "4fdc2364"
      },
      "source": [
        "1. Read `n-rows`from X."
      ],
      "id": "4fdc2364"
    },
    {
      "cell_type": "code",
      "execution_count": 9,
      "metadata": {
        "colab": {
          "base_uri": "https://localhost:8080/"
        },
        "id": "r367TL-IeTgB",
        "outputId": "db86c0b7-048e-4395-d397-4306ed9ea9e5"
      },
      "outputs": [
        {
          "output_type": "stream",
          "name": "stdout",
          "text": [
            "cuda\n"
          ]
        }
      ],
      "source": [
        "if torch.cuda.is_available():\n",
        "  device = torch.device(\"cuda\")\n",
        "else:\n",
        "  device = torch.device(\"cpu\")\n",
        "\n",
        "print(device)"
      ],
      "id": "r367TL-IeTgB"
    },
    {
      "cell_type": "code",
      "execution_count": 10,
      "metadata": {
        "id": "27e2352f"
      },
      "outputs": [],
      "source": [
        "X = np.load('X_npy.npy')"
      ],
      "id": "27e2352f"
    },
    {
      "cell_type": "code",
      "execution_count": 11,
      "metadata": {
        "id": "PsyUuoBPLir0"
      },
      "outputs": [],
      "source": [
        "X_train_,X_test_,y_train_,y_test_ = train_test_split(X,y_,test_size=0.2,random_state=42)"
      ],
      "id": "PsyUuoBPLir0"
    },
    {
      "cell_type": "code",
      "execution_count": 12,
      "metadata": {
        "id": "eKWPUYNJJPA6",
        "colab": {
          "base_uri": "https://localhost:8080/"
        },
        "outputId": "7b3411f3-0931-4da6-fc1d-01559610abc8"
      },
      "outputs": [
        {
          "output_type": "execute_result",
          "data": {
            "text/plain": [
              "11"
            ]
          },
          "metadata": {},
          "execution_count": 12
        }
      ],
      "source": [
        "del X,y_\n",
        "gc.collect()"
      ],
      "id": "eKWPUYNJJPA6"
    },
    {
      "cell_type": "code",
      "execution_count": 13,
      "metadata": {
        "id": "dr2axO3gX8gV"
      },
      "outputs": [],
      "source": [
        "X_train_, X_val_, y_train_, y_val_ = train_test_split(X_train_,y_train_, test_size = 0.2,random_state=42)"
      ],
      "id": "dr2axO3gX8gV"
    },
    {
      "cell_type": "code",
      "execution_count": 14,
      "metadata": {
        "id": "m6MUfvXMLxdU"
      },
      "outputs": [],
      "source": [
        "X_frames = np.load('frames_npy.npy')"
      ],
      "id": "m6MUfvXMLxdU"
    },
    {
      "cell_type": "code",
      "execution_count": 15,
      "metadata": {
        "id": "Eokk-SMBLyv1"
      },
      "outputs": [],
      "source": [
        "X_train_f,X_test_f,y_train_f,y_test_f = train_test_split(X_frames,y_frames,test_size=0.2,random_state=42)"
      ],
      "id": "Eokk-SMBLyv1"
    },
    {
      "cell_type": "code",
      "execution_count": 16,
      "metadata": {
        "id": "g4rrcEI-L7lO",
        "colab": {
          "base_uri": "https://localhost:8080/"
        },
        "outputId": "6d54d2bd-cd35-427d-ee69-e6b4535c7183"
      },
      "outputs": [
        {
          "data": {
            "text/plain": [
              "11"
            ]
          },
          "execution_count": 16,
          "metadata": {},
          "output_type": "execute_result"
        }
      ],
      "source": [
        "del X_frames,y_frames\n",
        "gc.collect()"
      ],
      "id": "g4rrcEI-L7lO"
    },
    {
      "cell_type": "code",
      "execution_count": 17,
      "metadata": {
        "id": "J0CTpvPgzB9e"
      },
      "outputs": [],
      "source": [
        "X_train_f, X_val_f, y_train_f, y_val_f = train_test_split(X_train_f,y_train_f, test_size = 0.2,random_state=42)"
      ],
      "id": "J0CTpvPgzB9e"
    },
    {
      "cell_type": "markdown",
      "metadata": {
        "id": "43fc4d4d"
      },
      "source": [
        "Converting X to appropriate Datatype..."
      ],
      "id": "43fc4d4d"
    },
    {
      "cell_type": "code",
      "execution_count": 18,
      "metadata": {
        "id": "95e21cb9",
        "colab": {
          "base_uri": "https://localhost:8080/"
        },
        "outputId": "14fe37c2-fbce-4e81-f444-80f7a232244b"
      },
      "outputs": [
        {
          "data": {
            "text/plain": [
              "0"
            ]
          },
          "execution_count": 18,
          "metadata": {},
          "output_type": "execute_result"
        }
      ],
      "source": [
        "X_tensor_train = torch.from_numpy(X_train_)\n",
        "del X_train_\n",
        "gc.collect()\n",
        "X_tensor_test = torch.from_numpy(X_test_)\n",
        "del X_test_\n",
        "gc.collect()\n",
        "X_tensor_val = torch.from_numpy(X_val_)\n",
        "del X_val_\n",
        "gc.collect()\n",
        "\n",
        "y_tensor_train = torch.from_numpy(y_train_)\n",
        "del y_train_\n",
        "gc.collect()\n",
        "y_tensor_test = torch.from_numpy(y_test_)\n",
        "del y_test_\n",
        "gc.collect()\n",
        "y_tensor_val = torch.from_numpy(y_val_)\n",
        "del y_val_\n",
        "gc.collect()"
      ],
      "id": "95e21cb9"
    },
    {
      "cell_type": "code",
      "execution_count": 19,
      "metadata": {
        "id": "83ce427f",
        "colab": {
          "base_uri": "https://localhost:8080/"
        },
        "outputId": "abf704db-6483-40d2-8c7f-54001d334ece"
      },
      "outputs": [
        {
          "metadata": {
            "tags": null
          },
          "name": "stderr",
          "output_type": "stream",
          "text": [
            "<ipython-input-19-3ff54277ee2f>:1: UserWarning: To copy construct from a tensor, it is recommended to use sourceTensor.clone().detach() or sourceTensor.clone().detach().requires_grad_(True), rather than torch.tensor(sourceTensor).\n",
            "  X_tensor_train = torch.tensor(X_tensor_train,dtype = torch.float32)\n",
            "<ipython-input-19-3ff54277ee2f>:2: UserWarning: To copy construct from a tensor, it is recommended to use sourceTensor.clone().detach() or sourceTensor.clone().detach().requires_grad_(True), rather than torch.tensor(sourceTensor).\n",
            "  X_tensor_test = torch.tensor(X_tensor_test,dtype = torch.float32)\n",
            "<ipython-input-19-3ff54277ee2f>:3: UserWarning: To copy construct from a tensor, it is recommended to use sourceTensor.clone().detach() or sourceTensor.clone().detach().requires_grad_(True), rather than torch.tensor(sourceTensor).\n",
            "  X_tensor_val = torch.tensor(X_tensor_val,dtype=torch.float32)\n"
          ]
        }
      ],
      "source": [
        "X_tensor_train = torch.tensor(X_tensor_train,dtype = torch.float32)\n",
        "X_tensor_test = torch.tensor(X_tensor_test,dtype = torch.float32)\n",
        "X_tensor_val = torch.tensor(X_tensor_val,dtype=torch.float32)\n",
        "\n",
        "y_tensor_train = y_tensor_train.type(torch.LongTensor)\n",
        "y_tensor_test = y_tensor_test.type(torch.LongTensor)\n",
        "y_tensor_val = y_tensor_val.type(torch.LongTensor)"
      ],
      "id": "83ce427f"
    },
    {
      "cell_type": "code",
      "execution_count": 20,
      "metadata": {
        "id": "axPSV66iP70K",
        "colab": {
          "base_uri": "https://localhost:8080/"
        },
        "outputId": "ed24c84d-07f5-466c-cacc-99aa62ae0bb0"
      },
      "outputs": [
        {
          "data": {
            "text/plain": [
              "0"
            ]
          },
          "execution_count": 20,
          "metadata": {},
          "output_type": "execute_result"
        }
      ],
      "source": [
        "X_tensor_train_ = torch.from_numpy(X_train_f)\n",
        "del X_train_f\n",
        "gc.collect()\n",
        "X_tensor_test_ = torch.from_numpy(X_test_f)\n",
        "del X_test_f\n",
        "gc.collect()\n",
        "X_tensor_val_ = torch.from_numpy(X_val_f)\n",
        "del X_val_f\n",
        "gc.collect()\n",
        "\n",
        "y_tensor_train_ = torch.from_numpy(y_train_f)\n",
        "del y_train_f\n",
        "gc.collect()\n",
        "y_tensor_test_ = torch.from_numpy(y_test_f)\n",
        "del y_test_f\n",
        "gc.collect()\n",
        "y_tensor_val_ = torch.from_numpy(y_val_f)\n",
        "del y_val_f\n",
        "gc.collect()"
      ],
      "id": "axPSV66iP70K"
    },
    {
      "cell_type": "code",
      "execution_count": 21,
      "metadata": {
        "id": "cu02Y4zGP721",
        "colab": {
          "base_uri": "https://localhost:8080/"
        },
        "outputId": "bcb686c9-88e2-41b3-831b-7f909a55b280"
      },
      "outputs": [
        {
          "metadata": {
            "tags": null
          },
          "name": "stderr",
          "output_type": "stream",
          "text": [
            "<ipython-input-21-daeb6c2c99f4>:1: UserWarning: To copy construct from a tensor, it is recommended to use sourceTensor.clone().detach() or sourceTensor.clone().detach().requires_grad_(True), rather than torch.tensor(sourceTensor).\n",
            "  X_tensor_train_ = torch.tensor(X_tensor_train_,dtype = torch.float32)\n",
            "<ipython-input-21-daeb6c2c99f4>:2: UserWarning: To copy construct from a tensor, it is recommended to use sourceTensor.clone().detach() or sourceTensor.clone().detach().requires_grad_(True), rather than torch.tensor(sourceTensor).\n",
            "  X_tensor_test_ = torch.tensor(X_tensor_test_,dtype = torch.float32)\n",
            "<ipython-input-21-daeb6c2c99f4>:3: UserWarning: To copy construct from a tensor, it is recommended to use sourceTensor.clone().detach() or sourceTensor.clone().detach().requires_grad_(True), rather than torch.tensor(sourceTensor).\n",
            "  X_tensor_val = torch.tensor(X_tensor_val_,dtype=torch.float32)\n"
          ]
        }
      ],
      "source": [
        "X_tensor_train_ = torch.tensor(X_tensor_train_,dtype = torch.float32)\n",
        "X_tensor_test_ = torch.tensor(X_tensor_test_,dtype = torch.float32)\n",
        "X_tensor_val = torch.tensor(X_tensor_val_,dtype=torch.float32)\n",
        "\n",
        "y_tensor_train_ = y_tensor_train_.type(torch.LongTensor)\n",
        "y_tensor_test_ = y_tensor_test_.type(torch.LongTensor)\n",
        "y_tensor_val = y_tensor_val_.type(torch.LongTensor)"
      ],
      "id": "cu02Y4zGP721"
    },
    {
      "cell_type": "code",
      "execution_count": 22,
      "metadata": {
        "id": "6YgbQB1WP8Gb"
      },
      "outputs": [],
      "source": [
        "X_tensor_train = torch.cat((X_tensor_train,X_tensor_train_),0)\n",
        "X_tensor_test = torch.cat((X_tensor_test,X_tensor_test_),0)\n",
        "X_tensor_val = torch.cat((X_tensor_val, X_tensor_val_),0)\n",
        "\n",
        "y_tensor_train = torch.cat((y_tensor_train,y_tensor_train_),0)\n",
        "y_tensor_test = torch.cat((y_tensor_test,y_tensor_test_),0)\n",
        "y_tensor_val = torch.cat((y_tensor_val,y_tensor_val_),0)"
      ],
      "id": "6YgbQB1WP8Gb"
    },
    {
      "cell_type": "code",
      "source": [
        "X_tensor_train = X_tensor_train.expand(-1, 3, -1, -1)\n",
        "X_tensor_test = X_tensor_test.expand(-1, 3, -1, -1)\n",
        "X_tensor_val = X_tensor_val.expand(-1, 3, -1, -1)"
      ],
      "metadata": {
        "id": "u3hCi32Xe9YL"
      },
      "id": "u3hCi32Xe9YL",
      "execution_count": 23,
      "outputs": []
    },
    {
      "cell_type": "code",
      "execution_count": 24,
      "metadata": {
        "id": "w3CAcuLCulnT",
        "colab": {
          "base_uri": "https://localhost:8080/"
        },
        "outputId": "d7fb451f-b32e-481a-83ee-e224ed1e3ee9"
      },
      "outputs": [
        {
          "metadata": {
            "tags": null
          },
          "name": "stdout",
          "output_type": "stream",
          "text": [
            "training shape X is torch.Size([11102, 3, 224, 224]), validation shape is torch.Size([2352, 3, 224, 224]), test shape X istorch.Size([3470, 3, 224, 224])\n"
          ]
        }
      ],
      "source": [
        "print('training shape X is {}, validation shape is {}, test shape X is{}'.format(X_tensor_train.shape,X_tensor_val.shape,X_tensor_test.shape))"
      ],
      "id": "w3CAcuLCulnT"
    },
    {
      "cell_type": "markdown",
      "source": [
        "To get max value of classN-1"
      ],
      "metadata": {
        "id": "T2DjZNYUrFdA"
      },
      "id": "T2DjZNYUrFdA"
    },
    {
      "cell_type": "code",
      "source": [
        "y_tensor_train = y_tensor_train-1\n",
        "y_tensor_test = y_tensor_test-1\n",
        "y_tensor_val = y_tensor_val-1"
      ],
      "metadata": {
        "id": "eFGPr_GdqDwY"
      },
      "id": "eFGPr_GdqDwY",
      "execution_count": 25,
      "outputs": []
    },
    {
      "cell_type": "markdown",
      "metadata": {
        "id": "5379ae48"
      },
      "source": [
        "Setup custom dataset class"
      ],
      "id": "5379ae48"
    },
    {
      "cell_type": "code",
      "source": [
        "train_mean = (0.0505, 0.0505, 0.0505)\n",
        "train_std = (0.0516, 0.0516, 0.0516)"
      ],
      "metadata": {
        "id": "l8dpUMJm9usH"
      },
      "id": "l8dpUMJm9usH",
      "execution_count": 26,
      "outputs": []
    },
    {
      "cell_type": "code",
      "source": [
        "test_mean = ([0.0510, 0.0510, 0.0510])\n",
        "test_std = ([0.0520, 0.0520, 0.0520])"
      ],
      "metadata": {
        "id": "HWWKHajV92D5"
      },
      "id": "HWWKHajV92D5",
      "execution_count": 27,
      "outputs": []
    },
    {
      "cell_type": "code",
      "source": [
        "val_mean = ([0.0512, 0.0512, 0.0512])\n",
        "val_std = ([0.0518, 0.0518, 0.0518])"
      ],
      "metadata": {
        "id": "8RWI22SV9-VN"
      },
      "id": "8RWI22SV9-VN",
      "execution_count": 28,
      "outputs": []
    },
    {
      "cell_type": "code",
      "execution_count": 29,
      "metadata": {
        "id": "76e13d73"
      },
      "outputs": [],
      "source": [
        "class TrainDataset(Dataset):\n",
        "    def __init__(self, X, y,transform=None):\n",
        "        self.X = X\n",
        "        self.y = y\n",
        "        self.transform = transforms.Normalize((0.0505, 0.0505, 0.0505), (0.0516, 0.0516, 0.0516))\n",
        "\n",
        "    def __len__(self):\n",
        "        return len(self.X)\n",
        "\n",
        "    def __getitem__(self, idx):\n",
        "        X = self.X[idx]\n",
        "        y = self.y[idx]\n",
        "\n",
        "        if self.transform:\n",
        "          X = self.transform(X)\n",
        "\n",
        "        return X, y"
      ],
      "id": "76e13d73"
    },
    {
      "cell_type": "code",
      "source": [
        "class TestDataset(Dataset):\n",
        "    def __init__(self, X, y,transform=None):\n",
        "        self.X = X\n",
        "        self.y = y\n",
        "        self.transform = transforms.Normalize(train_mean, train_std)\n",
        "\n",
        "    def __len__(self):\n",
        "        return len(self.X)\n",
        "\n",
        "    def __getitem__(self, idx):\n",
        "        X = self.X[idx]\n",
        "        y = self.y[idx]\n",
        "\n",
        "        if self.transform:\n",
        "          X = self.transform(X)\n",
        "\n",
        "        return X, y"
      ],
      "metadata": {
        "id": "K9hdJnGw-ido"
      },
      "id": "K9hdJnGw-ido",
      "execution_count": 30,
      "outputs": []
    },
    {
      "cell_type": "code",
      "source": [
        "class ValDataset(Dataset):\n",
        "    def __init__(self, X, y,transform=None):\n",
        "        self.X = X\n",
        "        self.y = y\n",
        "        self.transform = transforms.Normalize(train_mean, train_std)\n",
        "\n",
        "    def __len__(self):\n",
        "        return len(self.X)\n",
        "\n",
        "    def __getitem__(self, idx):\n",
        "        X = self.X[idx]\n",
        "        y = self.y[idx]\n",
        "\n",
        "        if self.transform:\n",
        "          X = self.transform(X)\n",
        "\n",
        "        return X, y"
      ],
      "metadata": {
        "id": "0XNs6vvP-pE5"
      },
      "id": "0XNs6vvP-pE5",
      "execution_count": 31,
      "outputs": []
    },
    {
      "cell_type": "code",
      "execution_count": 32,
      "metadata": {
        "id": "af6a5a92"
      },
      "outputs": [],
      "source": [
        "dataset_train = TrainDataset(X_tensor_train,y_tensor_train,transform=True)\n",
        "dataloader_train = DataLoader(dataset_train, batch_size=32, shuffle=True)\n",
        "\n",
        "dataset_val = ValDataset(X_tensor_val,y_tensor_val,transform=True)\n",
        "dataloader_val = DataLoader(dataset_val,batch_size=32)\n",
        "\n",
        "dataset_test = TestDataset(X_tensor_test,y_tensor_test,transform=True)\n",
        "dataloader_test = DataLoader(dataset_test, batch_size = 32)#,shuffle=True)\n"
      ],
      "id": "af6a5a92"
    },
    {
      "cell_type": "code",
      "source": [
        "''''\n",
        "mean_train = 0.\n",
        "std_train = 0.\n",
        "nb_samples = 0.\n",
        "for data,_ in dataloader_val:\n",
        "    batch_samples = data.size(0)\n",
        "    data = data.view(batch_samples, data.size(1), -1)\n",
        "    mean_train += data.mean(2).sum(0)\n",
        "    std_train += data.std(2).sum(0)\n",
        "    nb_samples += batch_samples\n",
        "\n",
        "mean_train /= nb_samples\n",
        "std_train /= nb_samples"
      ],
      "metadata": {
        "id": "Jj5tFn9N8Am6",
        "outputId": "c835ad82-4117-4c15-9e35-ae8c687ae943",
        "colab": {
          "base_uri": "https://localhost:8080/",
          "height": 142
        }
      },
      "id": "Jj5tFn9N8Am6",
      "execution_count": 33,
      "outputs": [
        {
          "ename": "SyntaxError",
          "evalue": "ignored",
          "output_type": "error",
          "traceback": [
            "\u001b[0;36m  File \u001b[0;32m\"<ipython-input-33-93e3b5cb40e7>\"\u001b[0;36m, line \u001b[0;32m1\u001b[0m\n\u001b[0;31m    ''''\u001b[0m\n\u001b[0m    ^\u001b[0m\n\u001b[0;31mSyntaxError\u001b[0m\u001b[0;31m:\u001b[0m incomplete input\n"
          ]
        }
      ]
    },
    {
      "cell_type": "code",
      "source": [
        "'''\n",
        "mean = 0.\n",
        "std = 0.\n",
        "for images, _ in dataloader_train:\n",
        "    batch_samples = images.size(0) # batch size (the last batch can have smaller size!)\n",
        "    images = images.view(batch_samples, images.size(1), -1)\n",
        "    mean += images.mean(2).sum(0)\n",
        "    std += images.std(2).sum(0)\n",
        "\n",
        "mean /= len(dataloader_train.dataset)\n",
        "std /= len(dataloader_train.dataset)\n"
      ],
      "metadata": {
        "id": "_QxjZL_31NjL"
      },
      "id": "_QxjZL_31NjL",
      "execution_count": null,
      "outputs": []
    },
    {
      "cell_type": "markdown",
      "metadata": {
        "id": "9c4df5ea"
      },
      "source": [
        "Setting up the CNN."
      ],
      "id": "9c4df5ea"
    },
    {
      "cell_type": "code",
      "execution_count": 34,
      "metadata": {
        "id": "c5b23ab6"
      },
      "outputs": [],
      "source": [
        "import torch.nn.functional as F\n",
        "\n",
        "class CNN(nn.Module):\n",
        "    def __init__(self):\n",
        "        super(CNN, self).__init__()\n",
        "        self.conv1 = nn.Conv2d(1, 32, 3)\n",
        "        self.batch = nn.BatchNorm2d(32)\n",
        "        #self.conv2 = nn.Conv2d(32,64,3) #remove layer\n",
        "        self.dropout1 = nn.Dropout(0.25)\n",
        "        self.dropout2 = nn.Dropout(0.25)\n",
        "        self.fc1 = nn.Linear(394272, 128)\n",
        "        #self.fc2 = nn.Linear(128,10)\n",
        "        self.Arousal = nn.Linear(128,10) #3\n",
        "        self.Valence = nn.Linear(128,10)\n",
        "        self.Dominance = nn.Linear(128,10)\n",
        "        self.pool = nn.MaxPool2d(2)\n",
        "\n",
        "    def forward(self, x):\n",
        "        x = self.conv1(x)\n",
        "        x = self.batch(x)\n",
        "        x = F.relu(x)\n",
        "        #x = self.conv2(x)\n",
        "        #x = F.relu(x)\n",
        "        x = self.pool(x)\n",
        "        x = self.dropout1(x)\n",
        "        x = torch.flatten(x, 1)\n",
        "        x = self.fc1(x)\n",
        "        x = F.relu(x)\n",
        "        x = self.dropout2(x)\n",
        "        #x = self.fc2(x)\n",
        "        Arousal = self.Arousal(x)\n",
        "        Valence = self.Valence(x)\n",
        "        Dominance = self.Dominance(x)\n",
        "        return Arousal, Valence, Dominance\n",
        "#removed"
      ],
      "id": "c5b23ab6"
    },
    {
      "cell_type": "code",
      "execution_count": null,
      "metadata": {
        "id": "ad94c3ad"
      },
      "outputs": [],
      "source": [
        "SalienceNet = CNN()\n",
        "#SalienceNet.to(device)"
      ],
      "id": "ad94c3ad"
    },
    {
      "cell_type": "code",
      "execution_count": 35,
      "metadata": {
        "id": "eMAlEzRt0VTw"
      },
      "outputs": [],
      "source": [
        "criterion = nn.CrossEntropyLoss()"
      ],
      "id": "eMAlEzRt0VTw"
    },
    {
      "cell_type": "code",
      "execution_count": 36,
      "metadata": {
        "id": "9997283d"
      },
      "outputs": [],
      "source": [
        "from tqdm import tqdm\n",
        "def train(net, loss_fn, dataloader_train,dataloader_val,\n",
        "          epoch=10, learning_rate=0.0001):\n",
        "    optimizer = torch.optim.Adam(net.parameters(), lr=learning_rate)#torch.optim.Adam(net.parameters(), lr=learning_rate,weight_decay=1e-4) # weight decay as a regularization technique to defy overfitting\n",
        "    for param in model_CNN.parameters():\n",
        "        param.requires_grad = False\n",
        "    for param in model_CNN.Arousal.parameters():\n",
        "      param.requires_grad = True\n",
        "    for param in model_CNN.Valence.parameters():\n",
        "      param.requires_grad = True\n",
        "    for param in model_CNN.Dominance.parameters():\n",
        "      param.requires_grad = True\n",
        "    train_loss = []\n",
        "    val_loss = []\n",
        "    train_accuracy = []\n",
        "    val_accuracy = []\n",
        "    train_epoch_loss = []\n",
        "    val_epoch_loss = []\n",
        "    for i in range(epoch):\n",
        "        train_loop = tqdm(dataloader_train)\n",
        "        val_loop = tqdm(dataloader_val)\n",
        "        total = 0\n",
        "        correct_a,correct_v,correct_d=0,0,0\n",
        "        net.to(device)\n",
        "        net.train()\n",
        "        for data, label in train_loop:\n",
        "            data, label = data.to(device), label.to(device)\n",
        "            #make prediction\n",
        "            Arousal,Valence,Dominance = net(data.float())\n",
        "\n",
        "            _a, y_pred_train_arousal = torch.max(Arousal,1)\n",
        "            _v, y_pred_train_valence = torch.max(Valence,1)\n",
        "            _d, y_pred_train_dominance = torch.max(Dominance,1)\n",
        "\n",
        "            total += label[:,0].size(0)+label[:,1].size(0)+label[:,2].size(0)\n",
        "\n",
        "            correct_a += (y_pred_train_arousal == label[:,0]).sum().item()\n",
        "            correct_v += (y_pred_train_valence == label[:,1]).sum().item()\n",
        "            correct_d += (y_pred_train_dominance == label[:,2]).sum().item()\n",
        "\n",
        "            sum_correct = (correct_a+correct_v+correct_d)\n",
        "            # Zero out the gradients\n",
        "            optimizer.zero_grad()\n",
        "\n",
        "            # Calculate loss.\n",
        "            #loss = loss_fn(output,label)#torch.max(label.long(), 1)[0])\n",
        "            loss_arousal = loss_fn(Arousal,label[:,0])\n",
        "            loss_valence = loss_fn(Valence,label[:,1])\n",
        "            loss_dominance = loss_fn(Dominance,label[:,2])\n",
        "            loss=loss_arousal+loss_valence+loss_dominance\n",
        "\n",
        "\n",
        "            # Backpropagation and gradient update.\n",
        "            loss.backward()# Calculate gradients. #retrain_graph=True\n",
        "\n",
        "            optimizer.step() # Apply gradient update\n",
        "\n",
        "            train_loss.append(loss.item())\n",
        "            train_loop.set_description(f\"Epoch [{i+1}/{epoch}]\")\n",
        "\n",
        "        train_accuracy.append(sum_correct/total)\n",
        "        train_epoch_loss.append((np.array(train_loss).mean()))\n",
        "\n",
        "        #validation\n",
        "        net.eval()\n",
        "        val_total = 0\n",
        "        val_arousal,val_valence, val_dominance = 0,0,0\n",
        "        for data, labels in dataloader_val:\n",
        "            data, labels = data.to(device), labels.to(device)\n",
        "\n",
        "            Arousal_v,Valence_v,Dominance_v = net(data.float())\n",
        "\n",
        "            _a, y_pred_val_arousal = torch.max(Arousal_v,1)\n",
        "            _v, y_pred_val_valence = torch.max(Valence_v,1)\n",
        "            _d, y_pred_val_dominance = torch.max(Dominance_v,1)\n",
        "\n",
        "            val_total += labels[:,0].size(0)+labels[:,1].size(0)+labels[:,2].size(0)\n",
        "\n",
        "            val_arousal += (y_pred_val_arousal == labels[:,0]).sum().item()\n",
        "            val_valence += (y_pred_val_valence == labels[:,1]).sum().item()\n",
        "            val_dominance += (y_pred_val_dominance == labels[:,2]).sum().item()\n",
        "\n",
        "            sum_correct_val = (val_arousal+val_valence+val_dominance)\n",
        "\n",
        "            loss_arousal_v = loss_fn(Arousal_v,labels[:,0])\n",
        "            loss_valence_v = loss_fn(Valence_v,labels[:,1])\n",
        "            loss_dominance_v = loss_fn(Dominance_v,labels[:,2])\n",
        "\n",
        "            val_l=loss_arousal_v+loss_valence_v+loss_dominance_v\n",
        "\n",
        "            val_loss.append(val_l.item())\n",
        "\n",
        "        val_epoch_loss.append((np.array(val_loss).mean()))\n",
        "\n",
        "        val_accuracy.append(sum_correct_val/val_total)\n",
        "\n",
        "\n",
        "    return train_loss,train_epoch_loss,val_loss,val_epoch_loss, train_accuracy,val_accuracy\n"
      ],
      "id": "9997283d"
    },
    {
      "cell_type": "code",
      "execution_count": 37,
      "metadata": {
        "id": "JvEWX6FyZGIk"
      },
      "outputs": [],
      "source": [
        "def test(net,loss_fn,dataloader_test):\n",
        "  net.eval()\n",
        "  test_loss = []\n",
        "  test_total = 0\n",
        "  test_arousal,test_valence, test_dominance = 0,0,0\n",
        "\n",
        "  test_acc = []\n",
        "  test_loop = tqdm(dataloader_test)\n",
        "  i=0\n",
        "  for batch, (data, labels) in enumerate(test_loop):\n",
        "      print('testing...')\n",
        "\n",
        "      data, labels = data.to(device), labels.to(device)\n",
        "      arousal,valence,dominance = net(data.float())\n",
        "\n",
        "      __a, y_pred_test_arousal = torch.max(arousal,1)\n",
        "      __v, y_pred_test_valence = torch.max(valence,1)\n",
        "      __d, y_pred_test_dominance = torch.max(dominance,1)\n",
        "\n",
        "      arousal_t = loss_fn(arousal,labels[:,0])\n",
        "      valence_t = loss_fn(valence,labels[:,1])\n",
        "      dominance_t = loss_fn(dominance,labels[:,2])\n",
        "\n",
        "      test_l = arousal_t+valence_t+dominance_t\n",
        "\n",
        "      test_loss.append(test_l.item())\n",
        "      test_loop.set_description(f\"Batch [{i+1}/{batch}]\")\n",
        "      i=+1\n",
        "\n",
        "      test_total += labels[:,0].size(0)+labels[:,1].size(0)+labels[:,2].size(0)\n",
        "\n",
        "      test_arousal += (y_pred_test_arousal == labels[:,0]).sum().item()\n",
        "      test_valence += (y_pred_test_valence == labels[:,1]).sum().item()\n",
        "      test_dominance += (y_pred_test_dominance == labels[:,2]).sum().item()\n",
        "\n",
        "      sum_correct_test = (test_arousal+test_valence+test_dominance)\n",
        "      #test_correct += (y_pred_test==torch.max(labels,1)[0]).sum().item()\n",
        "\n",
        "      test_acc.append(sum_correct_test/test_total)\n",
        "    #y_pred_test = torch.softmax(outputs,dim=1).argmax(dim=1)\n",
        "\n",
        "   # print('test acc is {}'.format(test_acc)\n",
        "  return test_loss, test_acc"
      ],
      "id": "JvEWX6FyZGIk"
    },
    {
      "cell_type": "code",
      "execution_count": 38,
      "metadata": {
        "id": "yDqIlocyWRYY",
        "colab": {
          "base_uri": "https://localhost:8080/",
          "height": 35
        },
        "outputId": "37be875f-48ce-46b3-c022-dd518582ef8e"
      },
      "outputs": [
        {
          "output_type": "execute_result",
          "data": {
            "text/plain": [
              "'Tesla T4'"
            ],
            "application/vnd.google.colaboratory.intrinsic+json": {
              "type": "string"
            }
          },
          "metadata": {},
          "execution_count": 38
        }
      ],
      "source": [
        "torch.cuda.get_device_name(0)"
      ],
      "id": "yDqIlocyWRYY"
    },
    {
      "cell_type": "code",
      "execution_count": 39,
      "metadata": {
        "id": "7e318c98"
      },
      "outputs": [],
      "source": [
        "import matplotlib.pyplot as plt"
      ],
      "id": "7e318c98"
    },
    {
      "cell_type": "code",
      "execution_count": 40,
      "metadata": {
        "id": "kGxhNDnUbZMD",
        "colab": {
          "base_uri": "https://localhost:8080/",
          "height": 17
        },
        "outputId": "cf98eef5-67a4-4ae9-bd3d-55cc0b3c3372"
      },
      "outputs": [
        {
          "output_type": "display_data",
          "data": {
            "text/plain": [
              "<IPython.core.display.Javascript object>"
            ],
            "application/javascript": [
              "google.colab.output.setIframeHeight(0, true, {maxHeight: 300})"
            ]
          },
          "metadata": {}
        }
      ],
      "source": [
        "from IPython.display import Javascript\n",
        "\n",
        "display(Javascript('''google.colab.output.setIframeHeight(0, true, {maxHeight: 300})'''))"
      ],
      "id": "kGxhNDnUbZMD"
    },
    {
      "cell_type": "code",
      "source": [
        "from torchvision import models"
      ],
      "metadata": {
        "id": "912Sex6VMmmd"
      },
      "id": "912Sex6VMmmd",
      "execution_count": 41,
      "outputs": []
    },
    {
      "cell_type": "code",
      "source": [
        "model = models.alexnet(pretrained=True)"
      ],
      "metadata": {
        "id": "Hod-SeceMqqE",
        "colab": {
          "base_uri": "https://localhost:8080/"
        },
        "outputId": "b712a1af-7f0a-42aa-a7da-fb250d5ad041"
      },
      "id": "Hod-SeceMqqE",
      "execution_count": 42,
      "outputs": [
        {
          "output_type": "stream",
          "name": "stderr",
          "text": [
            "/usr/local/lib/python3.10/dist-packages/torchvision/models/_utils.py:208: UserWarning: The parameter 'pretrained' is deprecated since 0.13 and may be removed in the future, please use 'weights' instead.\n",
            "  warnings.warn(\n",
            "/usr/local/lib/python3.10/dist-packages/torchvision/models/_utils.py:223: UserWarning: Arguments other than a weight enum or `None` for 'weights' are deprecated since 0.13 and may be removed in the future. The current behavior is equivalent to passing `weights=AlexNet_Weights.IMAGENET1K_V1`. You can also use `weights=AlexNet_Weights.DEFAULT` to get the most up-to-date weights.\n",
            "  warnings.warn(msg)\n",
            "Downloading: \"https://download.pytorch.org/models/alexnet-owt-7be5be79.pth\" to /root/.cache/torch/hub/checkpoints/alexnet-owt-7be5be79.pth\n",
            "100%|██████████| 233M/233M [00:18<00:00, 13.1MB/s]\n"
          ]
        }
      ]
    },
    {
      "cell_type": "code",
      "source": [
        "class CNN1(nn.Module):\n",
        "    def __init__(self, pretrained):\n",
        "        super(CNN1, self).__init__()\n",
        "        if pretrained is True:\n",
        "            self.model = models.__dict__[\"alexnet\"](pretrained=\"imagenet\")\n",
        "        else:\n",
        "            self.model = models.__dict__[\"alexnet\"](pretrained=None)\n",
        "        self.Arousal= nn.Linear(256, 10)\n",
        "        self.Valence = nn.Linear(256,10)\n",
        "        self.Dominance = nn.Linear(256, 10)\n",
        "\n",
        "    def forward(self, x):\n",
        "        bs, _, _, _ = x.shape\n",
        "        x = self.model.features(x)\n",
        "        x = F.adaptive_avg_pool2d(x, 1).reshape(bs, -1)\n",
        "        Arousal = self.Arousal(x)\n",
        "        Valence = self.Valence(x)\n",
        "        Dominance = self.Dominance(x)\n",
        "        return Arousal, Valence, Dominance\n",
        "        return {'label1': label1, 'label2': label2, 'label3': label3}"
      ],
      "metadata": {
        "id": "ayX1tkQ6p5r6"
      },
      "id": "ayX1tkQ6p5r6",
      "execution_count": 43,
      "outputs": []
    },
    {
      "cell_type": "code",
      "source": [
        "model_CNN = CNN1(True).to(device)"
      ],
      "metadata": {
        "id": "LN5RTKpPqPQG"
      },
      "id": "LN5RTKpPqPQG",
      "execution_count": 44,
      "outputs": []
    },
    {
      "cell_type": "code",
      "source": [
        "for param in model_CNN.parameters():\n",
        "        param.requires_grad = False\n",
        "for param in model_CNN.Arousal.parameters():\n",
        "  param.requires_grad = True\n",
        "for param in model_CNN.Valence.parameters():\n",
        "  param.requires_grad = True\n",
        "for param in model_CNN.Dominance.parameters():\n",
        "  param.requires_grad = True"
      ],
      "metadata": {
        "id": "-cX76_sdu0bo"
      },
      "id": "-cX76_sdu0bo",
      "execution_count": 45,
      "outputs": []
    },
    {
      "cell_type": "code",
      "execution_count": 47,
      "metadata": {
        "id": "c5ddd06d",
        "colab": {
          "base_uri": "https://localhost:8080/"
        },
        "outputId": "436d0444-0501-4987-ef1e-6724dfaea9d2"
      },
      "outputs": [
        {
          "output_type": "stream",
          "name": "stderr",
          "text": [
            "  0%|          | 0/347 [00:00<?, ?it/s]\n",
            "\n",
            "Epoch [1/20]: 100%|██████████| 347/347 [00:11<00:00, 29.46it/s]\n",
            "  0%|          | 0/347 [00:00<?, ?it/s]\n",
            "\n",
            "\n",
            "  0%|          | 0/74 [00:16<?, ?it/s]\n",
            "Epoch [2/20]: 100%|██████████| 347/347 [00:11<00:00, 31.02it/s]\n",
            "  0%|          | 0/347 [00:00<?, ?it/s]\n",
            "\n",
            "  0%|          | 0/74 [00:15<?, ?it/s]\n",
            "Epoch [3/20]: 100%|██████████| 347/347 [00:11<00:00, 30.18it/s]\n",
            "  0%|          | 0/347 [00:00<?, ?it/s]\n",
            "\n",
            "\n",
            "  0%|          | 0/74 [00:14<?, ?it/s]\n",
            "Epoch [4/20]: 100%|██████████| 347/347 [00:11<00:00, 30.38it/s]\n",
            "  0%|          | 0/347 [00:00<?, ?it/s]\n",
            "\n",
            "  0%|          | 0/74 [00:14<?, ?it/s]\n",
            "Epoch [5/20]: 100%|██████████| 347/347 [00:11<00:00, 30.28it/s]\n",
            "  0%|          | 0/347 [00:00<?, ?it/s]\n",
            "\n",
            "\n",
            "  0%|          | 0/74 [00:14<?, ?it/s]\n",
            "Epoch [6/20]: 100%|██████████| 347/347 [00:11<00:00, 30.58it/s]\n",
            "  0%|          | 0/347 [00:00<?, ?it/s]\n",
            "\n",
            "  0%|          | 0/74 [00:15<?, ?it/s]\n",
            "Epoch [7/20]: 100%|██████████| 347/347 [00:11<00:00, 30.08it/s]\n",
            "  0%|          | 0/347 [00:00<?, ?it/s]\n",
            "\n",
            "\n",
            "  0%|          | 0/74 [00:14<?, ?it/s]\n",
            "Epoch [8/20]: 100%|██████████| 347/347 [00:11<00:00, 29.43it/s]\n",
            "  0%|          | 0/347 [00:00<?, ?it/s]\n",
            "\n",
            "  0%|          | 0/74 [00:14<?, ?it/s]\n",
            "Epoch [9/20]: 100%|██████████| 347/347 [00:11<00:00, 31.33it/s]\n",
            "  0%|          | 0/347 [00:00<?, ?it/s]\n",
            "\n",
            "\n",
            "  0%|          | 0/74 [00:14<?, ?it/s]\n",
            "Epoch [10/20]: 100%|██████████| 347/347 [00:11<00:00, 30.57it/s]\n",
            "  0%|          | 0/347 [00:00<?, ?it/s]\n",
            "\n",
            "  0%|          | 0/74 [00:14<?, ?it/s]\n",
            "Epoch [11/20]: 100%|██████████| 347/347 [00:11<00:00, 30.31it/s]\n",
            "  0%|          | 0/347 [00:00<?, ?it/s]\n",
            "\n",
            "\n",
            "  0%|          | 0/74 [00:15<?, ?it/s]\n",
            "Epoch [12/20]: 100%|██████████| 347/347 [00:11<00:00, 29.49it/s]\n",
            "  0%|          | 0/347 [00:00<?, ?it/s]\n",
            "\n",
            "  0%|          | 0/74 [00:15<?, ?it/s]\n",
            "Epoch [13/20]: 100%|██████████| 347/347 [00:11<00:00, 30.40it/s]\n",
            "  0%|          | 0/347 [00:00<?, ?it/s]\n",
            "\n",
            "\n",
            "  0%|          | 0/74 [00:15<?, ?it/s]\n",
            "Epoch [14/20]: 100%|██████████| 347/347 [00:11<00:00, 30.39it/s]\n",
            "  0%|          | 0/347 [00:00<?, ?it/s]\n",
            "\n",
            "  0%|          | 0/74 [00:15<?, ?it/s]\n",
            "Epoch [15/20]: 100%|██████████| 347/347 [00:11<00:00, 30.70it/s]\n",
            "  0%|          | 0/347 [00:00<?, ?it/s]\n",
            "\n",
            "\n",
            "  0%|          | 0/74 [00:16<?, ?it/s]\n",
            "Epoch [16/20]: 100%|██████████| 347/347 [00:11<00:00, 30.39it/s]\n",
            "  0%|          | 0/347 [00:00<?, ?it/s]\n",
            "\n",
            "  0%|          | 0/74 [00:15<?, ?it/s]\n",
            "Epoch [17/20]: 100%|██████████| 347/347 [00:11<00:00, 30.54it/s]\n",
            "  0%|          | 0/347 [00:00<?, ?it/s]\n",
            "\n",
            "\n",
            "  0%|          | 0/74 [00:14<?, ?it/s]\n",
            "Epoch [18/20]: 100%|██████████| 347/347 [00:11<00:00, 29.98it/s]\n",
            "  0%|          | 0/347 [00:00<?, ?it/s]\n",
            "\n",
            "  0%|          | 0/74 [00:14<?, ?it/s]\n",
            "Epoch [19/20]: 100%|██████████| 347/347 [00:11<00:00, 31.43it/s]\n",
            "  0%|          | 0/347 [00:00<?, ?it/s]\n",
            "\n",
            "\n",
            "  0%|          | 0/74 [00:14<?, ?it/s]\n",
            "Epoch [20/20]: 100%|██████████| 347/347 [00:11<00:00, 30.13it/s]\n",
            "  0%|          | 0/74 [00:15<?, ?it/s]\n"
          ]
        }
      ],
      "source": [
        "np.random.seed(1)\n",
        "torch.manual_seed(1)\n",
        "\n",
        "train_loss,train_epoch_loss,val_loss,val_epoch_loss,train_acc,val_acc=train(net=model_CNN,loss_fn=criterion,dataloader_train=dataloader_train,\n",
        "                  dataloader_val=dataloader_val,epoch=20,learning_rate=0.0005)\n",
        "\n",
        "\n"
      ],
      "id": "c5ddd06d"
    },
    {
      "cell_type": "code",
      "execution_count": 48,
      "metadata": {
        "id": "fk-6haR7G5-q",
        "colab": {
          "base_uri": "https://localhost:8080/",
          "height": 472
        },
        "outputId": "a8adc337-8b1d-47e6-b75a-d217e2eec574"
      },
      "outputs": [
        {
          "output_type": "display_data",
          "data": {
            "text/plain": [
              "<Figure size 640x480 with 1 Axes>"
            ],
            "image/png": "[encoded data removed]"
          },
          "metadata": {}
        }
      ],
      "source": [
        "plt.plot(train_epoch_loss, label = 'Trainingsloss')\n",
        "plt.plot(val_epoch_loss, label = 'Validationsloss')\n",
        "plt.xlabel('Epoche')\n",
        "plt.ylabel('Cross-Entropy')\n",
        "plt.title('Cross-Entropy Loss pro Epoche')\n",
        "plt.legend()\n",
        "plt.show()"
      ],
      "id": "fk-6haR7G5-q"
    },
    {
      "cell_type": "code",
      "source": [
        "plt.plot(train_acc, label = 'Trainingsgenauigkeit')\n",
        "plt.plot(val_acc, label = 'Validationsgenauigkeit')\n",
        "plt.xlabel('Epoche')\n",
        "plt.ylabel('Genauigkeit')\n",
        "plt.title('Genauigkeit pro Epoche')\n",
        "plt.legend()\n",
        "plt.show()"
      ],
      "metadata": {
        "id": "s9cEBXo1dJNj",
        "colab": {
          "base_uri": "https://localhost:8080/",
          "height": 472
        },
        "outputId": "70ad76ec-565d-42ea-f089-caa33d4a0625"
      },
      "id": "s9cEBXo1dJNj",
      "execution_count": 49,
      "outputs": [
        {
          "output_type": "display_data",
          "data": {
            "text/plain": [
              "<Figure size 640x480 with 1 Axes>"
            ],
            "image/png": "[encoded data removed]"
          },
          "metadata": {}
        }
      ]
    },
    {
      "cell_type": "code",
      "source": [
        "test_loss,test_acc = test(net=model_CNN,loss_fn=criterion,dataloader_test=dataloader_test)"
      ],
      "metadata": {
        "id": "DaXL76FBu8aa",
        "outputId": "6b7d53b3-d181-4db3-bed8-03aa4608c847",
        "colab": {
          "base_uri": "https://localhost:8080/"
        }
      },
      "id": "DaXL76FBu8aa",
      "execution_count": 50,
      "outputs": [
        {
          "output_type": "stream",
          "name": "stderr",
          "text": [
            "Batch [2/6]:   4%|▎         | 4/109 [00:00<00:03, 31.94it/s]"
          ]
        },
        {
          "output_type": "stream",
          "name": "stdout",
          "text": [
            "testing...\n",
            "testing...\n",
            "testing...\n",
            "testing...\n",
            "testing...\n",
            "testing...\n",
            "testing...\n"
          ]
        },
        {
          "output_type": "stream",
          "name": "stderr",
          "text": [
            "Batch [2/13]:  11%|█         | 12/109 [00:00<00:02, 33.40it/s]"
          ]
        },
        {
          "output_type": "stream",
          "name": "stdout",
          "text": [
            "testing...\n",
            "testing...\n",
            "testing...\n",
            "testing...\n",
            "testing...\n",
            "testing...\n",
            "testing...\n"
          ]
        },
        {
          "output_type": "stream",
          "name": "stderr",
          "text": [
            "Batch [2/20]:  18%|█▊        | 20/109 [00:00<00:02, 33.14it/s]"
          ]
        },
        {
          "output_type": "stream",
          "name": "stdout",
          "text": [
            "testing...\n",
            "testing...\n",
            "testing...\n",
            "testing...\n",
            "testing...\n",
            "testing...\n",
            "testing...\n"
          ]
        },
        {
          "output_type": "stream",
          "name": "stderr",
          "text": [
            "Batch [2/27]:  26%|██▌       | 28/109 [00:00<00:02, 33.25it/s]"
          ]
        },
        {
          "output_type": "stream",
          "name": "stdout",
          "text": [
            "testing...\n",
            "testing...\n",
            "testing...\n",
            "testing...\n",
            "testing...\n",
            "testing...\n",
            "testing...\n"
          ]
        },
        {
          "output_type": "stream",
          "name": "stderr",
          "text": [
            "Batch [2/34]:  29%|██▉       | 32/109 [00:01<00:02, 33.28it/s]"
          ]
        },
        {
          "output_type": "stream",
          "name": "stdout",
          "text": [
            "testing...\n",
            "testing...\n",
            "testing...\n",
            "testing...\n",
            "testing...\n",
            "testing...\n",
            "testing...\n"
          ]
        },
        {
          "output_type": "stream",
          "name": "stderr",
          "text": [
            "Batch [2/41]:  37%|███▋      | 40/109 [00:01<00:02, 33.42it/s]"
          ]
        },
        {
          "output_type": "stream",
          "name": "stdout",
          "text": [
            "testing...\n",
            "testing...\n",
            "testing...\n",
            "testing...\n",
            "testing...\n",
            "testing...\n",
            "testing...\n"
          ]
        },
        {
          "output_type": "stream",
          "name": "stderr",
          "text": [
            "Batch [2/48]:  44%|████▍     | 48/109 [00:01<00:01, 33.66it/s]"
          ]
        },
        {
          "output_type": "stream",
          "name": "stdout",
          "text": [
            "testing...\n",
            "testing...\n",
            "testing...\n",
            "testing...\n",
            "testing...\n",
            "testing...\n",
            "testing...\n"
          ]
        },
        {
          "output_type": "stream",
          "name": "stderr",
          "text": [
            "Batch [2/55]:  51%|█████▏    | 56/109 [00:01<00:01, 33.62it/s]"
          ]
        },
        {
          "output_type": "stream",
          "name": "stdout",
          "text": [
            "testing...\n",
            "testing...\n",
            "testing...\n",
            "testing...\n",
            "testing...\n",
            "testing...\n",
            "testing...\n"
          ]
        },
        {
          "output_type": "stream",
          "name": "stderr",
          "text": [
            "Batch [2/62]:  55%|█████▌    | 60/109 [00:01<00:01, 33.78it/s]"
          ]
        },
        {
          "output_type": "stream",
          "name": "stdout",
          "text": [
            "testing...\n",
            "testing...\n",
            "testing...\n",
            "testing...\n",
            "testing...\n",
            "testing...\n",
            "testing...\n"
          ]
        },
        {
          "output_type": "stream",
          "name": "stderr",
          "text": [
            "Batch [2/69]:  62%|██████▏   | 68/109 [00:02<00:01, 32.85it/s]"
          ]
        },
        {
          "output_type": "stream",
          "name": "stdout",
          "text": [
            "testing...\n",
            "testing...\n",
            "testing...\n",
            "testing...\n",
            "testing...\n",
            "testing...\n",
            "testing...\n"
          ]
        },
        {
          "output_type": "stream",
          "name": "stderr",
          "text": [
            "Batch [2/76]:  70%|██████▉   | 76/109 [00:02<00:01, 32.62it/s]"
          ]
        },
        {
          "output_type": "stream",
          "name": "stdout",
          "text": [
            "testing...\n",
            "testing...\n",
            "testing...\n",
            "testing...\n",
            "testing...\n",
            "testing...\n",
            "testing...\n"
          ]
        },
        {
          "output_type": "stream",
          "name": "stderr",
          "text": [
            "Batch [2/82]:  73%|███████▎  | 80/109 [00:02<00:00, 31.37it/s]"
          ]
        },
        {
          "output_type": "stream",
          "name": "stdout",
          "text": [
            "testing...\n",
            "testing...\n",
            "testing...\n",
            "testing...\n",
            "testing...\n",
            "testing...\n",
            "testing...\n"
          ]
        },
        {
          "output_type": "stream",
          "name": "stderr",
          "text": [
            "Batch [2/90]:  81%|████████  | 88/109 [00:02<00:00, 32.15it/s]"
          ]
        },
        {
          "output_type": "stream",
          "name": "stdout",
          "text": [
            "testing...\n",
            "testing...\n",
            "testing...\n",
            "testing...\n",
            "testing...\n",
            "testing...\n",
            "testing...\n"
          ]
        },
        {
          "output_type": "stream",
          "name": "stderr",
          "text": [
            "Batch [2/97]:  88%|████████▊ | 96/109 [00:02<00:00, 32.19it/s]"
          ]
        },
        {
          "output_type": "stream",
          "name": "stdout",
          "text": [
            "testing...\n",
            "testing...\n",
            "testing...\n",
            "testing...\n",
            "testing...\n",
            "testing...\n",
            "testing...\n"
          ]
        },
        {
          "output_type": "stream",
          "name": "stderr",
          "text": [
            "Batch [2/104]:  95%|█████████▌| 104/109 [00:03<00:00, 33.20it/s]"
          ]
        },
        {
          "output_type": "stream",
          "name": "stdout",
          "text": [
            "testing...\n",
            "testing...\n",
            "testing...\n",
            "testing...\n",
            "testing...\n",
            "testing...\n",
            "testing...\n"
          ]
        },
        {
          "output_type": "stream",
          "name": "stderr",
          "text": [
            "Batch [2/108]: 100%|██████████| 109/109 [00:03<00:00, 33.01it/s]"
          ]
        },
        {
          "output_type": "stream",
          "name": "stdout",
          "text": [
            "testing...\n",
            "testing...\n",
            "testing...\n",
            "testing...\n"
          ]
        },
        {
          "output_type": "stream",
          "name": "stderr",
          "text": [
            "\n"
          ]
        }
      ]
    },
    {
      "cell_type": "code",
      "execution_count": 51,
      "metadata": {
        "id": "dtd4ymkVafCh",
        "outputId": "9a98ea9d-3428-4497-c479-9601e9a75f4a",
        "colab": {
          "base_uri": "https://localhost:8080/",
          "height": 472
        }
      },
      "outputs": [
        {
          "output_type": "display_data",
          "data": {
            "text/plain": [
              "<Figure size 640x480 with 1 Axes>"
            ],
            "image/png": "[encoded data removed]"
          },
          "metadata": {}
        }
      ],
      "source": [
        "plt.plot(test_loss)\n",
        "plt.xlabel('Loss pro Batch-Einheit')\n",
        "plt.ylabel('Cross-Entropy')\n",
        "plt.title('Cross-Entropy Loss für die Testdaten')\n",
        "plt.show()"
      ],
      "id": "dtd4ymkVafCh"
    },
    {
      "cell_type": "code",
      "source": [
        "plt.plot(test_acc)\n",
        "plt.xlabel('Genauigkeit pro Batch-Einheit')\n",
        "plt.ylabel('Genauigkeit')\n",
        "plt.title('Genauigkeit für die Testdaten')\n",
        "plt.show()"
      ],
      "metadata": {
        "id": "_cVAGpeGG-Gj",
        "outputId": "4908ce93-ba0c-4f41-ecb0-cbd83ba26ebd",
        "colab": {
          "base_uri": "https://localhost:8080/",
          "height": 472
        }
      },
      "id": "_cVAGpeGG-Gj",
      "execution_count": 52,
      "outputs": [
        {
          "output_type": "display_data",
          "data": {
            "text/plain": [
              "<Figure size 640x480 with 1 Axes>"
            ],
            "image/png": "[encoded data removed]"
          },
          "metadata": {}
        }
      ]
    },
    {
      "cell_type": "code",
      "source": [
        "np.mean(test_acc), np.std(test_acc)"
      ],
      "metadata": {
        "id": "9ADuD4qpHzIe"
      },
      "id": "9ADuD4qpHzIe",
      "execution_count": null,
      "outputs": []
    },
    {
      "cell_type": "code",
      "source": [
        "np.mean(train_acc), np.mean(val_acc), np.std(train_acc),np.std(val_acc)"
      ],
      "metadata": {
        "id": "6fIEk27zH_y_"
      },
      "id": "6fIEk27zH_y_",
      "execution_count": null,
      "outputs": []
    }
  ],
  "metadata": {
    "accelerator": "GPU",
    "colab": {
      "provenance": [],
      "include_colab_link": true
    },
    "gpuClass": "standard",
    "kernelspec": {
      "display_name": "YOLO",
      "language": "python",
      "name": "yolo"
    },
    "language_info": {
      "codemirror_mode": {
        "name": "ipython",
        "version": 3
      },
      "file_extension": ".py",
      "mimetype": "text/x-python",
      "name": "python",
      "nbconvert_exporter": "python",
      "pygments_lexer": "ipython3",
      "version": "3.10.9"
    }
  },
  "nbformat": 4,
  "nbformat_minor": 5
}