{
  "cells": [
    {
      "cell_type": "markdown",
      "metadata": {
        "id": "view-in-github",
        "colab_type": "text"
      },
      "source": [
        "<a href=\"https://colab.research.google.com/github/JNPauli/Protect_app_master_thesis/blob/main/Classification_Pipeline.ipynb\" target=\"_parent\"><img src=\"https://colab.research.google.com/assets/colab-badge.svg\" alt=\"Open In Colab\"/></a>"
      ]
    },
    {
      "cell_type": "markdown",
      "metadata": {
        "id": "f3485813"
      },
      "source": [
        "0. This notebook is the continuation to the preprocessing.ipynb notebook."
      ],
      "id": "f3485813"
    },
    {
      "cell_type": "markdown",
      "metadata": {
        "id": "b60fcc27"
      },
      "source": [
        "1. Import all neccessary modules "
      ],
      "id": "b60fcc27"
    },
    {
      "cell_type": "code",
      "execution_count": null,
      "metadata": {
        "id": "73af1d9d"
      },
      "outputs": [],
      "source": [
        "import os\n",
        "import pandas as pd\n",
        "import numpy as np\n",
        "from sklearn.model_selection import train_test_split\n",
        "import gc"
      ],
      "id": "73af1d9d"
    },
    {
      "cell_type": "code",
      "execution_count": null,
      "metadata": {
        "colab": {
          "base_uri": "https://localhost:8080/"
        },
        "id": "xwWpOPN-SkYk",
        "outputId": "8951a4be-846e-4013-90b4-f4cd52ee582d"
      },
      "outputs": [
        {
          "output_type": "stream",
          "name": "stdout",
          "text": [
            "Mounted at /content/drive\n"
          ]
        }
      ],
      "source": [
        "from google.colab import drive\n",
        "drive.mount('/content/drive')"
      ],
      "id": "xwWpOPN-SkYk"
    },
    {
      "cell_type": "markdown",
      "metadata": {
        "id": "0bab0d03"
      },
      "source": [
        "2. Import X and y"
      ],
      "id": "0bab0d03"
    },
    {
      "cell_type": "code",
      "execution_count": null,
      "metadata": {
        "id": "0e61570a"
      },
      "outputs": [],
      "source": [
        "import torchvision\n",
        "from torchvision import transforms\n",
        "import torch\n",
        "import torch.nn as nn\n",
        "from torch.utils.data import Dataset, DataLoader\n",
        "from PIL import Image"
      ],
      "id": "0e61570a"
    },
    {
      "cell_type": "code",
      "execution_count": null,
      "metadata": {
        "id": "Q822x4HZTzzr"
      },
      "outputs": [],
      "source": [
        "os.chdir('/content/drive/MyDrive/Thesis')"
      ],
      "id": "Q822x4HZTzzr"
    },
    {
      "cell_type": "code",
      "execution_count": null,
      "metadata": {
        "id": "99428f03"
      },
      "outputs": [],
      "source": [
        "y = np.load('train_con.npy')"
      ],
      "id": "99428f03"
    },
    {
      "cell_type": "code",
      "execution_count": null,
      "metadata": {
        "id": "986e4ca0"
      },
      "outputs": [],
      "source": [
        "y_ = y[0:10000]\n",
        "y_frames = y[14276:]"
      ],
      "id": "986e4ca0"
    },
    {
      "cell_type": "code",
      "execution_count": null,
      "metadata": {
        "id": "hkGr-adRJKPY"
      },
      "outputs": [],
      "source": [
        "y_all = np.concatenate((y_,y_frames))"
      ],
      "id": "hkGr-adRJKPY"
    },
    {
      "cell_type": "markdown",
      "metadata": {
        "id": "daf7012a"
      },
      "source": [
        "NEW APPROACH:\n",
        "\n",
        "Fit CNN on X"
      ],
      "id": "daf7012a"
    },
    {
      "cell_type": "markdown",
      "metadata": {
        "id": "4fdc2364"
      },
      "source": [
        "1. Read `n-rows`from X."
      ],
      "id": "4fdc2364"
    },
    {
      "cell_type": "code",
      "execution_count": null,
      "metadata": {
        "colab": {
          "base_uri": "https://localhost:8080/"
        },
        "id": "r367TL-IeTgB",
        "outputId": "aba32eb9-c5cb-4198-9fe6-2b1d7fe86bf5"
      },
      "outputs": [
        {
          "output_type": "stream",
          "name": "stdout",
          "text": [
            "cuda\n"
          ]
        }
      ],
      "source": [
        "if torch.cuda.is_available():\n",
        "  device = torch.device(\"cuda\")\n",
        "else:\n",
        "  device = torch.device(\"cpu\")\n",
        "\n",
        "print(device)"
      ],
      "id": "r367TL-IeTgB"
    },
    {
      "cell_type": "code",
      "execution_count": null,
      "metadata": {
        "id": "27e2352f"
      },
      "outputs": [],
      "source": [
        "X = np.load('X_npy.npy')"
      ],
      "id": "27e2352f"
    },
    {
      "cell_type": "code",
      "execution_count": null,
      "metadata": {
        "id": "PsyUuoBPLir0"
      },
      "outputs": [],
      "source": [
        "X_train_,X_test_,y_train_,y_test_ = train_test_split(X,y_,test_size=0.2,random_state=42)"
      ],
      "id": "PsyUuoBPLir0"
    },
    {
      "cell_type": "code",
      "execution_count": null,
      "metadata": {
        "colab": {
          "base_uri": "https://localhost:8080/"
        },
        "id": "eKWPUYNJJPA6",
        "outputId": "4216616b-7af4-4d2d-f7f0-800f32769451"
      },
      "outputs": [
        {
          "output_type": "execute_result",
          "data": {
            "text/plain": [
              "0"
            ]
          },
          "metadata": {},
          "execution_count": 11
        }
      ],
      "source": [
        "del X,y_\n",
        "gc.collect()"
      ],
      "id": "eKWPUYNJJPA6"
    },
    {
      "cell_type": "code",
      "execution_count": null,
      "metadata": {
        "id": "dr2axO3gX8gV"
      },
      "outputs": [],
      "source": [
        "X_train_, X_val_, y_train_, y_val_ = train_test_split(X_train_,y_train_, test_size = 0.2,random_state=42)"
      ],
      "id": "dr2axO3gX8gV"
    },
    {
      "cell_type": "code",
      "execution_count": null,
      "metadata": {
        "id": "m6MUfvXMLxdU"
      },
      "outputs": [],
      "source": [
        "X_frames = np.load('frames_npy.npy')"
      ],
      "id": "m6MUfvXMLxdU"
    },
    {
      "cell_type": "code",
      "execution_count": null,
      "metadata": {
        "id": "Eokk-SMBLyv1"
      },
      "outputs": [],
      "source": [
        "X_train_f,X_test_f,y_train_f,y_test_f = train_test_split(X_frames,y_frames,test_size=0.2,random_state=42)"
      ],
      "id": "Eokk-SMBLyv1"
    },
    {
      "cell_type": "code",
      "execution_count": null,
      "metadata": {
        "colab": {
          "base_uri": "https://localhost:8080/"
        },
        "id": "g4rrcEI-L7lO",
        "outputId": "77820f94-2101-4311-a13d-202907da80fd"
      },
      "outputs": [
        {
          "output_type": "execute_result",
          "data": {
            "text/plain": [
              "11"
            ]
          },
          "metadata": {},
          "execution_count": 15
        }
      ],
      "source": [
        "del X_frames,y_frames\n",
        "gc.collect()"
      ],
      "id": "g4rrcEI-L7lO"
    },
    {
      "cell_type": "code",
      "execution_count": null,
      "metadata": {
        "id": "J0CTpvPgzB9e"
      },
      "outputs": [],
      "source": [
        "X_train_f, X_val_f, y_train_f, y_val_f = train_test_split(X_train_f,y_train_f, test_size = 0.2,random_state=42)"
      ],
      "id": "J0CTpvPgzB9e"
    },
    {
      "cell_type": "markdown",
      "metadata": {
        "id": "43fc4d4d"
      },
      "source": [
        "Converting X to appropriate Datatype..."
      ],
      "id": "43fc4d4d"
    },
    {
      "cell_type": "code",
      "execution_count": null,
      "metadata": {
        "colab": {
          "base_uri": "https://localhost:8080/"
        },
        "id": "95e21cb9",
        "outputId": "dcfc4885-33d6-43af-80ae-a642d239a1d1"
      },
      "outputs": [
        {
          "output_type": "execute_result",
          "data": {
            "text/plain": [
              "0"
            ]
          },
          "metadata": {},
          "execution_count": 17
        }
      ],
      "source": [
        "X_tensor_train = torch.from_numpy(X_train_)\n",
        "del X_train_\n",
        "gc.collect()\n",
        "X_tensor_test = torch.from_numpy(X_test_)\n",
        "del X_test_\n",
        "gc.collect()\n",
        "X_tensor_val = torch.from_numpy(X_val_)\n",
        "del X_val_\n",
        "gc.collect()\n",
        "\n",
        "y_tensor_train = torch.from_numpy(y_train_)\n",
        "del y_train_\n",
        "gc.collect()\n",
        "y_tensor_test = torch.from_numpy(y_test_)\n",
        "del y_test_\n",
        "gc.collect()\n",
        "y_tensor_val = torch.from_numpy(y_val_)\n",
        "del y_val_\n",
        "gc.collect()"
      ],
      "id": "95e21cb9"
    },
    {
      "cell_type": "code",
      "execution_count": null,
      "metadata": {
        "colab": {
          "base_uri": "https://localhost:8080/"
        },
        "id": "83ce427f",
        "outputId": "d44f2331-b679-4336-bd3b-4ca0de1f73b4"
      },
      "outputs": [
        {
          "output_type": "stream",
          "name": "stderr",
          "text": [
            "<ipython-input-18-3ff54277ee2f>:1: UserWarning: To copy construct from a tensor, it is recommended to use sourceTensor.clone().detach() or sourceTensor.clone().detach().requires_grad_(True), rather than torch.tensor(sourceTensor).\n",
            "  X_tensor_train = torch.tensor(X_tensor_train,dtype = torch.float32)\n",
            "<ipython-input-18-3ff54277ee2f>:2: UserWarning: To copy construct from a tensor, it is recommended to use sourceTensor.clone().detach() or sourceTensor.clone().detach().requires_grad_(True), rather than torch.tensor(sourceTensor).\n",
            "  X_tensor_test = torch.tensor(X_tensor_test,dtype = torch.float32)\n",
            "<ipython-input-18-3ff54277ee2f>:3: UserWarning: To copy construct from a tensor, it is recommended to use sourceTensor.clone().detach() or sourceTensor.clone().detach().requires_grad_(True), rather than torch.tensor(sourceTensor).\n",
            "  X_tensor_val = torch.tensor(X_tensor_val,dtype=torch.float32)\n"
          ]
        }
      ],
      "source": [
        "X_tensor_train = torch.tensor(X_tensor_train,dtype = torch.float32)\n",
        "X_tensor_test = torch.tensor(X_tensor_test,dtype = torch.float32)\n",
        "X_tensor_val = torch.tensor(X_tensor_val,dtype=torch.float32)\n",
        "\n",
        "y_tensor_train = y_tensor_train.type(torch.LongTensor)\n",
        "y_tensor_test = y_tensor_test.type(torch.LongTensor)\n",
        "y_tensor_val = y_tensor_val.type(torch.LongTensor)"
      ],
      "id": "83ce427f"
    },
    {
      "cell_type": "code",
      "execution_count": null,
      "metadata": {
        "colab": {
          "base_uri": "https://localhost:8080/"
        },
        "id": "axPSV66iP70K",
        "outputId": "f149c3f6-35ce-4ec3-c4f8-5a7026797c88"
      },
      "outputs": [
        {
          "output_type": "execute_result",
          "data": {
            "text/plain": [
              "0"
            ]
          },
          "metadata": {},
          "execution_count": 19
        }
      ],
      "source": [
        "X_tensor_train_ = torch.from_numpy(X_train_f)\n",
        "del X_train_f\n",
        "gc.collect()\n",
        "X_tensor_test_ = torch.from_numpy(X_test_f)\n",
        "del X_test_f\n",
        "gc.collect()\n",
        "X_tensor_val_ = torch.from_numpy(X_val_f)\n",
        "del X_val_f\n",
        "gc.collect()\n",
        "\n",
        "y_tensor_train_ = torch.from_numpy(y_train_f)\n",
        "del y_train_f\n",
        "gc.collect()\n",
        "y_tensor_test_ = torch.from_numpy(y_test_f)\n",
        "del y_test_f\n",
        "gc.collect()\n",
        "y_tensor_val_ = torch.from_numpy(y_val_f)\n",
        "del y_val_f\n",
        "gc.collect()"
      ],
      "id": "axPSV66iP70K"
    },
    {
      "cell_type": "code",
      "execution_count": null,
      "metadata": {
        "colab": {
          "base_uri": "https://localhost:8080/"
        },
        "id": "cu02Y4zGP721",
        "outputId": "9d0540c4-dc18-4318-90a2-4166f67e3458"
      },
      "outputs": [
        {
          "output_type": "stream",
          "name": "stderr",
          "text": [
            "<ipython-input-20-daeb6c2c99f4>:1: UserWarning: To copy construct from a tensor, it is recommended to use sourceTensor.clone().detach() or sourceTensor.clone().detach().requires_grad_(True), rather than torch.tensor(sourceTensor).\n",
            "  X_tensor_train_ = torch.tensor(X_tensor_train_,dtype = torch.float32)\n",
            "<ipython-input-20-daeb6c2c99f4>:2: UserWarning: To copy construct from a tensor, it is recommended to use sourceTensor.clone().detach() or sourceTensor.clone().detach().requires_grad_(True), rather than torch.tensor(sourceTensor).\n",
            "  X_tensor_test_ = torch.tensor(X_tensor_test_,dtype = torch.float32)\n",
            "<ipython-input-20-daeb6c2c99f4>:3: UserWarning: To copy construct from a tensor, it is recommended to use sourceTensor.clone().detach() or sourceTensor.clone().detach().requires_grad_(True), rather than torch.tensor(sourceTensor).\n",
            "  X_tensor_val = torch.tensor(X_tensor_val_,dtype=torch.float32)\n"
          ]
        }
      ],
      "source": [
        "X_tensor_train_ = torch.tensor(X_tensor_train_,dtype = torch.float32)\n",
        "X_tensor_test_ = torch.tensor(X_tensor_test_,dtype = torch.float32)\n",
        "X_tensor_val = torch.tensor(X_tensor_val_,dtype=torch.float32)\n",
        "\n",
        "y_tensor_train_ = y_tensor_train_.type(torch.LongTensor)\n",
        "y_tensor_test_ = y_tensor_test_.type(torch.LongTensor)\n",
        "y_tensor_val = y_tensor_val_.type(torch.LongTensor)"
      ],
      "id": "cu02Y4zGP721"
    },
    {
      "cell_type": "code",
      "execution_count": null,
      "metadata": {
        "id": "6YgbQB1WP8Gb"
      },
      "outputs": [],
      "source": [
        "X_tensor_train = torch.cat((X_tensor_train,X_tensor_train_),0)\n",
        "X_tensor_test = torch.cat((X_tensor_test,X_tensor_test_),0)\n",
        "X_tensor_val = torch.cat((X_tensor_val, X_tensor_val_),0)\n",
        "\n",
        "y_tensor_train = torch.cat((y_tensor_train,y_tensor_train_),0)\n",
        "y_tensor_test = torch.cat((y_tensor_test,y_tensor_test_),0)\n",
        "y_tensor_val = torch.cat((y_tensor_val,y_tensor_val_),0)"
      ],
      "id": "6YgbQB1WP8Gb"
    },
    {
      "cell_type": "code",
      "execution_count": null,
      "metadata": {
        "colab": {
          "base_uri": "https://localhost:8080/"
        },
        "id": "w3CAcuLCulnT",
        "outputId": "2683dc18-869c-4c09-bdfc-8933bb00450e"
      },
      "outputs": [
        {
          "output_type": "stream",
          "name": "stdout",
          "text": [
            "training shape X is torch.Size([11102, 1, 224, 224]), validation shape is torch.Size([2352, 1, 224, 224]), test shape X istorch.Size([3470, 1, 224, 224])\n"
          ]
        }
      ],
      "source": [
        "print('training shape X is {}, validation shape is {}, test shape X is{}'.format(X_tensor_train.shape,X_tensor_val.shape,X_tensor_test.shape))"
      ],
      "id": "w3CAcuLCulnT"
    },
    {
      "cell_type": "markdown",
      "source": [
        "To get max value of classN-1"
      ],
      "metadata": {
        "id": "T2DjZNYUrFdA"
      },
      "id": "T2DjZNYUrFdA"
    },
    {
      "cell_type": "code",
      "source": [
        "y_tensor_train = y_tensor_train-1\n",
        "y_tensor_test = y_tensor_test-1\n",
        "y_tensor_val = y_tensor_val-1"
      ],
      "metadata": {
        "id": "eFGPr_GdqDwY"
      },
      "id": "eFGPr_GdqDwY",
      "execution_count": null,
      "outputs": []
    },
    {
      "cell_type": "markdown",
      "metadata": {
        "id": "5379ae48"
      },
      "source": [
        "Setup custom dataset class"
      ],
      "id": "5379ae48"
    },
    {
      "cell_type": "code",
      "execution_count": null,
      "metadata": {
        "id": "76e13d73"
      },
      "outputs": [],
      "source": [
        "class SimpleDataset(Dataset):\n",
        "    def __init__(self, X, y,transform=None):\n",
        "        self.X = X\n",
        "        self.y = y\n",
        "        self.transform = transforms.Compose([transforms.Normalize(torch.mean(X), torch.std(X))])\n",
        "        \n",
        "    def __len__(self):\n",
        "        return len(self.X)\n",
        "    \n",
        "    def __getitem__(self, idx):\n",
        "        X = self.X[idx]\n",
        "        y = self.y[idx]\n",
        "\n",
        "        if self.transform:\n",
        "          X = self.transform(X)\n",
        " \n",
        "        return X, y"
      ],
      "id": "76e13d73"
    },
    {
      "cell_type": "code",
      "execution_count": null,
      "metadata": {
        "id": "af6a5a92"
      },
      "outputs": [],
      "source": [
        "dataset_train = SimpleDataset(X_tensor_train,y_tensor_train,transform=True)\n",
        "dataloader_train = DataLoader(dataset_train, batch_size=32, shuffle=True)\n",
        "\n",
        "dataset_val = SimpleDataset(X_tensor_val,y_tensor_val,transform=True)\n",
        "dataloader_val = DataLoader(dataset_val,batch_size=32)\n",
        "\n",
        "dataset_test = SimpleDataset(X_tensor_test,y_tensor_test,transform=True)\n",
        "dataloader_test = DataLoader(dataset_test, batch_size = 32)#,shuffle=True)\n"
      ],
      "id": "af6a5a92"
    },
    {
      "cell_type": "code",
      "source": [
        "for x,y in dataloader_train:\n",
        "  X,y = X.to(device),y.to(device)\n",
        "  print(torch.mean(X),torch.max(X))"
      ],
      "metadata": {
        "id": "-m8gu1AyVADh"
      },
      "id": "-m8gu1AyVADh",
      "execution_count": null,
      "outputs": []
    },
    {
      "cell_type": "markdown",
      "metadata": {
        "id": "9c4df5ea"
      },
      "source": [
        "Setting up the CNN."
      ],
      "id": "9c4df5ea"
    },
    {
      "cell_type": "code",
      "execution_count": null,
      "metadata": {
        "id": "c5b23ab6"
      },
      "outputs": [],
      "source": [
        "import torch.nn.functional as F\n",
        "\n",
        "class CNN(nn.Module):\n",
        "    def __init__(self):\n",
        "        super(CNN, self).__init__()\n",
        "        self.conv1 = nn.Conv2d(1, 32, 3)\n",
        "        self.batch = nn.BatchNorm1d(394272),\n",
        "        #self.conv2 = nn.Conv2d(32,64,3) #remove layer\n",
        "        self.dropout1 = nn.Dropout(0.25)\n",
        "        self.dropout2 = nn.Dropout(0.25)\n",
        "        self.fc1 = nn.Linear(394272, 128)\n",
        "        #self.fc2 = nn.Linear(128,10)\n",
        "        self.Arousal = nn.Linear(128,10) #3\n",
        "        self.Valence = nn.Linear(128,10)\n",
        "        self.Dominance = nn.Linear(128,10)\n",
        "        self.pool = nn.MaxPool2d(2)\n",
        "        \n",
        "    def forward(self, x):\n",
        "        x = self.conv1(x)\n",
        "        x = self.batch(x)\n",
        "        x = F.relu(x)\n",
        "        #x = self.conv2(x)\n",
        "        #x = F.relu(x)\n",
        "        x = self.pool(x)\n",
        "        x = self.dropout1(x)\n",
        "        x = torch.flatten(x, 1)\n",
        "        x = self.fc1(x)\n",
        "        x = F.relu(x)\n",
        "        x = self.dropout2(x)\n",
        "        #x = self.fc2(x)\n",
        "        Arousal = self.Arousal(x)\n",
        "        Valence = self.Valence(x)\n",
        "        Dominance = self.Dominance(x)\n",
        "        return Arousal, Valence, Dominance \n",
        "#removed "
      ],
      "id": "c5b23ab6"
    },
    {
      "cell_type": "code",
      "execution_count": null,
      "metadata": {
        "colab": {
          "base_uri": "https://localhost:8080/"
        },
        "id": "ad94c3ad",
        "outputId": "a71bb8af-3b39-453e-8068-0740947052a3"
      },
      "outputs": [
        {
          "output_type": "execute_result",
          "data": {
            "text/plain": [
              "CNN(\n",
              "  (conv1): Conv2d(1, 32, kernel_size=(3, 3), stride=(1, 1))\n",
              "  (dropout1): Dropout(p=0.25, inplace=False)\n",
              "  (dropout2): Dropout(p=0.25, inplace=False)\n",
              "  (fc1): Linear(in_features=394272, out_features=128, bias=True)\n",
              "  (Arousal): Linear(in_features=128, out_features=10, bias=True)\n",
              "  (Valence): Linear(in_features=128, out_features=10, bias=True)\n",
              "  (Dominance): Linear(in_features=128, out_features=10, bias=True)\n",
              "  (pool): MaxPool2d(kernel_size=2, stride=2, padding=0, dilation=1, ceil_mode=False)\n",
              ")"
            ]
          },
          "metadata": {},
          "execution_count": 79
        }
      ],
      "source": [
        "SalienceNet = CNN()\n",
        "SalienceNet.to(device)"
      ],
      "id": "ad94c3ad"
    },
    {
      "cell_type": "code",
      "execution_count": null,
      "metadata": {
        "id": "bSEPAmQoJlkq"
      },
      "outputs": [],
      "source": [
        "class ContinuousLoss_L2(nn.Module):\n",
        "  ''' Class to measure loss between continuous emotion dimension predictions and labels. Using l2 loss as base. '''\n",
        "  def __init__(self, margin=1):\n",
        "    super(ContinuousLoss_L2, self).__init__()\n",
        "    self.margin = margin\n",
        "  \n",
        "  def forward(self, pred, target):\n",
        "    labs = torch.abs(pred - target)\n",
        "    loss = labs ** 2 \n",
        "    loss[ (labs < self.margin) ] = 0.0\n",
        "    return loss.sum()"
      ],
      "id": "bSEPAmQoJlkq"
    },
    {
      "cell_type": "code",
      "execution_count": null,
      "metadata": {
        "id": "wpriQW4-Johz"
      },
      "outputs": [],
      "source": [
        "cont_loss = ContinuousLoss_L2()"
      ],
      "id": "wpriQW4-Johz"
    },
    {
      "cell_type": "code",
      "execution_count": null,
      "metadata": {
        "id": "eMAlEzRt0VTw"
      },
      "outputs": [],
      "source": [
        "criterion = nn.CrossEntropyLoss()"
      ],
      "id": "eMAlEzRt0VTw"
    },
    {
      "cell_type": "code",
      "execution_count": null,
      "metadata": {
        "id": "9997283d"
      },
      "outputs": [],
      "source": [
        "from tqdm import tqdm\n",
        "def train(net, loss_fn, dataloader_train,dataloader_val,\n",
        "          epoch=100, learning_rate=0.000001):\n",
        "    optimizer = torch.optim.Adam(net.parameters(), lr=learning_rate,weight_decay=1e-4) # weight decay as a regularization technique to defy overfitting\n",
        "    train_loss = []\n",
        "    val_loss = []\n",
        "    train_accuracy = []\n",
        "    val_accuracy = []\n",
        "    train_epoch_loss = []\n",
        "    val_epoch_loss = []\n",
        "    for i in range(epoch):\n",
        "        train_loop = tqdm(dataloader_train)\n",
        "        val_loop = tqdm(dataloader_val)\n",
        "        total = 0\n",
        "        correct_a,correct_v,correct_d=0,0,0\n",
        "        net.to(device)   \n",
        "        net.train()\n",
        "        for data, label in train_loop:\n",
        "            data, label = data.to(device), label.to(device)\n",
        "            #make prediction\n",
        "            Arousal,Valence,Dominance = net(data.float())\n",
        "\n",
        "            _a, y_pred_train_arousal = torch.max(Arousal,1)\n",
        "            _v, y_pred_train_valence = torch.max(Valence,1)\n",
        "            _d, y_pred_train_dominance = torch.max(Dominance,1)\n",
        "\n",
        "            total += label[:,0].size(0)+label[:,1].size(0)+label[:,2].size(0)\n",
        "\n",
        "            correct_a += (y_pred_train_arousal == label[:,0]).sum().item()\n",
        "            correct_v += (y_pred_train_valence == label[:,1]).sum().item()\n",
        "            correct_d += (y_pred_train_dominance == label[:,2]).sum().item()\n",
        "           \n",
        "            sum_correct = (correct_a+correct_v+correct_d)\n",
        "            # Zero out the gradients\n",
        "            optimizer.zero_grad()\n",
        "\n",
        "            # Calculate loss.\n",
        "            #loss = loss_fn(output,label)#torch.max(label.long(), 1)[0])\n",
        "            loss_arousal = loss_fn(Arousal,label[:,0])\n",
        "            loss_valence = loss_fn(Valence,label[:,1])\n",
        "            loss_dominance = loss_fn(Dominance,label[:,2])\n",
        "            loss=loss_arousal+loss_valence+loss_dominance\n",
        "\n",
        "      \n",
        "            # Backpropagation and gradient update.\n",
        "            loss.backward()# Calculate gradients. #retrain_graph=True\n",
        "\n",
        "            optimizer.step() # Apply gradient update\n",
        "            \n",
        "            train_loss.append(loss.item())\n",
        "            train_loop.set_description(f\"Epoch [{i+1}/{epoch}]\")\n",
        "\n",
        "        train_accuracy.append(sum_correct/total)\n",
        "        train_epoch_loss.append((np.array(train_loss).mean()))\n",
        "\n",
        "        #validation\n",
        "        net.eval()\n",
        "        val_total = 0\n",
        "        val_arousal,val_valence, val_dominance = 0,0,0\n",
        "        for data, labels in dataloader_val:\n",
        "            data, labels = data.to(device), labels.to(device)\n",
        "\n",
        "            Arousal_v,Valence_v,Dominance_v = net(data.float())\n",
        "\n",
        "            _a, y_pred_val_arousal = torch.max(Arousal_v,1)\n",
        "            _v, y_pred_val_valence = torch.max(Valence_v,1)\n",
        "            _d, y_pred_val_dominance = torch.max(Dominance_v,1)\n",
        "\n",
        "            val_total += labels[:,0].size(0)+labels[:,1].size(0)+labels[:,2].size(0)\n",
        "\n",
        "            val_arousal += (y_pred_val_arousal == labels[:,0]).sum().item()\n",
        "            val_valence += (y_pred_val_valence == labels[:,1]).sum().item()\n",
        "            val_dominance += (y_pred_val_dominance == labels[:,2]).sum().item()\n",
        "           \n",
        "            sum_correct_val = (val_arousal+val_valence+val_dominance)\n",
        "          \n",
        "            loss_arousal_v = loss_fn(Arousal_v,labels[:,0])\n",
        "            loss_valence_v = loss_fn(Valence_v,labels[:,1])\n",
        "            loss_dominance_v = loss_fn(Dominance_v,labels[:,2])\n",
        "\n",
        "            val_l=loss_arousal_v+loss_valence_v+loss_dominance_v\n",
        "        \n",
        "            val_loss.append(val_l.item())\n",
        "\n",
        "        val_epoch_loss.append((np.array(val_loss).mean()))\n",
        "\n",
        "        val_accuracy.append(sum_correct_val/val_total)\n",
        "\n",
        "\n",
        "    return train_loss,train_epoch_loss,val_loss,val_epoch_loss, train_accuracy,val_accuracy\n"
      ],
      "id": "9997283d"
    },
    {
      "cell_type": "code",
      "execution_count": null,
      "metadata": {
        "id": "JvEWX6FyZGIk"
      },
      "outputs": [],
      "source": [
        "def test(net,loss_fn,dataloader_test):\n",
        "  net.eval()\n",
        "  test_loss = []\n",
        "  test_total,test_correct = 0,0\n",
        "  test_acc = []\n",
        "  test_loop = tqdm(dataloader_test)\n",
        "  i=0\n",
        "  for batch, (data, labels) in enumerate(test_loop):\n",
        "      print('testing...')\n",
        "\n",
        "      data, labels = data.to(device), labels.to(device)\n",
        "      arousal,valence,dominance = net(data.float())\n",
        "\n",
        "      arousal_t = loss_fn(arousal,labels[:,0])\n",
        "      valence_t = loss_fn(valence,labels[:,1])\n",
        "      dominance_t = loss_fn(dominance,labels[:,2])\n",
        "\n",
        "      test_l = arousal_t+valence_t+dominance_t\n",
        "\n",
        "      test_loss.append(test_l.item())\n",
        "      test_loop.set_description(f\"Batch [{i+1}/{batch}]\")\n",
        "      i=+1\n",
        "\n",
        "        #test_total += labels.size(0)\n",
        "        #test_correct += (y_pred_test==torch.max(labels,1)[0]).sum().item()\n",
        "        \n",
        "    #test_acc.append(test_correct/test_total)\n",
        "    #y_pred_test = torch.softmax(outputs,dim=1).argmax(dim=1)\n",
        "\n",
        "   # print('test acc is {}'.format(test_acc)\n",
        "  return test_loss"
      ],
      "id": "JvEWX6FyZGIk"
    },
    {
      "cell_type": "code",
      "execution_count": null,
      "metadata": {
        "colab": {
          "base_uri": "https://localhost:8080/",
          "height": 35
        },
        "id": "yDqIlocyWRYY",
        "outputId": "280ea8e3-d0da-42cd-e0f1-3f9c3fdd0603"
      },
      "outputs": [
        {
          "output_type": "execute_result",
          "data": {
            "text/plain": [
              "'Tesla T4'"
            ],
            "application/vnd.google.colaboratory.intrinsic+json": {
              "type": "string"
            }
          },
          "metadata": {},
          "execution_count": 83
        }
      ],
      "source": [
        "torch.cuda.get_device_name(0)"
      ],
      "id": "yDqIlocyWRYY"
    },
    {
      "cell_type": "code",
      "execution_count": null,
      "metadata": {
        "id": "7e318c98"
      },
      "outputs": [],
      "source": [
        "import matplotlib.pyplot as plt"
      ],
      "id": "7e318c98"
    },
    {
      "cell_type": "code",
      "execution_count": null,
      "metadata": {
        "colab": {
          "base_uri": "https://localhost:8080/",
          "height": 17
        },
        "id": "kGxhNDnUbZMD",
        "outputId": "d9587131-e560-4bcd-8af2-4cc81dab1898"
      },
      "outputs": [
        {
          "output_type": "display_data",
          "data": {
            "text/plain": [
              "<IPython.core.display.Javascript object>"
            ],
            "application/javascript": [
              "google.colab.output.setIframeHeight(0, true, {maxHeight: 300})"
            ]
          },
          "metadata": {}
        }
      ],
      "source": [
        "from IPython.display import Javascript\n",
        "\n",
        "display(Javascript('''google.colab.output.setIframeHeight(0, true, {maxHeight: 300})''')) "
      ],
      "id": "kGxhNDnUbZMD"
    },
    {
      "cell_type": "code",
      "execution_count": null,
      "metadata": {
        "colab": {
          "base_uri": "https://localhost:8080/"
        },
        "id": "c5ddd06d",
        "outputId": "a23e4c21-c182-4422-bd6e-4266bcf05b8e"
      },
      "outputs": [
        {
          "output_type": "stream",
          "name": "stderr",
          "text": [
            "  0%|          | 0/347 [00:00<?, ?it/s]\n",
            "Epoch [1/15]: 100%|██████████| 347/347 [00:18<00:00, 18.72it/s]\n",
            "  0%|          | 0/347 [00:00<?, ?it/s]\n",
            "\n",
            "  0%|          | 0/74 [00:20<?, ?it/s]\n",
            "Epoch [2/15]: 100%|██████████| 347/347 [00:18<00:00, 18.82it/s]\n",
            "  0%|          | 0/347 [00:00<?, ?it/s]\n",
            "  0%|          | 0/74 [00:19<?, ?it/s]\n",
            "Epoch [3/15]: 100%|██████████| 347/347 [00:18<00:00, 18.84it/s]\n",
            "  0%|          | 0/347 [00:00<?, ?it/s]\n",
            "\n",
            "  0%|          | 0/74 [00:20<?, ?it/s]\n",
            "Epoch [4/15]: 100%|██████████| 347/347 [00:18<00:00, 18.80it/s]\n",
            "  0%|          | 0/347 [00:00<?, ?it/s]\n",
            "  0%|          | 0/74 [00:19<?, ?it/s]\n",
            "Epoch [5/15]: 100%|██████████| 347/347 [00:18<00:00, 18.89it/s]\n",
            "  0%|          | 0/347 [00:00<?, ?it/s]\n",
            "\n",
            "  0%|          | 0/74 [00:19<?, ?it/s]\n",
            "Epoch [6/15]: 100%|██████████| 347/347 [00:18<00:00, 18.77it/s]\n",
            "  0%|          | 0/347 [00:00<?, ?it/s]\n",
            "  0%|          | 0/74 [00:19<?, ?it/s]\n",
            "Epoch [7/15]: 100%|██████████| 347/347 [00:18<00:00, 18.87it/s]\n",
            "  0%|          | 0/347 [00:00<?, ?it/s]\n",
            "\n",
            "  0%|          | 0/74 [00:19<?, ?it/s]\n",
            "Epoch [8/15]: 100%|██████████| 347/347 [00:18<00:00, 18.81it/s]\n",
            "  0%|          | 0/347 [00:00<?, ?it/s]\n",
            "  0%|          | 0/74 [00:19<?, ?it/s]\n",
            "Epoch [9/15]: 100%|██████████| 347/347 [00:18<00:00, 18.70it/s]\n",
            "  0%|          | 0/347 [00:00<?, ?it/s]\n",
            "\n",
            "  0%|          | 0/74 [00:20<?, ?it/s]\n",
            "Epoch [10/15]: 100%|██████████| 347/347 [00:21<00:00, 16.38it/s]\n",
            "  0%|          | 0/347 [00:00<?, ?it/s]\n",
            "  0%|          | 0/74 [00:22<?, ?it/s]\n",
            "Epoch [11/15]: 100%|██████████| 347/347 [00:18<00:00, 18.91it/s]\n",
            "  0%|          | 0/347 [00:00<?, ?it/s]\n",
            "\n",
            "  0%|          | 0/74 [00:19<?, ?it/s]\n",
            "Epoch [12/15]: 100%|██████████| 347/347 [00:21<00:00, 16.19it/s]\n",
            "  0%|          | 0/347 [00:00<?, ?it/s]\n",
            "  0%|          | 0/74 [00:23<?, ?it/s]\n",
            "Epoch [13/15]: 100%|██████████| 347/347 [00:22<00:00, 15.53it/s]\n",
            "  0%|          | 0/347 [00:00<?, ?it/s]\n",
            "\n",
            "  0%|          | 0/74 [00:23<?, ?it/s]\n",
            "Epoch [14/15]: 100%|██████████| 347/347 [00:20<00:00, 16.89it/s]\n",
            "  0%|          | 0/347 [00:00<?, ?it/s]\n",
            "  0%|          | 0/74 [00:23<?, ?it/s]\n",
            "Epoch [15/15]: 100%|██████████| 347/347 [00:19<00:00, 17.53it/s]\n",
            "  0%|          | 0/74 [00:21<?, ?it/s]\n"
          ]
        }
      ],
      "source": [
        "np.random.seed(1)\n",
        "torch.manual_seed(1)\n",
        "\n",
        "train_loss,train_epoch_loss,val_loss,val_epoch_loss,train_acc,val_acc=train(net=SalienceNet,loss_fn=criterion,dataloader_train=dataloader_train,\n",
        "                  dataloader_val=dataloader_val,epoch=15)\n",
        "\n",
        "\n"
      ],
      "id": "c5ddd06d"
    },
    {
      "cell_type": "code",
      "execution_count": null,
      "metadata": {
        "colab": {
          "base_uri": "https://localhost:8080/",
          "height": 472
        },
        "id": "fk-6haR7G5-q",
        "outputId": "978c8815-5d33-46c5-9c22-224ef7bfd3bb"
      },
      "outputs": [
        {
          "output_type": "display_data",
          "data": {
            "text/plain": [
              "<Figure size 640x480 with 1 Axes>"
            ],
            "image/png": "[encoded data removed]"
          },
          "metadata": {}
        }
      ],
      "source": [
        "plt.plot(train_epoch_loss, label = 'train loss')\n",
        "plt.plot(val_epoch_loss, label = 'validation loss')\n",
        "plt.xlabel('Epoch')\n",
        "plt.ylabel('Loss')\n",
        "plt.title('loss per epoch')\n",
        "plt.legend()\n",
        "plt.show()"
      ],
      "id": "fk-6haR7G5-q"
    },
    {
      "cell_type": "code",
      "source": [
        "plt.plot(train_acc, label = 'train acc')\n",
        "plt.plot(val_acc, label = 'validation acc')\n",
        "plt.xlabel('Epoch')\n",
        "plt.ylabel('Accuracy')\n",
        "plt.title('Accuracy per epoch')\n",
        "plt.legend()\n",
        "plt.show()"
      ],
      "metadata": {
        "colab": {
          "base_uri": "https://localhost:8080/",
          "height": 472
        },
        "id": "s9cEBXo1dJNj",
        "outputId": "435bc581-b901-44f3-8d5e-31f3116c6d73"
      },
      "id": "s9cEBXo1dJNj",
      "execution_count": null,
      "outputs": [
        {
          "output_type": "display_data",
          "data": {
            "text/plain": [
              "<Figure size 640x480 with 1 Axes>"
            ],
            "image/png": "[encoded data removed]"
          },
          "metadata": {}
        }
      ]
    },
    {
      "cell_type": "code",
      "source": [
        "test_loss = test(net=SalienceNet,loss_fn=criterion,dataloader_test=dataloader_test)"
      ],
      "metadata": {
        "id": "DaXL76FBu8aa"
      },
      "id": "DaXL76FBu8aa",
      "execution_count": null,
      "outputs": []
    },
    {
      "cell_type": "code",
      "execution_count": null,
      "metadata": {
        "id": "dtd4ymkVafCh"
      },
      "outputs": [],
      "source": [
        "plt.plot(test_loss)\n",
        "plt.xlabel('Iterations of gradient descent')\n",
        "plt.ylabel('Loss')\n",
        "plt.title('Loss for test data')\n",
        "plt.show()"
      ],
      "id": "dtd4ymkVafCh"
    }
  ],
  "metadata": {
    "accelerator": "GPU",
    "colab": {
      "provenance": [],
      "include_colab_link": true
    },
    "gpuClass": "standard",
    "kernelspec": {
      "display_name": "YOLO",
      "language": "python",
      "name": "yolo"
    },
    "language_info": {
      "codemirror_mode": {
        "name": "ipython",
        "version": 3
      },
      "file_extension": ".py",
      "mimetype": "text/x-python",
      "name": "python",
      "nbconvert_exporter": "python",
      "pygments_lexer": "ipython3",
      "version": "3.10.9"
    }
  },
  "nbformat": 4,
  "nbformat_minor": 5
}