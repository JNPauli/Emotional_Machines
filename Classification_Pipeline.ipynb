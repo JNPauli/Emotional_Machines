{
  "cells": [
    {
      "cell_type": "markdown",
      "metadata": {
        "id": "view-in-github",
        "colab_type": "text"
      },
      "source": [
        "<a href=\"https://colab.research.google.com/github/JNPauli/Protect_app_master_thesis/blob/main/Classification_Pipeline.ipynb\" target=\"_parent\"><img src=\"https://colab.research.google.com/assets/colab-badge.svg\" alt=\"Open In Colab\"/></a>"
      ]
    },
    {
      "cell_type": "markdown",
      "metadata": {
        "id": "f3485813"
      },
      "source": [
        "0. This notebook is the continuation to the preprocessing.ipynb notebook."
      ],
      "id": "f3485813"
    },
    {
      "cell_type": "markdown",
      "metadata": {
        "id": "b60fcc27"
      },
      "source": [
        "1. Import all neccessary modules "
      ],
      "id": "b60fcc27"
    },
    {
      "cell_type": "code",
      "execution_count": 1,
      "metadata": {
        "id": "73af1d9d"
      },
      "outputs": [],
      "source": [
        "import os\n",
        "import pandas as pd\n",
        "import numpy as np\n",
        "from sklearn.model_selection import train_test_split\n",
        "import gc"
      ],
      "id": "73af1d9d"
    },
    {
      "cell_type": "code",
      "execution_count": 2,
      "metadata": {
        "colab": {
          "base_uri": "https://localhost:8080/"
        },
        "id": "xwWpOPN-SkYk",
        "outputId": "4239742d-9b32-4181-9ec5-70ea7fe00c3f"
      },
      "outputs": [
        {
          "output_type": "stream",
          "name": "stdout",
          "text": [
            "Mounted at /content/drive\n"
          ]
        }
      ],
      "source": [
        "from google.colab import drive\n",
        "drive.mount('/content/drive')"
      ],
      "id": "xwWpOPN-SkYk"
    },
    {
      "cell_type": "markdown",
      "metadata": {
        "id": "0bab0d03"
      },
      "source": [
        "2. Import X and y"
      ],
      "id": "0bab0d03"
    },
    {
      "cell_type": "code",
      "execution_count": 3,
      "metadata": {
        "id": "0e61570a"
      },
      "outputs": [],
      "source": [
        "import torchvision\n",
        "from torchvision import transforms\n",
        "import torch\n",
        "import torch.nn as nn\n",
        "from torch.utils.data import Dataset, DataLoader\n",
        "from PIL import Image"
      ],
      "id": "0e61570a"
    },
    {
      "cell_type": "code",
      "execution_count": 4,
      "metadata": {
        "id": "Q822x4HZTzzr"
      },
      "outputs": [],
      "source": [
        "os.chdir('/content/drive/MyDrive/Thesis')"
      ],
      "id": "Q822x4HZTzzr"
    },
    {
      "cell_type": "code",
      "execution_count": 5,
      "metadata": {
        "id": "99428f03"
      },
      "outputs": [],
      "source": [
        "y = np.load('train_con.npy')"
      ],
      "id": "99428f03"
    },
    {
      "cell_type": "code",
      "execution_count": 6,
      "metadata": {
        "id": "986e4ca0"
      },
      "outputs": [],
      "source": [
        "y_ = y[0:10000]\n",
        "y_frames = y[14276:]"
      ],
      "id": "986e4ca0"
    },
    {
      "cell_type": "code",
      "execution_count": 7,
      "metadata": {
        "id": "hkGr-adRJKPY"
      },
      "outputs": [],
      "source": [
        "y_all = np.concatenate((y_,y_frames))"
      ],
      "id": "hkGr-adRJKPY"
    },
    {
      "cell_type": "markdown",
      "metadata": {
        "id": "daf7012a"
      },
      "source": [
        "NEW APPROACH:\n",
        "\n",
        "Fit CNN on X"
      ],
      "id": "daf7012a"
    },
    {
      "cell_type": "markdown",
      "metadata": {
        "id": "4fdc2364"
      },
      "source": [
        "1. Read `n-rows`from X."
      ],
      "id": "4fdc2364"
    },
    {
      "cell_type": "code",
      "execution_count": 8,
      "metadata": {
        "colab": {
          "base_uri": "https://localhost:8080/"
        },
        "id": "r367TL-IeTgB",
        "outputId": "6feecb71-12dc-4e9b-8df0-4e39b4738a0c"
      },
      "outputs": [
        {
          "output_type": "stream",
          "name": "stdout",
          "text": [
            "cuda\n"
          ]
        }
      ],
      "source": [
        "if torch.cuda.is_available():\n",
        "  device = torch.device(\"cuda\")\n",
        "else:\n",
        "  device = torch.device(\"cpu\")\n",
        "\n",
        "print(device)"
      ],
      "id": "r367TL-IeTgB"
    },
    {
      "cell_type": "code",
      "execution_count": 9,
      "metadata": {
        "id": "27e2352f"
      },
      "outputs": [],
      "source": [
        "X = np.load('X_npy.npy')"
      ],
      "id": "27e2352f"
    },
    {
      "cell_type": "code",
      "source": [
        "np.mean(X),np.std(X),np.min(X),np.max(X)"
      ],
      "metadata": {
        "colab": {
          "base_uri": "https://localhost:8080/"
        },
        "id": "gdJ0H5kASYhO",
        "outputId": "cc7c4b3c-fb84-4008-c5a1-a138dff74c7b"
      },
      "id": "gdJ0H5kASYhO",
      "execution_count": 10,
      "outputs": [
        {
          "output_type": "execute_result",
          "data": {
            "text/plain": [
              "(0.05043895889652882, 0.055531537078160255, 0.0, 1.0)"
            ]
          },
          "metadata": {},
          "execution_count": 10
        }
      ]
    },
    {
      "cell_type": "code",
      "execution_count": 12,
      "metadata": {
        "id": "PsyUuoBPLir0"
      },
      "outputs": [],
      "source": [
        "X_train_,X_test_,y_train_,y_test_ = train_test_split(X,y_,test_size=0.2,random_state=42)"
      ],
      "id": "PsyUuoBPLir0"
    },
    {
      "cell_type": "code",
      "execution_count": 13,
      "metadata": {
        "id": "eKWPUYNJJPA6",
        "colab": {
          "base_uri": "https://localhost:8080/"
        },
        "outputId": "d97d11ce-53e2-4aa7-f3e4-c092cc2b02bd"
      },
      "outputs": [
        {
          "output_type": "execute_result",
          "data": {
            "text/plain": [
              "0"
            ]
          },
          "metadata": {},
          "execution_count": 13
        }
      ],
      "source": [
        "del X,y_\n",
        "gc.collect()"
      ],
      "id": "eKWPUYNJJPA6"
    },
    {
      "cell_type": "code",
      "execution_count": 14,
      "metadata": {
        "id": "dr2axO3gX8gV"
      },
      "outputs": [],
      "source": [
        "X_train_, X_val_, y_train_, y_val_ = train_test_split(X_train_,y_train_, test_size = 0.2,random_state=42)"
      ],
      "id": "dr2axO3gX8gV"
    },
    {
      "cell_type": "code",
      "execution_count": 15,
      "metadata": {
        "id": "m6MUfvXMLxdU"
      },
      "outputs": [],
      "source": [
        "X_frames = np.load('frames_npy.npy')"
      ],
      "id": "m6MUfvXMLxdU"
    },
    {
      "cell_type": "code",
      "execution_count": 16,
      "metadata": {
        "id": "Eokk-SMBLyv1"
      },
      "outputs": [],
      "source": [
        "X_train_f,X_test_f,y_train_f,y_test_f = train_test_split(X_frames,y_frames,test_size=0.2,random_state=42)"
      ],
      "id": "Eokk-SMBLyv1"
    },
    {
      "cell_type": "code",
      "execution_count": 17,
      "metadata": {
        "id": "g4rrcEI-L7lO",
        "colab": {
          "base_uri": "https://localhost:8080/"
        },
        "outputId": "aa24dc96-4dd2-4b55-c442-7af5493a4180"
      },
      "outputs": [
        {
          "output_type": "execute_result",
          "data": {
            "text/plain": [
              "11"
            ]
          },
          "metadata": {},
          "execution_count": 17
        }
      ],
      "source": [
        "del X_frames,y_frames\n",
        "gc.collect()"
      ],
      "id": "g4rrcEI-L7lO"
    },
    {
      "cell_type": "code",
      "execution_count": 18,
      "metadata": {
        "id": "J0CTpvPgzB9e"
      },
      "outputs": [],
      "source": [
        "X_train_f, X_val_f, y_train_f, y_val_f = train_test_split(X_train_f,y_train_f, test_size = 0.2,random_state=42)"
      ],
      "id": "J0CTpvPgzB9e"
    },
    {
      "cell_type": "markdown",
      "metadata": {
        "id": "43fc4d4d"
      },
      "source": [
        "Converting X to appropriate Datatype..."
      ],
      "id": "43fc4d4d"
    },
    {
      "cell_type": "code",
      "execution_count": 19,
      "metadata": {
        "id": "95e21cb9",
        "colab": {
          "base_uri": "https://localhost:8080/"
        },
        "outputId": "a3e68bf0-745b-4614-ff2c-752cba2aff57"
      },
      "outputs": [
        {
          "output_type": "execute_result",
          "data": {
            "text/plain": [
              "0"
            ]
          },
          "metadata": {},
          "execution_count": 19
        }
      ],
      "source": [
        "X_tensor_train = torch.from_numpy(X_train_)\n",
        "del X_train_\n",
        "gc.collect()\n",
        "X_tensor_test = torch.from_numpy(X_test_)\n",
        "del X_test_\n",
        "gc.collect()\n",
        "X_tensor_val = torch.from_numpy(X_val_)\n",
        "del X_val_\n",
        "gc.collect()\n",
        "\n",
        "y_tensor_train = torch.from_numpy(y_train_)\n",
        "del y_train_\n",
        "gc.collect()\n",
        "y_tensor_test = torch.from_numpy(y_test_)\n",
        "del y_test_\n",
        "gc.collect()\n",
        "y_tensor_val = torch.from_numpy(y_val_)\n",
        "del y_val_\n",
        "gc.collect()"
      ],
      "id": "95e21cb9"
    },
    {
      "cell_type": "code",
      "execution_count": 20,
      "metadata": {
        "id": "83ce427f",
        "colab": {
          "base_uri": "https://localhost:8080/"
        },
        "outputId": "7508ac1c-f1e1-4b43-ffd2-bafd0d7f3eb3"
      },
      "outputs": [
        {
          "output_type": "stream",
          "name": "stderr",
          "text": [
            "<ipython-input-20-3ff54277ee2f>:1: UserWarning: To copy construct from a tensor, it is recommended to use sourceTensor.clone().detach() or sourceTensor.clone().detach().requires_grad_(True), rather than torch.tensor(sourceTensor).\n",
            "  X_tensor_train = torch.tensor(X_tensor_train,dtype = torch.float32)\n",
            "<ipython-input-20-3ff54277ee2f>:2: UserWarning: To copy construct from a tensor, it is recommended to use sourceTensor.clone().detach() or sourceTensor.clone().detach().requires_grad_(True), rather than torch.tensor(sourceTensor).\n",
            "  X_tensor_test = torch.tensor(X_tensor_test,dtype = torch.float32)\n",
            "<ipython-input-20-3ff54277ee2f>:3: UserWarning: To copy construct from a tensor, it is recommended to use sourceTensor.clone().detach() or sourceTensor.clone().detach().requires_grad_(True), rather than torch.tensor(sourceTensor).\n",
            "  X_tensor_val = torch.tensor(X_tensor_val,dtype=torch.float32)\n"
          ]
        }
      ],
      "source": [
        "X_tensor_train = torch.tensor(X_tensor_train,dtype = torch.float32)\n",
        "X_tensor_test = torch.tensor(X_tensor_test,dtype = torch.float32)\n",
        "X_tensor_val = torch.tensor(X_tensor_val,dtype=torch.float32)\n",
        "\n",
        "y_tensor_train = y_tensor_train.type(torch.LongTensor)\n",
        "y_tensor_test = y_tensor_test.type(torch.LongTensor)\n",
        "y_tensor_val = y_tensor_val.type(torch.LongTensor)"
      ],
      "id": "83ce427f"
    },
    {
      "cell_type": "code",
      "execution_count": 21,
      "metadata": {
        "id": "axPSV66iP70K",
        "colab": {
          "base_uri": "https://localhost:8080/"
        },
        "outputId": "090b6784-e868-4e57-80a9-9adc60346a09"
      },
      "outputs": [
        {
          "output_type": "execute_result",
          "data": {
            "text/plain": [
              "0"
            ]
          },
          "metadata": {},
          "execution_count": 21
        }
      ],
      "source": [
        "X_tensor_train_ = torch.from_numpy(X_train_f)\n",
        "del X_train_f\n",
        "gc.collect()\n",
        "X_tensor_test_ = torch.from_numpy(X_test_f)\n",
        "del X_test_f\n",
        "gc.collect()\n",
        "X_tensor_val_ = torch.from_numpy(X_val_f)\n",
        "del X_val_f\n",
        "gc.collect()\n",
        "\n",
        "y_tensor_train_ = torch.from_numpy(y_train_f)\n",
        "del y_train_f\n",
        "gc.collect()\n",
        "y_tensor_test_ = torch.from_numpy(y_test_f)\n",
        "del y_test_f\n",
        "gc.collect()\n",
        "y_tensor_val_ = torch.from_numpy(y_val_f)\n",
        "del y_val_f\n",
        "gc.collect()"
      ],
      "id": "axPSV66iP70K"
    },
    {
      "cell_type": "code",
      "execution_count": 22,
      "metadata": {
        "id": "cu02Y4zGP721",
        "colab": {
          "base_uri": "https://localhost:8080/"
        },
        "outputId": "18b6a0a0-6ed9-4f99-d2e7-0cc7ba3138a7"
      },
      "outputs": [
        {
          "output_type": "stream",
          "name": "stderr",
          "text": [
            "<ipython-input-22-daeb6c2c99f4>:1: UserWarning: To copy construct from a tensor, it is recommended to use sourceTensor.clone().detach() or sourceTensor.clone().detach().requires_grad_(True), rather than torch.tensor(sourceTensor).\n",
            "  X_tensor_train_ = torch.tensor(X_tensor_train_,dtype = torch.float32)\n",
            "<ipython-input-22-daeb6c2c99f4>:2: UserWarning: To copy construct from a tensor, it is recommended to use sourceTensor.clone().detach() or sourceTensor.clone().detach().requires_grad_(True), rather than torch.tensor(sourceTensor).\n",
            "  X_tensor_test_ = torch.tensor(X_tensor_test_,dtype = torch.float32)\n",
            "<ipython-input-22-daeb6c2c99f4>:3: UserWarning: To copy construct from a tensor, it is recommended to use sourceTensor.clone().detach() or sourceTensor.clone().detach().requires_grad_(True), rather than torch.tensor(sourceTensor).\n",
            "  X_tensor_val = torch.tensor(X_tensor_val_,dtype=torch.float32)\n"
          ]
        }
      ],
      "source": [
        "X_tensor_train_ = torch.tensor(X_tensor_train_,dtype = torch.float32)\n",
        "X_tensor_test_ = torch.tensor(X_tensor_test_,dtype = torch.float32)\n",
        "X_tensor_val = torch.tensor(X_tensor_val_,dtype=torch.float32)\n",
        "\n",
        "y_tensor_train_ = y_tensor_train_.type(torch.LongTensor)\n",
        "y_tensor_test_ = y_tensor_test_.type(torch.LongTensor)\n",
        "y_tensor_val = y_tensor_val_.type(torch.LongTensor)"
      ],
      "id": "cu02Y4zGP721"
    },
    {
      "cell_type": "code",
      "execution_count": 23,
      "metadata": {
        "id": "6YgbQB1WP8Gb"
      },
      "outputs": [],
      "source": [
        "X_tensor_train = torch.cat((X_tensor_train,X_tensor_train_),0)\n",
        "X_tensor_test = torch.cat((X_tensor_test,X_tensor_test_),0)\n",
        "X_tensor_val = torch.cat((X_tensor_val, X_tensor_val_),0)\n",
        "\n",
        "y_tensor_train = torch.cat((y_tensor_train,y_tensor_train_),0)\n",
        "y_tensor_test = torch.cat((y_tensor_test,y_tensor_test_),0)\n",
        "y_tensor_val = torch.cat((y_tensor_val,y_tensor_val_),0)"
      ],
      "id": "6YgbQB1WP8Gb"
    },
    {
      "cell_type": "code",
      "source": [
        "X_tensor_train = X_tensor_train.expand(-1, 3, -1, -1)\n",
        "X_tensor_test = X_tensor_test.expand(-1, 3, -1, -1)\n",
        "X_tensor_val = X_tensor_val.expand(-1, 3, -1, -1)"
      ],
      "metadata": {
        "id": "u3hCi32Xe9YL"
      },
      "id": "u3hCi32Xe9YL",
      "execution_count": 24,
      "outputs": []
    },
    {
      "cell_type": "code",
      "execution_count": 25,
      "metadata": {
        "id": "w3CAcuLCulnT",
        "colab": {
          "base_uri": "https://localhost:8080/"
        },
        "outputId": "8c2f3735-bda0-4b35-fedc-d1bb1223a2ba"
      },
      "outputs": [
        {
          "output_type": "stream",
          "name": "stdout",
          "text": [
            "training shape X is torch.Size([11102, 3, 224, 224]), validation shape is torch.Size([2352, 3, 224, 224]), test shape X istorch.Size([3470, 3, 224, 224])\n"
          ]
        }
      ],
      "source": [
        "print('training shape X is {}, validation shape is {}, test shape X is{}'.format(X_tensor_train.shape,X_tensor_val.shape,X_tensor_test.shape))"
      ],
      "id": "w3CAcuLCulnT"
    },
    {
      "cell_type": "markdown",
      "source": [
        "To get max value of classN-1"
      ],
      "metadata": {
        "id": "T2DjZNYUrFdA"
      },
      "id": "T2DjZNYUrFdA"
    },
    {
      "cell_type": "code",
      "source": [
        "y_tensor_train = y_tensor_train-1\n",
        "y_tensor_test = y_tensor_test-1\n",
        "y_tensor_val = y_tensor_val-1"
      ],
      "metadata": {
        "id": "eFGPr_GdqDwY"
      },
      "id": "eFGPr_GdqDwY",
      "execution_count": 26,
      "outputs": []
    },
    {
      "cell_type": "markdown",
      "metadata": {
        "id": "5379ae48"
      },
      "source": [
        "Setup custom dataset class"
      ],
      "id": "5379ae48"
    },
    {
      "cell_type": "code",
      "execution_count": 27,
      "metadata": {
        "id": "76e13d73"
      },
      "outputs": [],
      "source": [
        "class SimpleDataset(Dataset):\n",
        "    def __init__(self, X, y,transform=None):\n",
        "        self.X = X\n",
        "        self.y = y\n",
        "        self.transform = transforms.Compose([transforms.Normalize(torch.mean(X), torch.std(X))])\n",
        "        \n",
        "    def __len__(self):\n",
        "        return len(self.X)\n",
        "    \n",
        "    def __getitem__(self, idx):\n",
        "        X = self.X[idx]\n",
        "        y = self.y[idx]\n",
        "\n",
        "        if self.transform:\n",
        "          X = self.transform(X)\n",
        " \n",
        "        return X, y"
      ],
      "id": "76e13d73"
    },
    {
      "cell_type": "code",
      "execution_count": 28,
      "metadata": {
        "id": "af6a5a92"
      },
      "outputs": [],
      "source": [
        "dataset_train = SimpleDataset(X_tensor_train,y_tensor_train,transform=True)\n",
        "dataloader_train = DataLoader(dataset_train, batch_size=32, shuffle=True) \n",
        "\n",
        "dataset_val = SimpleDataset(X_tensor_val,y_tensor_val,transform=True)\n",
        "dataloader_val = DataLoader(dataset_val,batch_size=32)\n",
        "\n",
        "dataset_test = SimpleDataset(X_tensor_test,y_tensor_test,transform=True)\n",
        "dataloader_test = DataLoader(dataset_test, batch_size = 32)#,shuffle=True)\n"
      ],
      "id": "af6a5a92"
    },
    {
      "cell_type": "markdown",
      "metadata": {
        "id": "9c4df5ea"
      },
      "source": [
        "Setting up the CNN."
      ],
      "id": "9c4df5ea"
    },
    {
      "cell_type": "code",
      "execution_count": 41,
      "metadata": {
        "id": "c5b23ab6"
      },
      "outputs": [],
      "source": [
        "import torch.nn.functional as F\n",
        "\n",
        "class CNN(nn.Module):\n",
        "    def __init__(self):\n",
        "        super(CNN, self).__init__()\n",
        "        self.conv1 = nn.Conv2d(1, 32, 3)\n",
        "        self.batch = nn.BatchNorm2d(32)\n",
        "        #self.conv2 = nn.Conv2d(32,64,3) #remove layer\n",
        "        self.dropout1 = nn.Dropout(0.25)\n",
        "        self.dropout2 = nn.Dropout(0.25)\n",
        "        self.fc1 = nn.Linear(394272, 128)\n",
        "        #self.fc2 = nn.Linear(128,10)\n",
        "        self.Arousal = nn.Linear(128,10) #3\n",
        "        self.Valence = nn.Linear(128,10)\n",
        "        self.Dominance = nn.Linear(128,10)\n",
        "        self.pool = nn.MaxPool2d(2)\n",
        "        \n",
        "    def forward(self, x):\n",
        "        x = self.conv1(x)\n",
        "        x = self.batch(x)\n",
        "        x = F.relu(x)\n",
        "        #x = self.conv2(x)\n",
        "        #x = F.relu(x)\n",
        "        x = self.pool(x)\n",
        "        x = self.dropout1(x)\n",
        "        x = torch.flatten(x, 1)\n",
        "        x = self.fc1(x)\n",
        "        x = F.relu(x)\n",
        "        x = self.dropout2(x)\n",
        "        #x = self.fc2(x)\n",
        "        Arousal = self.Arousal(x)\n",
        "        Valence = self.Valence(x)\n",
        "        Dominance = self.Dominance(x)\n",
        "        return Arousal, Valence, Dominance \n",
        "#removed "
      ],
      "id": "c5b23ab6"
    },
    {
      "cell_type": "code",
      "execution_count": null,
      "metadata": {
        "id": "ad94c3ad"
      },
      "outputs": [],
      "source": [
        "SalienceNet = CNN()\n",
        "#SalienceNet.to(device)"
      ],
      "id": "ad94c3ad"
    },
    {
      "cell_type": "code",
      "execution_count": null,
      "metadata": {
        "id": "bSEPAmQoJlkq"
      },
      "outputs": [],
      "source": [
        "class ContinuousLoss_L2(nn.Module):\n",
        "  ''' Class to measure loss between continuous emotion dimension predictions and labels. Using l2 loss as base. '''\n",
        "  def __init__(self, margin=1):\n",
        "    super(ContinuousLoss_L2, self).__init__()\n",
        "    self.margin = margin\n",
        "  \n",
        "  def forward(self, pred, target):\n",
        "    labs = torch.abs(pred - target)\n",
        "    loss = labs ** 2 \n",
        "    loss[ (labs < self.margin) ] = 0.0\n",
        "    return loss.sum()"
      ],
      "id": "bSEPAmQoJlkq"
    },
    {
      "cell_type": "code",
      "execution_count": null,
      "metadata": {
        "id": "wpriQW4-Johz"
      },
      "outputs": [],
      "source": [
        "cont_loss = ContinuousLoss_L2()"
      ],
      "id": "wpriQW4-Johz"
    },
    {
      "cell_type": "code",
      "execution_count": 29,
      "metadata": {
        "id": "eMAlEzRt0VTw"
      },
      "outputs": [],
      "source": [
        "criterion = nn.CrossEntropyLoss()"
      ],
      "id": "eMAlEzRt0VTw"
    },
    {
      "cell_type": "code",
      "execution_count": 30,
      "metadata": {
        "id": "9997283d"
      },
      "outputs": [],
      "source": [
        "from tqdm import tqdm\n",
        "def train(net, loss_fn, dataloader_train,dataloader_val,\n",
        "          epoch=100, learning_rate=0.0001):\n",
        "    optimizer = torch.optim.Adam(net.parameters(), lr=learning_rate)#torch.optim.Adam(net.parameters(), lr=learning_rate,weight_decay=1e-4) # weight decay as a regularization technique to defy overfitting\n",
        "    for param in model_CNN.parameters():\n",
        "        param.requires_grad = False\n",
        "    for param in model_CNN.Arousal.parameters():\n",
        "      param.requires_grad = True\n",
        "    for param in model_CNN.Valence.parameters():\n",
        "      param.requires_grad = True\n",
        "    for param in model_CNN.Dominance.parameters():\n",
        "      param.requires_grad = True\n",
        "    train_loss = []\n",
        "    val_loss = []\n",
        "    train_accuracy = []\n",
        "    val_accuracy = []\n",
        "    train_epoch_loss = []\n",
        "    val_epoch_loss = []\n",
        "    for i in range(epoch):\n",
        "        train_loop = tqdm(dataloader_train)\n",
        "        val_loop = tqdm(dataloader_val)\n",
        "        total = 0\n",
        "        correct_a,correct_v,correct_d=0,0,0\n",
        "        net.to(device)   \n",
        "        net.train()\n",
        "        for data, label in train_loop:\n",
        "            data, label = data.to(device), label.to(device)\n",
        "            #make prediction\n",
        "            Arousal,Valence,Dominance = net(data.float())\n",
        "\n",
        "            _a, y_pred_train_arousal = torch.max(Arousal,1)\n",
        "            _v, y_pred_train_valence = torch.max(Valence,1)\n",
        "            _d, y_pred_train_dominance = torch.max(Dominance,1)\n",
        "\n",
        "            total += label[:,0].size(0)+label[:,1].size(0)+label[:,2].size(0)\n",
        "\n",
        "            correct_a += (y_pred_train_arousal == label[:,0]).sum().item()\n",
        "            correct_v += (y_pred_train_valence == label[:,1]).sum().item()\n",
        "            correct_d += (y_pred_train_dominance == label[:,2]).sum().item()\n",
        "           \n",
        "            sum_correct = (correct_a+correct_v+correct_d)\n",
        "            # Zero out the gradients\n",
        "            optimizer.zero_grad()\n",
        "\n",
        "            # Calculate loss.\n",
        "            #loss = loss_fn(output,label)#torch.max(label.long(), 1)[0])\n",
        "            loss_arousal = loss_fn(Arousal,label[:,0])\n",
        "            loss_valence = loss_fn(Valence,label[:,1])\n",
        "            loss_dominance = loss_fn(Dominance,label[:,2])\n",
        "            loss=loss_arousal+loss_valence+loss_dominance\n",
        "\n",
        "      \n",
        "            # Backpropagation and gradient update.\n",
        "            loss.backward()# Calculate gradients. #retrain_graph=True\n",
        "\n",
        "            optimizer.step() # Apply gradient update\n",
        "            \n",
        "            train_loss.append(loss.item())\n",
        "            train_loop.set_description(f\"Epoch [{i+1}/{epoch}]\")\n",
        "\n",
        "        train_accuracy.append(sum_correct/total)\n",
        "        train_epoch_loss.append((np.array(train_loss).mean()))\n",
        "\n",
        "        #validation\n",
        "        net.eval()\n",
        "        val_total = 0\n",
        "        val_arousal,val_valence, val_dominance = 0,0,0\n",
        "        for data, labels in dataloader_val:\n",
        "            data, labels = data.to(device), labels.to(device)\n",
        "\n",
        "            Arousal_v,Valence_v,Dominance_v = net(data.float())\n",
        "\n",
        "            _a, y_pred_val_arousal = torch.max(Arousal_v,1)\n",
        "            _v, y_pred_val_valence = torch.max(Valence_v,1)\n",
        "            _d, y_pred_val_dominance = torch.max(Dominance_v,1)\n",
        "\n",
        "            val_total += labels[:,0].size(0)+labels[:,1].size(0)+labels[:,2].size(0)\n",
        "\n",
        "            val_arousal += (y_pred_val_arousal == labels[:,0]).sum().item()\n",
        "            val_valence += (y_pred_val_valence == labels[:,1]).sum().item()\n",
        "            val_dominance += (y_pred_val_dominance == labels[:,2]).sum().item()\n",
        "           \n",
        "            sum_correct_val = (val_arousal+val_valence+val_dominance)\n",
        "          \n",
        "            loss_arousal_v = loss_fn(Arousal_v,labels[:,0])\n",
        "            loss_valence_v = loss_fn(Valence_v,labels[:,1])\n",
        "            loss_dominance_v = loss_fn(Dominance_v,labels[:,2])\n",
        "\n",
        "            val_l=loss_arousal_v+loss_valence_v+loss_dominance_v\n",
        "        \n",
        "            val_loss.append(val_l.item())\n",
        "\n",
        "        val_epoch_loss.append((np.array(val_loss).mean()))\n",
        "\n",
        "        val_accuracy.append(sum_correct_val/val_total)\n",
        "\n",
        "\n",
        "    return train_loss,train_epoch_loss,val_loss,val_epoch_loss, train_accuracy,val_accuracy\n"
      ],
      "id": "9997283d"
    },
    {
      "cell_type": "code",
      "execution_count": 31,
      "metadata": {
        "id": "JvEWX6FyZGIk"
      },
      "outputs": [],
      "source": [
        "def test(net,loss_fn,dataloader_test):\n",
        "  net.eval()\n",
        "  test_loss = []\n",
        "  test_total,test_correct = 0,0\n",
        "  test_acc = []\n",
        "  test_loop = tqdm(dataloader_test)\n",
        "  i=0\n",
        "  for batch, (data, labels) in enumerate(test_loop):\n",
        "      print('testing...')\n",
        "\n",
        "      data, labels = data.to(device), labels.to(device)\n",
        "      arousal,valence,dominance = net(data.float())\n",
        "\n",
        "      arousal_t = loss_fn(arousal,labels[:,0])\n",
        "      valence_t = loss_fn(valence,labels[:,1])\n",
        "      dominance_t = loss_fn(dominance,labels[:,2])\n",
        "\n",
        "      test_l = arousal_t+valence_t+dominance_t\n",
        "\n",
        "      test_loss.append(test_l.item())\n",
        "      test_loop.set_description(f\"Batch [{i+1}/{batch}]\")\n",
        "      i=+1\n",
        "\n",
        "        #test_total += labels.size(0)\n",
        "        #test_correct += (y_pred_test==torch.max(labels,1)[0]).sum().item()\n",
        "        \n",
        "    #test_acc.append(test_correct/test_total)\n",
        "    #y_pred_test = torch.softmax(outputs,dim=1).argmax(dim=1)\n",
        "\n",
        "   # print('test acc is {}'.format(test_acc)\n",
        "  return test_loss"
      ],
      "id": "JvEWX6FyZGIk"
    },
    {
      "cell_type": "code",
      "execution_count": 32,
      "metadata": {
        "id": "yDqIlocyWRYY",
        "colab": {
          "base_uri": "https://localhost:8080/",
          "height": 35
        },
        "outputId": "05756cf9-ae9e-4eb4-a1e6-61f871ab57c7"
      },
      "outputs": [
        {
          "output_type": "execute_result",
          "data": {
            "text/plain": [
              "'Tesla T4'"
            ],
            "application/vnd.google.colaboratory.intrinsic+json": {
              "type": "string"
            }
          },
          "metadata": {},
          "execution_count": 32
        }
      ],
      "source": [
        "torch.cuda.get_device_name(0)"
      ],
      "id": "yDqIlocyWRYY"
    },
    {
      "cell_type": "code",
      "execution_count": 33,
      "metadata": {
        "id": "7e318c98"
      },
      "outputs": [],
      "source": [
        "import matplotlib.pyplot as plt"
      ],
      "id": "7e318c98"
    },
    {
      "cell_type": "code",
      "execution_count": 34,
      "metadata": {
        "id": "kGxhNDnUbZMD",
        "colab": {
          "base_uri": "https://localhost:8080/",
          "height": 17
        },
        "outputId": "64963f0a-dd05-4574-ed44-02ea7e39c2c5"
      },
      "outputs": [
        {
          "output_type": "display_data",
          "data": {
            "text/plain": [
              "<IPython.core.display.Javascript object>"
            ],
            "application/javascript": [
              "google.colab.output.setIframeHeight(0, true, {maxHeight: 300})"
            ]
          },
          "metadata": {}
        }
      ],
      "source": [
        "from IPython.display import Javascript\n",
        "\n",
        "display(Javascript('''google.colab.output.setIframeHeight(0, true, {maxHeight: 300})''')) "
      ],
      "id": "kGxhNDnUbZMD"
    },
    {
      "cell_type": "code",
      "source": [
        "from torchvision import models"
      ],
      "metadata": {
        "id": "912Sex6VMmmd"
      },
      "id": "912Sex6VMmmd",
      "execution_count": 35,
      "outputs": []
    },
    {
      "cell_type": "code",
      "source": [
        "model = models.alexnet(pretrained=True)"
      ],
      "metadata": {
        "id": "Hod-SeceMqqE",
        "colab": {
          "base_uri": "https://localhost:8080/"
        },
        "outputId": "54452488-84a9-4587-f849-90f560777bfc"
      },
      "id": "Hod-SeceMqqE",
      "execution_count": 36,
      "outputs": [
        {
          "output_type": "stream",
          "name": "stderr",
          "text": [
            "/usr/local/lib/python3.10/dist-packages/torchvision/models/_utils.py:208: UserWarning: The parameter 'pretrained' is deprecated since 0.13 and may be removed in the future, please use 'weights' instead.\n",
            "  warnings.warn(\n",
            "/usr/local/lib/python3.10/dist-packages/torchvision/models/_utils.py:223: UserWarning: Arguments other than a weight enum or `None` for 'weights' are deprecated since 0.13 and may be removed in the future. The current behavior is equivalent to passing `weights=AlexNet_Weights.IMAGENET1K_V1`. You can also use `weights=AlexNet_Weights.DEFAULT` to get the most up-to-date weights.\n",
            "  warnings.warn(msg)\n",
            "Downloading: \"https://download.pytorch.org/models/alexnet-owt-7be5be79.pth\" to /root/.cache/torch/hub/checkpoints/alexnet-owt-7be5be79.pth\n",
            "100%|██████████| 233M/233M [00:31<00:00, 7.86MB/s]\n"
          ]
        }
      ]
    },
    {
      "cell_type": "code",
      "source": [
        "class CNN1(nn.Module):\n",
        "    def __init__(self, pretrained):\n",
        "        super(CNN1, self).__init__()\n",
        "        if pretrained is True:\n",
        "            self.model = models.__dict__[\"alexnet\"](pretrained=\"imagenet\")\n",
        "        else:\n",
        "            self.model = models.__dict__[\"alexnet\"](pretrained=None)\n",
        "        self.Arousal= nn.Linear(256, 10)\n",
        "        self.Valence = nn.Linear(256,10)\n",
        "        self.Dominance = nn.Linear(256, 10)    \n",
        "        \n",
        "    def forward(self, x):\n",
        "        bs, _, _, _ = x.shape\n",
        "        x = self.model.features(x)\n",
        "        x = F.adaptive_avg_pool2d(x, 1).reshape(bs, -1)\n",
        "        Arousal = self.Arousal(x)\n",
        "        Valence = self.Valence(x)\n",
        "        Dominance = self.Dominance(x)\n",
        "        return Arousal, Valence, Dominance \n",
        "        return {'label1': label1, 'label2': label2, 'label3': label3}"
      ],
      "metadata": {
        "id": "ayX1tkQ6p5r6"
      },
      "id": "ayX1tkQ6p5r6",
      "execution_count": 37,
      "outputs": []
    },
    {
      "cell_type": "code",
      "source": [
        "model_CNN = CNN1(True).to(device)"
      ],
      "metadata": {
        "id": "LN5RTKpPqPQG"
      },
      "id": "LN5RTKpPqPQG",
      "execution_count": 38,
      "outputs": []
    },
    {
      "cell_type": "code",
      "source": [
        "for param in model_CNN.parameters():\n",
        "        param.requires_grad = False\n",
        "for param in model_CNN.Arousal.parameters():\n",
        "  param.requires_grad = True\n",
        "for param in model_CNN.Valence.parameters():\n",
        "  param.requires_grad = True\n",
        "for param in model_CNN.Dominance.parameters():\n",
        "  param.requires_grad = True"
      ],
      "metadata": {
        "id": "-cX76_sdu0bo"
      },
      "id": "-cX76_sdu0bo",
      "execution_count": 39,
      "outputs": []
    },
    {
      "cell_type": "code",
      "execution_count": 42,
      "metadata": {
        "id": "c5ddd06d",
        "colab": {
          "base_uri": "https://localhost:8080/"
        },
        "outputId": "8392c240-9f1c-47b1-aef2-917d28149b26"
      },
      "outputs": [
        {
          "output_type": "stream",
          "name": "stderr",
          "text": [
            "\r  0%|          | 0/347 [00:00<?, ?it/s]\n",
            "\n",
            "Epoch [1/200]: 100%|██████████| 347/347 [00:10<00:00, 33.11it/s]\n",
            "  0%|          | 0/347 [00:00<?, ?it/s]\n",
            "\n",
            "\n",
            "  0%|          | 0/74 [00:13<?, ?it/s]\n",
            "Epoch [2/200]: 100%|██████████| 347/347 [00:10<00:00, 34.61it/s]\n",
            "  0%|          | 0/347 [00:00<?, ?it/s]\n",
            "\n",
            "  0%|          | 0/74 [00:13<?, ?it/s]\n",
            "Epoch [3/200]: 100%|██████████| 347/347 [00:11<00:00, 31.19it/s]\n",
            "  0%|          | 0/347 [00:00<?, ?it/s]\n",
            "\n",
            "\n",
            "  0%|          | 0/74 [00:14<?, ?it/s]\n",
            "Epoch [4/200]: 100%|██████████| 347/347 [00:10<00:00, 34.54it/s]\n",
            "  0%|          | 0/347 [00:00<?, ?it/s]\n",
            "\n",
            "  0%|          | 0/74 [00:13<?, ?it/s]\n",
            "Epoch [5/200]: 100%|██████████| 347/347 [00:10<00:00, 34.41it/s]\n",
            "  0%|          | 0/347 [00:00<?, ?it/s]\n",
            "\n",
            "\n",
            "  0%|          | 0/74 [00:13<?, ?it/s]\n",
            "Epoch [6/200]: 100%|██████████| 347/347 [00:10<00:00, 34.50it/s]\n",
            "  0%|          | 0/347 [00:00<?, ?it/s]\n",
            "\n",
            "  0%|          | 0/74 [00:13<?, ?it/s]\n",
            "Epoch [7/200]: 100%|██████████| 347/347 [00:10<00:00, 34.53it/s]\n",
            "  0%|          | 0/347 [00:00<?, ?it/s]\n",
            "\n",
            "\n",
            "  0%|          | 0/74 [00:13<?, ?it/s]\n",
            "Epoch [8/200]: 100%|██████████| 347/347 [00:10<00:00, 33.79it/s]\n",
            "  0%|          | 0/347 [00:00<?, ?it/s]\n",
            "\n",
            "  0%|          | 0/74 [00:13<?, ?it/s]\n",
            "Epoch [9/200]: 100%|██████████| 347/347 [00:10<00:00, 34.21it/s]\n",
            "  0%|          | 0/347 [00:00<?, ?it/s]\n",
            "\n",
            "\n",
            "  0%|          | 0/74 [00:13<?, ?it/s]\n",
            "Epoch [10/200]: 100%|██████████| 347/347 [00:10<00:00, 34.18it/s]\n",
            "  0%|          | 0/347 [00:00<?, ?it/s]\n",
            "\n",
            "  0%|          | 0/74 [00:13<?, ?it/s]\n",
            "Epoch [11/200]: 100%|██████████| 347/347 [00:10<00:00, 33.79it/s]\n",
            "  0%|          | 0/347 [00:00<?, ?it/s]\n",
            "\n",
            "\n",
            "  0%|          | 0/74 [00:13<?, ?it/s]\n",
            "Epoch [12/200]: 100%|██████████| 347/347 [00:10<00:00, 33.81it/s]\n",
            "  0%|          | 0/347 [00:00<?, ?it/s]\n",
            "\n",
            "  0%|          | 0/74 [00:13<?, ?it/s]\n",
            "Epoch [13/200]: 100%|██████████| 347/347 [00:10<00:00, 33.90it/s]\n",
            "  0%|          | 0/347 [00:00<?, ?it/s]\n",
            "\n",
            "\n",
            "  0%|          | 0/74 [00:13<?, ?it/s]\n",
            "Epoch [14/200]: 100%|██████████| 347/347 [00:10<00:00, 34.13it/s]\n",
            "  0%|          | 0/347 [00:00<?, ?it/s]\n",
            "\n",
            "  0%|          | 0/74 [00:13<?, ?it/s]\n",
            "Epoch [15/200]: 100%|██████████| 347/347 [00:10<00:00, 34.23it/s]\n",
            "  0%|          | 0/347 [00:00<?, ?it/s]\n",
            "\n",
            "\n",
            "  0%|          | 0/74 [00:13<?, ?it/s]\n",
            "Epoch [16/200]: 100%|██████████| 347/347 [00:10<00:00, 33.67it/s]\n",
            "  0%|          | 0/347 [00:00<?, ?it/s]\n",
            "\n",
            "  0%|          | 0/74 [00:13<?, ?it/s]\n",
            "Epoch [17/200]: 100%|██████████| 347/347 [00:10<00:00, 33.60it/s]\n",
            "  0%|          | 0/347 [00:00<?, ?it/s]\n",
            "\n",
            "\n",
            "  0%|          | 0/74 [00:13<?, ?it/s]\n",
            "Epoch [18/200]: 100%|██████████| 347/347 [00:10<00:00, 33.42it/s]\n",
            "  0%|          | 0/347 [00:00<?, ?it/s]\n",
            "\n",
            "  0%|          | 0/74 [00:13<?, ?it/s]\n",
            "Epoch [19/200]: 100%|██████████| 347/347 [00:10<00:00, 32.95it/s]\n",
            "  0%|          | 0/347 [00:00<?, ?it/s]\n",
            "\n",
            "\n",
            "  0%|          | 0/74 [00:13<?, ?it/s]\n",
            "Epoch [20/200]: 100%|██████████| 347/347 [00:10<00:00, 33.55it/s]\n",
            "  0%|          | 0/347 [00:00<?, ?it/s]\n",
            "\n",
            "  0%|          | 0/74 [00:13<?, ?it/s]\n",
            "Epoch [21/200]: 100%|██████████| 347/347 [00:10<00:00, 33.32it/s]\n",
            "  0%|          | 0/347 [00:00<?, ?it/s]\n",
            "\n",
            "\n",
            "  0%|          | 0/74 [00:13<?, ?it/s]\n",
            "Epoch [22/200]: 100%|██████████| 347/347 [00:10<00:00, 33.76it/s]\n",
            "  0%|          | 0/347 [00:00<?, ?it/s]\n",
            "\n",
            "  0%|          | 0/74 [00:13<?, ?it/s]\n",
            "Epoch [23/200]: 100%|██████████| 347/347 [00:10<00:00, 33.11it/s]\n",
            "  0%|          | 0/347 [00:00<?, ?it/s]\n",
            "\n",
            "\n",
            "  0%|          | 0/74 [00:13<?, ?it/s]\n",
            "Epoch [24/200]: 100%|██████████| 347/347 [00:10<00:00, 33.50it/s]\n",
            "  0%|          | 0/347 [00:00<?, ?it/s]\n",
            "\n",
            "  0%|          | 0/74 [00:13<?, ?it/s]\n",
            "Epoch [25/200]: 100%|██████████| 347/347 [00:10<00:00, 33.38it/s]\n",
            "  0%|          | 0/347 [00:00<?, ?it/s]\n",
            "\n",
            "\n",
            "  0%|          | 0/74 [00:13<?, ?it/s]\n",
            "Epoch [26/200]: 100%|██████████| 347/347 [00:10<00:00, 33.37it/s]\n",
            "  0%|          | 0/347 [00:00<?, ?it/s]\n",
            "\n",
            "  0%|          | 0/74 [00:13<?, ?it/s]\n",
            "Epoch [27/200]: 100%|██████████| 347/347 [00:10<00:00, 33.33it/s]\n",
            "  0%|          | 0/347 [00:00<?, ?it/s]\n",
            "\n",
            "\n",
            "  0%|          | 0/74 [00:13<?, ?it/s]\n",
            "Epoch [28/200]: 100%|██████████| 347/347 [00:10<00:00, 33.54it/s]\n",
            "  0%|          | 0/347 [00:00<?, ?it/s]\n",
            "\n",
            "  0%|          | 0/74 [00:13<?, ?it/s]\n",
            "Epoch [29/200]: 100%|██████████| 347/347 [00:10<00:00, 32.92it/s]\n",
            "  0%|          | 0/347 [00:00<?, ?it/s]\n",
            "\n",
            "\n",
            "  0%|          | 0/74 [00:13<?, ?it/s]\n",
            "Epoch [30/200]: 100%|██████████| 347/347 [00:10<00:00, 33.14it/s]\n",
            "  0%|          | 0/347 [00:00<?, ?it/s]\n",
            "\n",
            "  0%|          | 0/74 [00:13<?, ?it/s]\n",
            "Epoch [31/200]: 100%|██████████| 347/347 [00:10<00:00, 33.24it/s]\n",
            "  0%|          | 0/347 [00:00<?, ?it/s]\n",
            "\n",
            "\n",
            "  0%|          | 0/74 [00:13<?, ?it/s]\n",
            "Epoch [32/200]: 100%|██████████| 347/347 [00:10<00:00, 33.40it/s]\n",
            "  0%|          | 0/347 [00:00<?, ?it/s]\n",
            "\n",
            "  0%|          | 0/74 [00:13<?, ?it/s]\n",
            "Epoch [33/200]: 100%|██████████| 347/347 [00:10<00:00, 33.40it/s]\n",
            "  0%|          | 0/347 [00:00<?, ?it/s]\n",
            "\n",
            "\n",
            "  0%|          | 0/74 [00:13<?, ?it/s]\n",
            "Epoch [34/200]: 100%|██████████| 347/347 [00:10<00:00, 33.18it/s]\n",
            "  0%|          | 0/347 [00:00<?, ?it/s]\n",
            "\n",
            "  0%|          | 0/74 [00:13<?, ?it/s]\n",
            "Epoch [35/200]: 100%|██████████| 347/347 [00:10<00:00, 33.14it/s]\n",
            "  0%|          | 0/347 [00:00<?, ?it/s]\n",
            "\n",
            "\n",
            "  0%|          | 0/74 [00:13<?, ?it/s]\n",
            "Epoch [36/200]: 100%|██████████| 347/347 [00:10<00:00, 33.02it/s]\n",
            "  0%|          | 0/347 [00:00<?, ?it/s]\n",
            "\n",
            "  0%|          | 0/74 [00:13<?, ?it/s]\n",
            "Epoch [37/200]: 100%|██████████| 347/347 [00:10<00:00, 33.45it/s]\n",
            "  0%|          | 0/347 [00:00<?, ?it/s]\n",
            "\n",
            "\n",
            "  0%|          | 0/74 [00:13<?, ?it/s]\n",
            "Epoch [38/200]: 100%|██████████| 347/347 [00:10<00:00, 33.45it/s]\n",
            "  0%|          | 0/347 [00:00<?, ?it/s]\n",
            "\n",
            "  0%|          | 0/74 [00:13<?, ?it/s]\n",
            "Epoch [39/200]: 100%|██████████| 347/347 [00:10<00:00, 33.80it/s]\n",
            "  0%|          | 0/347 [00:00<?, ?it/s]\n",
            "\n",
            "\n",
            "  0%|          | 0/74 [00:13<?, ?it/s]\n",
            "Epoch [40/200]: 100%|██████████| 347/347 [00:10<00:00, 33.92it/s]\n",
            "  0%|          | 0/347 [00:00<?, ?it/s]\n",
            "\n",
            "  0%|          | 0/74 [00:13<?, ?it/s]\n",
            "Epoch [41/200]: 100%|██████████| 347/347 [00:10<00:00, 33.79it/s]\n",
            "  0%|          | 0/347 [00:00<?, ?it/s]\n",
            "\n",
            "\n",
            "  0%|          | 0/74 [00:13<?, ?it/s]\n",
            "Epoch [42/200]: 100%|██████████| 347/347 [00:10<00:00, 33.51it/s]\n",
            "  0%|          | 0/347 [00:00<?, ?it/s]\n",
            "\n",
            "  0%|          | 0/74 [00:14<?, ?it/s]\n",
            "Epoch [43/200]: 100%|██████████| 347/347 [00:10<00:00, 33.81it/s]\n",
            "  0%|          | 0/347 [00:00<?, ?it/s]\n",
            "\n",
            "\n",
            "  0%|          | 0/74 [00:13<?, ?it/s]\n",
            "Epoch [44/200]: 100%|██████████| 347/347 [00:10<00:00, 33.95it/s]\n",
            "  0%|          | 0/347 [00:00<?, ?it/s]\n",
            "\n",
            "  0%|          | 0/74 [00:13<?, ?it/s]\n",
            "Epoch [45/200]: 100%|██████████| 347/347 [00:10<00:00, 34.20it/s]\n",
            "  0%|          | 0/347 [00:00<?, ?it/s]\n",
            "\n",
            "\n",
            "  0%|          | 0/74 [00:13<?, ?it/s]\n",
            "Epoch [46/200]: 100%|██████████| 347/347 [00:10<00:00, 34.21it/s]\n",
            "  0%|          | 0/347 [00:00<?, ?it/s]\n",
            "\n",
            "  0%|          | 0/74 [00:13<?, ?it/s]\n",
            "Epoch [47/200]: 100%|██████████| 347/347 [00:10<00:00, 34.24it/s]\n",
            "  0%|          | 0/347 [00:00<?, ?it/s]\n",
            "\n",
            "\n",
            "  0%|          | 0/74 [00:13<?, ?it/s]\n",
            "Epoch [48/200]: 100%|██████████| 347/347 [00:10<00:00, 34.38it/s]\n",
            "  0%|          | 0/347 [00:00<?, ?it/s]\n",
            "\n",
            "  0%|          | 0/74 [00:13<?, ?it/s]\n",
            "Epoch [49/200]: 100%|██████████| 347/347 [00:09<00:00, 34.76it/s]\n",
            "  0%|          | 0/347 [00:00<?, ?it/s]\n",
            "\n",
            "\n",
            "  0%|          | 0/74 [00:13<?, ?it/s]\n",
            "Epoch [50/200]: 100%|██████████| 347/347 [00:10<00:00, 34.53it/s]\n",
            "  0%|          | 0/347 [00:00<?, ?it/s]\n",
            "\n",
            "  0%|          | 0/74 [00:13<?, ?it/s]\n",
            "Epoch [51/200]: 100%|██████████| 347/347 [00:10<00:00, 34.19it/s]\n",
            "  0%|          | 0/347 [00:00<?, ?it/s]\n",
            "\n",
            "\n",
            "  0%|          | 0/74 [00:13<?, ?it/s]\n",
            "Epoch [52/200]: 100%|██████████| 347/347 [00:10<00:00, 34.22it/s]\n",
            "  0%|          | 0/347 [00:00<?, ?it/s]\n",
            "\n",
            "  0%|          | 0/74 [00:13<?, ?it/s]\n",
            "Epoch [53/200]: 100%|██████████| 347/347 [00:10<00:00, 33.91it/s]\n",
            "  0%|          | 0/347 [00:00<?, ?it/s]\n",
            "\n",
            "\n",
            "  0%|          | 0/74 [00:13<?, ?it/s]\n",
            "Epoch [54/200]: 100%|██████████| 347/347 [00:10<00:00, 33.70it/s]\n",
            "  0%|          | 0/347 [00:00<?, ?it/s]\n",
            "\n",
            "  0%|          | 0/74 [00:13<?, ?it/s]\n",
            "Epoch [55/200]: 100%|██████████| 347/347 [00:10<00:00, 34.00it/s]\n",
            "  0%|          | 0/347 [00:00<?, ?it/s]\n",
            "\n",
            "\n",
            "  0%|          | 0/74 [00:13<?, ?it/s]\n",
            "Epoch [56/200]: 100%|██████████| 347/347 [00:10<00:00, 34.35it/s]\n",
            "  0%|          | 0/347 [00:00<?, ?it/s]\n",
            "\n",
            "  0%|          | 0/74 [00:13<?, ?it/s]\n",
            "Epoch [57/200]: 100%|██████████| 347/347 [00:10<00:00, 33.34it/s]\n",
            "  0%|          | 0/347 [00:00<?, ?it/s]\n",
            "\n",
            "\n",
            "  0%|          | 0/74 [00:13<?, ?it/s]\n",
            "Epoch [58/200]: 100%|██████████| 347/347 [00:10<00:00, 33.50it/s]\n",
            "  0%|          | 0/347 [00:00<?, ?it/s]\n",
            "\n",
            "  0%|          | 0/74 [00:13<?, ?it/s]\n",
            "Epoch [59/200]: 100%|██████████| 347/347 [00:10<00:00, 33.13it/s]\n",
            "  0%|          | 0/347 [00:00<?, ?it/s]\n",
            "\n",
            "\n",
            "  0%|          | 0/74 [00:13<?, ?it/s]\n",
            "Epoch [60/200]: 100%|██████████| 347/347 [00:10<00:00, 33.03it/s]\n",
            "  0%|          | 0/347 [00:00<?, ?it/s]\n",
            "\n",
            "  0%|          | 0/74 [00:13<?, ?it/s]\n",
            "Epoch [61/200]: 100%|██████████| 347/347 [00:10<00:00, 33.49it/s]\n",
            "  0%|          | 0/347 [00:00<?, ?it/s]\n",
            "\n",
            "\n",
            "  0%|          | 0/74 [00:13<?, ?it/s]\n",
            "Epoch [62/200]: 100%|██████████| 347/347 [00:10<00:00, 32.95it/s]\n",
            "  0%|          | 0/347 [00:00<?, ?it/s]\n",
            "\n",
            "  0%|          | 0/74 [00:13<?, ?it/s]\n",
            "Epoch [63/200]: 100%|██████████| 347/347 [00:10<00:00, 33.29it/s]\n",
            "  0%|          | 0/347 [00:00<?, ?it/s]\n",
            "\n",
            "\n",
            "  0%|          | 0/74 [00:13<?, ?it/s]\n",
            "Epoch [64/200]: 100%|██████████| 347/347 [00:10<00:00, 33.72it/s]\n",
            "  0%|          | 0/347 [00:00<?, ?it/s]\n",
            "\n",
            "  0%|          | 0/74 [00:13<?, ?it/s]\n",
            "Epoch [65/200]: 100%|██████████| 347/347 [00:10<00:00, 32.96it/s]\n",
            "  0%|          | 0/347 [00:00<?, ?it/s]\n",
            "\n",
            "\n",
            "  0%|          | 0/74 [00:13<?, ?it/s]\n",
            "Epoch [66/200]: 100%|██████████| 347/347 [00:10<00:00, 33.08it/s]\n",
            "  0%|          | 0/347 [00:00<?, ?it/s]\n",
            "\n",
            "  0%|          | 0/74 [00:13<?, ?it/s]\n",
            "Epoch [67/200]: 100%|██████████| 347/347 [00:10<00:00, 33.41it/s]\n",
            "  0%|          | 0/347 [00:00<?, ?it/s]\n",
            "\n",
            "\n",
            "  0%|          | 0/74 [00:13<?, ?it/s]\n",
            "Epoch [68/200]: 100%|██████████| 347/347 [00:10<00:00, 33.54it/s]\n",
            "  0%|          | 0/347 [00:00<?, ?it/s]\n",
            "\n",
            "  0%|          | 0/74 [00:13<?, ?it/s]\n",
            "Epoch [69/200]: 100%|██████████| 347/347 [00:10<00:00, 33.89it/s]\n",
            "  0%|          | 0/347 [00:00<?, ?it/s]\n",
            "\n",
            "\n",
            "  0%|          | 0/74 [00:13<?, ?it/s]\n",
            "Epoch [70/200]: 100%|██████████| 347/347 [00:10<00:00, 33.66it/s]\n",
            "  0%|          | 0/347 [00:00<?, ?it/s]\n",
            "\n",
            "  0%|          | 0/74 [00:13<?, ?it/s]\n",
            "Epoch [71/200]: 100%|██████████| 347/347 [00:10<00:00, 33.33it/s]\n",
            "  0%|          | 0/347 [00:00<?, ?it/s]\n",
            "\n",
            "\n",
            "  0%|          | 0/74 [00:13<?, ?it/s]\n",
            "Epoch [72/200]: 100%|██████████| 347/347 [00:10<00:00, 33.58it/s]\n",
            "  0%|          | 0/347 [00:00<?, ?it/s]\n",
            "\n",
            "  0%|          | 0/74 [00:14<?, ?it/s]\n",
            "Epoch [73/200]: 100%|██████████| 347/347 [00:10<00:00, 33.33it/s]\n",
            "  0%|          | 0/347 [00:00<?, ?it/s]\n",
            "\n",
            "\n",
            "  0%|          | 0/74 [00:13<?, ?it/s]\n",
            "Epoch [74/200]: 100%|██████████| 347/347 [00:10<00:00, 33.33it/s]\n",
            "  0%|          | 0/347 [00:00<?, ?it/s]\n",
            "\n",
            "  0%|          | 0/74 [00:13<?, ?it/s]\n",
            "Epoch [75/200]: 100%|██████████| 347/347 [00:10<00:00, 33.49it/s]\n",
            "  0%|          | 0/347 [00:00<?, ?it/s]\n",
            "\n",
            "\n",
            "  0%|          | 0/74 [00:13<?, ?it/s]\n",
            "Epoch [76/200]: 100%|██████████| 347/347 [00:10<00:00, 33.60it/s]\n",
            "  0%|          | 0/347 [00:00<?, ?it/s]\n",
            "\n",
            "  0%|          | 0/74 [00:13<?, ?it/s]\n",
            "Epoch [77/200]: 100%|██████████| 347/347 [00:10<00:00, 33.51it/s]\n",
            "  0%|          | 0/347 [00:00<?, ?it/s]\n",
            "\n",
            "\n",
            "  0%|          | 0/74 [00:13<?, ?it/s]\n",
            "Epoch [78/200]: 100%|██████████| 347/347 [00:10<00:00, 33.47it/s]\n",
            "  0%|          | 0/347 [00:00<?, ?it/s]\n",
            "\n",
            "  0%|          | 0/74 [00:13<?, ?it/s]\n",
            "Epoch [79/200]: 100%|██████████| 347/347 [00:10<00:00, 32.98it/s]\n",
            "  0%|          | 0/347 [00:00<?, ?it/s]\n",
            "\n",
            "\n",
            "  0%|          | 0/74 [00:13<?, ?it/s]\n",
            "Epoch [80/200]: 100%|██████████| 347/347 [00:10<00:00, 33.79it/s]\n",
            "  0%|          | 0/347 [00:00<?, ?it/s]\n",
            "\n",
            "  0%|          | 0/74 [00:13<?, ?it/s]\n",
            "Epoch [81/200]: 100%|██████████| 347/347 [00:10<00:00, 33.64it/s]\n",
            "  0%|          | 0/347 [00:00<?, ?it/s]\n",
            "\n",
            "\n",
            "  0%|          | 0/74 [00:13<?, ?it/s]\n",
            "Epoch [82/200]: 100%|██████████| 347/347 [00:10<00:00, 33.94it/s]\n",
            "  0%|          | 0/347 [00:00<?, ?it/s]\n",
            "\n",
            "  0%|          | 0/74 [00:13<?, ?it/s]\n",
            "Epoch [83/200]: 100%|██████████| 347/347 [00:10<00:00, 33.65it/s]\n",
            "  0%|          | 0/347 [00:00<?, ?it/s]\n",
            "\n",
            "\n",
            "  0%|          | 0/74 [00:13<?, ?it/s]\n",
            "Epoch [84/200]: 100%|██████████| 347/347 [00:10<00:00, 33.46it/s]\n",
            "  0%|          | 0/347 [00:00<?, ?it/s]\n",
            "\n",
            "  0%|          | 0/74 [00:13<?, ?it/s]\n",
            "Epoch [85/200]: 100%|██████████| 347/347 [00:10<00:00, 33.50it/s]\n",
            "  0%|          | 0/347 [00:00<?, ?it/s]\n",
            "\n",
            "\n",
            "  0%|          | 0/74 [00:13<?, ?it/s]\n",
            "Epoch [86/200]: 100%|██████████| 347/347 [00:10<00:00, 34.05it/s]\n",
            "  0%|          | 0/347 [00:00<?, ?it/s]\n",
            "\n",
            "  0%|          | 0/74 [00:13<?, ?it/s]\n",
            "Epoch [87/200]: 100%|██████████| 347/347 [00:10<00:00, 34.12it/s]\n",
            "  0%|          | 0/347 [00:00<?, ?it/s]\n",
            "\n",
            "\n",
            "  0%|          | 0/74 [00:13<?, ?it/s]\n",
            "Epoch [88/200]: 100%|██████████| 347/347 [00:10<00:00, 34.19it/s]\n",
            "  0%|          | 0/347 [00:00<?, ?it/s]\n",
            "\n",
            "  0%|          | 0/74 [00:13<?, ?it/s]\n",
            "Epoch [89/200]: 100%|██████████| 347/347 [00:10<00:00, 33.57it/s]\n",
            "  0%|          | 0/347 [00:00<?, ?it/s]\n",
            "\n",
            "\n",
            "  0%|          | 0/74 [00:13<?, ?it/s]\n",
            "Epoch [90/200]: 100%|██████████| 347/347 [00:10<00:00, 33.86it/s]\n",
            "  0%|          | 0/347 [00:00<?, ?it/s]\n",
            "\n",
            "  0%|          | 0/74 [00:13<?, ?it/s]\n",
            "Epoch [91/200]: 100%|██████████| 347/347 [00:10<00:00, 34.03it/s]\n",
            "  0%|          | 0/347 [00:00<?, ?it/s]\n",
            "\n",
            "\n",
            "  0%|          | 0/74 [00:13<?, ?it/s]\n",
            "Epoch [92/200]: 100%|██████████| 347/347 [00:10<00:00, 34.02it/s]\n",
            "  0%|          | 0/347 [00:00<?, ?it/s]\n",
            "\n",
            "  0%|          | 0/74 [00:13<?, ?it/s]\n",
            "Epoch [93/200]: 100%|██████████| 347/347 [00:10<00:00, 33.90it/s]\n",
            "  0%|          | 0/347 [00:00<?, ?it/s]\n",
            "\n",
            "\n",
            "  0%|          | 0/74 [00:13<?, ?it/s]\n",
            "Epoch [94/200]: 100%|██████████| 347/347 [00:10<00:00, 34.06it/s]\n",
            "  0%|          | 0/347 [00:00<?, ?it/s]\n",
            "\n",
            "  0%|          | 0/74 [00:13<?, ?it/s]\n",
            "Epoch [95/200]: 100%|██████████| 347/347 [00:10<00:00, 33.66it/s]\n",
            "  0%|          | 0/347 [00:00<?, ?it/s]\n",
            "\n",
            "\n",
            "  0%|          | 0/74 [00:13<?, ?it/s]\n",
            "Epoch [96/200]: 100%|██████████| 347/347 [00:10<00:00, 33.72it/s]\n",
            "  0%|          | 0/347 [00:00<?, ?it/s]\n",
            "\n",
            "  0%|          | 0/74 [00:13<?, ?it/s]\n",
            "Epoch [97/200]: 100%|██████████| 347/347 [00:10<00:00, 34.25it/s]\n",
            "  0%|          | 0/347 [00:00<?, ?it/s]\n",
            "\n",
            "\n",
            "  0%|          | 0/74 [00:13<?, ?it/s]\n",
            "Epoch [98/200]: 100%|██████████| 347/347 [00:10<00:00, 34.01it/s]\n",
            "  0%|          | 0/347 [00:00<?, ?it/s]\n",
            "\n",
            "  0%|          | 0/74 [00:13<?, ?it/s]\n",
            "Epoch [99/200]: 100%|██████████| 347/347 [00:10<00:00, 34.00it/s]\n",
            "  0%|          | 0/347 [00:00<?, ?it/s]\n",
            "\n",
            "\n",
            "  0%|          | 0/74 [00:13<?, ?it/s]\n",
            "Epoch [100/200]: 100%|██████████| 347/347 [00:10<00:00, 34.22it/s]\n",
            "  0%|          | 0/347 [00:00<?, ?it/s]\n",
            "\n",
            "  0%|          | 0/74 [00:13<?, ?it/s]\n",
            "Epoch [101/200]: 100%|██████████| 347/347 [00:10<00:00, 34.30it/s]\n",
            "  0%|          | 0/347 [00:00<?, ?it/s]\n",
            "\n",
            "\n",
            "  0%|          | 0/74 [00:13<?, ?it/s]\n",
            "Epoch [102/200]: 100%|██████████| 347/347 [00:10<00:00, 34.06it/s]\n",
            "  0%|          | 0/347 [00:00<?, ?it/s]\n",
            "\n",
            "  0%|          | 0/74 [00:13<?, ?it/s]\n",
            "Epoch [103/200]: 100%|██████████| 347/347 [00:10<00:00, 34.01it/s]\n",
            "  0%|          | 0/347 [00:00<?, ?it/s]\n",
            "\n",
            "\n",
            "  0%|          | 0/74 [00:13<?, ?it/s]\n",
            "Epoch [104/200]: 100%|██████████| 347/347 [00:10<00:00, 33.91it/s]\n",
            "  0%|          | 0/347 [00:00<?, ?it/s]\n",
            "\n",
            "  0%|          | 0/74 [00:13<?, ?it/s]\n",
            "Epoch [105/200]: 100%|██████████| 347/347 [00:10<00:00, 34.27it/s]\n",
            "  0%|          | 0/347 [00:00<?, ?it/s]\n",
            "\n",
            "\n",
            "  0%|          | 0/74 [00:13<?, ?it/s]\n",
            "Epoch [106/200]: 100%|██████████| 347/347 [00:10<00:00, 33.97it/s]\n",
            "  0%|          | 0/347 [00:00<?, ?it/s]\n",
            "\n",
            "  0%|          | 0/74 [00:13<?, ?it/s]\n",
            "Epoch [107/200]: 100%|██████████| 347/347 [00:10<00:00, 33.61it/s]\n",
            "  0%|          | 0/347 [00:00<?, ?it/s]\n",
            "\n",
            "\n",
            "  0%|          | 0/74 [00:13<?, ?it/s]\n",
            "Epoch [108/200]: 100%|██████████| 347/347 [00:10<00:00, 34.26it/s]\n",
            "  0%|          | 0/347 [00:00<?, ?it/s]\n",
            "\n",
            "  0%|          | 0/74 [00:13<?, ?it/s]\n",
            "Epoch [109/200]: 100%|██████████| 347/347 [00:10<00:00, 33.61it/s]\n",
            "  0%|          | 0/347 [00:00<?, ?it/s]\n",
            "\n",
            "\n",
            "  0%|          | 0/74 [00:14<?, ?it/s]\n",
            "Epoch [110/200]: 100%|██████████| 347/347 [00:10<00:00, 33.92it/s]\n",
            "  0%|          | 0/347 [00:00<?, ?it/s]\n",
            "\n",
            "  0%|          | 0/74 [00:13<?, ?it/s]\n",
            "Epoch [111/200]: 100%|██████████| 347/347 [00:10<00:00, 33.81it/s]\n",
            "  0%|          | 0/347 [00:00<?, ?it/s]\n",
            "\n",
            "\n",
            "  0%|          | 0/74 [00:13<?, ?it/s]\n",
            "Epoch [112/200]: 100%|██████████| 347/347 [00:10<00:00, 33.38it/s]\n",
            "  0%|          | 0/347 [00:00<?, ?it/s]\n",
            "\n",
            "  0%|          | 0/74 [00:14<?, ?it/s]\n",
            "Epoch [113/200]: 100%|██████████| 347/347 [00:10<00:00, 31.71it/s]\n",
            "  0%|          | 0/347 [00:00<?, ?it/s]\n",
            "\n",
            "\n",
            "  0%|          | 0/74 [00:14<?, ?it/s]\n",
            "Epoch [114/200]: 100%|██████████| 347/347 [00:10<00:00, 32.27it/s]\n",
            "  0%|          | 0/347 [00:00<?, ?it/s]\n",
            "\n",
            "  0%|          | 0/74 [00:13<?, ?it/s]\n",
            "Epoch [115/200]: 100%|██████████| 347/347 [00:10<00:00, 32.49it/s]\n",
            "  0%|          | 0/347 [00:00<?, ?it/s]\n",
            "\n",
            "\n",
            "  0%|          | 0/74 [00:13<?, ?it/s]\n",
            "Epoch [116/200]: 100%|██████████| 347/347 [00:10<00:00, 32.83it/s]\n",
            "  0%|          | 0/347 [00:00<?, ?it/s]\n",
            "\n",
            "  0%|          | 0/74 [00:13<?, ?it/s]\n",
            "Epoch [117/200]: 100%|██████████| 347/347 [00:10<00:00, 33.31it/s]\n",
            "  0%|          | 0/347 [00:00<?, ?it/s]\n",
            "\n",
            "\n",
            "  0%|          | 0/74 [00:13<?, ?it/s]\n",
            "Epoch [118/200]: 100%|██████████| 347/347 [00:10<00:00, 32.97it/s]\n",
            "  0%|          | 0/347 [00:00<?, ?it/s]\n",
            "\n",
            "  0%|          | 0/74 [00:13<?, ?it/s]\n",
            "Epoch [119/200]: 100%|██████████| 347/347 [00:10<00:00, 32.28it/s]\n",
            "  0%|          | 0/347 [00:00<?, ?it/s]\n",
            "\n",
            "\n",
            "  0%|          | 0/74 [00:14<?, ?it/s]\n",
            "Epoch [120/200]: 100%|██████████| 347/347 [00:10<00:00, 32.30it/s]\n",
            "  0%|          | 0/347 [00:00<?, ?it/s]\n",
            "\n",
            "  0%|          | 0/74 [00:13<?, ?it/s]\n",
            "Epoch [121/200]: 100%|██████████| 347/347 [00:10<00:00, 32.53it/s]\n",
            "  0%|          | 0/347 [00:00<?, ?it/s]\n",
            "\n",
            "\n",
            "  0%|          | 0/74 [00:13<?, ?it/s]\n",
            "Epoch [122/200]: 100%|██████████| 347/347 [00:10<00:00, 33.32it/s]\n",
            "  0%|          | 0/347 [00:00<?, ?it/s]\n",
            "\n",
            "  0%|          | 0/74 [00:13<?, ?it/s]\n",
            "Epoch [123/200]: 100%|██████████| 347/347 [00:10<00:00, 33.32it/s]\n",
            "  0%|          | 0/347 [00:00<?, ?it/s]\n",
            "\n",
            "\n",
            "  0%|          | 0/74 [00:13<?, ?it/s]\n",
            "Epoch [124/200]: 100%|██████████| 347/347 [00:10<00:00, 33.30it/s]\n",
            "  0%|          | 0/347 [00:00<?, ?it/s]\n",
            "\n",
            "  0%|          | 0/74 [00:13<?, ?it/s]\n",
            "Epoch [125/200]: 100%|██████████| 347/347 [00:10<00:00, 32.97it/s]\n",
            "  0%|          | 0/347 [00:00<?, ?it/s]\n",
            "\n",
            "\n",
            "  0%|          | 0/74 [00:13<?, ?it/s]\n",
            "Epoch [126/200]: 100%|██████████| 347/347 [00:10<00:00, 32.54it/s]\n",
            "  0%|          | 0/347 [00:00<?, ?it/s]\n",
            "\n",
            "  0%|          | 0/74 [00:13<?, ?it/s]\n",
            "Epoch [127/200]: 100%|██████████| 347/347 [00:10<00:00, 32.03it/s]\n",
            "  0%|          | 0/347 [00:00<?, ?it/s]\n",
            "\n",
            "\n",
            "  0%|          | 0/74 [00:13<?, ?it/s]\n",
            "Epoch [128/200]: 100%|██████████| 347/347 [00:10<00:00, 32.33it/s]\n",
            "  0%|          | 0/347 [00:00<?, ?it/s]\n",
            "\n",
            "  0%|          | 0/74 [00:13<?, ?it/s]\n",
            "Epoch [129/200]: 100%|██████████| 347/347 [00:11<00:00, 31.46it/s]\n",
            "  0%|          | 0/347 [00:00<?, ?it/s]\n",
            "\n",
            "\n",
            "  0%|          | 0/74 [00:13<?, ?it/s]\n",
            "Epoch [130/200]: 100%|██████████| 347/347 [00:10<00:00, 32.15it/s]\n",
            "  0%|          | 0/347 [00:00<?, ?it/s]\n",
            "\n",
            "  0%|          | 0/74 [00:13<?, ?it/s]\n",
            "Epoch [131/200]: 100%|██████████| 347/347 [00:10<00:00, 32.30it/s]\n",
            "  0%|          | 0/347 [00:00<?, ?it/s]\n",
            "\n",
            "\n",
            "  0%|          | 0/74 [00:13<?, ?it/s]\n",
            "Epoch [132/200]: 100%|██████████| 347/347 [00:10<00:00, 32.79it/s]\n",
            "  0%|          | 0/347 [00:00<?, ?it/s]\n",
            "\n",
            "  0%|          | 0/74 [00:13<?, ?it/s]\n",
            "Epoch [133/200]: 100%|██████████| 347/347 [00:10<00:00, 32.39it/s]\n",
            "  0%|          | 0/347 [00:00<?, ?it/s]\n",
            "\n",
            "\n",
            "  0%|          | 0/74 [00:13<?, ?it/s]\n",
            "Epoch [134/200]: 100%|██████████| 347/347 [00:11<00:00, 31.42it/s]\n",
            "  0%|          | 0/347 [00:00<?, ?it/s]\n",
            "\n",
            "  0%|          | 0/74 [00:13<?, ?it/s]\n",
            "Epoch [135/200]: 100%|██████████| 347/347 [00:10<00:00, 32.28it/s]\n",
            "  0%|          | 0/347 [00:00<?, ?it/s]\n",
            "\n",
            "\n",
            "  0%|          | 0/74 [00:13<?, ?it/s]\n",
            "Epoch [136/200]: 100%|██████████| 347/347 [00:10<00:00, 32.59it/s]\n",
            "  0%|          | 0/347 [00:00<?, ?it/s]\n",
            "\n",
            "  0%|          | 0/74 [00:13<?, ?it/s]\n",
            "Epoch [137/200]: 100%|██████████| 347/347 [00:10<00:00, 32.59it/s]\n",
            "  0%|          | 0/347 [00:00<?, ?it/s]\n",
            "\n",
            "\n",
            "  0%|          | 0/74 [00:13<?, ?it/s]\n",
            "Epoch [138/200]: 100%|██████████| 347/347 [00:10<00:00, 32.75it/s]\n",
            "  0%|          | 0/347 [00:00<?, ?it/s]\n",
            "\n",
            "  0%|          | 0/74 [00:13<?, ?it/s]\n",
            "Epoch [139/200]: 100%|██████████| 347/347 [00:10<00:00, 32.23it/s]\n",
            "  0%|          | 0/347 [00:00<?, ?it/s]\n",
            "\n",
            "\n",
            "  0%|          | 0/74 [00:13<?, ?it/s]\n",
            "Epoch [140/200]: 100%|██████████| 347/347 [00:10<00:00, 32.45it/s]\n",
            "  0%|          | 0/347 [00:00<?, ?it/s]\n",
            "\n",
            "  0%|          | 0/74 [00:13<?, ?it/s]\n",
            "Epoch [141/200]: 100%|██████████| 347/347 [00:10<00:00, 33.04it/s]\n",
            "  0%|          | 0/347 [00:00<?, ?it/s]\n",
            "\n",
            "\n",
            "  0%|          | 0/74 [00:13<?, ?it/s]\n",
            "Epoch [142/200]: 100%|██████████| 347/347 [00:10<00:00, 32.77it/s]\n",
            "  0%|          | 0/347 [00:00<?, ?it/s]\n",
            "\n",
            "  0%|          | 0/74 [00:13<?, ?it/s]\n",
            "Epoch [143/200]: 100%|██████████| 347/347 [00:10<00:00, 32.93it/s]\n",
            "  0%|          | 0/347 [00:00<?, ?it/s]\n",
            "\n",
            "\n",
            "  0%|          | 0/74 [00:13<?, ?it/s]\n",
            "Epoch [144/200]: 100%|██████████| 347/347 [00:10<00:00, 32.66it/s]\n",
            "  0%|          | 0/347 [00:00<?, ?it/s]\n",
            "\n",
            "  0%|          | 0/74 [00:14<?, ?it/s]\n",
            "Epoch [145/200]: 100%|██████████| 347/347 [00:10<00:00, 32.13it/s]\n",
            "  0%|          | 0/347 [00:00<?, ?it/s]\n",
            "\n",
            "\n",
            "  0%|          | 0/74 [00:13<?, ?it/s]\n",
            "Epoch [146/200]: 100%|██████████| 347/347 [00:10<00:00, 32.84it/s]\n",
            "  0%|          | 0/347 [00:00<?, ?it/s]\n",
            "\n",
            "  0%|          | 0/74 [00:13<?, ?it/s]\n",
            "Epoch [147/200]: 100%|██████████| 347/347 [00:10<00:00, 33.19it/s]\n",
            "  0%|          | 0/347 [00:00<?, ?it/s]\n",
            "\n",
            "\n",
            "  0%|          | 0/74 [00:13<?, ?it/s]\n",
            "Epoch [148/200]: 100%|██████████| 347/347 [00:10<00:00, 33.17it/s]\n",
            "  0%|          | 0/347 [00:00<?, ?it/s]\n",
            "\n",
            "  0%|          | 0/74 [00:13<?, ?it/s]\n",
            "Epoch [149/200]: 100%|██████████| 347/347 [00:10<00:00, 32.50it/s]\n",
            "  0%|          | 0/347 [00:00<?, ?it/s]\n",
            "\n",
            "\n",
            "  0%|          | 0/74 [00:13<?, ?it/s]\n",
            "Epoch [150/200]: 100%|██████████| 347/347 [00:10<00:00, 32.60it/s]\n",
            "  0%|          | 0/347 [00:00<?, ?it/s]\n",
            "\n",
            "  0%|          | 0/74 [00:13<?, ?it/s]\n",
            "Epoch [151/200]: 100%|██████████| 347/347 [00:10<00:00, 32.92it/s]\n",
            "  0%|          | 0/347 [00:00<?, ?it/s]\n",
            "\n",
            "\n",
            "  0%|          | 0/74 [00:13<?, ?it/s]\n",
            "Epoch [152/200]: 100%|██████████| 347/347 [00:10<00:00, 32.76it/s]\n",
            "  0%|          | 0/347 [00:00<?, ?it/s]\n",
            "\n",
            "  0%|          | 0/74 [00:13<?, ?it/s]\n",
            "Epoch [153/200]: 100%|██████████| 347/347 [00:10<00:00, 32.75it/s]\n",
            "  0%|          | 0/347 [00:00<?, ?it/s]\n",
            "\n",
            "\n",
            "  0%|          | 0/74 [00:13<?, ?it/s]\n",
            "Epoch [154/200]: 100%|██████████| 347/347 [00:10<00:00, 32.85it/s]\n",
            "  0%|          | 0/347 [00:00<?, ?it/s]\n",
            "\n",
            "  0%|          | 0/74 [00:13<?, ?it/s]\n",
            "Epoch [155/200]: 100%|██████████| 347/347 [00:10<00:00, 32.65it/s]\n",
            "  0%|          | 0/347 [00:00<?, ?it/s]\n",
            "\n",
            "\n",
            "  0%|          | 0/74 [00:13<?, ?it/s]\n",
            "Epoch [156/200]: 100%|██████████| 347/347 [00:10<00:00, 32.79it/s]\n",
            "  0%|          | 0/347 [00:00<?, ?it/s]\n",
            "\n",
            "  0%|          | 0/74 [00:13<?, ?it/s]\n",
            "Epoch [157/200]: 100%|██████████| 347/347 [00:10<00:00, 32.76it/s]\n",
            "  0%|          | 0/347 [00:00<?, ?it/s]\n",
            "\n",
            "\n",
            "  0%|          | 0/74 [00:13<?, ?it/s]\n",
            "Epoch [158/200]: 100%|██████████| 347/347 [00:10<00:00, 33.07it/s]\n",
            "  0%|          | 0/347 [00:00<?, ?it/s]\n",
            "\n",
            "  0%|          | 0/74 [00:13<?, ?it/s]\n",
            "Epoch [159/200]: 100%|██████████| 347/347 [00:10<00:00, 33.04it/s]\n",
            "  0%|          | 0/347 [00:00<?, ?it/s]\n",
            "\n",
            "\n",
            "  0%|          | 0/74 [00:13<?, ?it/s]\n",
            "Epoch [160/200]: 100%|██████████| 347/347 [00:10<00:00, 33.31it/s]\n",
            "  0%|          | 0/347 [00:00<?, ?it/s]\n",
            "\n",
            "  0%|          | 0/74 [00:13<?, ?it/s]\n",
            "Epoch [161/200]: 100%|██████████| 347/347 [00:10<00:00, 32.88it/s]\n",
            "  0%|          | 0/347 [00:00<?, ?it/s]\n",
            "\n",
            "\n",
            "  0%|          | 0/74 [00:14<?, ?it/s]\n",
            "Epoch [162/200]: 100%|██████████| 347/347 [00:10<00:00, 33.11it/s]\n",
            "  0%|          | 0/347 [00:00<?, ?it/s]\n",
            "\n",
            "  0%|          | 0/74 [00:13<?, ?it/s]\n",
            "Epoch [163/200]: 100%|██████████| 347/347 [00:10<00:00, 33.24it/s]\n",
            "  0%|          | 0/347 [00:00<?, ?it/s]\n",
            "\n",
            "\n",
            "  0%|          | 0/74 [00:13<?, ?it/s]\n",
            "Epoch [164/200]: 100%|██████████| 347/347 [00:10<00:00, 33.74it/s]\n",
            "  0%|          | 0/347 [00:00<?, ?it/s]\n",
            "\n",
            "  0%|          | 0/74 [00:13<?, ?it/s]\n",
            "Epoch [165/200]: 100%|██████████| 347/347 [00:10<00:00, 33.05it/s]\n",
            "  0%|          | 0/347 [00:00<?, ?it/s]\n",
            "\n",
            "\n",
            "  0%|          | 0/74 [00:14<?, ?it/s]\n",
            "Epoch [166/200]: 100%|██████████| 347/347 [00:10<00:00, 33.28it/s]\n",
            "  0%|          | 0/347 [00:00<?, ?it/s]\n",
            "\n",
            "  0%|          | 0/74 [00:13<?, ?it/s]\n",
            "Epoch [167/200]: 100%|██████████| 347/347 [00:10<00:00, 33.34it/s]\n",
            "  0%|          | 0/347 [00:00<?, ?it/s]\n",
            "\n",
            "\n",
            "  0%|          | 0/74 [00:13<?, ?it/s]\n",
            "Epoch [168/200]: 100%|██████████| 347/347 [00:10<00:00, 33.63it/s]\n",
            "  0%|          | 0/347 [00:00<?, ?it/s]\n",
            "\n",
            "  0%|          | 0/74 [00:13<?, ?it/s]\n",
            "Epoch [169/200]: 100%|██████████| 347/347 [00:10<00:00, 33.56it/s]\n",
            "  0%|          | 0/347 [00:00<?, ?it/s]\n",
            "\n",
            "\n",
            "  0%|          | 0/74 [00:13<?, ?it/s]\n",
            "Epoch [170/200]: 100%|██████████| 347/347 [00:10<00:00, 33.87it/s]\n",
            "  0%|          | 0/347 [00:00<?, ?it/s]\n",
            "\n",
            "  0%|          | 0/74 [00:13<?, ?it/s]\n",
            "Epoch [171/200]: 100%|██████████| 347/347 [00:10<00:00, 33.49it/s]\n",
            "  0%|          | 0/347 [00:00<?, ?it/s]\n",
            "\n",
            "\n",
            "  0%|          | 0/74 [00:13<?, ?it/s]\n",
            "Epoch [172/200]: 100%|██████████| 347/347 [00:10<00:00, 33.45it/s]\n",
            "  0%|          | 0/347 [00:00<?, ?it/s]\n",
            "\n",
            "  0%|          | 0/74 [00:13<?, ?it/s]\n",
            "Epoch [173/200]: 100%|██████████| 347/347 [00:10<00:00, 33.39it/s]\n",
            "  0%|          | 0/347 [00:00<?, ?it/s]\n",
            "\n",
            "\n",
            "  0%|          | 0/74 [00:13<?, ?it/s]\n",
            "Epoch [174/200]: 100%|██████████| 347/347 [00:10<00:00, 33.72it/s]\n",
            "  0%|          | 0/347 [00:00<?, ?it/s]\n",
            "\n",
            "  0%|          | 0/74 [00:13<?, ?it/s]\n",
            "Epoch [175/200]: 100%|██████████| 347/347 [00:10<00:00, 33.30it/s]\n",
            "  0%|          | 0/347 [00:00<?, ?it/s]\n",
            "\n",
            "\n",
            "  0%|          | 0/74 [00:13<?, ?it/s]\n",
            "Epoch [176/200]: 100%|██████████| 347/347 [00:10<00:00, 33.62it/s]\n",
            "  0%|          | 0/347 [00:00<?, ?it/s]\n",
            "\n",
            "  0%|          | 0/74 [00:14<?, ?it/s]\n",
            "Epoch [177/200]: 100%|██████████| 347/347 [00:10<00:00, 33.31it/s]\n",
            "  0%|          | 0/347 [00:00<?, ?it/s]\n",
            "\n",
            "\n",
            "  0%|          | 0/74 [00:14<?, ?it/s]\n",
            "Epoch [178/200]: 100%|██████████| 347/347 [00:10<00:00, 32.99it/s]\n",
            "  0%|          | 0/347 [00:00<?, ?it/s]\n",
            "\n",
            "  0%|          | 0/74 [00:14<?, ?it/s]\n",
            "Epoch [179/200]: 100%|██████████| 347/347 [00:10<00:00, 32.83it/s]\n",
            "  0%|          | 0/347 [00:00<?, ?it/s]\n",
            "\n",
            "\n",
            "  0%|          | 0/74 [00:13<?, ?it/s]\n",
            "Epoch [180/200]: 100%|██████████| 347/347 [00:10<00:00, 33.03it/s]\n",
            "  0%|          | 0/347 [00:00<?, ?it/s]\n",
            "\n",
            "  0%|          | 0/74 [00:13<?, ?it/s]\n",
            "Epoch [181/200]: 100%|██████████| 347/347 [00:10<00:00, 33.37it/s]\n",
            "  0%|          | 0/347 [00:00<?, ?it/s]\n",
            "\n",
            "\n",
            "  0%|          | 0/74 [00:13<?, ?it/s]\n",
            "Epoch [182/200]: 100%|██████████| 347/347 [00:10<00:00, 33.56it/s]\n",
            "  0%|          | 0/347 [00:00<?, ?it/s]\n",
            "\n",
            "  0%|          | 0/74 [00:13<?, ?it/s]\n",
            "Epoch [183/200]: 100%|██████████| 347/347 [00:10<00:00, 33.08it/s]\n",
            "  0%|          | 0/347 [00:00<?, ?it/s]\n",
            "\n",
            "\n",
            "  0%|          | 0/74 [00:13<?, ?it/s]\n",
            "Epoch [184/200]: 100%|██████████| 347/347 [00:10<00:00, 33.00it/s]\n",
            "  0%|          | 0/347 [00:00<?, ?it/s]\n",
            "\n",
            "  0%|          | 0/74 [00:13<?, ?it/s]\n",
            "Epoch [185/200]: 100%|██████████| 347/347 [00:10<00:00, 33.26it/s]\n",
            "  0%|          | 0/347 [00:00<?, ?it/s]\n",
            "\n",
            "\n",
            "  0%|          | 0/74 [00:14<?, ?it/s]\n",
            "Epoch [186/200]: 100%|██████████| 347/347 [00:10<00:00, 33.04it/s]\n",
            "  0%|          | 0/347 [00:00<?, ?it/s]\n",
            "\n",
            "  0%|          | 0/74 [00:14<?, ?it/s]\n",
            "Epoch [187/200]: 100%|██████████| 347/347 [00:10<00:00, 32.91it/s]\n",
            "  0%|          | 0/347 [00:00<?, ?it/s]\n",
            "\n",
            "\n",
            "  0%|          | 0/74 [00:13<?, ?it/s]\n",
            "Epoch [188/200]: 100%|██████████| 347/347 [00:10<00:00, 33.14it/s]\n",
            "  0%|          | 0/347 [00:00<?, ?it/s]\n",
            "\n",
            "  0%|          | 0/74 [00:13<?, ?it/s]\n",
            "Epoch [189/200]: 100%|██████████| 347/347 [00:10<00:00, 33.19it/s]\n",
            "  0%|          | 0/347 [00:00<?, ?it/s]\n",
            "\n",
            "\n",
            "  0%|          | 0/74 [00:13<?, ?it/s]\n",
            "Epoch [190/200]: 100%|██████████| 347/347 [00:10<00:00, 33.28it/s]\n",
            "  0%|          | 0/347 [00:00<?, ?it/s]\n",
            "\n",
            "  0%|          | 0/74 [00:13<?, ?it/s]\n",
            "Epoch [191/200]: 100%|██████████| 347/347 [00:10<00:00, 33.55it/s]\n",
            "  0%|          | 0/347 [00:00<?, ?it/s]\n",
            "\n",
            "\n",
            "  0%|          | 0/74 [00:13<?, ?it/s]\n",
            "Epoch [192/200]: 100%|██████████| 347/347 [00:10<00:00, 33.11it/s]\n",
            "  0%|          | 0/347 [00:00<?, ?it/s]\n",
            "\n",
            "  0%|          | 0/74 [00:13<?, ?it/s]\n",
            "Epoch [193/200]: 100%|██████████| 347/347 [00:10<00:00, 33.25it/s]\n",
            "  0%|          | 0/347 [00:00<?, ?it/s]\n",
            "\n",
            "\n",
            "  0%|          | 0/74 [00:13<?, ?it/s]\n",
            "Epoch [194/200]: 100%|██████████| 347/347 [00:10<00:00, 33.22it/s]\n",
            "  0%|          | 0/347 [00:00<?, ?it/s]\n",
            "\n",
            "  0%|          | 0/74 [00:13<?, ?it/s]\n",
            "Epoch [195/200]: 100%|██████████| 347/347 [00:10<00:00, 33.55it/s]\n",
            "  0%|          | 0/347 [00:00<?, ?it/s]\n",
            "\n",
            "\n",
            "  0%|          | 0/74 [00:13<?, ?it/s]\n",
            "Epoch [196/200]: 100%|██████████| 347/347 [00:10<00:00, 33.08it/s]\n",
            "  0%|          | 0/347 [00:00<?, ?it/s]\n",
            "\n",
            "  0%|          | 0/74 [00:13<?, ?it/s]\n",
            "Epoch [197/200]: 100%|██████████| 347/347 [00:10<00:00, 33.23it/s]\n",
            "  0%|          | 0/347 [00:00<?, ?it/s]\n",
            "\n",
            "\n",
            "  0%|          | 0/74 [00:13<?, ?it/s]\n",
            "Epoch [198/200]: 100%|██████████| 347/347 [00:10<00:00, 33.65it/s]\n",
            "  0%|          | 0/347 [00:00<?, ?it/s]\n",
            "\n",
            "  0%|          | 0/74 [00:13<?, ?it/s]\n",
            "Epoch [199/200]: 100%|██████████| 347/347 [00:10<00:00, 33.42it/s]\n",
            "  0%|          | 0/347 [00:00<?, ?it/s]\n",
            "\n",
            "\n",
            "  0%|          | 0/74 [00:13<?, ?it/s]\n",
            "Epoch [200/200]: 100%|██████████| 347/347 [00:10<00:00, 33.38it/s]\n",
            "  0%|          | 0/74 [00:13<?, ?it/s]\n"
          ]
        }
      ],
      "source": [
        "np.random.seed(1)\n",
        "torch.manual_seed(1)\n",
        "\n",
        "train_loss,train_epoch_loss,val_loss,val_epoch_loss,train_acc,val_acc=train(net=model_CNN,loss_fn=criterion,dataloader_train=dataloader_train,\n",
        "                  dataloader_val=dataloader_val,epoch=200)\n",
        "\n",
        "\n"
      ],
      "id": "c5ddd06d"
    },
    {
      "cell_type": "code",
      "execution_count": 43,
      "metadata": {
        "id": "fk-6haR7G5-q",
        "colab": {
          "base_uri": "https://localhost:8080/",
          "height": 472
        },
        "outputId": "16e788f7-33f6-4aba-e605-958014a8e3a9"
      },
      "outputs": [
        {
          "output_type": "display_data",
          "data": {
            "text/plain": [
              "<Figure size 640x480 with 1 Axes>"
            ],
            "image/png": "[encoded data removed]"
          },
          "metadata": {}
        }
      ],
      "source": [
        "plt.plot(train_epoch_loss, label = 'train loss')\n",
        "plt.plot(val_epoch_loss, label = 'validation loss')\n",
        "plt.xlabel('Epoch')\n",
        "plt.ylabel('Loss')\n",
        "plt.title('loss per epoch')\n",
        "plt.legend()\n",
        "plt.show()"
      ],
      "id": "fk-6haR7G5-q"
    },
    {
      "cell_type": "code",
      "source": [
        "plt.plot(train_acc, label = 'train acc')\n",
        "plt.plot(val_acc, label = 'validation acc')\n",
        "plt.xlabel('Epoch')\n",
        "plt.ylabel('Accuracy')\n",
        "plt.title('Accuracy per epoch')\n",
        "plt.legend()\n",
        "plt.show()"
      ],
      "metadata": {
        "id": "s9cEBXo1dJNj",
        "colab": {
          "base_uri": "https://localhost:8080/",
          "height": 472
        },
        "outputId": "8a5a36b7-41cc-46ae-8019-82826ef6eafe"
      },
      "id": "s9cEBXo1dJNj",
      "execution_count": 44,
      "outputs": [
        {
          "output_type": "display_data",
          "data": {
            "text/plain": [
              "<Figure size 640x480 with 1 Axes>"
            ],
            "image/png": "[encoded data removed]"
          },
          "metadata": {}
        }
      ]
    },
    {
      "cell_type": "code",
      "source": [
        "test_loss = test(net=SalienceNet,loss_fn=criterion,dataloader_test=dataloader_test)"
      ],
      "metadata": {
        "id": "DaXL76FBu8aa"
      },
      "id": "DaXL76FBu8aa",
      "execution_count": null,
      "outputs": []
    },
    {
      "cell_type": "code",
      "execution_count": null,
      "metadata": {
        "id": "dtd4ymkVafCh"
      },
      "outputs": [],
      "source": [
        "plt.plot(test_loss)\n",
        "plt.xlabel('Iterations of gradient descent')\n",
        "plt.ylabel('Loss')\n",
        "plt.title('Loss for test data')\n",
        "plt.show()"
      ],
      "id": "dtd4ymkVafCh"
    }
  ],
  "metadata": {
    "accelerator": "GPU",
    "colab": {
      "provenance": [],
      "include_colab_link": true
    },
    "gpuClass": "standard",
    "kernelspec": {
      "display_name": "YOLO",
      "language": "python",
      "name": "yolo"
    },
    "language_info": {
      "codemirror_mode": {
        "name": "ipython",
        "version": 3
      },
      "file_extension": ".py",
      "mimetype": "text/x-python",
      "name": "python",
      "nbconvert_exporter": "python",
      "pygments_lexer": "ipython3",
      "version": "3.10.9"
    }
  },
  "nbformat": 4,
  "nbformat_minor": 5
}